{
 "cells": [
  {
   "cell_type": "markdown",
   "metadata": {
    "id": "E0vqbgi9ay0H"
   },
   "source": [
    "# Яндекс.Музыка"
   ]
  },
  {
   "cell_type": "markdown",
   "metadata": {
    "id": "VUC88oWjTJw2"
   },
   "source": [
    "Сравнение Москвы и Петербурга окружено мифами. Например:\n",
    " * Москва — мегаполис, подчинённый жёсткому ритму рабочей недели;\n",
    " * Петербург — культурная столица, со своими вкусами.\n",
    "\n",
    "На данных Яндекс.Музыки вы сравните поведение пользователей двух столиц.\n",
    "\n",
    "**Цель исследования** — проверьте три гипотезы:\n",
    "1. Активность пользователей зависит от дня недели. Причём в Москве и Петербурге это проявляется по-разному.\n",
    "2. В понедельник утром в Москве преобладают одни жанры, а в Петербурге — другие. Так же и вечером пятницы преобладают разные жанры — в зависимости от города. \n",
    "3. Москва и Петербург предпочитают разные жанры музыки. В Москве чаще слушают поп-музыку, в Петербурге — русский рэп.\n",
    "\n",
    "**Ход исследования**\n",
    "\n",
    "Данные о поведении пользователей вы получите из файла `yandex_music_project.csv`. О качестве данных ничего не известно. Поэтому перед проверкой гипотез понадобится обзор данных. \n",
    "\n",
    "Вы проверите данные на ошибки и оцените их влияние на исследование. Затем, на этапе предобработки вы поищете возможность исправить самые критичные ошибки данных.\n",
    " \n",
    "Таким образом, исследование пройдёт в три этапа:\n",
    " 1. Обзор данных.\n",
    " 2. Предобработка данных.\n",
    " 3. Проверка гипотез.\n",
    "\n"
   ]
  },
  {
   "cell_type": "markdown",
   "metadata": {
    "id": "Ml1hmfXC_Zcs"
   },
   "source": [
    "## Обзор данных\n",
    "\n",
    "Составьте первое представление о данных Яндекс.Музыки.\n",
    "\n",
    "\n"
   ]
  },
  {
   "cell_type": "markdown",
   "metadata": {
    "id": "57eAOGIz_Zcs"
   },
   "source": [
    "Основной инструмент аналитика — `pandas`. Импортируйте эту библиотеку."
   ]
  },
  {
   "cell_type": "code",
   "execution_count": 1,
   "metadata": {
    "id": "AXN7PHPN_Zcs"
   },
   "outputs": [],
   "source": [
    "import pandas as pd # импорт библиотеки pandas"
   ]
  },
  {
   "cell_type": "markdown",
   "metadata": {
    "id": "SG23P8tt_Zcs"
   },
   "source": [
    "Прочитайте файл `yandex_music_project.csv` из папки `/datasets` и сохраните его в переменной `df`:"
   ]
  },
  {
   "cell_type": "code",
   "execution_count": 2,
   "metadata": {
    "id": "fFVu7vqh_Zct"
   },
   "outputs": [],
   "source": [
    "# чтение файла с данными и сохранение в df\n",
    "df = pd.read_csv('/datasets/yandex_music_project.csv')"
   ]
  },
  {
   "cell_type": "markdown",
   "metadata": {
    "id": "rDoOMd3uTqnZ"
   },
   "source": [
    "Выведите на экран первые десять строк таблицы:"
   ]
  },
  {
   "cell_type": "code",
   "execution_count": 3,
   "metadata": {
    "id": "oWTVX3gW_Zct"
   },
   "outputs": [
    {
     "data": {
      "text/html": [
       "<div>\n",
       "<style scoped>\n",
       "    .dataframe tbody tr th:only-of-type {\n",
       "        vertical-align: middle;\n",
       "    }\n",
       "\n",
       "    .dataframe tbody tr th {\n",
       "        vertical-align: top;\n",
       "    }\n",
       "\n",
       "    .dataframe thead th {\n",
       "        text-align: right;\n",
       "    }\n",
       "</style>\n",
       "<table border=\"1\" class=\"dataframe\">\n",
       "  <thead>\n",
       "    <tr style=\"text-align: right;\">\n",
       "      <th></th>\n",
       "      <th>userID</th>\n",
       "      <th>Track</th>\n",
       "      <th>artist</th>\n",
       "      <th>genre</th>\n",
       "      <th>City</th>\n",
       "      <th>time</th>\n",
       "      <th>Day</th>\n",
       "    </tr>\n",
       "  </thead>\n",
       "  <tbody>\n",
       "    <tr>\n",
       "      <td>0</td>\n",
       "      <td>FFB692EC</td>\n",
       "      <td>Kamigata To Boots</td>\n",
       "      <td>The Mass Missile</td>\n",
       "      <td>rock</td>\n",
       "      <td>Saint-Petersburg</td>\n",
       "      <td>20:28:33</td>\n",
       "      <td>Wednesday</td>\n",
       "    </tr>\n",
       "    <tr>\n",
       "      <td>1</td>\n",
       "      <td>55204538</td>\n",
       "      <td>Delayed Because of Accident</td>\n",
       "      <td>Andreas Rönnberg</td>\n",
       "      <td>rock</td>\n",
       "      <td>Moscow</td>\n",
       "      <td>14:07:09</td>\n",
       "      <td>Friday</td>\n",
       "    </tr>\n",
       "    <tr>\n",
       "      <td>2</td>\n",
       "      <td>20EC38</td>\n",
       "      <td>Funiculì funiculà</td>\n",
       "      <td>Mario Lanza</td>\n",
       "      <td>pop</td>\n",
       "      <td>Saint-Petersburg</td>\n",
       "      <td>20:58:07</td>\n",
       "      <td>Wednesday</td>\n",
       "    </tr>\n",
       "    <tr>\n",
       "      <td>3</td>\n",
       "      <td>A3DD03C9</td>\n",
       "      <td>Dragons in the Sunset</td>\n",
       "      <td>Fire + Ice</td>\n",
       "      <td>folk</td>\n",
       "      <td>Saint-Petersburg</td>\n",
       "      <td>08:37:09</td>\n",
       "      <td>Monday</td>\n",
       "    </tr>\n",
       "    <tr>\n",
       "      <td>4</td>\n",
       "      <td>E2DC1FAE</td>\n",
       "      <td>Soul People</td>\n",
       "      <td>Space Echo</td>\n",
       "      <td>dance</td>\n",
       "      <td>Moscow</td>\n",
       "      <td>08:34:34</td>\n",
       "      <td>Monday</td>\n",
       "    </tr>\n",
       "    <tr>\n",
       "      <td>5</td>\n",
       "      <td>842029A1</td>\n",
       "      <td>Преданная</td>\n",
       "      <td>IMPERVTOR</td>\n",
       "      <td>rusrap</td>\n",
       "      <td>Saint-Petersburg</td>\n",
       "      <td>13:09:41</td>\n",
       "      <td>Friday</td>\n",
       "    </tr>\n",
       "    <tr>\n",
       "      <td>6</td>\n",
       "      <td>4CB90AA5</td>\n",
       "      <td>True</td>\n",
       "      <td>Roman Messer</td>\n",
       "      <td>dance</td>\n",
       "      <td>Moscow</td>\n",
       "      <td>13:00:07</td>\n",
       "      <td>Wednesday</td>\n",
       "    </tr>\n",
       "    <tr>\n",
       "      <td>7</td>\n",
       "      <td>F03E1C1F</td>\n",
       "      <td>Feeling This Way</td>\n",
       "      <td>Polina Griffith</td>\n",
       "      <td>dance</td>\n",
       "      <td>Moscow</td>\n",
       "      <td>20:47:49</td>\n",
       "      <td>Wednesday</td>\n",
       "    </tr>\n",
       "    <tr>\n",
       "      <td>8</td>\n",
       "      <td>8FA1D3BE</td>\n",
       "      <td>И вновь продолжается бой</td>\n",
       "      <td>NaN</td>\n",
       "      <td>ruspop</td>\n",
       "      <td>Moscow</td>\n",
       "      <td>09:17:40</td>\n",
       "      <td>Friday</td>\n",
       "    </tr>\n",
       "    <tr>\n",
       "      <td>9</td>\n",
       "      <td>E772D5C0</td>\n",
       "      <td>Pessimist</td>\n",
       "      <td>NaN</td>\n",
       "      <td>dance</td>\n",
       "      <td>Saint-Petersburg</td>\n",
       "      <td>21:20:49</td>\n",
       "      <td>Wednesday</td>\n",
       "    </tr>\n",
       "  </tbody>\n",
       "</table>\n",
       "</div>"
      ],
      "text/plain": [
       "     userID                        Track            artist   genre  \\\n",
       "0  FFB692EC            Kamigata To Boots  The Mass Missile    rock   \n",
       "1  55204538  Delayed Because of Accident  Andreas Rönnberg    rock   \n",
       "2    20EC38            Funiculì funiculà       Mario Lanza     pop   \n",
       "3  A3DD03C9        Dragons in the Sunset        Fire + Ice    folk   \n",
       "4  E2DC1FAE                  Soul People        Space Echo   dance   \n",
       "5  842029A1                    Преданная         IMPERVTOR  rusrap   \n",
       "6  4CB90AA5                         True      Roman Messer   dance   \n",
       "7  F03E1C1F             Feeling This Way   Polina Griffith   dance   \n",
       "8  8FA1D3BE     И вновь продолжается бой               NaN  ruspop   \n",
       "9  E772D5C0                    Pessimist               NaN   dance   \n",
       "\n",
       "             City        time        Day  \n",
       "0  Saint-Petersburg  20:28:33  Wednesday  \n",
       "1            Moscow  14:07:09     Friday  \n",
       "2  Saint-Petersburg  20:58:07  Wednesday  \n",
       "3  Saint-Petersburg  08:37:09     Monday  \n",
       "4            Moscow  08:34:34     Monday  \n",
       "5  Saint-Petersburg  13:09:41     Friday  \n",
       "6            Moscow  13:00:07  Wednesday  \n",
       "7            Moscow  20:47:49  Wednesday  \n",
       "8            Moscow  09:17:40     Friday  \n",
       "9  Saint-Petersburg  21:20:49  Wednesday  "
      ]
     },
     "execution_count": 3,
     "metadata": {},
     "output_type": "execute_result"
    }
   ],
   "source": [
    "# получение первых 10 строк таблицы df\n",
    "df.head(10)"
   ]
  },
  {
   "cell_type": "markdown",
   "metadata": {
    "id": "EO73Kwic_Zct"
   },
   "source": [
    "Одной командой получить общую информацию о таблице:"
   ]
  },
  {
   "cell_type": "code",
   "execution_count": 4,
   "metadata": {
    "id": "DSf2kIb-_Zct"
   },
   "outputs": [
    {
     "name": "stdout",
     "output_type": "stream",
     "text": [
      "<class 'pandas.core.frame.DataFrame'>\n",
      "RangeIndex: 65079 entries, 0 to 65078\n",
      "Data columns (total 7 columns):\n",
      "  userID    65079 non-null object\n",
      "Track       63848 non-null object\n",
      "artist      57876 non-null object\n",
      "genre       63881 non-null object\n",
      "  City      65079 non-null object\n",
      "time        65079 non-null object\n",
      "Day         65079 non-null object\n",
      "dtypes: object(7)\n",
      "memory usage: 3.5+ MB\n"
     ]
    }
   ],
   "source": [
    "# получение общей информации о данных в таблице df\n",
    "df.info()"
   ]
  },
  {
   "cell_type": "markdown",
   "metadata": {
    "id": "TaQ2Iwbr_Zct"
   },
   "source": [
    "Итак, в таблице семь столбцов. Тип данных во всех столбцах — `object`.\n",
    "\n",
    "Согласно документации к данным:\n",
    "* `userID` — идентификатор пользователя;\n",
    "* `Track` — название трека;  \n",
    "* `artist` — имя исполнителя;\n",
    "* `genre` — название жанра;\n",
    "* `City` — город пользователя;\n",
    "* `time` — время начала прослушивания;\n",
    "* `Day` — день недели.\n",
    "\n",
    "В названиях колонок видны три нарушения стиля:\n",
    "1. Строчные буквы сочетаются с прописными.\n",
    "2. Встречаются пробелы.\n",
    "3. Названия колонок не отражат содержание данных, например `time` не понятно в чем измеряется. Также не соблюдается змеиный стиль, вместо него используется camelCase\n",
    "\n",
    "\n",
    "\n",
    "Количество значений в столбцах различается. Значит, в данных есть пропущенные значения.\n"
   ]
  },
  {
   "cell_type": "markdown",
   "metadata": {
    "id": "MCB6-dXG_Zct"
   },
   "source": [
    "**Выводы**\n",
    "\n",
    "В каждой строке таблицы — данные о прослушанном треке. Часть колонок описывает саму композицию: название, исполнителя и жанр. Остальные данные рассказывают о пользователе: из какого он города, когда он слушал музыку. \n",
    "\n",
    "Предварительно можно утверждать, что, данных достаточно для проверки гипотез. Но встречаются пропуски в данных, а в названиях колонок — расхождения с хорошим стилем.\n",
    "\n",
    "Чтобы двигаться дальше, нужно устранить проблемы в данных."
   ]
  },
  {
   "cell_type": "markdown",
   "metadata": {
    "id": "SjYF6Ub9_Zct"
   },
   "source": [
    "## Предобработка данных\n",
    "Исправьте стиль в заголовках столбцов, исключите пропуски. Затем проверьте данные на дубликаты."
   ]
  },
  {
   "cell_type": "markdown",
   "metadata": {
    "id": "dIaKXr29_Zct"
   },
   "source": [
    "### Стиль заголовков\n",
    "Выведите на экран названия столбцов:"
   ]
  },
  {
   "cell_type": "code",
   "execution_count": 5,
   "metadata": {
    "id": "oKOTdF_Q_Zct"
   },
   "outputs": [
    {
     "name": "stdout",
     "output_type": "stream",
     "text": [
      "Index(['  userID', 'Track', 'artist', 'genre', '  City  ', 'time', 'Day'], dtype='object')\n"
     ]
    }
   ],
   "source": [
    "# перечень названий столбцов таблицы df\n",
    "print(df.columns)"
   ]
  },
  {
   "cell_type": "markdown",
   "metadata": {
    "id": "zj5534cv_Zct"
   },
   "source": [
    "Приведите названия в соответствие с хорошим стилем:\n",
    "* несколько слов в названии запишите в «змеином_регистре»,\n",
    "* все символы сделайте строчными,\n",
    "* устраните пробелы.\n",
    "\n",
    "Для этого переименуйте колонки так:\n",
    "* `'  userID'` → `'user_id'`;\n",
    "* `'Track'` → `'track'`;\n",
    "* `'  City  '` → `'city'`;\n",
    "* `'Day'` → `'day'`."
   ]
  },
  {
   "cell_type": "code",
   "execution_count": 6,
   "metadata": {
    "id": "ISlFqs5y_Zct"
   },
   "outputs": [],
   "source": [
    "# переименование столбцов\n",
    "df = df.rename(columns={'  userID': 'user_id', 'Track': 'track', '  City  ': 'city', 'Day': 'day'})"
   ]
  },
  {
   "cell_type": "markdown",
   "metadata": {
    "id": "1dqbh00J_Zct"
   },
   "source": [
    "Проверьте результат. Для этого ещё раз выведите на экран названия столбцов:"
   ]
  },
  {
   "cell_type": "code",
   "execution_count": 7,
   "metadata": {
    "id": "d4NOAmTW_Zct"
   },
   "outputs": [
    {
     "name": "stdout",
     "output_type": "stream",
     "text": [
      "Index(['user_id', 'track', 'artist', 'genre', 'city', 'time', 'day'], dtype='object')\n"
     ]
    }
   ],
   "source": [
    "# проверка результатов - перечень названий столбцов\n",
    "print(df.columns)"
   ]
  },
  {
   "cell_type": "markdown",
   "metadata": {
    "id": "5ISfbcfY_Zct"
   },
   "source": [
    "### Пропуски значений\n",
    "Сначала посчитайте, сколько в таблице пропущенных значений. Для этого достаточно двух методов `pandas`:"
   ]
  },
  {
   "cell_type": "code",
   "execution_count": 8,
   "metadata": {
    "id": "RskX29qr_Zct"
   },
   "outputs": [
    {
     "name": "stdout",
     "output_type": "stream",
     "text": [
      "user_id       0\n",
      "track      1231\n",
      "artist     7203\n",
      "genre      1198\n",
      "city          0\n",
      "time          0\n",
      "day           0\n",
      "dtype: int64\n"
     ]
    }
   ],
   "source": [
    "# подсчёт пропусков\n",
    "print(df.isna().sum())"
   ]
  },
  {
   "cell_type": "markdown",
   "metadata": {
    "id": "qubhgnlO_Zct"
   },
   "source": [
    "Не все пропущенные значения влияют на исследование. Так в `track` и `artist` пропуски не важны для вашей работы. Достаточно заменить их явными обозначениями.\n",
    "\n",
    "Но пропуски в `genre` могут помешать сравнению музыкальных вкусов в Москве и Санкт-Петербурге. На практике было бы правильно установить причину пропусков и восстановить данные. Такой возможности нет в учебном проекте. Придётся:\n",
    "* заполнить и эти пропуски явными обозначениями,\n",
    "* оценить, насколько они повредят расчётам. "
   ]
  },
  {
   "cell_type": "markdown",
   "metadata": {
    "id": "fSv2laPA_Zct"
   },
   "source": [
    "Замените пропущенные значения в столбцах `track`, `artist` и `genre` на строку `'unknown'`. Для этого создайте список `columns_to_replace`, переберите его элементы циклом `for` и для каждого столбца выполните замену пропущенных значений:"
   ]
  },
  {
   "cell_type": "code",
   "execution_count": 9,
   "metadata": {
    "id": "KplB5qWs_Zct"
   },
   "outputs": [],
   "source": [
    "# перебор названий столбцов в цикле и замена пропущенных значений на 'unknown'\n",
    "columns_to_replace = ['track', 'artist', 'genre']\n",
    "\n",
    "for selected_column in columns_to_replace:\n",
    "    df[selected_column] = df[selected_column].fillna('unknown')\n"
   ]
  },
  {
   "cell_type": "markdown",
   "metadata": {
    "id": "Ilsm-MZo_Zct"
   },
   "source": [
    "Убедитесь, что в таблице не осталось пропусков. Для этого ещё раз посчитайте пропущенные значения."
   ]
  },
  {
   "cell_type": "code",
   "execution_count": 10,
   "metadata": {
    "id": "Tq4nYRX4_Zct"
   },
   "outputs": [
    {
     "name": "stdout",
     "output_type": "stream",
     "text": [
      "user_id    0\n",
      "track      0\n",
      "artist     0\n",
      "genre      0\n",
      "city       0\n",
      "time       0\n",
      "day        0\n",
      "dtype: int64\n"
     ]
    }
   ],
   "source": [
    "# подсчёт пропусков\n",
    "print(df.isna().sum())"
   ]
  },
  {
   "cell_type": "markdown",
   "metadata": {
    "id": "BWKRtBJ3_Zct"
   },
   "source": [
    "### Дубликаты\n",
    "Посчитайте явные дубликаты в таблице одной командой:"
   ]
  },
  {
   "cell_type": "code",
   "execution_count": 11,
   "metadata": {
    "id": "36eES_S0_Zct"
   },
   "outputs": [
    {
     "name": "stdout",
     "output_type": "stream",
     "text": [
      "3826\n"
     ]
    }
   ],
   "source": [
    "# подсчёт явных дубликатов\n",
    "print(df.duplicated().sum())"
   ]
  },
  {
   "cell_type": "markdown",
   "metadata": {
    "id": "Ot25h6XR_Zct"
   },
   "source": [
    "Вызовите специальный метод `pandas`, чтобы удалить явные дубликаты:"
   ]
  },
  {
   "cell_type": "code",
   "execution_count": 12,
   "metadata": {
    "id": "exFHq6tt_Zct"
   },
   "outputs": [],
   "source": [
    "# удаление явных дубликатов (с удалением старых индексов и формированием новых)\n",
    "df=df.drop_duplicates().reset_index(drop=True)"
   ]
  },
  {
   "cell_type": "markdown",
   "metadata": {
    "id": "Im2YwBEG_Zct"
   },
   "source": [
    "Ещё раз посчитайте явные дубликаты в таблице — убедитесь, что полностью от них избавились:"
   ]
  },
  {
   "cell_type": "code",
   "execution_count": 13,
   "metadata": {
    "id": "-8PuNWQ0_Zct"
   },
   "outputs": [
    {
     "name": "stdout",
     "output_type": "stream",
     "text": [
      "0\n"
     ]
    }
   ],
   "source": [
    "# проверка на отсутствие дубликатов\n",
    "print(df.duplicated().sum())"
   ]
  },
  {
   "cell_type": "markdown",
   "metadata": {
    "id": "QlFBsxAr_Zct"
   },
   "source": [
    "Теперь избавьтесь от неявных дубликатов в колонке `genre`. Например, название одного и того же жанра может быть записано немного по-разному. Такие ошибки тоже повлияют на результат исследования."
   ]
  },
  {
   "cell_type": "markdown",
   "metadata": {
    "id": "eSjWwsOh_Zct"
   },
   "source": [
    "Выведите на экран список уникальных названий жанров, отсортированный в алфавитном порядке. Для этого:\n",
    "* извлеките нужный столбец датафрейма, \n",
    "* примените к нему метод сортировки,\n",
    "* для отсортированного столбца вызовите метод, который вернёт уникальные значения из столбца."
   ]
  },
  {
   "cell_type": "code",
   "execution_count": 14,
   "metadata": {
    "id": "JIUcqzZN_Zct"
   },
   "outputs": [
    {
     "data": {
      "text/plain": [
       "['acid',\n",
       " 'acoustic',\n",
       " 'action',\n",
       " 'adult',\n",
       " 'africa',\n",
       " 'afrikaans',\n",
       " 'alternative',\n",
       " 'alternativepunk',\n",
       " 'ambient',\n",
       " 'americana',\n",
       " 'animated',\n",
       " 'anime',\n",
       " 'arabesk',\n",
       " 'arabic',\n",
       " 'arena',\n",
       " 'argentinetango',\n",
       " 'art',\n",
       " 'audiobook',\n",
       " 'author',\n",
       " 'avantgarde',\n",
       " 'axé',\n",
       " 'baile',\n",
       " 'balkan',\n",
       " 'beats',\n",
       " 'bigroom',\n",
       " 'black',\n",
       " 'bluegrass',\n",
       " 'blues',\n",
       " 'bollywood',\n",
       " 'bossa',\n",
       " 'brazilian',\n",
       " 'breakbeat',\n",
       " 'breaks',\n",
       " 'broadway',\n",
       " 'cantautori',\n",
       " 'cantopop',\n",
       " 'canzone',\n",
       " 'caribbean',\n",
       " 'caucasian',\n",
       " 'celtic',\n",
       " 'chamber',\n",
       " 'chanson',\n",
       " 'children',\n",
       " 'chill',\n",
       " 'chinese',\n",
       " 'choral',\n",
       " 'christian',\n",
       " 'christmas',\n",
       " 'classical',\n",
       " 'classicmetal',\n",
       " 'club',\n",
       " 'colombian',\n",
       " 'comedy',\n",
       " 'conjazz',\n",
       " 'contemporary',\n",
       " 'country',\n",
       " 'cuban',\n",
       " 'dance',\n",
       " 'dancehall',\n",
       " 'dancepop',\n",
       " 'dark',\n",
       " 'death',\n",
       " 'deep',\n",
       " 'deutschrock',\n",
       " 'deutschspr',\n",
       " 'dirty',\n",
       " 'disco',\n",
       " 'dnb',\n",
       " 'documentary',\n",
       " 'downbeat',\n",
       " 'downtempo',\n",
       " 'drum',\n",
       " 'dub',\n",
       " 'dubstep',\n",
       " 'eastern',\n",
       " 'easy',\n",
       " 'electronic',\n",
       " 'electropop',\n",
       " 'emo',\n",
       " 'entehno',\n",
       " 'epicmetal',\n",
       " 'estrada',\n",
       " 'ethnic',\n",
       " 'eurofolk',\n",
       " 'european',\n",
       " 'experimental',\n",
       " 'extrememetal',\n",
       " 'fado',\n",
       " 'fairytail',\n",
       " 'film',\n",
       " 'fitness',\n",
       " 'flamenco',\n",
       " 'folk',\n",
       " 'folklore',\n",
       " 'folkmetal',\n",
       " 'folkrock',\n",
       " 'folktronica',\n",
       " 'forró',\n",
       " 'frankreich',\n",
       " 'französisch',\n",
       " 'french',\n",
       " 'funk',\n",
       " 'future',\n",
       " 'gangsta',\n",
       " 'garage',\n",
       " 'german',\n",
       " 'ghazal',\n",
       " 'gitarre',\n",
       " 'glitch',\n",
       " 'gospel',\n",
       " 'gothic',\n",
       " 'grime',\n",
       " 'grunge',\n",
       " 'gypsy',\n",
       " 'handsup',\n",
       " \"hard'n'heavy\",\n",
       " 'hardcore',\n",
       " 'hardstyle',\n",
       " 'hardtechno',\n",
       " 'hip',\n",
       " 'hip-hop',\n",
       " 'hiphop',\n",
       " 'historisch',\n",
       " 'holiday',\n",
       " 'hop',\n",
       " 'horror',\n",
       " 'house',\n",
       " 'hymn',\n",
       " 'idm',\n",
       " 'independent',\n",
       " 'indian',\n",
       " 'indie',\n",
       " 'indipop',\n",
       " 'industrial',\n",
       " 'inspirational',\n",
       " 'instrumental',\n",
       " 'international',\n",
       " 'irish',\n",
       " 'jam',\n",
       " 'japanese',\n",
       " 'jazz',\n",
       " 'jewish',\n",
       " 'jpop',\n",
       " 'jungle',\n",
       " 'k-pop',\n",
       " 'karadeniz',\n",
       " 'karaoke',\n",
       " 'kayokyoku',\n",
       " 'korean',\n",
       " 'laiko',\n",
       " 'latin',\n",
       " 'latino',\n",
       " 'leftfield',\n",
       " 'local',\n",
       " 'lounge',\n",
       " 'loungeelectronic',\n",
       " 'lovers',\n",
       " 'malaysian',\n",
       " 'mandopop',\n",
       " 'marschmusik',\n",
       " 'meditative',\n",
       " 'mediterranean',\n",
       " 'melodic',\n",
       " 'metal',\n",
       " 'metalcore',\n",
       " 'mexican',\n",
       " 'middle',\n",
       " 'minimal',\n",
       " 'miscellaneous',\n",
       " 'modern',\n",
       " 'mood',\n",
       " 'mpb',\n",
       " 'muslim',\n",
       " 'native',\n",
       " 'neoklassik',\n",
       " 'neue',\n",
       " 'new',\n",
       " 'newage',\n",
       " 'newwave',\n",
       " 'nu',\n",
       " 'nujazz',\n",
       " 'numetal',\n",
       " 'oceania',\n",
       " 'old',\n",
       " 'opera',\n",
       " 'orchestral',\n",
       " 'other',\n",
       " 'piano',\n",
       " 'podcasts',\n",
       " 'pop',\n",
       " 'popdance',\n",
       " 'popelectronic',\n",
       " 'popeurodance',\n",
       " 'poprussian',\n",
       " 'post',\n",
       " 'posthardcore',\n",
       " 'postrock',\n",
       " 'power',\n",
       " 'progmetal',\n",
       " 'progressive',\n",
       " 'psychedelic',\n",
       " 'punjabi',\n",
       " 'punk',\n",
       " 'quebecois',\n",
       " 'ragga',\n",
       " 'ram',\n",
       " 'rancheras',\n",
       " 'rap',\n",
       " 'rave',\n",
       " 'reggae',\n",
       " 'reggaeton',\n",
       " 'regional',\n",
       " 'relax',\n",
       " 'religious',\n",
       " 'retro',\n",
       " 'rhythm',\n",
       " 'rnb',\n",
       " 'rnr',\n",
       " 'rock',\n",
       " 'rockabilly',\n",
       " 'rockalternative',\n",
       " 'rockindie',\n",
       " 'rockother',\n",
       " 'romance',\n",
       " 'roots',\n",
       " 'ruspop',\n",
       " 'rusrap',\n",
       " 'rusrock',\n",
       " 'russian',\n",
       " 'salsa',\n",
       " 'samba',\n",
       " 'scenic',\n",
       " 'schlager',\n",
       " 'self',\n",
       " 'sertanejo',\n",
       " 'shanson',\n",
       " 'shoegazing',\n",
       " 'showtunes',\n",
       " 'singer',\n",
       " 'ska',\n",
       " 'skarock',\n",
       " 'slow',\n",
       " 'smooth',\n",
       " 'soft',\n",
       " 'soul',\n",
       " 'soulful',\n",
       " 'sound',\n",
       " 'soundtrack',\n",
       " 'southern',\n",
       " 'specialty',\n",
       " 'speech',\n",
       " 'spiritual',\n",
       " 'sport',\n",
       " 'stonerrock',\n",
       " 'surf',\n",
       " 'swing',\n",
       " 'synthpop',\n",
       " 'synthrock',\n",
       " 'sängerportrait',\n",
       " 'tango',\n",
       " 'tanzorchester',\n",
       " 'taraftar',\n",
       " 'tatar',\n",
       " 'tech',\n",
       " 'techno',\n",
       " 'teen',\n",
       " 'thrash',\n",
       " 'top',\n",
       " 'traditional',\n",
       " 'tradjazz',\n",
       " 'trance',\n",
       " 'tribal',\n",
       " 'trip',\n",
       " 'triphop',\n",
       " 'tropical',\n",
       " 'türk',\n",
       " 'türkçe',\n",
       " 'ukrrock',\n",
       " 'unknown',\n",
       " 'urban',\n",
       " 'uzbek',\n",
       " 'variété',\n",
       " 'vi',\n",
       " 'videogame',\n",
       " 'vocal',\n",
       " 'western',\n",
       " 'world',\n",
       " 'worldbeat',\n",
       " 'ïîï',\n",
       " 'электроника']"
      ]
     },
     "metadata": {},
     "output_type": "display_data"
    }
   ],
   "source": [
    "# Просмотр уникальных названий жанров\n",
    "display(sorted(df['genre'].unique()))"
   ]
  },
  {
   "cell_type": "markdown",
   "metadata": {
    "id": "qej-Qmuo_Zct"
   },
   "source": [
    "Просмотрите список и найдите неявные дубликаты названия `hiphop`. Это могут быть названия с ошибками или альтернативные названия того же жанра.\n",
    "\n",
    "Вы увидите следующие неявные дубликаты:\n",
    "* *hip*,\n",
    "* *hop*,\n",
    "* *hip-hop*.\n",
    "\n",
    "Чтобы очистить от них таблицу, напишите функцию `replace_wrong_genres()` с двумя параметрами: \n",
    "* `wrong_genres` — список дубликатов,\n",
    "* `correct_genre` — строка с правильным значением.\n",
    "\n",
    "Функция должна исправить колонку `genre` в таблице `df`: заменить каждое значение из списка `wrong_genres` на значение из `correct_genre`."
   ]
  },
  {
   "cell_type": "code",
   "execution_count": 15,
   "metadata": {
    "id": "ErNDkmns_Zct"
   },
   "outputs": [],
   "source": [
    "# Функция для замены неявных дубликатов\n",
    "def replace_wrong_genres(wrong_genres, correct_genre):\n",
    "    for wrong_genre in wrong_genres:\n",
    "        df['genre'] = df['genre'].replace(wrong_genre, correct_genre)"
   ]
  },
  {
   "cell_type": "markdown",
   "metadata": {
    "id": "aDoBJxbA_Zct"
   },
   "source": [
    "Вызовите `replace_wrong_genres()` и передайте ей такие аргументы, чтобы она устранила неявные дубликаты: вместо `hip`, `hop` и `hip-hop` в таблице должно быть значение `hiphop`:"
   ]
  },
  {
   "cell_type": "code",
   "execution_count": 16,
   "metadata": {
    "id": "YN5i2hpmSo09"
   },
   "outputs": [],
   "source": [
    "# Устранение неявных дубликатов\n",
    "replace_wrong_genres(['hip', 'hip-hop', 'hop'], 'hiphop')"
   ]
  },
  {
   "cell_type": "markdown",
   "metadata": {
    "id": "zQKF16_RG15m"
   },
   "source": [
    "Проверьте, что заменили неправильные названия:\n",
    "\n",
    "*   hip\n",
    "*   hop\n",
    "*   hip-hop\n",
    "\n",
    "Выведите отсортированный список уникальных значений столбца `genre`:"
   ]
  },
  {
   "cell_type": "code",
   "execution_count": 17,
   "metadata": {
    "id": "wvixALnFG15m"
   },
   "outputs": [
    {
     "data": {
      "text/plain": [
       "['acid',\n",
       " 'acoustic',\n",
       " 'action',\n",
       " 'adult',\n",
       " 'africa',\n",
       " 'afrikaans',\n",
       " 'alternative',\n",
       " 'alternativepunk',\n",
       " 'ambient',\n",
       " 'americana',\n",
       " 'animated',\n",
       " 'anime',\n",
       " 'arabesk',\n",
       " 'arabic',\n",
       " 'arena',\n",
       " 'argentinetango',\n",
       " 'art',\n",
       " 'audiobook',\n",
       " 'author',\n",
       " 'avantgarde',\n",
       " 'axé',\n",
       " 'baile',\n",
       " 'balkan',\n",
       " 'beats',\n",
       " 'bigroom',\n",
       " 'black',\n",
       " 'bluegrass',\n",
       " 'blues',\n",
       " 'bollywood',\n",
       " 'bossa',\n",
       " 'brazilian',\n",
       " 'breakbeat',\n",
       " 'breaks',\n",
       " 'broadway',\n",
       " 'cantautori',\n",
       " 'cantopop',\n",
       " 'canzone',\n",
       " 'caribbean',\n",
       " 'caucasian',\n",
       " 'celtic',\n",
       " 'chamber',\n",
       " 'chanson',\n",
       " 'children',\n",
       " 'chill',\n",
       " 'chinese',\n",
       " 'choral',\n",
       " 'christian',\n",
       " 'christmas',\n",
       " 'classical',\n",
       " 'classicmetal',\n",
       " 'club',\n",
       " 'colombian',\n",
       " 'comedy',\n",
       " 'conjazz',\n",
       " 'contemporary',\n",
       " 'country',\n",
       " 'cuban',\n",
       " 'dance',\n",
       " 'dancehall',\n",
       " 'dancepop',\n",
       " 'dark',\n",
       " 'death',\n",
       " 'deep',\n",
       " 'deutschrock',\n",
       " 'deutschspr',\n",
       " 'dirty',\n",
       " 'disco',\n",
       " 'dnb',\n",
       " 'documentary',\n",
       " 'downbeat',\n",
       " 'downtempo',\n",
       " 'drum',\n",
       " 'dub',\n",
       " 'dubstep',\n",
       " 'eastern',\n",
       " 'easy',\n",
       " 'electronic',\n",
       " 'electropop',\n",
       " 'emo',\n",
       " 'entehno',\n",
       " 'epicmetal',\n",
       " 'estrada',\n",
       " 'ethnic',\n",
       " 'eurofolk',\n",
       " 'european',\n",
       " 'experimental',\n",
       " 'extrememetal',\n",
       " 'fado',\n",
       " 'fairytail',\n",
       " 'film',\n",
       " 'fitness',\n",
       " 'flamenco',\n",
       " 'folk',\n",
       " 'folklore',\n",
       " 'folkmetal',\n",
       " 'folkrock',\n",
       " 'folktronica',\n",
       " 'forró',\n",
       " 'frankreich',\n",
       " 'französisch',\n",
       " 'french',\n",
       " 'funk',\n",
       " 'future',\n",
       " 'gangsta',\n",
       " 'garage',\n",
       " 'german',\n",
       " 'ghazal',\n",
       " 'gitarre',\n",
       " 'glitch',\n",
       " 'gospel',\n",
       " 'gothic',\n",
       " 'grime',\n",
       " 'grunge',\n",
       " 'gypsy',\n",
       " 'handsup',\n",
       " \"hard'n'heavy\",\n",
       " 'hardcore',\n",
       " 'hardstyle',\n",
       " 'hardtechno',\n",
       " 'hiphop',\n",
       " 'historisch',\n",
       " 'holiday',\n",
       " 'horror',\n",
       " 'house',\n",
       " 'hymn',\n",
       " 'idm',\n",
       " 'independent',\n",
       " 'indian',\n",
       " 'indie',\n",
       " 'indipop',\n",
       " 'industrial',\n",
       " 'inspirational',\n",
       " 'instrumental',\n",
       " 'international',\n",
       " 'irish',\n",
       " 'jam',\n",
       " 'japanese',\n",
       " 'jazz',\n",
       " 'jewish',\n",
       " 'jpop',\n",
       " 'jungle',\n",
       " 'k-pop',\n",
       " 'karadeniz',\n",
       " 'karaoke',\n",
       " 'kayokyoku',\n",
       " 'korean',\n",
       " 'laiko',\n",
       " 'latin',\n",
       " 'latino',\n",
       " 'leftfield',\n",
       " 'local',\n",
       " 'lounge',\n",
       " 'loungeelectronic',\n",
       " 'lovers',\n",
       " 'malaysian',\n",
       " 'mandopop',\n",
       " 'marschmusik',\n",
       " 'meditative',\n",
       " 'mediterranean',\n",
       " 'melodic',\n",
       " 'metal',\n",
       " 'metalcore',\n",
       " 'mexican',\n",
       " 'middle',\n",
       " 'minimal',\n",
       " 'miscellaneous',\n",
       " 'modern',\n",
       " 'mood',\n",
       " 'mpb',\n",
       " 'muslim',\n",
       " 'native',\n",
       " 'neoklassik',\n",
       " 'neue',\n",
       " 'new',\n",
       " 'newage',\n",
       " 'newwave',\n",
       " 'nu',\n",
       " 'nujazz',\n",
       " 'numetal',\n",
       " 'oceania',\n",
       " 'old',\n",
       " 'opera',\n",
       " 'orchestral',\n",
       " 'other',\n",
       " 'piano',\n",
       " 'podcasts',\n",
       " 'pop',\n",
       " 'popdance',\n",
       " 'popelectronic',\n",
       " 'popeurodance',\n",
       " 'poprussian',\n",
       " 'post',\n",
       " 'posthardcore',\n",
       " 'postrock',\n",
       " 'power',\n",
       " 'progmetal',\n",
       " 'progressive',\n",
       " 'psychedelic',\n",
       " 'punjabi',\n",
       " 'punk',\n",
       " 'quebecois',\n",
       " 'ragga',\n",
       " 'ram',\n",
       " 'rancheras',\n",
       " 'rap',\n",
       " 'rave',\n",
       " 'reggae',\n",
       " 'reggaeton',\n",
       " 'regional',\n",
       " 'relax',\n",
       " 'religious',\n",
       " 'retro',\n",
       " 'rhythm',\n",
       " 'rnb',\n",
       " 'rnr',\n",
       " 'rock',\n",
       " 'rockabilly',\n",
       " 'rockalternative',\n",
       " 'rockindie',\n",
       " 'rockother',\n",
       " 'romance',\n",
       " 'roots',\n",
       " 'ruspop',\n",
       " 'rusrap',\n",
       " 'rusrock',\n",
       " 'russian',\n",
       " 'salsa',\n",
       " 'samba',\n",
       " 'scenic',\n",
       " 'schlager',\n",
       " 'self',\n",
       " 'sertanejo',\n",
       " 'shanson',\n",
       " 'shoegazing',\n",
       " 'showtunes',\n",
       " 'singer',\n",
       " 'ska',\n",
       " 'skarock',\n",
       " 'slow',\n",
       " 'smooth',\n",
       " 'soft',\n",
       " 'soul',\n",
       " 'soulful',\n",
       " 'sound',\n",
       " 'soundtrack',\n",
       " 'southern',\n",
       " 'specialty',\n",
       " 'speech',\n",
       " 'spiritual',\n",
       " 'sport',\n",
       " 'stonerrock',\n",
       " 'surf',\n",
       " 'swing',\n",
       " 'synthpop',\n",
       " 'synthrock',\n",
       " 'sängerportrait',\n",
       " 'tango',\n",
       " 'tanzorchester',\n",
       " 'taraftar',\n",
       " 'tatar',\n",
       " 'tech',\n",
       " 'techno',\n",
       " 'teen',\n",
       " 'thrash',\n",
       " 'top',\n",
       " 'traditional',\n",
       " 'tradjazz',\n",
       " 'trance',\n",
       " 'tribal',\n",
       " 'trip',\n",
       " 'triphop',\n",
       " 'tropical',\n",
       " 'türk',\n",
       " 'türkçe',\n",
       " 'ukrrock',\n",
       " 'unknown',\n",
       " 'urban',\n",
       " 'uzbek',\n",
       " 'variété',\n",
       " 'vi',\n",
       " 'videogame',\n",
       " 'vocal',\n",
       " 'western',\n",
       " 'world',\n",
       " 'worldbeat',\n",
       " 'ïîï',\n",
       " 'электроника']"
      ]
     },
     "metadata": {},
     "output_type": "display_data"
    }
   ],
   "source": [
    "# Проверка на неявные дубликаты\n",
    "display(sorted(df['genre'].unique()))"
   ]
  },
  {
   "cell_type": "markdown",
   "metadata": {
    "id": "jz6a9-7HQUDd"
   },
   "source": [
    "**Выводы**\n",
    "\n",
    "Предобработка обнаружила три проблемы в данных:\n",
    "\n",
    "- нарушения в стиле заголовков,\n",
    "- пропущенные значения,\n",
    "- дубликаты — явные и неявные.\n",
    "\n",
    "Вы исправили заголовки, чтобы упростить работу с таблицей. Без дубликатов исследование станет более точным.\n",
    "\n",
    "Пропущенные значения вы заменили на `'unknown'`. Ещё предстоит увидеть, не повредят ли исследованию пропуски в колонке `genre`.\n",
    "\n",
    "Теперь можно перейти к проверке гипотез. "
   ]
  },
  {
   "cell_type": "markdown",
   "metadata": {
    "id": "WttZHXH0SqKk"
   },
   "source": [
    "## Проверка гипотез"
   ]
  },
  {
   "cell_type": "markdown",
   "metadata": {
    "id": "Im936VVi_Zcu"
   },
   "source": [
    "### Сравнение поведения пользователей двух столиц"
   ]
  },
  {
   "cell_type": "markdown",
   "metadata": {
    "id": "nwt_MuaL_Zcu"
   },
   "source": [
    "Первая гипотеза утверждает, что пользователи по-разному слушают музыку в Москве и Санкт-Петербурге. Проверьте это предположение по данным о трёх днях недели — понедельнике, среде и пятнице. Для этого:\n",
    "\n",
    "* Разделите пользователей Москвы и Санкт-Петербурга\n",
    "* Сравните, сколько треков послушала каждая группа пользователей в понедельник, среду и пятницу.\n"
   ]
  },
  {
   "cell_type": "markdown",
   "metadata": {
    "id": "8Dw_YMmT_Zcu"
   },
   "source": [
    "Для тренировки сначала выполните каждый из расчётов по отдельности. \n",
    "\n",
    "Оцените активность пользователей в каждом городе. Сгруппируйте данные по городу и посчитайте прослушивания в каждой группе.\n",
    "\n"
   ]
  },
  {
   "cell_type": "code",
   "execution_count": 18,
   "metadata": {
    "id": "0_Qs96oh_Zcu"
   },
   "outputs": [
    {
     "data": {
      "text/plain": [
       "['Moscow', 'Saint-Petersburg']"
      ]
     },
     "metadata": {},
     "output_type": "display_data"
    },
    {
     "data": {
      "text/plain": [
       "city\n",
       "Moscow              42741\n",
       "Saint-Petersburg    18512\n",
       "Name: user_id, dtype: int64"
      ]
     },
     "execution_count": 18,
     "metadata": {},
     "output_type": "execute_result"
    }
   ],
   "source": [
    "# Подсчёт прослушиваний в каждом городе\n",
    "\n",
    "display(sorted(df['city'].unique()))  #проверим какие есть города\n",
    "\n",
    "df.groupby('city')['user_id'].count()"
   ]
  },
  {
   "cell_type": "markdown",
   "metadata": {
    "id": "dzli3w8o_Zcu"
   },
   "source": [
    "В Москве прослушиваний больше, чем в Петербурге. Из этого не следует, что московские пользователи чаще слушают музыку. Просто самих пользователей в Москве больше.\n",
    "\n",
    "Теперь сгруппируйте данные по дню недели и подсчитайте прослушивания в понедельник, среду и пятницу. Учтите, что в данных есть информация только о прослушиваниях только за эти дни.\n"
   ]
  },
  {
   "cell_type": "code",
   "execution_count": 19,
   "metadata": {
    "id": "uZMKjiJz_Zcu"
   },
   "outputs": [
    {
     "data": {
      "text/plain": [
       "day\n",
       "Friday       21840\n",
       "Monday       21354\n",
       "Wednesday    18059\n",
       "Name: user_id, dtype: int64"
      ]
     },
     "execution_count": 19,
     "metadata": {},
     "output_type": "execute_result"
    }
   ],
   "source": [
    "# Подсчёт прослушиваний в каждый из трёх дней\n",
    "df.groupby('day')['user_id'].count()"
   ]
  },
  {
   "cell_type": "markdown",
   "metadata": {
    "id": "cC2tNrlL_Zcu"
   },
   "source": [
    "В среднем пользователи из двух городов менее активны по средам. Но картина может измениться, если рассмотреть каждый город в отдельности."
   ]
  },
  {
   "cell_type": "markdown",
   "metadata": {
    "id": "POzs8bGa_Zcu"
   },
   "source": [
    "Вы видели, как работает группировка по городу и по дням недели. Теперь напишите функцию, которая объединит два эти расчёта.\n",
    "\n",
    "Создайте функцию `number_tracks()`, которая посчитает прослушивания для заданного дня и города. Ей понадобятся два параметра:\n",
    "* день недели,\n",
    "* название города.\n",
    "\n",
    "В функции сохраните в переменную строки исходной таблицы, у которых значение:\n",
    "  * в колонке `day` равно параметру `day`,\n",
    "  * в колонке `city` равно параметру `city`.\n",
    "\n",
    "Для этого примените последовательную фильтрацию с логической индексацией.\n",
    "\n",
    "Затем посчитайте значения в столбце `user_id` получившейся таблицы. Результат сохраните в новую переменную. Верните эту переменную из функции."
   ]
  },
  {
   "cell_type": "code",
   "execution_count": 20,
   "metadata": {
    "id": "Nz3GdQB1_Zcu"
   },
   "outputs": [],
   "source": [
    "# <создание функции number_tracks()>\n",
    "# Объявляется функция с двумя параметрами: day, city.\n",
    "def number_tracks(day, city):\n",
    "    track_list = df[df['day'] == day]\n",
    "    track_list = track_list[track_list['city'] == city]\n",
    "    track_list_count = track_list['user_id'].count()\n",
    "    return track_list_count\n",
    "    \n",
    "    #проще\n",
    "    #return df[(df['day']==day)&(df['city']==city)]['user_id'].count()\n",
    "    \n",
    "# В переменной track_list сохраняются те строки таблицы df, для которых \n",
    "# значение в столбце 'day' равно параметру day и одновременно значение\n",
    "# в столбце 'city' равно параметру city (используйте последовательную фильтрацию\n",
    "# с помощью логической индексации).\n",
    "# В переменной track_list_count сохраняется число значений столбца 'user_id',\n",
    "# рассчитанное методом count() для таблицы track_list.\n",
    "# Функция возвращает число - значение track_list_count.\n",
    "\n",
    "# Функция для подсчёта прослушиваний для конкретного города и дня.\n",
    "# С помощью последовательной фильтрации с логической индексацией она \n",
    "# сначала получит из исходной таблицы строки с нужным днём,\n",
    "# затем из результата отфильтрует строки с нужным городом,\n",
    "# методом count() посчитает количество значений в колонке user_id. \n",
    "# Это количество функция вернёт в качестве результата"
   ]
  },
  {
   "cell_type": "markdown",
   "metadata": {
    "id": "ytf7xFrFJQ2r"
   },
   "source": [
    "Вызовите `number_tracks()` шесть раз, меняя значение параметров — так, чтобы получить данные для каждого города в каждый из трёх дней."
   ]
  },
  {
   "cell_type": "code",
   "execution_count": 21,
   "metadata": {
    "id": "rJcRATNQ_Zcu"
   },
   "outputs": [
    {
     "data": {
      "text/plain": [
       "15740"
      ]
     },
     "execution_count": 21,
     "metadata": {},
     "output_type": "execute_result"
    }
   ],
   "source": [
    "# количество прослушиваний в Москве по понедельникам\n",
    "number_tracks('Monday', 'Moscow')"
   ]
  },
  {
   "cell_type": "code",
   "execution_count": 22,
   "metadata": {
    "id": "hq_ncZ5T_Zcu"
   },
   "outputs": [
    {
     "data": {
      "text/plain": [
       "5614"
      ]
     },
     "execution_count": 22,
     "metadata": {},
     "output_type": "execute_result"
    }
   ],
   "source": [
    "# количество прослушиваний в Санкт-Петербурге по понедельникам\n",
    "number_tracks('Monday', 'Saint-Petersburg')"
   ]
  },
  {
   "cell_type": "code",
   "execution_count": 23,
   "metadata": {
    "id": "_NTy2VPU_Zcu"
   },
   "outputs": [
    {
     "data": {
      "text/plain": [
       "11056"
      ]
     },
     "execution_count": 23,
     "metadata": {},
     "output_type": "execute_result"
    }
   ],
   "source": [
    "# количество прослушиваний в Москве по средам\n",
    "number_tracks('Wednesday', 'Moscow')"
   ]
  },
  {
   "cell_type": "code",
   "execution_count": 24,
   "metadata": {
    "id": "j2y3TAwo_Zcu"
   },
   "outputs": [
    {
     "data": {
      "text/plain": [
       "7003"
      ]
     },
     "execution_count": 24,
     "metadata": {},
     "output_type": "execute_result"
    }
   ],
   "source": [
    "# количество прослушиваний в Санкт-Петербурге по средам\n",
    "number_tracks('Wednesday', 'Saint-Petersburg')"
   ]
  },
  {
   "cell_type": "code",
   "execution_count": 25,
   "metadata": {
    "id": "vYDw5u_K_Zcu"
   },
   "outputs": [
    {
     "data": {
      "text/plain": [
       "15945"
      ]
     },
     "execution_count": 25,
     "metadata": {},
     "output_type": "execute_result"
    }
   ],
   "source": [
    "# количество прослушиваний в Москве по пятницам\n",
    "number_tracks('Friday', 'Moscow')"
   ]
  },
  {
   "cell_type": "code",
   "execution_count": 26,
   "metadata": {
    "id": "8_yzFtW3_Zcu"
   },
   "outputs": [
    {
     "data": {
      "text/plain": [
       "5895"
      ]
     },
     "execution_count": 26,
     "metadata": {},
     "output_type": "execute_result"
    }
   ],
   "source": [
    "# количество прослушиваний в Санкт-Петербурге по пятницам\n",
    "number_tracks('Friday', 'Saint-Petersburg')"
   ]
  },
  {
   "cell_type": "markdown",
   "metadata": {},
   "source": [
    "**Комментарий**: \n",
    "  Я бы делал так:"
   ]
  },
  {
   "cell_type": "code",
   "execution_count": 27,
   "metadata": {
    "scrolled": true
   },
   "outputs": [
    {
     "data": {
      "text/html": [
       "<div>\n",
       "<style scoped>\n",
       "    .dataframe tbody tr th:only-of-type {\n",
       "        vertical-align: middle;\n",
       "    }\n",
       "\n",
       "    .dataframe tbody tr th {\n",
       "        vertical-align: top;\n",
       "    }\n",
       "\n",
       "    .dataframe thead th {\n",
       "        text-align: right;\n",
       "    }\n",
       "</style>\n",
       "<table border=\"1\" class=\"dataframe\">\n",
       "  <thead>\n",
       "    <tr style=\"text-align: right;\">\n",
       "      <th></th>\n",
       "      <th></th>\n",
       "      <th>time</th>\n",
       "    </tr>\n",
       "    <tr>\n",
       "      <th>city</th>\n",
       "      <th>day</th>\n",
       "      <th></th>\n",
       "    </tr>\n",
       "  </thead>\n",
       "  <tbody>\n",
       "    <tr>\n",
       "      <td rowspan=\"3\" valign=\"top\">Moscow</td>\n",
       "      <td>Friday</td>\n",
       "      <td>15945</td>\n",
       "    </tr>\n",
       "    <tr>\n",
       "      <td>Monday</td>\n",
       "      <td>15740</td>\n",
       "    </tr>\n",
       "    <tr>\n",
       "      <td>Wednesday</td>\n",
       "      <td>11056</td>\n",
       "    </tr>\n",
       "    <tr>\n",
       "      <td rowspan=\"3\" valign=\"top\">Saint-Petersburg</td>\n",
       "      <td>Friday</td>\n",
       "      <td>5895</td>\n",
       "    </tr>\n",
       "    <tr>\n",
       "      <td>Monday</td>\n",
       "      <td>5614</td>\n",
       "    </tr>\n",
       "    <tr>\n",
       "      <td>Wednesday</td>\n",
       "      <td>7003</td>\n",
       "    </tr>\n",
       "  </tbody>\n",
       "</table>\n",
       "</div>"
      ],
      "text/plain": [
       "                             time\n",
       "city             day             \n",
       "Moscow           Friday     15945\n",
       "                 Monday     15740\n",
       "                 Wednesday  11056\n",
       "Saint-Petersburg Friday      5895\n",
       "                 Monday      5614\n",
       "                 Wednesday   7003"
      ]
     },
     "execution_count": 27,
     "metadata": {},
     "output_type": "execute_result"
    }
   ],
   "source": [
    "df[['city', 'day', 'time']].groupby(['city', 'day']).count()"
   ]
  },
  {
   "cell_type": "markdown",
   "metadata": {
    "id": "7QXffbO-_Zcu"
   },
   "source": [
    "Создайте c помощью конструктора `pd.DataFrame` таблицу, где\n",
    "* названия колонок — `['city', 'monday', 'wednesday', 'friday']`;\n",
    "* данные — результаты, которые вы получили с помощью `number_tracks`."
   ]
  },
  {
   "cell_type": "code",
   "execution_count": 28,
   "metadata": {
    "id": "APAcLpOr_Zcu"
   },
   "outputs": [
    {
     "data": {
      "text/html": [
       "<div>\n",
       "<style scoped>\n",
       "    .dataframe tbody tr th:only-of-type {\n",
       "        vertical-align: middle;\n",
       "    }\n",
       "\n",
       "    .dataframe tbody tr th {\n",
       "        vertical-align: top;\n",
       "    }\n",
       "\n",
       "    .dataframe thead th {\n",
       "        text-align: right;\n",
       "    }\n",
       "</style>\n",
       "<table border=\"1\" class=\"dataframe\">\n",
       "  <thead>\n",
       "    <tr style=\"text-align: right;\">\n",
       "      <th></th>\n",
       "      <th>city</th>\n",
       "      <th>monday</th>\n",
       "      <th>wednesday</th>\n",
       "      <th>friday</th>\n",
       "    </tr>\n",
       "  </thead>\n",
       "  <tbody>\n",
       "    <tr>\n",
       "      <td>0</td>\n",
       "      <td>Moscow</td>\n",
       "      <td>15740</td>\n",
       "      <td>11056</td>\n",
       "      <td>15945</td>\n",
       "    </tr>\n",
       "    <tr>\n",
       "      <td>1</td>\n",
       "      <td>Saint-Petersburg</td>\n",
       "      <td>5614</td>\n",
       "      <td>7003</td>\n",
       "      <td>5895</td>\n",
       "    </tr>\n",
       "  </tbody>\n",
       "</table>\n",
       "</div>"
      ],
      "text/plain": [
       "               city  monday  wednesday  friday\n",
       "0            Moscow   15740      11056   15945\n",
       "1  Saint-Petersburg    5614       7003    5895"
      ]
     },
     "metadata": {},
     "output_type": "display_data"
    }
   ],
   "source": [
    "# Таблица с результатами\n",
    "aggregated_df = pd.DataFrame(data = [['Moscow',15740,11056,15945],['Saint-Petersburg',5614,7003,5895]], columns = ['city', 'monday', 'wednesday', 'friday'])\n",
    "display(aggregated_df)"
   ]
  },
  {
   "cell_type": "markdown",
   "metadata": {},
   "source": [
    "Если не ставить задач потренироваться писать собственные функции, то получить такую таблицу можно и проще. Я нашел такой вариант с использованием Интернета (pivot_table)"
   ]
  },
  {
   "cell_type": "code",
   "execution_count": 29,
   "metadata": {},
   "outputs": [
    {
     "data": {
      "text/html": [
       "<div>\n",
       "<style scoped>\n",
       "    .dataframe tbody tr th:only-of-type {\n",
       "        vertical-align: middle;\n",
       "    }\n",
       "\n",
       "    .dataframe tbody tr th {\n",
       "        vertical-align: top;\n",
       "    }\n",
       "\n",
       "    .dataframe thead th {\n",
       "        text-align: right;\n",
       "    }\n",
       "</style>\n",
       "<table border=\"1\" class=\"dataframe\">\n",
       "  <thead>\n",
       "    <tr style=\"text-align: right;\">\n",
       "      <th>day</th>\n",
       "      <th>Friday</th>\n",
       "      <th>Monday</th>\n",
       "      <th>Wednesday</th>\n",
       "    </tr>\n",
       "    <tr>\n",
       "      <th>city</th>\n",
       "      <th></th>\n",
       "      <th></th>\n",
       "      <th></th>\n",
       "    </tr>\n",
       "  </thead>\n",
       "  <tbody>\n",
       "    <tr>\n",
       "      <td>Moscow</td>\n",
       "      <td>15945</td>\n",
       "      <td>15740</td>\n",
       "      <td>11056</td>\n",
       "    </tr>\n",
       "    <tr>\n",
       "      <td>Saint-Petersburg</td>\n",
       "      <td>5895</td>\n",
       "      <td>5614</td>\n",
       "      <td>7003</td>\n",
       "    </tr>\n",
       "  </tbody>\n",
       "</table>\n",
       "</div>"
      ],
      "text/plain": [
       "day               Friday  Monday  Wednesday\n",
       "city                                       \n",
       "Moscow             15945   15740      11056\n",
       "Saint-Petersburg    5895    5614       7003"
      ]
     },
     "execution_count": 29,
     "metadata": {},
     "output_type": "execute_result"
    }
   ],
   "source": [
    "df_grp_city_day = df[['city', 'day', 'time']].groupby(['city', 'day']).count()\n",
    "df_grp_city_day = df_grp_city_day.rename(columns={'time': 'count'})\n",
    "pd.pivot_table(df_grp_city_day, values='count', index=['city'], columns=['day'], aggfunc='sum', fill_value=0)"
   ]
  },
  {
   "cell_type": "markdown",
   "metadata": {
    "id": "-EgPIHYu_Zcu"
   },
   "source": [
    "**Выводы**\n",
    "\n",
    "Данные показывают разницу поведения пользователей:\n",
    "\n",
    "- В Москве пик прослушиваний приходится на понедельник и пятницу, а в среду заметен спад.\n",
    "- В Петербурге, наоборот, больше слушают музыку по средам. Активность в понедельник и пятницу здесь почти в равной мере уступает среде.\n",
    "\n",
    "Значит, данные говорят в пользу первой гипотезы."
   ]
  },
  {
   "cell_type": "markdown",
   "metadata": {
    "id": "atZAxtq4_Zcu"
   },
   "source": [
    "### Музыка в начале и в конце недели"
   ]
  },
  {
   "cell_type": "markdown",
   "metadata": {
    "id": "eXrQqXFH_Zcu"
   },
   "source": [
    "Согласно второй гипотезе, утром в понедельник в Москве преобладают одни жанры, а в Петербурге — другие. Так же и вечером пятницы преобладают разные жанры — в зависимости от города."
   ]
  },
  {
   "cell_type": "markdown",
   "metadata": {
    "id": "S8UcW6Hw_Zcu"
   },
   "source": [
    "Сохраните таблицы с данными в две переменные:\n",
    "* по Москве — в `moscow_general`;\n",
    "* по Санкт-Петербургу — в `spb_general`."
   ]
  },
  {
   "cell_type": "code",
   "execution_count": 30,
   "metadata": {
    "id": "qeaFfM_P_Zcu"
   },
   "outputs": [],
   "source": [
    "# получение таблицы moscow_general из тех строк таблицы df, \n",
    "# для которых значение в столбце 'city' равно 'Moscow'\n",
    "moscow_general = df[df['city']=='Moscow']"
   ]
  },
  {
   "cell_type": "code",
   "execution_count": 31,
   "metadata": {
    "id": "ORaVRKto_Zcu"
   },
   "outputs": [],
   "source": [
    "# получение таблицы spb_general из тех строк таблицы df,\n",
    "# для которых значение в столбце 'city' равно 'Saint-Petersburg'\n",
    "spb_general = df[df['city']=='Saint-Petersburg']"
   ]
  },
  {
   "cell_type": "markdown",
   "metadata": {
    "id": "MEJV-CX2_Zcu"
   },
   "source": [
    "Создайте функцию `genre_weekday()` с четырьмя параметрами:\n",
    "* таблица (датафрейм) с данными,\n",
    "* день недели,\n",
    "* начальная временная метка в формате 'hh:mm', \n",
    "* последняя временная метка в формате 'hh:mm'.\n",
    "\n",
    "Функция должна вернуть информацию о топ-10 жанров тех треков, которые прослушивали в указанный день, в промежутке между двумя отметками времени."
   ]
  },
  {
   "cell_type": "code",
   "execution_count": 32,
   "metadata": {
    "id": "laJT9BYl_Zcu"
   },
   "outputs": [],
   "source": [
    "# Объявление функции genre_weekday() с параметрами table, day, time1, time2,\n",
    "# которая возвращает информацию о самых популярных жанрах в указанный день в\n",
    "# заданное время:\n",
    "# 1) в переменную genre_df сохраняются те строки переданного датафрейма table, для\n",
    "#    которых одновременно:\n",
    "#    - значение в столбце day равно значению аргумента day\n",
    "#    - значение в столбце time больше значения аргумента time1\n",
    "#    - значение в столбце time меньше значения аргумента time2\n",
    "#    Используйте последовательную фильтрацию с помощью логической индексации.\n",
    "# 2) сгруппировать датафрейм genre_df по столбцу genre, взять один из его\n",
    "#    столбцов и посчитать методом count() количество записей для каждого из\n",
    "#    присутствующих жанров, получившийся Series записать в переменную\n",
    "#    genre_df_count\n",
    "# 3) отсортировать genre_df_count по убыванию встречаемости и сохранить\n",
    "#    в переменную genre_df_sorted\n",
    "# 4) вернуть Series из 10 первых значений genre_df_sorted, это будут топ-10\n",
    "#    популярных жанров (в указанный день, в заданное время)\n",
    "\n",
    "\n",
    "def genre_weekday(table, day, time1, time2):\n",
    "    genre_df = table[(table['day']==day) & (table['time'] > time1) & (table['time'] < time2)]\n",
    "    genre_df_count = genre_df.groupby('genre')['user_id'].count()\n",
    "    genre_df_sorted = genre_df_count.sort_values(ascending=False).head(10)\n",
    "    return genre_df_sorted"
   ]
  },
  {
   "cell_type": "code",
   "execution_count": 33,
   "metadata": {},
   "outputs": [
    {
     "data": {
      "text/html": [
       "<div>\n",
       "<style scoped>\n",
       "    .dataframe tbody tr th:only-of-type {\n",
       "        vertical-align: middle;\n",
       "    }\n",
       "\n",
       "    .dataframe tbody tr th {\n",
       "        vertical-align: top;\n",
       "    }\n",
       "\n",
       "    .dataframe thead tr th {\n",
       "        text-align: left;\n",
       "    }\n",
       "\n",
       "    .dataframe thead tr:last-of-type th {\n",
       "        text-align: right;\n",
       "    }\n",
       "</style>\n",
       "<table border=\"1\" class=\"dataframe\">\n",
       "  <thead>\n",
       "    <tr>\n",
       "      <th>day</th>\n",
       "      <th colspan=\"2\" halign=\"left\">Friday</th>\n",
       "      <th colspan=\"2\" halign=\"left\">Monday</th>\n",
       "    </tr>\n",
       "    <tr>\n",
       "      <th>mden</th>\n",
       "      <th colspan=\"2\" halign=\"left\">evening</th>\n",
       "      <th colspan=\"2\" halign=\"left\">morning</th>\n",
       "    </tr>\n",
       "    <tr>\n",
       "      <th>city</th>\n",
       "      <th>Moscow</th>\n",
       "      <th>Saint-Petersburg</th>\n",
       "      <th>Moscow</th>\n",
       "      <th>Saint-Petersburg</th>\n",
       "    </tr>\n",
       "    <tr>\n",
       "      <th>genre</th>\n",
       "      <th></th>\n",
       "      <th></th>\n",
       "      <th></th>\n",
       "      <th></th>\n",
       "    </tr>\n",
       "  </thead>\n",
       "  <tbody>\n",
       "    <tr>\n",
       "      <td>alternative</td>\n",
       "      <td>8</td>\n",
       "      <td>5</td>\n",
       "      <td>9</td>\n",
       "      <td>7</td>\n",
       "    </tr>\n",
       "    <tr>\n",
       "      <td>classical</td>\n",
       "      <td>8</td>\n",
       "      <td>7</td>\n",
       "      <td>---</td>\n",
       "      <td>10</td>\n",
       "    </tr>\n",
       "    <tr>\n",
       "      <td>dance</td>\n",
       "      <td>3</td>\n",
       "      <td>3</td>\n",
       "      <td>2</td>\n",
       "      <td>2</td>\n",
       "    </tr>\n",
       "    <tr>\n",
       "      <td>electronic</td>\n",
       "      <td>4</td>\n",
       "      <td>2</td>\n",
       "      <td>3</td>\n",
       "      <td>4</td>\n",
       "    </tr>\n",
       "    <tr>\n",
       "      <td>hiphop</td>\n",
       "      <td>5</td>\n",
       "      <td>4</td>\n",
       "      <td>5</td>\n",
       "      <td>5</td>\n",
       "    </tr>\n",
       "    <tr>\n",
       "      <td>jazz</td>\n",
       "      <td>10</td>\n",
       "      <td>6</td>\n",
       "      <td>---</td>\n",
       "      <td>9</td>\n",
       "    </tr>\n",
       "    <tr>\n",
       "      <td>metal</td>\n",
       "      <td>---</td>\n",
       "      <td>---</td>\n",
       "      <td>---</td>\n",
       "      <td>---</td>\n",
       "    </tr>\n",
       "    <tr>\n",
       "      <td>pop</td>\n",
       "      <td>1</td>\n",
       "      <td>1</td>\n",
       "      <td>1</td>\n",
       "      <td>1</td>\n",
       "    </tr>\n",
       "    <tr>\n",
       "      <td>rock</td>\n",
       "      <td>2</td>\n",
       "      <td>2</td>\n",
       "      <td>4</td>\n",
       "      <td>3</td>\n",
       "    </tr>\n",
       "    <tr>\n",
       "      <td>ruspop</td>\n",
       "      <td>7</td>\n",
       "      <td>10</td>\n",
       "      <td>6</td>\n",
       "      <td>6</td>\n",
       "    </tr>\n",
       "    <tr>\n",
       "      <td>rusrap</td>\n",
       "      <td>9</td>\n",
       "      <td>8</td>\n",
       "      <td>8</td>\n",
       "      <td>8</td>\n",
       "    </tr>\n",
       "    <tr>\n",
       "      <td>unknown</td>\n",
       "      <td>---</td>\n",
       "      <td>10</td>\n",
       "      <td>10</td>\n",
       "      <td>---</td>\n",
       "    </tr>\n",
       "    <tr>\n",
       "      <td>world</td>\n",
       "      <td>6</td>\n",
       "      <td>9</td>\n",
       "      <td>7</td>\n",
       "      <td>---</td>\n",
       "    </tr>\n",
       "  </tbody>\n",
       "</table>\n",
       "</div>"
      ],
      "text/plain": [
       "day          Friday                   Monday                 \n",
       "mden        evening                  morning                 \n",
       "city         Moscow Saint-Petersburg  Moscow Saint-Petersburg\n",
       "genre                                                        \n",
       "alternative       8                5       9                7\n",
       "classical         8                7     ---               10\n",
       "dance             3                3       2                2\n",
       "electronic        4                2       3                4\n",
       "hiphop            5                4       5                5\n",
       "jazz             10                6     ---                9\n",
       "metal           ---              ---     ---              ---\n",
       "pop               1                1       1                1\n",
       "rock              2                2       4                3\n",
       "ruspop            7               10       6                6\n",
       "rusrap            9                8       8                8\n",
       "unknown         ---               10      10              ---\n",
       "world             6                9       7              ---"
      ]
     },
     "execution_count": 33,
     "metadata": {},
     "output_type": "execute_result"
    }
   ],
   "source": [
    "\n",
    "\n",
    "def set_part_fo_day(time_str):\n",
    "    if time_str < '07:00:00':\n",
    "        return 'night'\n",
    "    elif time_str < '11:00:00':\n",
    "        return 'morning'\n",
    "    elif time_str < '17:00:00':\n",
    "        return 'day'\n",
    "    elif time_str < '23:00:00':\n",
    "        return 'evening'\n",
    "    else:\n",
    "        return 'night'\n",
    "\n",
    "dfg = df\n",
    "\n",
    "# добавляем колонку Morning_Day_Evening_Night (MDEN)\n",
    "dfg['mden'] = dfg['time'].map(set_part_fo_day)\n",
    "\n",
    "dfg = dfg[(dfg['mden']!='day')&(dfg['day']!='Wednesday')]\n",
    "\n",
    "\n",
    "#группируем и считаем сколько прослушиваний\n",
    "dfg_grouped = dfg[['city', 'mden', 'genre', 'day', 'user_id']].groupby(['city', 'mden', 'genre', 'day']).count()\n",
    "\n",
    "#Удаляем MultiIndex и переименовываем колонку с числом прослушиваний\n",
    "dfg_grouped = dfg_grouped.reset_index().rename(columns={'user_id': 'cnt'})\n",
    "\n",
    "# проставляем ранги по убыванию\n",
    "dfg_grouped[\"rank\"] = dfg_grouped.groupby(['city', 'day', 'mden'])['cnt'].rank(\"dense\", ascending=False)\n",
    "\n",
    "#делаем отбор ТОП-10\n",
    "dfgr = dfg_grouped[(dfg_grouped['rank']<=10)]  #.sort_values(by=['city', 'day', 'mden','rank'])\n",
    "\n",
    "#строим PivotTable\n",
    "res = pd.pivot_table(dfgr, values='rank', index=['genre'], columns=['day','mden', 'city'], aggfunc='sum', fill_value='---')\n",
    "\n",
    "# оставим только нужные 4 столбца\n",
    "res = res.loc[:,[('Friday','evening','Moscow'),('Friday','evening','Saint-Petersburg'),('Monday','morning','Moscow'),('Monday','morning','Saint-Petersburg')]]\n",
    "\n",
    "res"
   ]
  },
  {
   "cell_type": "markdown",
   "metadata": {
    "id": "la2s2_PF_Zcu"
   },
   "source": [
    "Cравните результаты функции `genre_weekday()` для Москвы и Санкт-Петербурга в понедельник утром (с 7:00 до 11:00) и в пятницу вечером (с 17:00 до 23:00):"
   ]
  },
  {
   "cell_type": "code",
   "execution_count": 34,
   "metadata": {
    "id": "yz7itPUQ_Zcu"
   },
   "outputs": [
    {
     "data": {
      "text/plain": [
       "genre\n",
       "pop            781\n",
       "dance          549\n",
       "electronic     480\n",
       "rock           474\n",
       "hiphop         286\n",
       "ruspop         186\n",
       "world          181\n",
       "rusrap         175\n",
       "alternative    164\n",
       "unknown        161\n",
       "Name: user_id, dtype: int64"
      ]
     },
     "execution_count": 34,
     "metadata": {},
     "output_type": "execute_result"
    }
   ],
   "source": [
    "# вызов функции для утра понедельника в Москве (вместо df — таблица moscow_general)\n",
    "# объекты, хранящие время, являются строками и сравниваются как строки\n",
    "# пример вызова: genre_weekday(moscow_general, 'Monday', '07:00', '11:00')\n",
    "genre_weekday(moscow_general, 'Monday', '07:00:00', '11:00:00')"
   ]
  },
  {
   "cell_type": "code",
   "execution_count": 35,
   "metadata": {
    "id": "kwUcHPdy_Zcu"
   },
   "outputs": [
    {
     "data": {
      "text/plain": [
       "genre\n",
       "pop            218\n",
       "dance          182\n",
       "rock           162\n",
       "electronic     147\n",
       "hiphop          80\n",
       "ruspop          64\n",
       "alternative     58\n",
       "rusrap          55\n",
       "jazz            44\n",
       "classical       40\n",
       "Name: user_id, dtype: int64"
      ]
     },
     "execution_count": 35,
     "metadata": {},
     "output_type": "execute_result"
    }
   ],
   "source": [
    "# вызов функции для утра понедельника в Петербурге (вместо df — таблица spb_general)\n",
    "genre_weekday(spb_general, 'Monday', '07:00:00', '11:00:00')\n"
   ]
  },
  {
   "cell_type": "code",
   "execution_count": 36,
   "metadata": {
    "id": "EzXVRE1o_Zcu"
   },
   "outputs": [
    {
     "data": {
      "text/plain": [
       "genre\n",
       "pop            713\n",
       "rock           517\n",
       "dance          495\n",
       "electronic     482\n",
       "hiphop         273\n",
       "world          208\n",
       "ruspop         170\n",
       "alternative    163\n",
       "classical      163\n",
       "rusrap         142\n",
       "Name: user_id, dtype: int64"
      ]
     },
     "execution_count": 36,
     "metadata": {},
     "output_type": "execute_result"
    }
   ],
   "source": [
    "# вызов функции для вечера пятницы в Москве\n",
    "genre_weekday(moscow_general, 'Friday', '17:00:00', '23:00:00')"
   ]
  },
  {
   "cell_type": "code",
   "execution_count": 37,
   "metadata": {
    "id": "JZaEKu5v_Zcu"
   },
   "outputs": [
    {
     "data": {
      "text/plain": [
       "genre\n",
       "pop            256\n",
       "rock           216\n",
       "electronic     216\n",
       "dance          210\n",
       "hiphop          97\n",
       "alternative     63\n",
       "jazz            61\n",
       "classical       60\n",
       "rusrap          59\n",
       "world           54\n",
       "Name: user_id, dtype: int64"
      ]
     },
     "execution_count": 37,
     "metadata": {},
     "output_type": "execute_result"
    }
   ],
   "source": [
    "# вызов функции для вечера пятницы в Петербурге\n",
    "genre_weekday(spb_general, 'Friday', '17:00:00', '23:00:00')"
   ]
  },
  {
   "cell_type": "markdown",
   "metadata": {
    "id": "wrCe4MNX_Zcu"
   },
   "source": [
    "**Выводы**\n",
    "\n",
    "Если сравнить топ-10 жанров в понедельник утром, можно сделать такие выводы:\n",
    "\n",
    "1. В Москве и Петербурге слушают похожую музыку. Единственное отличие — в московский рейтинг вошёл жанр “world”, а в петербургский — джаз и классика.\n",
    "\n",
    "2. В Москве пропущенных значений оказалось так много, что значение `'unknown'` заняло десятое место среди самых популярных жанров. Значит, пропущенные значения занимают существенную долю в данных и угрожают достоверности исследования.\n",
    "\n",
    "Вечер пятницы не меняет эту картину. Некоторые жанры поднимаются немного выше, другие спускаются, но в целом топ-10 остаётся тем же самым.\n",
    "\n",
    "Таким образом, вторая гипотеза подтвердилась лишь частично:\n",
    "* Пользователи слушают похожую музыку в начале недели и в конце.\n",
    "* Разница между Москвой и Петербургом не слишком выражена. В Москве чаще слушают русскую популярную музыку, в Петербурге — джаз.\n",
    "\n",
    "Однако пропуски в данных ставят под сомнение этот результат. В Москве их так много, что рейтинг топ-10 мог бы выглядеть иначе, если бы не утерянные  данные о жанрах."
   ]
  },
  {
   "cell_type": "markdown",
   "metadata": {
    "id": "JolODAqr_Zcu"
   },
   "source": [
    "### Жанровые предпочтения в Москве и Петербурге\n",
    "\n",
    "Гипотеза: Петербург — столица рэпа, музыку этого жанра там слушают чаще, чем в Москве.  А Москва — город контрастов, в котором, тем не менее, преобладает поп-музыка."
   ]
  },
  {
   "cell_type": "markdown",
   "metadata": {
    "id": "DlegSvaT_Zcu"
   },
   "source": [
    "Сгруппируйте таблицу `moscow_general` по жанру и посчитайте прослушивания треков каждого жанра методом `count()`. Затем отсортируйте результат в порядке убывания и сохраните его в таблице `moscow_genres`."
   ]
  },
  {
   "cell_type": "code",
   "execution_count": 38,
   "metadata": {
    "id": "r19lIPke_Zcu"
   },
   "outputs": [],
   "source": [
    "# одной строкой: группировка таблицы moscow_general по столбцу 'genre', \n",
    "# подсчёт числа значений 'genre' в этой группировке методом count(), \n",
    "# сортировка получившегося Series в порядке убывания и сохранение в moscow_genres\n",
    "moscow_genres = moscow_general.groupby('genre')['genre'].count().sort_values(ascending=False)"
   ]
  },
  {
   "cell_type": "markdown",
   "metadata": {
    "id": "6kMuomxTiIr8"
   },
   "source": [
    "Выведите на экран первые десять строк `moscow_genres`:"
   ]
  },
  {
   "cell_type": "code",
   "execution_count": 39,
   "metadata": {
    "id": "WhCSooF8_Zcv"
   },
   "outputs": [
    {
     "data": {
      "text/plain": [
       "genre\n",
       "pop            5892\n",
       "dance          4435\n",
       "rock           3965\n",
       "electronic     3786\n",
       "hiphop         2096\n",
       "classical      1616\n",
       "world          1432\n",
       "alternative    1379\n",
       "ruspop         1372\n",
       "rusrap         1161\n",
       "Name: genre, dtype: int64"
      ]
     },
     "metadata": {},
     "output_type": "display_data"
    }
   ],
   "source": [
    "# просмотр первых 10 строк moscow_genres\n",
    "display(moscow_genres.head(10))"
   ]
  },
  {
   "cell_type": "markdown",
   "metadata": {
    "id": "cnPG2vnN_Zcv"
   },
   "source": [
    "Теперь повторите то же и для Петербурга.\n",
    "\n",
    "Сгруппируйте таблицу `spb_general` по жанру. Посчитайте прослушивания треков каждого жанра. Результат отсортируйте в порядке убывания и сохраните в таблице `spb_genres`:\n"
   ]
  },
  {
   "cell_type": "code",
   "execution_count": 40,
   "metadata": {
    "id": "gluLIpE7_Zcv"
   },
   "outputs": [],
   "source": [
    "# одной строкой: группировка таблицы spb_general по столбцу 'genre', \n",
    "# подсчёт числа значений 'genre' в этой группировке методом count(), \n",
    "# сортировка получившегося Series в порядке убывания и сохранение в spb_genres\n",
    "spb_genres = spb_general.groupby('genre')['genre'].count().sort_values(ascending=False)"
   ]
  },
  {
   "cell_type": "markdown",
   "metadata": {
    "id": "5Doha_ODgyQ8"
   },
   "source": [
    "Выведите на экран первые десять строк `spb_genres`:"
   ]
  },
  {
   "cell_type": "code",
   "execution_count": 41,
   "metadata": {
    "id": "uaGJHjVU_Zcv"
   },
   "outputs": [
    {
     "data": {
      "text/plain": [
       "genre\n",
       "pop            2431\n",
       "dance          1932\n",
       "rock           1879\n",
       "electronic     1736\n",
       "hiphop          960\n",
       "alternative     649\n",
       "classical       646\n",
       "rusrap          564\n",
       "ruspop          538\n",
       "world           515\n",
       "Name: genre, dtype: int64"
      ]
     },
     "metadata": {},
     "output_type": "display_data"
    }
   ],
   "source": [
    "# просмотр первых 10 строк spb_genres\n",
    "display(spb_genres.head(10))"
   ]
  },
  {
   "cell_type": "markdown",
   "metadata": {
    "id": "RY51YJYu_Zcv"
   },
   "source": [
    "**Выводы**"
   ]
  },
  {
   "cell_type": "markdown",
   "metadata": {
    "id": "nVhnJEm__Zcv"
   },
   "source": [
    "Гипотеза частично подтвердилась:\n",
    "* Поп-музыка — самый популярный жанр в Москве, как и предполагала гипотеза. Более того, в топ-10 жанров встречается близкий жанр — русская популярная музыка.\n",
    "* Вопреки ожиданиям, рэп одинаково популярен в Москве и Петербурге. \n"
   ]
  },
  {
   "cell_type": "markdown",
   "metadata": {
    "id": "ykKQ0N65_Zcv"
   },
   "source": [
    "## Итоги исследования"
   ]
  },
  {
   "cell_type": "markdown",
   "metadata": {
    "id": "tjUwbHb3_Zcv"
   },
   "source": [
    "Вы проверили три гипотезы и установили:\n",
    "\n",
    "1. День недели по-разному влияет на активность пользователей в Москве и Петербурге. \n",
    "\n",
    "Первая гипотеза полностью подтвердилась.\n",
    "\n",
    "2. Музыкальные предпочтения не сильно меняются в течение недели — будь то Москва или Петербург. Небольшие различия заметны в начале недели, по понедельникам:\n",
    "* в Москве слушают музыку жанра “world”,\n",
    "* в Петербурге — джаз и классику.\n",
    "\n",
    "Таким образом, вторая гипотеза подтвердилась лишь отчасти. Этот результат мог оказаться иным, если бы не пропуски в данных.\n",
    "\n",
    "3. Во вкусах пользователей Москвы и Петербурга больше общего чем различий. Вопреки ожиданиям, предпочтения жанров в Петербурге напоминают московские.\n",
    "\n",
    "Третья гипотеза не подтвердилась. Если различия в предпочтениях и существуют, на основной массе пользователей они незаметны.\n",
    "\n",
    "**На практике исследования содержат проверки статистических гипотез.**\n",
    "Из данных одного сервиса не всегда можно сделать вывод о всех жителях города.\n",
    "Проверки статистических гипотез покажут, насколько они достоверны, исходя из имеющихся данных. \n",
    "С методами проверок гипотез вы ещё познакомитесь в следующих темах."
   ]
  }
 ],
 "metadata": {
  "ExecuteTimeLog": [
   {
    "duration": 611,
    "start_time": "2022-01-20T20:05:10.681Z"
   },
   {
    "duration": 178,
    "start_time": "2022-01-20T20:06:06.273Z"
   },
   {
    "duration": 147,
    "start_time": "2022-01-20T20:06:14.121Z"
   },
   {
    "duration": 17,
    "start_time": "2022-01-20T20:06:34.866Z"
   },
   {
    "duration": 25,
    "start_time": "2022-01-20T20:06:51.193Z"
   },
   {
    "duration": 5,
    "start_time": "2022-01-20T20:11:07.425Z"
   },
   {
    "duration": 4,
    "start_time": "2022-01-20T20:11:13.320Z"
   },
   {
    "duration": 25,
    "start_time": "2022-01-20T20:13:06.944Z"
   },
   {
    "duration": 3,
    "start_time": "2022-01-20T20:13:14.017Z"
   },
   {
    "duration": 3,
    "start_time": "2022-01-20T20:13:26.022Z"
   },
   {
    "duration": 24,
    "start_time": "2022-01-20T20:14:27.535Z"
   },
   {
    "duration": 25,
    "start_time": "2022-01-20T20:14:35.547Z"
   },
   {
    "duration": 18,
    "start_time": "2022-01-20T20:17:40.416Z"
   },
   {
    "duration": 22,
    "start_time": "2022-01-20T20:17:46.343Z"
   },
   {
    "duration": 58,
    "start_time": "2022-01-20T20:18:50.874Z"
   },
   {
    "duration": 63,
    "start_time": "2022-01-20T20:19:45.868Z"
   },
   {
    "duration": 50,
    "start_time": "2022-01-20T20:19:54.485Z"
   },
   {
    "duration": 9,
    "start_time": "2022-01-20T20:21:09.505Z"
   },
   {
    "duration": 2,
    "start_time": "2022-01-20T20:23:04.507Z"
   },
   {
    "duration": 3,
    "start_time": "2022-01-20T20:25:12.294Z"
   },
   {
    "duration": 3,
    "start_time": "2022-01-20T20:25:18.356Z"
   },
   {
    "duration": 9,
    "start_time": "2022-01-20T20:26:09.282Z"
   },
   {
    "duration": 3,
    "start_time": "2022-01-20T20:26:21.637Z"
   },
   {
    "duration": 9,
    "start_time": "2022-01-20T20:26:28.772Z"
   },
   {
    "duration": 4,
    "start_time": "2022-01-20T21:10:34.378Z"
   },
   {
    "duration": 6,
    "start_time": "2022-01-20T21:11:59.884Z"
   },
   {
    "duration": 11,
    "start_time": "2022-01-20T21:13:18.641Z"
   },
   {
    "duration": 12,
    "start_time": "2022-01-20T21:14:13.900Z"
   },
   {
    "duration": 11,
    "start_time": "2022-01-20T21:14:42.781Z"
   },
   {
    "duration": 41,
    "start_time": "2022-01-20T21:15:10.927Z"
   },
   {
    "duration": 25,
    "start_time": "2022-01-20T21:15:31.370Z"
   },
   {
    "duration": 61,
    "start_time": "2022-01-20T21:18:13.283Z"
   },
   {
    "duration": 31,
    "start_time": "2022-01-20T21:18:33.208Z"
   },
   {
    "duration": 60,
    "start_time": "2022-01-20T21:19:32.717Z"
   },
   {
    "duration": 29,
    "start_time": "2022-01-20T21:20:09.246Z"
   },
   {
    "duration": 47,
    "start_time": "2022-01-20T21:24:58.379Z"
   },
   {
    "duration": 403,
    "start_time": "2022-01-20T21:25:25.484Z"
   },
   {
    "duration": 339,
    "start_time": "2022-01-20T21:27:02.477Z"
   },
   {
    "duration": 52,
    "start_time": "2022-01-20T21:27:18.747Z"
   },
   {
    "duration": 326,
    "start_time": "2022-01-20T21:27:41.254Z"
   },
   {
    "duration": 189,
    "start_time": "2022-01-20T21:34:55.533Z"
   },
   {
    "duration": 189,
    "start_time": "2022-01-20T21:35:12.182Z"
   },
   {
    "duration": 254,
    "start_time": "2022-01-20T21:35:31.119Z"
   },
   {
    "duration": 27,
    "start_time": "2022-01-20T21:35:44.995Z"
   },
   {
    "duration": 44,
    "start_time": "2022-01-20T21:39:25.319Z"
   },
   {
    "duration": 22,
    "start_time": "2022-01-20T21:39:38.514Z"
   },
   {
    "duration": 37,
    "start_time": "2022-01-20T21:39:57.851Z"
   },
   {
    "duration": 40,
    "start_time": "2022-01-20T21:40:47.633Z"
   },
   {
    "duration": 387,
    "start_time": "2022-01-20T21:41:31.986Z"
   },
   {
    "duration": 102,
    "start_time": "2022-01-20T21:41:58.923Z"
   },
   {
    "duration": 126,
    "start_time": "2022-01-20T21:42:19.850Z"
   },
   {
    "duration": 106,
    "start_time": "2022-01-20T21:42:27.271Z"
   },
   {
    "duration": 105,
    "start_time": "2022-01-20T21:42:37.540Z"
   },
   {
    "duration": 3685,
    "start_time": "2022-01-20T21:44:34.764Z"
   },
   {
    "duration": 106,
    "start_time": "2022-01-20T21:44:46.870Z"
   },
   {
    "duration": 15,
    "start_time": "2022-01-20T21:47:46.713Z"
   },
   {
    "duration": 11,
    "start_time": "2022-01-20T21:48:14.639Z"
   },
   {
    "duration": 4,
    "start_time": "2022-01-20T21:52:44.939Z"
   },
   {
    "duration": 18,
    "start_time": "2022-01-20T21:53:20.779Z"
   },
   {
    "duration": 45,
    "start_time": "2022-01-20T21:53:53.717Z"
   },
   {
    "duration": 17,
    "start_time": "2022-01-20T21:55:48.179Z"
   },
   {
    "duration": 15,
    "start_time": "2022-01-20T21:55:50.466Z"
   },
   {
    "duration": 14,
    "start_time": "2022-01-20T21:55:52.475Z"
   },
   {
    "duration": 15,
    "start_time": "2022-01-20T21:55:54.425Z"
   },
   {
    "duration": 17,
    "start_time": "2022-01-20T21:55:56.122Z"
   },
   {
    "duration": 14,
    "start_time": "2022-01-20T21:55:57.410Z"
   },
   {
    "duration": 8,
    "start_time": "2022-01-20T21:59:53.923Z"
   },
   {
    "duration": 11,
    "start_time": "2022-01-20T22:03:42.219Z"
   },
   {
    "duration": 14,
    "start_time": "2022-01-20T22:12:10.950Z"
   },
   {
    "duration": 10,
    "start_time": "2022-01-20T22:12:12.135Z"
   },
   {
    "duration": 234,
    "start_time": "2022-01-20T22:13:40.825Z"
   },
   {
    "duration": 195,
    "start_time": "2022-01-20T22:14:02.264Z"
   },
   {
    "duration": 191,
    "start_time": "2022-01-20T22:14:16.946Z"
   },
   {
    "duration": 19,
    "start_time": "2022-01-20T22:14:23.481Z"
   },
   {
    "duration": 28,
    "start_time": "2022-01-20T22:14:41.898Z"
   },
   {
    "duration": 19,
    "start_time": "2022-01-20T22:15:11.199Z"
   },
   {
    "duration": 17,
    "start_time": "2022-01-20T22:15:17.806Z"
   },
   {
    "duration": 28,
    "start_time": "2022-01-20T22:15:37.001Z"
   },
   {
    "duration": 21,
    "start_time": "2022-01-20T22:15:57.191Z"
   },
   {
    "duration": 25,
    "start_time": "2022-01-20T22:16:01.880Z"
   },
   {
    "duration": 26,
    "start_time": "2022-01-20T22:17:00.994Z"
   },
   {
    "duration": 25,
    "start_time": "2022-01-20T22:17:24.359Z"
   },
   {
    "duration": 376,
    "start_time": "2022-01-20T22:20:44.713Z"
   },
   {
    "duration": 516,
    "start_time": "2022-01-20T22:21:05.912Z"
   },
   {
    "duration": 4,
    "start_time": "2022-01-20T22:21:41.223Z"
   },
   {
    "duration": 398,
    "start_time": "2022-01-20T22:21:44.893Z"
   },
   {
    "duration": 5,
    "start_time": "2022-01-20T22:22:31.886Z"
   },
   {
    "duration": 4,
    "start_time": "2022-01-20T22:22:35.471Z"
   },
   {
    "duration": 20,
    "start_time": "2022-01-20T22:22:38.278Z"
   },
   {
    "duration": 5,
    "start_time": "2022-01-20T22:23:26.365Z"
   },
   {
    "duration": 17,
    "start_time": "2022-01-20T22:23:29.020Z"
   },
   {
    "duration": 3,
    "start_time": "2022-01-20T22:23:42.605Z"
   },
   {
    "duration": 12,
    "start_time": "2022-01-20T22:23:58.493Z"
   },
   {
    "duration": 11,
    "start_time": "2022-01-20T22:24:56.829Z"
   },
   {
    "duration": 10,
    "start_time": "2022-01-20T22:25:00.565Z"
   },
   {
    "duration": 19,
    "start_time": "2022-01-20T22:25:07.429Z"
   },
   {
    "duration": 11,
    "start_time": "2022-01-20T22:25:18.981Z"
   },
   {
    "duration": 57,
    "start_time": "2022-01-20T22:26:33.196Z"
   },
   {
    "duration": 19,
    "start_time": "2022-01-20T22:26:47.341Z"
   },
   {
    "duration": 14,
    "start_time": "2022-01-20T22:27:05.571Z"
   },
   {
    "duration": 16,
    "start_time": "2022-01-20T22:27:18.100Z"
   },
   {
    "duration": 12,
    "start_time": "2022-01-20T22:27:37.220Z"
   },
   {
    "duration": 38,
    "start_time": "2022-01-20T22:28:03.599Z"
   },
   {
    "duration": 18,
    "start_time": "2022-01-20T22:28:20.292Z"
   },
   {
    "duration": 35,
    "start_time": "2022-01-20T22:28:43.360Z"
   },
   {
    "duration": 5,
    "start_time": "2022-01-20T22:29:01.676Z"
   },
   {
    "duration": 16,
    "start_time": "2022-01-20T22:29:10.830Z"
   },
   {
    "duration": 19,
    "start_time": "2022-01-20T22:29:36.064Z"
   },
   {
    "duration": 13,
    "start_time": "2022-01-20T22:29:55.437Z"
   },
   {
    "duration": 2,
    "start_time": "2022-01-20T22:31:57.879Z"
   },
   {
    "duration": 177,
    "start_time": "2022-01-20T22:31:57.884Z"
   },
   {
    "duration": 11,
    "start_time": "2022-01-20T22:31:58.064Z"
   },
   {
    "duration": 55,
    "start_time": "2022-01-20T22:31:58.078Z"
   },
   {
    "duration": 7,
    "start_time": "2022-01-20T22:31:58.135Z"
   },
   {
    "duration": 44,
    "start_time": "2022-01-20T22:31:58.144Z"
   },
   {
    "duration": 10,
    "start_time": "2022-01-20T22:31:58.190Z"
   },
   {
    "duration": 40,
    "start_time": "2022-01-20T22:31:58.202Z"
   },
   {
    "duration": 32,
    "start_time": "2022-01-20T22:31:58.244Z"
   },
   {
    "duration": 24,
    "start_time": "2022-01-20T22:31:58.278Z"
   },
   {
    "duration": 69,
    "start_time": "2022-01-20T22:31:58.304Z"
   },
   {
    "duration": 75,
    "start_time": "2022-01-20T22:31:58.375Z"
   },
   {
    "duration": 57,
    "start_time": "2022-01-20T22:31:58.451Z"
   },
   {
    "duration": 9,
    "start_time": "2022-01-20T22:31:58.510Z"
   },
   {
    "duration": 2,
    "start_time": "2022-01-20T22:31:58.521Z"
   },
   {
    "duration": 13,
    "start_time": "2022-01-20T22:31:58.525Z"
   },
   {
    "duration": 8,
    "start_time": "2022-01-20T22:31:58.540Z"
   },
   {
    "duration": 47,
    "start_time": "2022-01-20T22:31:58.550Z"
   },
   {
    "duration": 11,
    "start_time": "2022-01-20T22:31:58.600Z"
   },
   {
    "duration": 3,
    "start_time": "2022-01-20T22:31:58.613Z"
   },
   {
    "duration": 22,
    "start_time": "2022-01-20T22:31:58.618Z"
   },
   {
    "duration": 25,
    "start_time": "2022-01-20T22:31:58.642Z"
   },
   {
    "duration": 39,
    "start_time": "2022-01-20T22:31:58.668Z"
   },
   {
    "duration": 16,
    "start_time": "2022-01-20T22:31:58.708Z"
   },
   {
    "duration": 23,
    "start_time": "2022-01-20T22:31:58.726Z"
   },
   {
    "duration": 49,
    "start_time": "2022-01-20T22:31:58.751Z"
   },
   {
    "duration": 11,
    "start_time": "2022-01-20T22:31:58.803Z"
   },
   {
    "duration": 13,
    "start_time": "2022-01-20T22:31:58.816Z"
   },
   {
    "duration": 9,
    "start_time": "2022-01-20T22:31:58.831Z"
   },
   {
    "duration": 15,
    "start_time": "2022-01-20T22:31:58.842Z"
   },
   {
    "duration": 28,
    "start_time": "2022-01-20T22:31:58.858Z"
   },
   {
    "duration": 15,
    "start_time": "2022-01-20T22:31:58.897Z"
   },
   {
    "duration": 19,
    "start_time": "2022-01-20T22:31:58.913Z"
   },
   {
    "duration": 14,
    "start_time": "2022-01-20T22:32:03.665Z"
   },
   {
    "duration": 198,
    "start_time": "2022-01-20T22:36:24.761Z"
   },
   {
    "duration": 13,
    "start_time": "2022-01-20T22:37:03.291Z"
   },
   {
    "duration": 5,
    "start_time": "2022-01-20T22:37:38.523Z"
   },
   {
    "duration": 9,
    "start_time": "2022-01-20T22:37:42.026Z"
   },
   {
    "duration": 5,
    "start_time": "2022-01-20T22:37:46.370Z"
   },
   {
    "duration": 8,
    "start_time": "2022-01-20T22:38:24.333Z"
   },
   {
    "duration": 5,
    "start_time": "2022-01-20T22:38:25.593Z"
   },
   {
    "duration": 3,
    "start_time": "2022-01-20T22:40:25.161Z"
   },
   {
    "duration": 164,
    "start_time": "2022-01-20T22:40:25.166Z"
   },
   {
    "duration": 11,
    "start_time": "2022-01-20T22:40:25.332Z"
   },
   {
    "duration": 34,
    "start_time": "2022-01-20T22:40:25.345Z"
   },
   {
    "duration": 16,
    "start_time": "2022-01-20T22:40:25.381Z"
   },
   {
    "duration": 30,
    "start_time": "2022-01-20T22:40:25.399Z"
   },
   {
    "duration": 3,
    "start_time": "2022-01-20T22:40:25.432Z"
   },
   {
    "duration": 25,
    "start_time": "2022-01-20T22:40:25.437Z"
   },
   {
    "duration": 41,
    "start_time": "2022-01-20T22:40:25.464Z"
   },
   {
    "duration": 23,
    "start_time": "2022-01-20T22:40:25.507Z"
   },
   {
    "duration": 67,
    "start_time": "2022-01-20T22:40:25.532Z"
   },
   {
    "duration": 63,
    "start_time": "2022-01-20T22:40:25.601Z"
   },
   {
    "duration": 86,
    "start_time": "2022-01-20T22:40:25.666Z"
   },
   {
    "duration": 9,
    "start_time": "2022-01-20T22:40:25.754Z"
   },
   {
    "duration": 3,
    "start_time": "2022-01-20T22:40:25.765Z"
   },
   {
    "duration": 28,
    "start_time": "2022-01-20T22:40:25.769Z"
   },
   {
    "duration": 11,
    "start_time": "2022-01-20T22:40:25.799Z"
   },
   {
    "duration": 15,
    "start_time": "2022-01-20T22:40:25.812Z"
   },
   {
    "duration": 11,
    "start_time": "2022-01-20T22:40:25.830Z"
   },
   {
    "duration": 3,
    "start_time": "2022-01-20T22:40:25.843Z"
   },
   {
    "duration": 50,
    "start_time": "2022-01-20T22:40:25.848Z"
   },
   {
    "duration": 15,
    "start_time": "2022-01-20T22:40:25.900Z"
   },
   {
    "duration": 15,
    "start_time": "2022-01-20T22:40:25.917Z"
   },
   {
    "duration": 14,
    "start_time": "2022-01-20T22:40:25.934Z"
   },
   {
    "duration": 53,
    "start_time": "2022-01-20T22:40:25.950Z"
   },
   {
    "duration": 18,
    "start_time": "2022-01-20T22:40:26.005Z"
   },
   {
    "duration": 9,
    "start_time": "2022-01-20T22:40:26.025Z"
   },
   {
    "duration": 19,
    "start_time": "2022-01-20T22:40:26.036Z"
   },
   {
    "duration": 13,
    "start_time": "2022-01-20T22:40:26.057Z"
   },
   {
    "duration": 3,
    "start_time": "2022-01-20T22:40:26.098Z"
   },
   {
    "duration": 29,
    "start_time": "2022-01-20T22:40:26.103Z"
   },
   {
    "duration": 16,
    "start_time": "2022-01-20T22:40:26.134Z"
   },
   {
    "duration": 23,
    "start_time": "2022-01-20T22:40:26.152Z"
   },
   {
    "duration": 31,
    "start_time": "2022-01-20T22:40:26.176Z"
   },
   {
    "duration": 9,
    "start_time": "2022-01-20T22:40:26.208Z"
   },
   {
    "duration": 4,
    "start_time": "2022-01-20T22:40:26.219Z"
   },
   {
    "duration": 7,
    "start_time": "2022-01-20T22:40:26.225Z"
   },
   {
    "duration": 6,
    "start_time": "2022-01-20T22:40:26.234Z"
   },
   {
    "duration": 190,
    "start_time": "2022-01-20T22:42:06.996Z"
   },
   {
    "duration": 627,
    "start_time": "2022-01-20T22:42:15.346Z"
   },
   {
    "duration": 4,
    "start_time": "2022-01-20T22:52:43.149Z"
   },
   {
    "duration": 19,
    "start_time": "2022-01-20T22:52:49.960Z"
   },
   {
    "duration": 17,
    "start_time": "2022-01-20T22:52:52.930Z"
   },
   {
    "duration": 3,
    "start_time": "2022-01-20T22:57:27.714Z"
   },
   {
    "duration": 157,
    "start_time": "2022-01-20T22:57:27.719Z"
   },
   {
    "duration": 25,
    "start_time": "2022-01-20T22:57:27.878Z"
   },
   {
    "duration": 28,
    "start_time": "2022-01-20T22:57:27.906Z"
   },
   {
    "duration": 4,
    "start_time": "2022-01-20T22:57:27.936Z"
   },
   {
    "duration": 22,
    "start_time": "2022-01-20T22:57:27.942Z"
   },
   {
    "duration": 4,
    "start_time": "2022-01-20T22:57:27.966Z"
   },
   {
    "duration": 29,
    "start_time": "2022-01-20T22:57:27.996Z"
   },
   {
    "duration": 20,
    "start_time": "2022-01-20T22:57:28.027Z"
   },
   {
    "duration": 58,
    "start_time": "2022-01-20T22:57:28.049Z"
   },
   {
    "duration": 62,
    "start_time": "2022-01-20T22:57:28.109Z"
   },
   {
    "duration": 98,
    "start_time": "2022-01-20T22:57:28.174Z"
   },
   {
    "duration": 58,
    "start_time": "2022-01-20T22:57:28.274Z"
   },
   {
    "duration": 9,
    "start_time": "2022-01-20T22:57:28.334Z"
   },
   {
    "duration": 12,
    "start_time": "2022-01-20T22:57:28.345Z"
   },
   {
    "duration": 43,
    "start_time": "2022-01-20T22:57:28.359Z"
   },
   {
    "duration": 24,
    "start_time": "2022-01-20T22:57:28.404Z"
   },
   {
    "duration": 24,
    "start_time": "2022-01-20T22:57:28.430Z"
   },
   {
    "duration": 18,
    "start_time": "2022-01-20T22:57:28.457Z"
   },
   {
    "duration": 8,
    "start_time": "2022-01-20T22:57:28.477Z"
   },
   {
    "duration": 53,
    "start_time": "2022-01-20T22:57:28.487Z"
   },
   {
    "duration": 22,
    "start_time": "2022-01-20T22:57:28.542Z"
   },
   {
    "duration": 34,
    "start_time": "2022-01-20T22:57:28.565Z"
   },
   {
    "duration": 16,
    "start_time": "2022-01-20T22:57:28.601Z"
   },
   {
    "duration": 16,
    "start_time": "2022-01-20T22:57:28.619Z"
   },
   {
    "duration": 16,
    "start_time": "2022-01-20T22:57:28.637Z"
   },
   {
    "duration": 8,
    "start_time": "2022-01-20T22:57:28.655Z"
   },
   {
    "duration": 43,
    "start_time": "2022-01-20T22:57:28.664Z"
   },
   {
    "duration": 13,
    "start_time": "2022-01-20T22:57:28.709Z"
   },
   {
    "duration": 4,
    "start_time": "2022-01-20T22:57:28.724Z"
   },
   {
    "duration": 22,
    "start_time": "2022-01-20T22:57:28.729Z"
   },
   {
    "duration": 12,
    "start_time": "2022-01-20T22:57:28.752Z"
   },
   {
    "duration": 39,
    "start_time": "2022-01-20T22:57:28.766Z"
   },
   {
    "duration": 17,
    "start_time": "2022-01-20T22:57:28.807Z"
   },
   {
    "duration": 11,
    "start_time": "2022-01-20T22:57:28.826Z"
   },
   {
    "duration": 5,
    "start_time": "2022-01-20T22:57:28.840Z"
   },
   {
    "duration": 8,
    "start_time": "2022-01-20T22:57:28.846Z"
   },
   {
    "duration": 42,
    "start_time": "2022-01-20T22:57:28.855Z"
   },
   {
    "duration": 22,
    "start_time": "2022-01-20T23:01:19.798Z"
   },
   {
    "duration": 58,
    "start_time": "2022-01-20T23:19:18.949Z"
   },
   {
    "duration": 29,
    "start_time": "2022-01-20T23:20:51.244Z"
   },
   {
    "duration": 3,
    "start_time": "2022-01-20T23:23:30.625Z"
   },
   {
    "duration": 200,
    "start_time": "2022-01-20T23:23:30.630Z"
   },
   {
    "duration": 11,
    "start_time": "2022-01-20T23:23:30.832Z"
   },
   {
    "duration": 43,
    "start_time": "2022-01-20T23:23:30.845Z"
   },
   {
    "duration": 17,
    "start_time": "2022-01-20T23:23:30.897Z"
   },
   {
    "duration": 32,
    "start_time": "2022-01-20T23:23:30.916Z"
   },
   {
    "duration": 9,
    "start_time": "2022-01-20T23:23:30.951Z"
   },
   {
    "duration": 62,
    "start_time": "2022-01-20T23:23:30.962Z"
   },
   {
    "duration": 55,
    "start_time": "2022-01-20T23:23:31.026Z"
   },
   {
    "duration": 52,
    "start_time": "2022-01-20T23:23:31.083Z"
   },
   {
    "duration": 87,
    "start_time": "2022-01-20T23:23:31.137Z"
   },
   {
    "duration": 87,
    "start_time": "2022-01-20T23:23:31.226Z"
   },
   {
    "duration": 57,
    "start_time": "2022-01-20T23:23:31.315Z"
   },
   {
    "duration": 27,
    "start_time": "2022-01-20T23:23:31.374Z"
   },
   {
    "duration": 4,
    "start_time": "2022-01-20T23:23:31.403Z"
   },
   {
    "duration": 48,
    "start_time": "2022-01-20T23:23:31.409Z"
   },
   {
    "duration": 20,
    "start_time": "2022-01-20T23:23:31.459Z"
   },
   {
    "duration": 28,
    "start_time": "2022-01-20T23:23:31.481Z"
   },
   {
    "duration": 33,
    "start_time": "2022-01-20T23:23:31.513Z"
   },
   {
    "duration": 12,
    "start_time": "2022-01-20T23:23:31.549Z"
   },
   {
    "duration": 51,
    "start_time": "2022-01-20T23:23:31.563Z"
   },
   {
    "duration": 43,
    "start_time": "2022-01-20T23:23:31.616Z"
   },
   {
    "duration": 26,
    "start_time": "2022-01-20T23:23:31.662Z"
   },
   {
    "duration": 20,
    "start_time": "2022-01-20T23:23:31.690Z"
   },
   {
    "duration": 38,
    "start_time": "2022-01-20T23:23:31.713Z"
   },
   {
    "duration": 17,
    "start_time": "2022-01-20T23:23:31.754Z"
   },
   {
    "duration": 41,
    "start_time": "2022-01-20T23:23:31.773Z"
   },
   {
    "duration": 12,
    "start_time": "2022-01-20T23:23:31.815Z"
   },
   {
    "duration": 45,
    "start_time": "2022-01-20T23:23:31.829Z"
   },
   {
    "duration": 30,
    "start_time": "2022-01-20T23:23:31.876Z"
   },
   {
    "duration": 14,
    "start_time": "2022-01-20T23:23:31.907Z"
   },
   {
    "duration": 19,
    "start_time": "2022-01-20T23:23:31.922Z"
   },
   {
    "duration": 55,
    "start_time": "2022-01-20T23:23:31.943Z"
   },
   {
    "duration": 39,
    "start_time": "2022-01-20T23:23:32.001Z"
   },
   {
    "duration": 19,
    "start_time": "2022-01-20T23:23:32.042Z"
   },
   {
    "duration": 13,
    "start_time": "2022-01-20T23:23:32.063Z"
   },
   {
    "duration": 20,
    "start_time": "2022-01-20T23:23:32.077Z"
   },
   {
    "duration": 5,
    "start_time": "2022-01-20T23:23:32.099Z"
   },
   {
    "duration": 9,
    "start_time": "2022-01-20T23:23:32.105Z"
   },
   {
    "duration": 12,
    "start_time": "2022-01-20T23:23:32.116Z"
   },
   {
    "duration": 310,
    "start_time": "2022-01-21T08:55:39.007Z"
   },
   {
    "duration": 616,
    "start_time": "2022-01-21T08:55:53.549Z"
   },
   {
    "duration": 133,
    "start_time": "2022-01-21T08:55:54.167Z"
   },
   {
    "duration": 17,
    "start_time": "2022-01-21T08:55:54.302Z"
   },
   {
    "duration": 24,
    "start_time": "2022-01-21T08:55:54.320Z"
   },
   {
    "duration": 3,
    "start_time": "2022-01-21T08:55:54.346Z"
   },
   {
    "duration": 25,
    "start_time": "2022-01-21T08:55:54.350Z"
   },
   {
    "duration": 21,
    "start_time": "2022-01-21T08:55:54.377Z"
   },
   {
    "duration": 22,
    "start_time": "2022-01-21T08:55:54.402Z"
   },
   {
    "duration": 16,
    "start_time": "2022-01-21T08:55:54.427Z"
   },
   {
    "duration": 22,
    "start_time": "2022-01-21T08:55:54.445Z"
   },
   {
    "duration": 81,
    "start_time": "2022-01-21T08:55:54.469Z"
   },
   {
    "duration": 72,
    "start_time": "2022-01-21T08:55:54.552Z"
   },
   {
    "duration": 50,
    "start_time": "2022-01-21T08:55:54.625Z"
   },
   {
    "duration": 22,
    "start_time": "2022-01-21T08:55:54.677Z"
   },
   {
    "duration": 3,
    "start_time": "2022-01-21T08:55:54.701Z"
   },
   {
    "duration": 14,
    "start_time": "2022-01-21T08:55:54.706Z"
   },
   {
    "duration": 9,
    "start_time": "2022-01-21T08:55:54.722Z"
   },
   {
    "duration": 15,
    "start_time": "2022-01-21T08:55:54.732Z"
   },
   {
    "duration": 10,
    "start_time": "2022-01-21T08:55:54.748Z"
   },
   {
    "duration": 4,
    "start_time": "2022-01-21T08:55:54.759Z"
   },
   {
    "duration": 46,
    "start_time": "2022-01-21T08:55:54.764Z"
   },
   {
    "duration": 13,
    "start_time": "2022-01-21T08:55:54.811Z"
   },
   {
    "duration": 12,
    "start_time": "2022-01-21T08:55:54.828Z"
   },
   {
    "duration": 12,
    "start_time": "2022-01-21T08:55:54.842Z"
   },
   {
    "duration": 50,
    "start_time": "2022-01-21T08:55:54.855Z"
   },
   {
    "duration": 14,
    "start_time": "2022-01-21T08:55:54.907Z"
   },
   {
    "duration": 19,
    "start_time": "2022-01-21T08:55:54.923Z"
   },
   {
    "duration": 7,
    "start_time": "2022-01-21T08:55:54.944Z"
   },
   {
    "duration": 57,
    "start_time": "2022-01-21T08:55:54.952Z"
   },
   {
    "duration": 11,
    "start_time": "2022-01-21T08:55:55.011Z"
   },
   {
    "duration": 9,
    "start_time": "2022-01-21T08:55:55.024Z"
   },
   {
    "duration": 7,
    "start_time": "2022-01-21T08:55:55.034Z"
   },
   {
    "duration": 27,
    "start_time": "2022-01-21T08:55:55.043Z"
   },
   {
    "duration": 27,
    "start_time": "2022-01-21T08:55:55.072Z"
   },
   {
    "duration": 17,
    "start_time": "2022-01-21T08:55:55.100Z"
   },
   {
    "duration": 12,
    "start_time": "2022-01-21T08:55:55.118Z"
   },
   {
    "duration": 8,
    "start_time": "2022-01-21T08:55:55.132Z"
   },
   {
    "duration": 4,
    "start_time": "2022-01-21T08:55:55.141Z"
   },
   {
    "duration": 11,
    "start_time": "2022-01-21T08:55:55.146Z"
   },
   {
    "duration": 14,
    "start_time": "2022-01-21T08:55:55.158Z"
   },
   {
    "duration": 3,
    "start_time": "2022-01-21T09:03:20.672Z"
   },
   {
    "duration": 156,
    "start_time": "2022-01-21T09:03:20.677Z"
   },
   {
    "duration": 10,
    "start_time": "2022-01-21T09:03:20.835Z"
   },
   {
    "duration": 25,
    "start_time": "2022-01-21T09:03:20.847Z"
   },
   {
    "duration": 26,
    "start_time": "2022-01-21T09:03:20.874Z"
   },
   {
    "duration": 18,
    "start_time": "2022-01-21T09:03:20.902Z"
   },
   {
    "duration": 3,
    "start_time": "2022-01-21T09:03:20.923Z"
   },
   {
    "duration": 24,
    "start_time": "2022-01-21T09:03:20.928Z"
   },
   {
    "duration": 17,
    "start_time": "2022-01-21T09:03:20.954Z"
   },
   {
    "duration": 23,
    "start_time": "2022-01-21T09:03:20.998Z"
   },
   {
    "duration": 55,
    "start_time": "2022-01-21T09:03:21.023Z"
   },
   {
    "duration": 74,
    "start_time": "2022-01-21T09:03:21.080Z"
   },
   {
    "duration": 57,
    "start_time": "2022-01-21T09:03:21.156Z"
   },
   {
    "duration": 10,
    "start_time": "2022-01-21T09:03:21.215Z"
   },
   {
    "duration": 3,
    "start_time": "2022-01-21T09:03:21.227Z"
   },
   {
    "duration": 12,
    "start_time": "2022-01-21T09:03:21.231Z"
   },
   {
    "duration": 10,
    "start_time": "2022-01-21T09:03:21.245Z"
   },
   {
    "duration": 48,
    "start_time": "2022-01-21T09:03:21.257Z"
   },
   {
    "duration": 10,
    "start_time": "2022-01-21T09:03:21.309Z"
   },
   {
    "duration": 3,
    "start_time": "2022-01-21T09:03:21.322Z"
   },
   {
    "duration": 21,
    "start_time": "2022-01-21T09:03:21.327Z"
   },
   {
    "duration": 13,
    "start_time": "2022-01-21T09:03:21.350Z"
   },
   {
    "duration": 40,
    "start_time": "2022-01-21T09:03:21.365Z"
   },
   {
    "duration": 17,
    "start_time": "2022-01-21T09:03:21.407Z"
   },
   {
    "duration": 16,
    "start_time": "2022-01-21T09:03:21.426Z"
   },
   {
    "duration": 14,
    "start_time": "2022-01-21T09:03:21.444Z"
   },
   {
    "duration": 55,
    "start_time": "2022-01-21T09:03:21.460Z"
   },
   {
    "duration": 7,
    "start_time": "2022-01-21T09:03:21.517Z"
   },
   {
    "duration": 31,
    "start_time": "2022-01-21T09:03:21.526Z"
   },
   {
    "duration": 12,
    "start_time": "2022-01-21T09:03:21.559Z"
   },
   {
    "duration": 33,
    "start_time": "2022-01-21T09:03:21.573Z"
   },
   {
    "duration": 3,
    "start_time": "2022-01-21T09:03:21.608Z"
   },
   {
    "duration": 22,
    "start_time": "2022-01-21T09:03:21.613Z"
   },
   {
    "duration": 12,
    "start_time": "2022-01-21T09:03:21.637Z"
   },
   {
    "duration": 17,
    "start_time": "2022-01-21T09:03:21.651Z"
   },
   {
    "duration": 38,
    "start_time": "2022-01-21T09:03:21.670Z"
   },
   {
    "duration": 8,
    "start_time": "2022-01-21T09:03:21.710Z"
   },
   {
    "duration": 6,
    "start_time": "2022-01-21T09:03:21.720Z"
   },
   {
    "duration": 8,
    "start_time": "2022-01-21T09:03:21.727Z"
   },
   {
    "duration": 7,
    "start_time": "2022-01-21T09:03:21.737Z"
   },
   {
    "duration": 807,
    "start_time": "2022-01-21T17:32:36.506Z"
   },
   {
    "duration": 163,
    "start_time": "2022-01-21T17:32:37.316Z"
   },
   {
    "duration": 25,
    "start_time": "2022-01-21T17:32:37.482Z"
   },
   {
    "duration": 32,
    "start_time": "2022-01-21T17:32:37.523Z"
   },
   {
    "duration": 4,
    "start_time": "2022-01-21T17:32:37.557Z"
   },
   {
    "duration": 59,
    "start_time": "2022-01-21T17:32:37.564Z"
   },
   {
    "duration": 4,
    "start_time": "2022-01-21T17:32:37.626Z"
   },
   {
    "duration": 27,
    "start_time": "2022-01-21T17:32:37.634Z"
   },
   {
    "duration": 22,
    "start_time": "2022-01-21T17:32:37.664Z"
   },
   {
    "duration": 28,
    "start_time": "2022-01-21T17:32:37.724Z"
   },
   {
    "duration": 89,
    "start_time": "2022-01-21T17:32:37.755Z"
   },
   {
    "duration": 108,
    "start_time": "2022-01-21T17:32:37.846Z"
   },
   {
    "duration": 74,
    "start_time": "2022-01-21T17:32:37.957Z"
   },
   {
    "duration": 13,
    "start_time": "2022-01-21T17:32:38.033Z"
   },
   {
    "duration": 4,
    "start_time": "2022-01-21T17:32:38.049Z"
   },
   {
    "duration": 19,
    "start_time": "2022-01-21T17:32:38.055Z"
   },
   {
    "duration": 14,
    "start_time": "2022-01-21T17:32:38.076Z"
   },
   {
    "duration": 20,
    "start_time": "2022-01-21T17:32:38.125Z"
   },
   {
    "duration": 14,
    "start_time": "2022-01-21T17:32:38.147Z"
   },
   {
    "duration": 4,
    "start_time": "2022-01-21T17:32:38.164Z"
   },
   {
    "duration": 60,
    "start_time": "2022-01-21T17:32:38.171Z"
   },
   {
    "duration": 18,
    "start_time": "2022-01-21T17:32:38.233Z"
   },
   {
    "duration": 18,
    "start_time": "2022-01-21T17:32:38.256Z"
   },
   {
    "duration": 55,
    "start_time": "2022-01-21T17:32:38.277Z"
   },
   {
    "duration": 20,
    "start_time": "2022-01-21T17:32:38.335Z"
   },
   {
    "duration": 19,
    "start_time": "2022-01-21T17:32:38.357Z"
   },
   {
    "duration": 62,
    "start_time": "2022-01-21T17:32:38.379Z"
   },
   {
    "duration": 12,
    "start_time": "2022-01-21T17:32:38.444Z"
   },
   {
    "duration": 69,
    "start_time": "2022-01-21T17:32:38.459Z"
   },
   {
    "duration": 17,
    "start_time": "2022-01-21T17:32:38.531Z"
   },
   {
    "duration": 13,
    "start_time": "2022-01-21T17:32:38.550Z"
   },
   {
    "duration": 5,
    "start_time": "2022-01-21T17:32:38.566Z"
   },
   {
    "duration": 71,
    "start_time": "2022-01-21T17:32:38.574Z"
   },
   {
    "duration": 23,
    "start_time": "2022-01-21T17:32:38.648Z"
   },
   {
    "duration": 58,
    "start_time": "2022-01-21T17:32:38.674Z"
   },
   {
    "duration": 27,
    "start_time": "2022-01-21T17:32:38.735Z"
   },
   {
    "duration": 16,
    "start_time": "2022-01-21T17:32:38.765Z"
   },
   {
    "duration": 6,
    "start_time": "2022-01-21T17:32:38.784Z"
   },
   {
    "duration": 8,
    "start_time": "2022-01-21T17:32:38.824Z"
   },
   {
    "duration": 6,
    "start_time": "2022-01-21T17:32:38.834Z"
   },
   {
    "duration": 304,
    "start_time": "2022-01-24T07:58:28.480Z"
   },
   {
    "duration": 652,
    "start_time": "2022-01-24T07:58:41.602Z"
   },
   {
    "duration": 133,
    "start_time": "2022-01-24T07:58:42.256Z"
   },
   {
    "duration": 16,
    "start_time": "2022-01-24T07:58:44.988Z"
   },
   {
    "duration": 97,
    "start_time": "2022-01-24T08:17:47.470Z"
   },
   {
    "duration": 2,
    "start_time": "2022-01-24T08:18:37.189Z"
   },
   {
    "duration": 147,
    "start_time": "2022-01-24T08:18:37.193Z"
   },
   {
    "duration": 11,
    "start_time": "2022-01-24T08:18:37.341Z"
   },
   {
    "duration": 44,
    "start_time": "2022-01-24T08:18:37.355Z"
   },
   {
    "duration": 3,
    "start_time": "2022-01-24T08:18:37.401Z"
   },
   {
    "duration": 25,
    "start_time": "2022-01-24T08:18:37.407Z"
   },
   {
    "duration": 5,
    "start_time": "2022-01-24T08:18:37.435Z"
   },
   {
    "duration": 24,
    "start_time": "2022-01-24T08:18:37.443Z"
   },
   {
    "duration": 44,
    "start_time": "2022-01-24T08:18:37.469Z"
   },
   {
    "duration": 22,
    "start_time": "2022-01-24T08:18:37.515Z"
   },
   {
    "duration": 77,
    "start_time": "2022-01-24T08:18:37.539Z"
   },
   {
    "duration": 76,
    "start_time": "2022-01-24T08:18:37.617Z"
   },
   {
    "duration": 52,
    "start_time": "2022-01-24T08:18:37.698Z"
   },
   {
    "duration": 11,
    "start_time": "2022-01-24T08:18:37.752Z"
   },
   {
    "duration": 3,
    "start_time": "2022-01-24T08:18:37.765Z"
   },
   {
    "duration": 35,
    "start_time": "2022-01-24T08:18:37.770Z"
   },
   {
    "duration": 9,
    "start_time": "2022-01-24T08:18:37.807Z"
   },
   {
    "duration": 15,
    "start_time": "2022-01-24T08:18:37.818Z"
   },
   {
    "duration": 11,
    "start_time": "2022-01-24T08:18:37.836Z"
   },
   {
    "duration": 3,
    "start_time": "2022-01-24T08:18:37.849Z"
   },
   {
    "duration": 52,
    "start_time": "2022-01-24T08:18:37.854Z"
   },
   {
    "duration": 14,
    "start_time": "2022-01-24T08:18:37.908Z"
   },
   {
    "duration": 29,
    "start_time": "2022-01-24T08:18:37.924Z"
   },
   {
    "duration": 23,
    "start_time": "2022-01-24T08:18:37.955Z"
   },
   {
    "duration": 20,
    "start_time": "2022-01-24T08:18:37.979Z"
   },
   {
    "duration": 13,
    "start_time": "2022-01-24T08:18:38.001Z"
   },
   {
    "duration": 30,
    "start_time": "2022-01-24T08:18:38.016Z"
   },
   {
    "duration": 7,
    "start_time": "2022-01-24T08:18:38.048Z"
   },
   {
    "duration": 45,
    "start_time": "2022-01-24T08:18:38.057Z"
   },
   {
    "duration": 10,
    "start_time": "2022-01-24T08:18:38.103Z"
   },
   {
    "duration": 21,
    "start_time": "2022-01-24T08:18:38.115Z"
   },
   {
    "duration": 15,
    "start_time": "2022-01-24T08:18:38.137Z"
   },
   {
    "duration": 107,
    "start_time": "2022-01-24T08:18:38.154Z"
   },
   {
    "duration": 17,
    "start_time": "2022-01-24T08:18:38.262Z"
   },
   {
    "duration": 23,
    "start_time": "2022-01-24T08:18:38.280Z"
   },
   {
    "duration": 17,
    "start_time": "2022-01-24T08:18:38.304Z"
   },
   {
    "duration": 12,
    "start_time": "2022-01-24T08:18:38.323Z"
   },
   {
    "duration": 7,
    "start_time": "2022-01-24T08:18:38.337Z"
   },
   {
    "duration": 4,
    "start_time": "2022-01-24T08:18:38.346Z"
   },
   {
    "duration": 9,
    "start_time": "2022-01-24T08:18:38.351Z"
   },
   {
    "duration": 38,
    "start_time": "2022-01-24T08:18:38.362Z"
   },
   {
    "duration": 582,
    "start_time": "2022-01-24T09:18:43.998Z"
   },
   {
    "duration": 149,
    "start_time": "2022-01-24T09:18:44.582Z"
   },
   {
    "duration": 16,
    "start_time": "2022-01-24T09:18:44.733Z"
   },
   {
    "duration": 26,
    "start_time": "2022-01-24T09:18:44.751Z"
   },
   {
    "duration": 18,
    "start_time": "2022-01-24T09:18:44.779Z"
   },
   {
    "duration": 24,
    "start_time": "2022-01-24T09:18:44.799Z"
   },
   {
    "duration": 7,
    "start_time": "2022-01-24T09:18:44.825Z"
   },
   {
    "duration": 25,
    "start_time": "2022-01-24T09:18:44.835Z"
   },
   {
    "duration": 39,
    "start_time": "2022-01-24T09:18:44.862Z"
   },
   {
    "duration": 22,
    "start_time": "2022-01-24T09:18:44.903Z"
   },
   {
    "duration": 74,
    "start_time": "2022-01-24T09:18:44.926Z"
   },
   {
    "duration": 72,
    "start_time": "2022-01-24T09:18:45.002Z"
   },
   {
    "duration": 66,
    "start_time": "2022-01-24T09:18:45.076Z"
   },
   {
    "duration": 9,
    "start_time": "2022-01-24T09:18:45.144Z"
   },
   {
    "duration": 3,
    "start_time": "2022-01-24T09:18:45.155Z"
   },
   {
    "duration": 13,
    "start_time": "2022-01-24T09:18:45.159Z"
   },
   {
    "duration": 10,
    "start_time": "2022-01-24T09:18:45.196Z"
   },
   {
    "duration": 15,
    "start_time": "2022-01-24T09:18:45.208Z"
   },
   {
    "duration": 11,
    "start_time": "2022-01-24T09:18:45.225Z"
   },
   {
    "duration": 4,
    "start_time": "2022-01-24T09:18:45.238Z"
   },
   {
    "duration": 55,
    "start_time": "2022-01-24T09:18:45.243Z"
   },
   {
    "duration": 17,
    "start_time": "2022-01-24T09:18:45.300Z"
   },
   {
    "duration": 16,
    "start_time": "2022-01-24T09:18:45.320Z"
   },
   {
    "duration": 15,
    "start_time": "2022-01-24T09:18:45.338Z"
   },
   {
    "duration": 52,
    "start_time": "2022-01-24T09:18:45.355Z"
   },
   {
    "duration": 18,
    "start_time": "2022-01-24T09:18:45.409Z"
   },
   {
    "duration": 28,
    "start_time": "2022-01-24T09:18:45.429Z"
   },
   {
    "duration": 8,
    "start_time": "2022-01-24T09:18:45.459Z"
   },
   {
    "duration": 32,
    "start_time": "2022-01-24T09:18:45.498Z"
   },
   {
    "duration": 12,
    "start_time": "2022-01-24T09:18:45.532Z"
   },
   {
    "duration": 9,
    "start_time": "2022-01-24T09:18:45.546Z"
   },
   {
    "duration": 5,
    "start_time": "2022-01-24T09:18:45.557Z"
   },
   {
    "duration": 133,
    "start_time": "2022-01-24T09:18:45.564Z"
   },
   {
    "duration": 19,
    "start_time": "2022-01-24T09:18:45.699Z"
   },
   {
    "duration": 13,
    "start_time": "2022-01-24T09:18:45.720Z"
   },
   {
    "duration": 20,
    "start_time": "2022-01-24T09:18:45.735Z"
   },
   {
    "duration": 42,
    "start_time": "2022-01-24T09:18:45.757Z"
   },
   {
    "duration": 9,
    "start_time": "2022-01-24T09:18:45.800Z"
   },
   {
    "duration": 9,
    "start_time": "2022-01-24T09:18:45.810Z"
   },
   {
    "duration": 9,
    "start_time": "2022-01-24T09:18:45.820Z"
   },
   {
    "duration": 5,
    "start_time": "2022-01-24T09:18:45.830Z"
   }
  ],
  "colab": {
   "collapsed_sections": [
    "E0vqbgi9ay0H",
    "VUC88oWjTJw2"
   ],
   "name": "yandex_music_project_2021.2.ipynb",
   "provenance": []
  },
  "kernelspec": {
   "display_name": "Python 3 (ipykernel)",
   "language": "python",
   "name": "python3"
  },
  "language_info": {
   "codemirror_mode": {
    "name": "ipython",
    "version": 3
   },
   "file_extension": ".py",
   "mimetype": "text/x-python",
   "name": "python",
   "nbconvert_exporter": "python",
   "pygments_lexer": "ipython3",
   "version": "3.9.7"
  },
  "toc": {
   "base_numbering": 1,
   "nav_menu": {},
   "number_sections": true,
   "sideBar": true,
   "skip_h1_title": true,
   "title_cell": "Table of Contents",
   "title_sidebar": "Contents",
   "toc_cell": false,
   "toc_position": {},
   "toc_section_display": true,
   "toc_window_display": true
  }
 },
 "nbformat": 4,
 "nbformat_minor": 1
}
