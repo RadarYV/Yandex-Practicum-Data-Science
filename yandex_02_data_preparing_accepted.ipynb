{
 "cells": [
  {
   "cell_type": "markdown",
   "id": "64ae309d",
   "metadata": {},
   "source": [
    "# Исследование надежности заемщиков."
   ]
  },
  {
   "cell_type": "markdown",
   "id": "b5b0df9f",
   "metadata": {},
   "source": [
    "\n",
    "<h2><strong>Описание проекта</strong></h2>\n",
    "<div class=\"paragraph\">Заказчик — кредитный отдел банка. Нужно разобраться, влияет ли семейное положение и количество детей клиента на факт погашения кредита в срок. Входные данные от банка — статистика о платёжеспособности клиентов.</div>\n",
    "<div class=\"paragraph\">Результаты исследования будут учтены при построении модели&nbsp;<em>кредитного скоринга</em>&nbsp;— специальной системы, которая оценивает способность потенциального заёмщика вернуть кредит банку.</div>\n",
    "\n",
    "<h2><strong>Описание данных</strong></h2>\n",
    "<ul><li><code class=\"code-inline code-inline_theme_light\">children</code> —&nbsp;количество детей в семье</li><li><code class=\"code-inline code-inline_theme_light\">days_employed</code>&nbsp;— общий трудовой стаж в днях</li><li><code class=\"code-inline code-inline_theme_light\">dob_years</code>&nbsp;— возраст клиента в годах</li><li><code class=\"code-inline code-inline_theme_light\">education</code>&nbsp;— уровень образования клиента</li><li><code class=\"code-inline code-inline_theme_light\">education_id</code>&nbsp;— идентификатор уровня образования</li><li><code class=\"code-inline code-inline_theme_light\">family_status</code>&nbsp;— семейное положение</li><li><code class=\"code-inline code-inline_theme_light\">family_status_id</code>&nbsp;— идентификатор семейного положения</li><li><code class=\"code-inline code-inline_theme_light\">gender</code>&nbsp;— пол клиента</li><li><code class=\"code-inline code-inline_theme_light\">income_type</code>&nbsp;— тип занятости</li><li><code class=\"code-inline code-inline_theme_light\">debt</code>&nbsp;— имел ли задолженность по возврату кредитов</li><li><code class=\"code-inline code-inline_theme_light\">total_income</code>&nbsp;— ежемесячный доход</li><li><code class=\"code-inline code-inline_theme_light\">purpose</code>&nbsp;— цель получения кредита</li></ul>"
   ]
  },
  {
   "cell_type": "markdown",
   "id": "01dd2c39",
   "metadata": {},
   "source": [
    "### Шаг 1. Обзор данных"
   ]
  },
  {
   "cell_type": "markdown",
   "id": "a08e89b2",
   "metadata": {},
   "source": [
    "Импортируем данные, просматриваем первые 10 строк и общую информацию о датафрейме"
   ]
  },
  {
   "cell_type": "code",
   "execution_count": 1,
   "id": "8fa98af4",
   "metadata": {
    "scrolled": false
   },
   "outputs": [
    {
     "data": {
      "text/html": [
       "<div>\n",
       "<style scoped>\n",
       "    .dataframe tbody tr th:only-of-type {\n",
       "        vertical-align: middle;\n",
       "    }\n",
       "\n",
       "    .dataframe tbody tr th {\n",
       "        vertical-align: top;\n",
       "    }\n",
       "\n",
       "    .dataframe thead th {\n",
       "        text-align: right;\n",
       "    }\n",
       "</style>\n",
       "<table border=\"1\" class=\"dataframe\">\n",
       "  <thead>\n",
       "    <tr style=\"text-align: right;\">\n",
       "      <th></th>\n",
       "      <th>children</th>\n",
       "      <th>days_employed</th>\n",
       "      <th>dob_years</th>\n",
       "      <th>education</th>\n",
       "      <th>education_id</th>\n",
       "      <th>family_status</th>\n",
       "      <th>family_status_id</th>\n",
       "      <th>gender</th>\n",
       "      <th>income_type</th>\n",
       "      <th>debt</th>\n",
       "      <th>total_income</th>\n",
       "      <th>purpose</th>\n",
       "    </tr>\n",
       "  </thead>\n",
       "  <tbody>\n",
       "    <tr>\n",
       "      <th>0</th>\n",
       "      <td>1</td>\n",
       "      <td>-8437.673028</td>\n",
       "      <td>42</td>\n",
       "      <td>высшее</td>\n",
       "      <td>0</td>\n",
       "      <td>женат / замужем</td>\n",
       "      <td>0</td>\n",
       "      <td>F</td>\n",
       "      <td>сотрудник</td>\n",
       "      <td>0</td>\n",
       "      <td>253875.639453</td>\n",
       "      <td>покупка жилья</td>\n",
       "    </tr>\n",
       "    <tr>\n",
       "      <th>1</th>\n",
       "      <td>1</td>\n",
       "      <td>-4024.803754</td>\n",
       "      <td>36</td>\n",
       "      <td>среднее</td>\n",
       "      <td>1</td>\n",
       "      <td>женат / замужем</td>\n",
       "      <td>0</td>\n",
       "      <td>F</td>\n",
       "      <td>сотрудник</td>\n",
       "      <td>0</td>\n",
       "      <td>112080.014102</td>\n",
       "      <td>приобретение автомобиля</td>\n",
       "    </tr>\n",
       "    <tr>\n",
       "      <th>2</th>\n",
       "      <td>0</td>\n",
       "      <td>-5623.422610</td>\n",
       "      <td>33</td>\n",
       "      <td>Среднее</td>\n",
       "      <td>1</td>\n",
       "      <td>женат / замужем</td>\n",
       "      <td>0</td>\n",
       "      <td>M</td>\n",
       "      <td>сотрудник</td>\n",
       "      <td>0</td>\n",
       "      <td>145885.952297</td>\n",
       "      <td>покупка жилья</td>\n",
       "    </tr>\n",
       "    <tr>\n",
       "      <th>3</th>\n",
       "      <td>3</td>\n",
       "      <td>-4124.747207</td>\n",
       "      <td>32</td>\n",
       "      <td>среднее</td>\n",
       "      <td>1</td>\n",
       "      <td>женат / замужем</td>\n",
       "      <td>0</td>\n",
       "      <td>M</td>\n",
       "      <td>сотрудник</td>\n",
       "      <td>0</td>\n",
       "      <td>267628.550329</td>\n",
       "      <td>дополнительное образование</td>\n",
       "    </tr>\n",
       "    <tr>\n",
       "      <th>4</th>\n",
       "      <td>0</td>\n",
       "      <td>340266.072047</td>\n",
       "      <td>53</td>\n",
       "      <td>среднее</td>\n",
       "      <td>1</td>\n",
       "      <td>гражданский брак</td>\n",
       "      <td>1</td>\n",
       "      <td>F</td>\n",
       "      <td>пенсионер</td>\n",
       "      <td>0</td>\n",
       "      <td>158616.077870</td>\n",
       "      <td>сыграть свадьбу</td>\n",
       "    </tr>\n",
       "    <tr>\n",
       "      <th>5</th>\n",
       "      <td>0</td>\n",
       "      <td>-926.185831</td>\n",
       "      <td>27</td>\n",
       "      <td>высшее</td>\n",
       "      <td>0</td>\n",
       "      <td>гражданский брак</td>\n",
       "      <td>1</td>\n",
       "      <td>M</td>\n",
       "      <td>компаньон</td>\n",
       "      <td>0</td>\n",
       "      <td>255763.565419</td>\n",
       "      <td>покупка жилья</td>\n",
       "    </tr>\n",
       "    <tr>\n",
       "      <th>6</th>\n",
       "      <td>0</td>\n",
       "      <td>-2879.202052</td>\n",
       "      <td>43</td>\n",
       "      <td>высшее</td>\n",
       "      <td>0</td>\n",
       "      <td>женат / замужем</td>\n",
       "      <td>0</td>\n",
       "      <td>F</td>\n",
       "      <td>компаньон</td>\n",
       "      <td>0</td>\n",
       "      <td>240525.971920</td>\n",
       "      <td>операции с жильем</td>\n",
       "    </tr>\n",
       "    <tr>\n",
       "      <th>7</th>\n",
       "      <td>0</td>\n",
       "      <td>-152.779569</td>\n",
       "      <td>50</td>\n",
       "      <td>СРЕДНЕЕ</td>\n",
       "      <td>1</td>\n",
       "      <td>женат / замужем</td>\n",
       "      <td>0</td>\n",
       "      <td>M</td>\n",
       "      <td>сотрудник</td>\n",
       "      <td>0</td>\n",
       "      <td>135823.934197</td>\n",
       "      <td>образование</td>\n",
       "    </tr>\n",
       "    <tr>\n",
       "      <th>8</th>\n",
       "      <td>2</td>\n",
       "      <td>-6929.865299</td>\n",
       "      <td>35</td>\n",
       "      <td>ВЫСШЕЕ</td>\n",
       "      <td>0</td>\n",
       "      <td>гражданский брак</td>\n",
       "      <td>1</td>\n",
       "      <td>F</td>\n",
       "      <td>сотрудник</td>\n",
       "      <td>0</td>\n",
       "      <td>95856.832424</td>\n",
       "      <td>на проведение свадьбы</td>\n",
       "    </tr>\n",
       "    <tr>\n",
       "      <th>9</th>\n",
       "      <td>0</td>\n",
       "      <td>-2188.756445</td>\n",
       "      <td>41</td>\n",
       "      <td>среднее</td>\n",
       "      <td>1</td>\n",
       "      <td>женат / замужем</td>\n",
       "      <td>0</td>\n",
       "      <td>M</td>\n",
       "      <td>сотрудник</td>\n",
       "      <td>0</td>\n",
       "      <td>144425.938277</td>\n",
       "      <td>покупка жилья для семьи</td>\n",
       "    </tr>\n",
       "  </tbody>\n",
       "</table>\n",
       "</div>"
      ],
      "text/plain": [
       "   children  days_employed  dob_years education  education_id  \\\n",
       "0         1   -8437.673028         42    высшее             0   \n",
       "1         1   -4024.803754         36   среднее             1   \n",
       "2         0   -5623.422610         33   Среднее             1   \n",
       "3         3   -4124.747207         32   среднее             1   \n",
       "4         0  340266.072047         53   среднее             1   \n",
       "5         0    -926.185831         27    высшее             0   \n",
       "6         0   -2879.202052         43    высшее             0   \n",
       "7         0    -152.779569         50   СРЕДНЕЕ             1   \n",
       "8         2   -6929.865299         35    ВЫСШЕЕ             0   \n",
       "9         0   -2188.756445         41   среднее             1   \n",
       "\n",
       "      family_status  family_status_id gender income_type  debt   total_income  \\\n",
       "0   женат / замужем                 0      F   сотрудник     0  253875.639453   \n",
       "1   женат / замужем                 0      F   сотрудник     0  112080.014102   \n",
       "2   женат / замужем                 0      M   сотрудник     0  145885.952297   \n",
       "3   женат / замужем                 0      M   сотрудник     0  267628.550329   \n",
       "4  гражданский брак                 1      F   пенсионер     0  158616.077870   \n",
       "5  гражданский брак                 1      M   компаньон     0  255763.565419   \n",
       "6   женат / замужем                 0      F   компаньон     0  240525.971920   \n",
       "7   женат / замужем                 0      M   сотрудник     0  135823.934197   \n",
       "8  гражданский брак                 1      F   сотрудник     0   95856.832424   \n",
       "9   женат / замужем                 0      M   сотрудник     0  144425.938277   \n",
       "\n",
       "                      purpose  \n",
       "0               покупка жилья  \n",
       "1     приобретение автомобиля  \n",
       "2               покупка жилья  \n",
       "3  дополнительное образование  \n",
       "4             сыграть свадьбу  \n",
       "5               покупка жилья  \n",
       "6           операции с жильем  \n",
       "7                 образование  \n",
       "8       на проведение свадьбы  \n",
       "9     покупка жилья для семьи  "
      ]
     },
     "metadata": {},
     "output_type": "display_data"
    },
    {
     "name": "stdout",
     "output_type": "stream",
     "text": [
      "<class 'pandas.core.frame.DataFrame'>\n",
      "RangeIndex: 21525 entries, 0 to 21524\n",
      "Data columns (total 12 columns):\n",
      " #   Column            Non-Null Count  Dtype  \n",
      "---  ------            --------------  -----  \n",
      " 0   children          21525 non-null  int64  \n",
      " 1   days_employed     19351 non-null  float64\n",
      " 2   dob_years         21525 non-null  int64  \n",
      " 3   education         21525 non-null  object \n",
      " 4   education_id      21525 non-null  int64  \n",
      " 5   family_status     21525 non-null  object \n",
      " 6   family_status_id  21525 non-null  int64  \n",
      " 7   gender            21525 non-null  object \n",
      " 8   income_type       21525 non-null  object \n",
      " 9   debt              21525 non-null  int64  \n",
      " 10  total_income      19351 non-null  float64\n",
      " 11  purpose           21525 non-null  object \n",
      "dtypes: float64(2), int64(5), object(5)\n",
      "memory usage: 2.0+ MB\n"
     ]
    }
   ],
   "source": [
    "import pandas as pd\n",
    "try:\n",
    "    df = pd.read_csv('/datasets/data.csv')\n",
    "except:\n",
    "    df = pd.read_csv('datasets\\yandex_02_data_preparing.csv')\n",
    "    \n",
    "display(df.head(10))\n",
    "df.info()"
   ]
  },
  {
   "cell_type": "markdown",
   "id": "9c83c816",
   "metadata": {},
   "source": [
    "### Шаг 2.1 Заполнение пропусков"
   ]
  },
  {
   "cell_type": "markdown",
   "id": "fa11d40a",
   "metadata": {},
   "source": [
    "В столбцах days_employed и total_income число non-null записей 19351, что меньше числа строк в датафрейме 21525. Это говорит о наличии пропусков в данных столбцах."
   ]
  },
  {
   "cell_type": "markdown",
   "id": "4048b5e2",
   "metadata": {},
   "source": [
    "Считаем число пропусков по столбцам"
   ]
  },
  {
   "cell_type": "code",
   "execution_count": 2,
   "id": "26860698",
   "metadata": {},
   "outputs": [
    {
     "data": {
      "text/plain": [
       "children               0\n",
       "days_employed       2174\n",
       "dob_years              0\n",
       "education              0\n",
       "education_id           0\n",
       "family_status          0\n",
       "family_status_id       0\n",
       "gender                 0\n",
       "income_type            0\n",
       "debt                   0\n",
       "total_income        2174\n",
       "purpose                0\n",
       "dtype: int64"
      ]
     },
     "execution_count": 2,
     "metadata": {},
     "output_type": "execute_result"
    }
   ],
   "source": [
    "df.isna().sum()"
   ]
  },
  {
   "cell_type": "markdown",
   "id": "2f619fb3",
   "metadata": {},
   "source": [
    "Видны пропуски в столбцах days_employed и total_income.\n",
    "\n",
    "Считаем долю пропусков"
   ]
  },
  {
   "cell_type": "code",
   "execution_count": 3,
   "id": "1ba1ed14",
   "metadata": {},
   "outputs": [
    {
     "data": {
      "text/plain": [
       "children             0.000000\n",
       "days_employed       10.099884\n",
       "dob_years            0.000000\n",
       "education            0.000000\n",
       "education_id         0.000000\n",
       "family_status        0.000000\n",
       "family_status_id     0.000000\n",
       "gender               0.000000\n",
       "income_type          0.000000\n",
       "debt                 0.000000\n",
       "total_income        10.099884\n",
       "purpose              0.000000\n",
       "dtype: float64"
      ]
     },
     "execution_count": 3,
     "metadata": {},
     "output_type": "execute_result"
    }
   ],
   "source": [
    "df.isna().sum()/df.shape[0]*100"
   ]
  },
  {
   "cell_type": "markdown",
   "id": "2b5d280e",
   "metadata": {},
   "source": [
    "Доля пропусков в столбцах days_employed и total_income одинакова и равна 10,1%\n",
    "\n",
    "Примечательно идеально одинаковое число пропусков в двух столбцах. Проверим гипотезу, что пропуски появляются всегда одновременно. Для этого отфильтруем df и оставим только строки с пропусками в столбце days_employed и посчитаем сколько пропусков в total_income"
   ]
  },
  {
   "cell_type": "code",
   "execution_count": 4,
   "id": "91c297aa",
   "metadata": {},
   "outputs": [
    {
     "data": {
      "text/plain": [
       "children               0\n",
       "days_employed       2174\n",
       "dob_years              0\n",
       "education              0\n",
       "education_id           0\n",
       "family_status          0\n",
       "family_status_id       0\n",
       "gender                 0\n",
       "income_type            0\n",
       "debt                   0\n",
       "total_income        2174\n",
       "purpose                0\n",
       "dtype: int64"
      ]
     },
     "execution_count": 4,
     "metadata": {},
     "output_type": "execute_result"
    }
   ],
   "source": [
    "df[df['days_employed'].isna()].isna().sum()"
   ]
  },
  {
   "cell_type": "markdown",
   "id": "b3b46afd",
   "metadata": {},
   "source": [
    "Число пропусков снова 2174.\n",
    "Гипотеза подтвердилась. пропуски появляются всегда парами в столбцах days_employed и total_income\n",
    "\n",
    "Посчитаем характеристики для количественных  столбцов children, dob_years, debt"
   ]
  },
  {
   "cell_type": "code",
   "execution_count": 5,
   "id": "ee03486b",
   "metadata": {
    "scrolled": false
   },
   "outputs": [
    {
     "name": "stdout",
     "output_type": "stream",
     "text": [
      "характеристики количественных столбцов для строк с пропусками\n"
     ]
    },
    {
     "data": {
      "text/html": [
       "<div>\n",
       "<style scoped>\n",
       "    .dataframe tbody tr th:only-of-type {\n",
       "        vertical-align: middle;\n",
       "    }\n",
       "\n",
       "    .dataframe tbody tr th {\n",
       "        vertical-align: top;\n",
       "    }\n",
       "\n",
       "    .dataframe thead th {\n",
       "        text-align: right;\n",
       "    }\n",
       "</style>\n",
       "<table border=\"1\" class=\"dataframe\">\n",
       "  <thead>\n",
       "    <tr style=\"text-align: right;\">\n",
       "      <th></th>\n",
       "      <th>children</th>\n",
       "      <th>dob_years</th>\n",
       "      <th>debt</th>\n",
       "    </tr>\n",
       "  </thead>\n",
       "  <tbody>\n",
       "    <tr>\n",
       "      <th>min</th>\n",
       "      <td>-1.000000</td>\n",
       "      <td>0.000000</td>\n",
       "      <td>0.000000</td>\n",
       "    </tr>\n",
       "    <tr>\n",
       "      <th>mean</th>\n",
       "      <td>0.552438</td>\n",
       "      <td>43.632015</td>\n",
       "      <td>0.078197</td>\n",
       "    </tr>\n",
       "    <tr>\n",
       "      <th>median</th>\n",
       "      <td>0.000000</td>\n",
       "      <td>43.000000</td>\n",
       "      <td>0.000000</td>\n",
       "    </tr>\n",
       "    <tr>\n",
       "      <th>max</th>\n",
       "      <td>20.000000</td>\n",
       "      <td>73.000000</td>\n",
       "      <td>1.000000</td>\n",
       "    </tr>\n",
       "  </tbody>\n",
       "</table>\n",
       "</div>"
      ],
      "text/plain": [
       "         children  dob_years      debt\n",
       "min     -1.000000   0.000000  0.000000\n",
       "mean     0.552438  43.632015  0.078197\n",
       "median   0.000000  43.000000  0.000000\n",
       "max     20.000000  73.000000  1.000000"
      ]
     },
     "metadata": {},
     "output_type": "display_data"
    },
    {
     "name": "stdout",
     "output_type": "stream",
     "text": [
      "характеристики количественных столбцов  для строк без пропусков\n"
     ]
    },
    {
     "data": {
      "text/html": [
       "<div>\n",
       "<style scoped>\n",
       "    .dataframe tbody tr th:only-of-type {\n",
       "        vertical-align: middle;\n",
       "    }\n",
       "\n",
       "    .dataframe tbody tr th {\n",
       "        vertical-align: top;\n",
       "    }\n",
       "\n",
       "    .dataframe thead th {\n",
       "        text-align: right;\n",
       "    }\n",
       "</style>\n",
       "<table border=\"1\" class=\"dataframe\">\n",
       "  <thead>\n",
       "    <tr style=\"text-align: right;\">\n",
       "      <th></th>\n",
       "      <th>children</th>\n",
       "      <th>dob_years</th>\n",
       "      <th>debt</th>\n",
       "    </tr>\n",
       "  </thead>\n",
       "  <tbody>\n",
       "    <tr>\n",
       "      <th>min</th>\n",
       "      <td>-1.000000</td>\n",
       "      <td>0.000000</td>\n",
       "      <td>0.000000</td>\n",
       "    </tr>\n",
       "    <tr>\n",
       "      <th>mean</th>\n",
       "      <td>0.537388</td>\n",
       "      <td>43.255336</td>\n",
       "      <td>0.081184</td>\n",
       "    </tr>\n",
       "    <tr>\n",
       "      <th>median</th>\n",
       "      <td>0.000000</td>\n",
       "      <td>42.000000</td>\n",
       "      <td>0.000000</td>\n",
       "    </tr>\n",
       "    <tr>\n",
       "      <th>max</th>\n",
       "      <td>20.000000</td>\n",
       "      <td>75.000000</td>\n",
       "      <td>1.000000</td>\n",
       "    </tr>\n",
       "  </tbody>\n",
       "</table>\n",
       "</div>"
      ],
      "text/plain": [
       "         children  dob_years      debt\n",
       "min     -1.000000   0.000000  0.000000\n",
       "mean     0.537388  43.255336  0.081184\n",
       "median   0.000000  42.000000  0.000000\n",
       "max     20.000000  75.000000  1.000000"
      ]
     },
     "metadata": {},
     "output_type": "display_data"
    }
   ],
   "source": [
    "print('характеристики количественных столбцов для строк с пропусками')\n",
    "display(df[df['days_employed'].isna()].agg({'children': ['min', 'mean', 'median', 'max'], 'dob_years': ['min', 'mean', 'median', 'max'], 'debt': ['min', 'mean', 'median', 'max']}))\n",
    "na_rows_count = df['days_employed'].isna().sum()\n",
    "\n",
    "print('характеристики количественных столбцов  для строк без пропусков')\n",
    "display(df[df['days_employed'].notna()].agg({'children': ['min', 'mean', 'median', 'max'], 'dob_years': ['min', 'mean', 'median', 'max'], 'debt': ['min', 'mean', 'median', 'max']}))\n",
    "notna_rows_count = df['days_employed'].notna().sum()"
   ]
  },
  {
   "cell_type": "markdown",
   "id": "2ebbb048",
   "metadata": {},
   "source": [
    "Разницы между строк с пропусками и без не видно.\n",
    "Но заметны артефакты: <a id='artef'></a>\n",
    " - бывает число детей  children < 0\n",
    " - бывает возраст клиента в годах  dob_years = 0\n",
    " - бывает общий трудовой стаж в днях days_employed < 0\n",
    "\n",
    "\n",
    "\n",
    "Попробуем проанализировать столбцы с категориальными данными.\n",
    "Посчитаем доли значений в столбце education для группы с пропусками и для группы строк без пропусков:"
   ]
  },
  {
   "cell_type": "code",
   "execution_count": 6,
   "id": "6fdbc724",
   "metadata": {},
   "outputs": [
    {
     "data": {
      "text/plain": [
       "среднее                64.765409\n",
       "высшее                 22.815087\n",
       "СРЕДНЕЕ                 3.081877\n",
       "Среднее                 2.989880\n",
       "неоконченное высшее     2.529899\n",
       "Высшее                  1.149954\n",
       "ВЫСШЕЕ                  1.057958\n",
       "начальное               0.873965\n",
       "Неоконченное высшее     0.321987\n",
       "НЕОКОНЧЕННОЕ ВЫСШЕЕ     0.321987\n",
       "Начальное               0.045998\n",
       "НАЧАЛЬНОЕ               0.045998\n",
       "Name: education, dtype: float64"
      ]
     },
     "metadata": {},
     "output_type": "display_data"
    },
    {
     "data": {
      "text/plain": [
       "среднее                63.779650\n",
       "высшее                 21.817994\n",
       "СРЕДНЕЕ                 3.643223\n",
       "Среднее                 3.338329\n",
       "неоконченное высшее     3.167795\n",
       "ВЫСШЕЕ                  1.297091\n",
       "Высшее                  1.255749\n",
       "начальное               1.193737\n",
       "Неоконченное высшее     0.206708\n",
       "НЕОКОНЧЕННОЕ ВЫСШЕЕ     0.113689\n",
       "НАЧАЛЬНОЕ               0.082683\n",
       "Начальное               0.072348\n",
       "ученая степень          0.020671\n",
       "Ученая степень          0.005168\n",
       "УЧЕНАЯ СТЕПЕНЬ          0.005168\n",
       "Name: education, dtype: float64"
      ]
     },
     "metadata": {},
     "output_type": "display_data"
    }
   ],
   "source": [
    "display(df[df['days_employed'].isna()]['education'].value_counts().head(15)/na_rows_count*100)\n",
    "display(df[df['days_employed'].notna()]['education'].value_counts().head(15)/notna_rows_count*100)"
   ]
  },
  {
   "cell_type": "markdown",
   "id": "8b1d4949",
   "metadata": {},
   "source": [
    "Разницы между строк с пропусками и без не видно\n",
    "\n",
    "Посчитаем доли значений в столбце family_status для группы с пропусками и для группы строк без пропусков:"
   ]
  },
  {
   "cell_type": "code",
   "execution_count": 7,
   "id": "16b0f67b",
   "metadata": {
    "scrolled": true
   },
   "outputs": [
    {
     "data": {
      "text/plain": [
       "женат / замужем          56.899724\n",
       "гражданский брак         20.331187\n",
       "Не женат / не замужем    13.247470\n",
       "в разводе                 5.151794\n",
       "вдовец / вдова            4.369825\n",
       "Name: family_status, dtype: float64"
      ]
     },
     "metadata": {},
     "output_type": "display_data"
    },
    {
     "data": {
      "text/plain": [
       "женат / замужем          57.583587\n",
       "гражданский брак         19.301328\n",
       "Не женат / не замужем    13.048421\n",
       "в разводе                 5.596610\n",
       "вдовец / вдова            4.470053\n",
       "Name: family_status, dtype: float64"
      ]
     },
     "metadata": {},
     "output_type": "display_data"
    }
   ],
   "source": [
    "display(df[df['days_employed'].isna()]['family_status'].value_counts()/na_rows_count*100)\n",
    "display(df[df['days_employed'].notna()]['family_status'].value_counts()/notna_rows_count*100)"
   ]
  },
  {
   "cell_type": "markdown",
   "id": "44317cdc",
   "metadata": {},
   "source": [
    "Разницы между строк с пропусками и без не видно\n",
    "\n",
    "Посчитаем доли значений в столбце gender для группы с пропусками и для группы строк без пропусков:"
   ]
  },
  {
   "cell_type": "code",
   "execution_count": 8,
   "id": "15b266bc",
   "metadata": {
    "scrolled": true
   },
   "outputs": [
    {
     "data": {
      "text/plain": [
       "F    68.26127\n",
       "M    31.73873\n",
       "Name: gender, dtype: float64"
      ]
     },
     "metadata": {},
     "output_type": "display_data"
    },
    {
     "data": {
      "text/plain": [
       "F      65.898403\n",
       "M      34.096429\n",
       "XNA     0.005168\n",
       "Name: gender, dtype: float64"
      ]
     },
     "metadata": {},
     "output_type": "display_data"
    }
   ],
   "source": [
    "display(df[df['days_employed'].isna()]['gender'].value_counts().head(15)/na_rows_count*100)\n",
    "display(df[df['days_employed'].notna()]['gender'].value_counts().head(15)/notna_rows_count*100)"
   ]
  },
  {
   "cell_type": "markdown",
   "id": "8f8744d0",
   "metadata": {},
   "source": [
    "Разницы между строк с пропусками и без не видно, но видим пол XNA. Запомним его\n",
    "\n",
    "Посчитаем доли значений в столбце income_type для группы с пропусками и для группы строк без пропусков:"
   ]
  },
  {
   "cell_type": "code",
   "execution_count": 9,
   "id": "7dd479ce",
   "metadata": {
    "scrolled": true
   },
   "outputs": [
    {
     "data": {
      "text/plain": [
       "сотрудник          50.827967\n",
       "компаньон          23.367065\n",
       "пенсионер          18.997240\n",
       "госслужащий         6.761730\n",
       "предприниматель     0.045998\n",
       "Name: income_type, dtype: float64"
      ]
     },
     "metadata": {},
     "output_type": "display_data"
    },
    {
     "data": {
      "text/plain": [
       "сотрудник          51.749264\n",
       "компаньон          23.652524\n",
       "пенсионер          17.792362\n",
       "госслужащий         6.780011\n",
       "безработный         0.010335\n",
       "студент             0.005168\n",
       "предприниматель     0.005168\n",
       "в декрете           0.005168\n",
       "Name: income_type, dtype: float64"
      ]
     },
     "metadata": {},
     "output_type": "display_data"
    }
   ],
   "source": [
    "display(df[df['days_employed'].isna()]['income_type'].value_counts().head(15)/na_rows_count*100)\n",
    "display(df[df['days_employed'].notna()]['income_type'].value_counts().head(15)/notna_rows_count*100)"
   ]
  },
  {
   "cell_type": "markdown",
   "id": "ee935c6f",
   "metadata": {},
   "source": [
    "<div class=\"alert alert-success\" style=\"border-radius: 15px; box-shadow: 4px 4px 4px; border: 1px solid \">\n",
    "<b> Комментарий ревьюера  ✔️</b>\n",
    "    \n",
    "Можно еще нормировку использовать:</div>"
   ]
  },
  {
   "cell_type": "code",
   "execution_count": 10,
   "id": "f20e4047",
   "metadata": {},
   "outputs": [
    {
     "data": {
      "text/plain": [
       "сотрудник          0.508280\n",
       "компаньон          0.233671\n",
       "пенсионер          0.189972\n",
       "госслужащий        0.067617\n",
       "предприниматель    0.000460\n",
       "Name: income_type, dtype: float64"
      ]
     },
     "metadata": {},
     "output_type": "display_data"
    },
    {
     "data": {
      "text/plain": [
       "сотрудник          0.517493\n",
       "компаньон          0.236525\n",
       "пенсионер          0.177924\n",
       "госслужащий        0.067800\n",
       "безработный        0.000103\n",
       "студент            0.000052\n",
       "предприниматель    0.000052\n",
       "в декрете          0.000052\n",
       "Name: income_type, dtype: float64"
      ]
     },
     "metadata": {},
     "output_type": "display_data"
    }
   ],
   "source": [
    "# КОД РЕВЬЮЕРА\n",
    "\n",
    "display(df[df['days_employed'].isna()]['income_type'].value_counts(normalize=True))\n",
    "display(df[df['days_employed'].notna()]['income_type'].value_counts(normalize=True))"
   ]
  },
  {
   "cell_type": "markdown",
   "id": "6b50ae82",
   "metadata": {},
   "source": [
    "Разницы между строк с пропусками и без не видно\n",
    "\n",
    "Посчитаем доли значений в столбце purpose для группы с пропусками и для группы строк без пропусков:"
   ]
  },
  {
   "cell_type": "code",
   "execution_count": 11,
   "id": "e117f634",
   "metadata": {
    "scrolled": false
   },
   "outputs": [
    {
     "data": {
      "text/plain": [
       "на проведение свадьбы                     4.231831\n",
       "сыграть свадьбу                           3.725851\n",
       "свадьба                                   3.495860\n",
       "строительство собственной недвижимости    3.449862\n",
       "операции с жильем                         3.403864\n",
       "покупка недвижимости                      3.311868\n",
       "покупка жилья для семьи                   3.265869\n",
       "операции со своей недвижимостью           3.265869\n",
       "операции с коммерческой недвижимостью     3.219871\n",
       "ремонт жилью                              3.219871\n",
       "покупка коммерческой недвижимости         3.081877\n",
       "покупка жилья для сдачи                   2.989880\n",
       "недвижимость                              2.851886\n",
       "операции с недвижимостью                  2.805888\n",
       "покупка жилой недвижимости                2.805888\n",
       "Name: purpose, dtype: float64"
      ]
     },
     "metadata": {},
     "output_type": "display_data"
    },
    {
     "data": {
      "text/plain": [
       "свадьба                                  3.725906\n",
       "сыграть свадьбу                          3.581210\n",
       "на проведение свадьбы                    3.539869\n",
       "операции с недвижимостью                 3.178130\n",
       "покупка коммерческой недвижимости        3.085112\n",
       "покупка жилья                            3.074776\n",
       "покупка жилья для сдачи                  3.038603\n",
       "жилье                                    3.033435\n",
       "операции с коммерческой недвижимостью    3.002429\n",
       "строительство жилой недвижимости         2.997261\n",
       "операции с жильем                        2.992093\n",
       "покупка своего жилья                     2.966255\n",
       "недвижимость                             2.955920\n",
       "покупка жилья для семьи                  2.945584\n",
       "строительство недвижимости               2.899075\n",
       "Name: purpose, dtype: float64"
      ]
     },
     "metadata": {},
     "output_type": "display_data"
    }
   ],
   "source": [
    "display(df[df['days_employed'].isna()]['purpose'].value_counts().head(15)/na_rows_count*100)\n",
    "display(df[df['days_employed'].notna()]['purpose'].value_counts().head(15)/notna_rows_count*100)"
   ]
  },
  {
   "cell_type": "markdown",
   "id": "8049e6bf",
   "metadata": {},
   "source": [
    "В итоге, разницы не видно между строками с пропусками и без. Наличие пропусков в количественных столбцах выгледит как полностью случайное. Возможно сбой при записи информации.\n",
    "Учитывая, что это количественные значения, заполнение пропусков медианными значениями по столбцам не должно существенно повлиять на данные, т.к. медиана бявляется характерной величиной для данных в этом столбце.\n",
    "\n",
    "Делаем замену на медианные значения:"
   ]
  },
  {
   "cell_type": "code",
   "execution_count": 12,
   "id": "143dfcf4",
   "metadata": {},
   "outputs": [],
   "source": [
    "df['days_employed']=df['days_employed'].fillna(df['days_employed'].median())\n",
    "#df['total_income']=df['total_income'].fillna(df['total_income'].median())\n",
    "\n",
    "# Внес исправление. Заменяем медианой по группам, разбитым по полу и по типу образования\n",
    "df['total_income'] = df['total_income'].fillna(df.groupby(['education', 'gender'])['total_income'].transform('median'))"
   ]
  },
  {
   "cell_type": "markdown",
   "id": "e25c1a4e",
   "metadata": {},
   "source": [
    "Проверяем, что все успешно сработало"
   ]
  },
  {
   "cell_type": "code",
   "execution_count": 13,
   "id": "61865c24",
   "metadata": {},
   "outputs": [
    {
     "data": {
      "text/plain": [
       "children            0\n",
       "days_employed       0\n",
       "dob_years           0\n",
       "education           0\n",
       "education_id        0\n",
       "family_status       0\n",
       "family_status_id    0\n",
       "gender              0\n",
       "income_type         0\n",
       "debt                0\n",
       "total_income        0\n",
       "purpose             0\n",
       "dtype: int64"
      ]
     },
     "execution_count": 13,
     "metadata": {},
     "output_type": "execute_result"
    }
   ],
   "source": [
    "df.isna().sum()"
   ]
  },
  {
   "cell_type": "markdown",
   "id": "a4c54ac7",
   "metadata": {},
   "source": [
    "### Шаг 2.2 Проверка данных на аномалии и исправления."
   ]
  },
  {
   "cell_type": "markdown",
   "id": "c16c9ae2",
   "metadata": {},
   "source": [
    "При ознакомлении с данными уже были обнаружены [артефакты](#artef)\n",
    " - бывает число детей  children < 0\n",
    " - бывает возраст клиента в годах  dob_years = 0\n",
    " - бывает общий трудовой стаж в днях days_employed < 0\n",
    " \n",
    " Исследуем эти столбцы более внимательно.\n",
    " Число детей от -1 до 20. Значения целочисленные, поэтому можно посмотреть вообще какие есть значения в столбце."
   ]
  },
  {
   "cell_type": "code",
   "execution_count": 14,
   "id": "bd44b6d5",
   "metadata": {},
   "outputs": [
    {
     "data": {
      "text/plain": [
       "[-1, 0, 1, 2, 3, 4, 5, 20]"
      ]
     },
     "execution_count": 14,
     "metadata": {},
     "output_type": "execute_result"
    }
   ],
   "source": [
    "total_rows_count = df.shape[0] # сделаю в переменной значение. Может пригодится еще для расчета долей\n",
    "sorted(df['children'].unique())"
   ]
  },
  {
   "cell_type": "markdown",
   "id": "92b753f9",
   "metadata": {},
   "source": [
    "Подозрительными являются 20 детей и -1 ребенок. Вероятно это следствие опечатки при заполнии формы. На самом деле вероятно должны быть заполнены 2 и 1 ребенок соответственно\n",
    "\n",
    "Сделаем замены и убедимся что они сработали успешно"
   ]
  },
  {
   "cell_type": "code",
   "execution_count": 15,
   "id": "65c21626",
   "metadata": {
    "scrolled": true
   },
   "outputs": [
    {
     "data": {
      "text/plain": [
       "[0, 1, 2, 3, 4, 5]"
      ]
     },
     "execution_count": 15,
     "metadata": {},
     "output_type": "execute_result"
    }
   ],
   "source": [
    "# замена\n",
    "df['children'] = df['children'].replace(-1,1).replace(20,2)\n",
    "\n",
    "# проверка\n",
    "sorted(df['children'].unique())"
   ]
  },
  {
   "cell_type": "markdown",
   "id": "03327a7b",
   "metadata": {},
   "source": [
    "Посмотрим теперь на значения в столбце возраста клиента в годах.\n",
    "Значения целочисленные, поэтому можно посмотреть вообще какие есть значения в столбце."
   ]
  },
  {
   "cell_type": "code",
   "execution_count": 16,
   "id": "77b2df75",
   "metadata": {
    "scrolled": true
   },
   "outputs": [
    {
     "name": "stdout",
     "output_type": "stream",
     "text": [
      "[0, 19, 20, 21, 22, 23, 24, 25, 26, 27, 28, 29, 30, 31, 32, 33, 34, 35, 36, 37, 38, 39, 40, 41, 42, 43, 44, 45, 46, 47, 48, 49, 50, 51, 52, 53, 54, 55, 56, 57, 58, 59, 60, 61, 62, 63, 64, 65, 66, 67, 68, 69, 70, 71, 72, 73, 74, 75]\n"
     ]
    }
   ],
   "source": [
    "print(sorted(df['dob_years'].unique()))"
   ]
  },
  {
   "cell_type": "markdown",
   "id": "5c0894e0",
   "metadata": {},
   "source": [
    "Подозрения на значение 0 в возрасте. Возможно это пропуск, сбой в записи данных либо опечатка, например, вместо 50 написали только вторую цифру 0.\n",
    "\n",
    "Посмотрим число таких записей"
   ]
  },
  {
   "cell_type": "code",
   "execution_count": 17,
   "id": "8418881c",
   "metadata": {},
   "outputs": [
    {
     "data": {
      "text/plain": [
       "101"
      ]
     },
     "execution_count": 17,
     "metadata": {},
     "output_type": "execute_result"
    }
   ],
   "source": [
    "df['dob_years'][df['dob_years']==0].count()"
   ]
  },
  {
   "cell_type": "markdown",
   "id": "8bbde9dc",
   "metadata": {},
   "source": [
    "Построим гистограмму возрастов"
   ]
  },
  {
   "cell_type": "code",
   "execution_count": 18,
   "id": "5b942446",
   "metadata": {},
   "outputs": [
    {
     "name": "stderr",
     "output_type": "stream",
     "text": [
      "C:\\ProgramData\\Anaconda3\\lib\\site-packages\\seaborn\\distributions.py:2619: FutureWarning: `distplot` is a deprecated function and will be removed in a future version. Please adapt your code to use either `displot` (a figure-level function with similar flexibility) or `histplot` (an axes-level function for histograms).\n",
      "  warnings.warn(msg, FutureWarning)\n"
     ]
    },
    {
     "data": {
      "text/plain": [
       "<AxesSubplot:xlabel='dob_years', ylabel='Density'>"
      ]
     },
     "execution_count": 18,
     "metadata": {},
     "output_type": "execute_result"
    },
    {
     "data": {
      "image/png": "[encoded data removed]",
      "text/plain": [
       "<Figure size 432x288 with 1 Axes>"
      ]
     },
     "metadata": {
      "needs_background": "light"
     },
     "output_type": "display_data"
    }
   ],
   "source": [
    "import seaborn as sns\n",
    "sns.distplot(df['dob_years'], bins=76)"
   ]
  },
  {
   "cell_type": "markdown",
   "id": "2fabd00c",
   "metadata": {},
   "source": [
    "Записей с нулевым возрастом всего 101 шт из 21525. Разумным решением было бы заменить нули на медианный возраст. Его мы определим по группе записей, не включающей нулевые возраста"
   ]
  },
  {
   "cell_type": "code",
   "execution_count": 19,
   "id": "c13d76f6",
   "metadata": {
    "scrolled": true
   },
   "outputs": [
    {
     "name": "stdout",
     "output_type": "stream",
     "text": [
      "43.0\n"
     ]
    }
   ],
   "source": [
    "age_median = df['dob_years'][df['dob_years'] != 0].median()\n",
    "print(age_median)"
   ]
  },
  {
   "cell_type": "markdown",
   "id": "4a7db638",
   "metadata": {},
   "source": [
    "Заменим и проверим результат"
   ]
  },
  {
   "cell_type": "code",
   "execution_count": 20,
   "id": "be1e5868",
   "metadata": {
    "scrolled": true
   },
   "outputs": [
    {
     "name": "stdout",
     "output_type": "stream",
     "text": [
      "0\n"
     ]
    }
   ],
   "source": [
    "#замена\n",
    "df['dob_years'] = df['dob_years'].replace(0,age_median)\n",
    "\n",
    "#проверим сколько записей имеют нулевой возраст dob_years\n",
    "print(df['dob_years'][df['dob_years']==0].count())"
   ]
  },
  {
   "cell_type": "markdown",
   "id": "9f1e3628",
   "metadata": {},
   "source": [
    "<div class=\"alert alert-info\">\n",
    "<b>Комментарий студента:</b>\n",
    "<br>\n",
    "    Была б моя воля, я б вообще не заменял бы пропуски. Оставл бы их пропусками, т.к. такие замены это искажение выборки, которое может повлиять на выводы. Но тут учебное задание, нужно было показать что владеем техникой замены. Вот и показываю )))\n",
    "    В так да, могут получиться и 40летние студенты (впрочем такое бывает иногда) и нулевой стаж при 43 годах (тоже бывает иногда)\n",
    "    можно было бы\n",
    "    df['dob_years'] = df['dob_years'].fillna(df.groupby(['income_type'])['dob_years'].transform('median'))\n",
    "</div>"
   ]
  },
  {
   "cell_type": "markdown",
   "id": "4fcde973",
   "metadata": {},
   "source": [
    "Теперь посмотрим на столбец days_employed. Из описания данных, такой столбец должен содержать общий трудовой стаж в днях.\n",
    "В нем встречаются отрицательные значения, кроме того, значения дробные\n",
    "Посмотрим какие бывают трудовые стажи в годах (целые)"
   ]
  },
  {
   "cell_type": "code",
   "execution_count": 21,
   "id": "597f4b96",
   "metadata": {},
   "outputs": [
    {
     "name": "stdout",
     "output_type": "stream",
     "text": [
      "[-50, -48, -45, -44, -43, -42, -41, -40, -39, -38, -37, -36, -35, -34, -33, -32, -31, -30, -29, -28, -27, -26, -25, -24, -23, -22, -21, -20, -19, -18, -17, -16, -15, -14, -13, -12, -11, -10, -9, -8, -7, -6, -5, -4, -3, -2, -1, 0, 900, 901, 902, 903, 904, 905, 906, 907, 908, 909, 910, 911, 912, 913, 914, 915, 916, 917, 918, 919, 920, 921, 922, 923, 924, 925, 926, 927, 928, 929, 930, 931, 932, 933, 934, 935, 936, 937, 938, 939, 940, 941, 942, 943, 944, 945, 946, 947, 948, 949, 950, 951, 952, 953, 954, 955, 956, 957, 958, 959, 960, 961, 962, 963, 964, 965, 966, 967, 968, 969, 970, 971, 972, 973, 974, 975, 976, 977, 978, 979, 980, 981, 982, 983, 984, 985, 986, 987, 988, 989, 990, 991, 992, 993, 994, 995, 996, 997, 998, 999, 1000, 1001, 1002, 1003, 1004, 1005, 1006, 1007, 1008, 1009, 1010, 1011, 1012, 1013, 1014, 1015, 1016, 1017, 1018, 1019, 1020, 1021, 1022, 1023, 1024, 1025, 1026, 1027, 1028, 1029, 1030, 1031, 1032, 1033, 1034, 1035, 1036, 1037, 1038, 1039, 1040, 1041, 1042, 1043, 1044, 1045, 1046, 1047, 1048, 1049, 1050, 1051, 1052, 1053, 1054, 1055, 1056, 1057, 1058, 1059, 1060, 1061, 1062, 1063, 1064, 1065, 1066, 1067, 1068, 1069, 1070, 1071, 1072, 1073, 1074, 1075, 1076, 1077, 1078, 1079, 1080, 1081, 1082, 1083, 1084, 1085, 1086, 1087, 1088, 1089, 1090, 1091, 1092, 1093, 1094, 1095, 1096, 1097, 1098, 1099, 1100]\n"
     ]
    }
   ],
   "source": [
    "years_employed = df['days_employed']/365\n",
    "years_employed.rename('years_employed')\n",
    "years_employed = years_employed.astype('int')\n",
    "print(sorted(years_employed.unique()))"
   ]
  },
  {
   "cell_type": "markdown",
   "id": "c3d3db05",
   "metadata": {},
   "source": [
    "Ситуация похожа на то, что стаж имеет две ошибки\n",
    " - он отрицателен для корректных значений\n",
    " - в случае положительного стажа он бывает от 900 до 1100 лет.\n",
    "\n",
    "Проверим первую гипотезу. Не должно быть случаев, когда стаж превышает возраст"
   ]
  },
  {
   "cell_type": "code",
   "execution_count": 22,
   "id": "cd258846",
   "metadata": {},
   "outputs": [
    {
     "data": {
      "text/plain": [
       "0"
      ]
     },
     "execution_count": 22,
     "metadata": {},
     "output_type": "execute_result"
    }
   ],
   "source": [
    "df[-df['days_employed']/365 > df['dob_years']].shape[0]\n"
   ]
  },
  {
   "cell_type": "markdown",
   "id": "a5927d57",
   "metadata": {},
   "source": [
    "Посмотрим на распределение стажа отрицательного"
   ]
  },
  {
   "cell_type": "code",
   "execution_count": 23,
   "id": "e335d253",
   "metadata": {},
   "outputs": [
    {
     "name": "stderr",
     "output_type": "stream",
     "text": [
      "C:\\ProgramData\\Anaconda3\\lib\\site-packages\\seaborn\\distributions.py:2619: FutureWarning: `distplot` is a deprecated function and will be removed in a future version. Please adapt your code to use either `displot` (a figure-level function with similar flexibility) or `histplot` (an axes-level function for histograms).\n",
      "  warnings.warn(msg, FutureWarning)\n"
     ]
    },
    {
     "data": {
      "text/plain": [
       "<AxesSubplot:xlabel='years_employed', ylabel='Density'>"
      ]
     },
     "execution_count": 23,
     "metadata": {},
     "output_type": "execute_result"
    },
    {
     "data": {
      "image/png": "[encoded data removed]",
      "text/plain": [
       "<Figure size 432x288 with 1 Axes>"
      ]
     },
     "metadata": {
      "needs_background": "light"
     },
     "output_type": "display_data"
    }
   ],
   "source": [
    "#добавим колонку years_employed\n",
    "df['years_employed'] = df['days_employed'] / 365.25\n",
    "df['years_employed'] = df['years_employed'].astype('int')\n",
    "\n",
    "sns.distplot(df['years_employed'][df['years_employed'] <= 0] )"
   ]
  },
  {
   "cell_type": "markdown",
   "id": "696d6159",
   "metadata": {},
   "source": [
    "С учетом гипотезы, что у стажа просто перепутан знак, для отрицательных значений все корректно. Число людей с большим стажем невелико, а больше с небольшим стажем.\n",
    "\n",
    "Гипотеза подтвердилась, у стажа нужно заменить знак.\n",
    "\n",
    "Посчитаем сколько аномалий второго типа (стаж от 900 до 1100 лет) из 21525 записей"
   ]
  },
  {
   "cell_type": "code",
   "execution_count": 24,
   "id": "ddd87dff",
   "metadata": {
    "scrolled": true
   },
   "outputs": [
    {
     "name": "stdout",
     "output_type": "stream",
     "text": [
      "3445\n"
     ]
    }
   ],
   "source": [
    "print(df['years_employed'][df['years_employed'] > 0].count())\n"
   ]
  },
  {
   "cell_type": "markdown",
   "id": "d713eb77",
   "metadata": {},
   "source": [
    "Около 15% получается. \n",
    "\n",
    "Посмотрим, как распределены по значениям положительные стажи"
   ]
  },
  {
   "cell_type": "code",
   "execution_count": 25,
   "id": "81f330c6",
   "metadata": {
    "scrolled": true
   },
   "outputs": [
    {
     "name": "stderr",
     "output_type": "stream",
     "text": [
      "C:\\ProgramData\\Anaconda3\\lib\\site-packages\\seaborn\\distributions.py:2619: FutureWarning: `distplot` is a deprecated function and will be removed in a future version. Please adapt your code to use either `displot` (a figure-level function with similar flexibility) or `histplot` (an axes-level function for histograms).\n",
      "  warnings.warn(msg, FutureWarning)\n"
     ]
    },
    {
     "data": {
      "text/plain": [
       "<AxesSubplot:xlabel='years_employed', ylabel='Density'>"
      ]
     },
     "execution_count": 25,
     "metadata": {},
     "output_type": "execute_result"
    },
    {
     "data": {
      "image/png": "[encoded data removed]",
      "text/plain": [
       "<Figure size 432x288 with 1 Axes>"
      ]
     },
     "metadata": {
      "needs_background": "light"
     },
     "output_type": "display_data"
    }
   ],
   "source": [
    "\n",
    "sns.distplot(df[df['years_employed'] > 0]['years_employed'] )"
   ]
  },
  {
   "cell_type": "markdown",
   "id": "6b29d64b",
   "metadata": {},
   "source": [
    "Распределение близко к равномерному.\n",
    "\n",
    "\n",
    "Посмотрим на распределение возрастов людей для групп стажа отрицательного (нормальный) и аномально положительного"
   ]
  },
  {
   "cell_type": "code",
   "execution_count": 26,
   "id": "1c66ec75",
   "metadata": {
    "scrolled": false
   },
   "outputs": [
    {
     "name": "stderr",
     "output_type": "stream",
     "text": [
      "C:\\ProgramData\\Anaconda3\\lib\\site-packages\\seaborn\\distributions.py:2619: FutureWarning: `distplot` is a deprecated function and will be removed in a future version. Please adapt your code to use either `displot` (a figure-level function with similar flexibility) or `histplot` (an axes-level function for histograms).\n",
      "  warnings.warn(msg, FutureWarning)\n",
      "C:\\ProgramData\\Anaconda3\\lib\\site-packages\\seaborn\\distributions.py:2619: FutureWarning: `distplot` is a deprecated function and will be removed in a future version. Please adapt your code to use either `displot` (a figure-level function with similar flexibility) or `histplot` (an axes-level function for histograms).\n",
      "  warnings.warn(msg, FutureWarning)\n"
     ]
    },
    {
     "data": {
      "text/plain": [
       "<AxesSubplot:xlabel='dob_years', ylabel='Density'>"
      ]
     },
     "execution_count": 26,
     "metadata": {},
     "output_type": "execute_result"
    },
    {
     "data": {
      "image/png": "[encoded data removed]",
      "text/plain": [
       "<Figure size 432x288 with 1 Axes>"
      ]
     },
     "metadata": {
      "needs_background": "light"
     },
     "output_type": "display_data"
    }
   ],
   "source": [
    "sns.distplot(df[df['years_employed'] <= 0]['dob_years'] , bins=55)\n",
    "\n",
    "sns.distplot(df[df['years_employed'] > 0]['dob_years'] , bins=50)"
   ]
  },
  {
   "cell_type": "markdown",
   "id": "7c51bf69",
   "metadata": {},
   "source": [
    "Видно, что аномальные положительные это в основном возрастные люди, у которых можно ожидать большой стаж. Т.е. аномалии не случайны, есть корреляция с возрастом.\n",
    "\n",
    "Меня смущает распределение этих положительных стажей. Оно равномерное (от 900 до 1100 лет). Даже если это какая-то группа пенсионеров, то распределение стажей должно быть близко к нормальному, как и возрасты, а тут далеко не гаусс. Поэтому, считаю, что линейными преобразованиями (сдвиг + масштаб) не решить проблему положительных аномалий. "
   ]
  },
  {
   "cell_type": "markdown",
   "id": "2bb865f4",
   "metadata": {},
   "source": [
    "Возможно при вводе даты была допущена опечатка. С учетом, что число годов в диапазоне круглое (от 900 до 1100), вероятно ошибка связана либо с ошибкой ввода года. Также возможно данные хранились в нестандартном формате и при слиянии таблиц смешались разнородные данные в разных форматах"
   ]
  },
  {
   "cell_type": "markdown",
   "id": "0100ebe6",
   "metadata": {},
   "source": [
    "Возможно это время в часах. Тогда 900..1100 лет разделить нужно на 24 и стаж превратится в 38..45 лет. Адекватный стаж для пожилых людей. Это неплохая гипотеза. проверим ее.\n",
    "\n",
    "\n",
    "Посмотрим как изменится гистограмма<br/>\n",
    "Заодно посчитаем среднее  медиану и проверим как изменятся эти статистики\n",
    "\n",
    "Сначала до замены:"
   ]
  },
  {
   "cell_type": "code",
   "execution_count": 27,
   "id": "bbc059eb",
   "metadata": {
    "scrolled": true
   },
   "outputs": [
    {
     "name": "stderr",
     "output_type": "stream",
     "text": [
      "C:\\ProgramData\\Anaconda3\\lib\\site-packages\\seaborn\\distributions.py:2619: FutureWarning: `distplot` is a deprecated function and will be removed in a future version. Please adapt your code to use either `displot` (a figure-level function with similar flexibility) or `histplot` (an axes-level function for histograms).\n",
      "  warnings.warn(msg, FutureWarning)\n"
     ]
    },
    {
     "name": "stdout",
     "output_type": "stream",
     "text": [
      "-5.586780973451328\n",
      "-3.0\n"
     ]
    },
    {
     "data": {
      "image/png": "[encoded data removed]",
      "text/plain": [
       "<Figure size 432x288 with 1 Axes>"
      ]
     },
     "metadata": {
      "needs_background": "light"
     },
     "output_type": "display_data"
    }
   ],
   "source": [
    "sns.distplot(df['years_employed'][df['years_employed'] <= 0])\n",
    "print(df['years_employed'][df['years_employed'] <= 0].mean())\n",
    "print(df['years_employed'][df['years_employed'] <= 0].median())"
   ]
  },
  {
   "cell_type": "markdown",
   "id": "0867bfc9",
   "metadata": {},
   "source": [
    "Заменим положительные значения на отрицательные, переведенные в сутки.<br>\n",
    "и посчитаем среднее  медиану"
   ]
  },
  {
   "cell_type": "code",
   "execution_count": 28,
   "id": "dc603752",
   "metadata": {},
   "outputs": [
    {
     "name": "stderr",
     "output_type": "stream",
     "text": [
      "C:\\ProgramData\\Anaconda3\\lib\\site-packages\\seaborn\\distributions.py:2619: FutureWarning: `distplot` is a deprecated function and will be removed in a future version. Please adapt your code to use either `displot` (a figure-level function with similar flexibility) or `histplot` (an axes-level function for histograms).\n",
      "  warnings.warn(msg, FutureWarning)\n"
     ]
    },
    {
     "name": "stdout",
     "output_type": "stream",
     "text": [
      "-11.353372048006188\n",
      "-4.0\n"
     ]
    },
    {
     "data": {
      "image/png": "[encoded data removed]",
      "text/plain": [
       "<Figure size 432x288 with 1 Axes>"
      ]
     },
     "metadata": {
      "needs_background": "light"
     },
     "output_type": "display_data"
    }
   ],
   "source": [
    "df.loc[df['years_employed'] >0, 'years_employed'] = -df['years_employed']/24\n",
    "sns.distplot(df['years_employed'])\n",
    "print(df['years_employed'].mean())\n",
    "print(df['years_employed'].median())"
   ]
  },
  {
   "cell_type": "markdown",
   "id": "693dcf5a",
   "metadata": {},
   "source": [
    "Видно, что аномальные положительные значения стажа после преобразования оказались в хвосте распределения. Учитывая, что таких значений много, около 15%, они существенно повлияли на средний стаж и даже на медианный стаж.\n",
    "Получается в рамках гипотезы про то, что аномальные положительные значения стажа это время в часах, замена аномалий существенно меняет статистики данных. Кроме того, не видно снижение распределения к хвосту (равномерное распределение), что также играет против гипотезы.\n",
    "\n",
    "Гипотеза не верна\n",
    "\n",
    "Вероятно проблема с форматом дат и считыванием либо проблема в каких-то опечатках, которые могли допустить возрастные люди.\n",
    "Тогда сделаем консервативную замену на медианное значение стажа. Считаем что это ошибки в данных, технический сбой.\n",
    "\n",
    "В данном случае нужно спросить у поставщиков данных почему возникла такая аномалия. Но для анализа может быть достаточно заменить их на медианный стаж. Посчитаем его"
   ]
  },
  {
   "cell_type": "code",
   "execution_count": 29,
   "id": "b031ce70",
   "metadata": {},
   "outputs": [
    {
     "data": {
      "text/plain": [
       "-3.692895310029178"
      ]
     },
     "execution_count": 29,
     "metadata": {},
     "output_type": "execute_result"
    }
   ],
   "source": [
    "median_days_employed = df['days_employed'][df['days_employed'] <= 0].median()\n",
    "median_days_employed/365"
   ]
  },
  {
   "cell_type": "markdown",
   "id": "9815f608",
   "metadata": {},
   "source": [
    "В целом, такой стаж не должен привести к ошибкам  вида \"стаж превышает возраст\". Стаж в 3,5 года выглядит разумным\n",
    "\n",
    "Делаем замены:"
   ]
  },
  {
   "cell_type": "code",
   "execution_count": 30,
   "id": "db0d4767",
   "metadata": {},
   "outputs": [],
   "source": [
    "df.loc[df['days_employed']>0,'days_employed'] = median_days_employed\n",
    "#df.loc[df['days_employed']>0,'days_employed'] = -df['days_employed']/24 гипотеза про то, что положительные значения - время в часах\n",
    "df['days_employed'] = -df['days_employed']\n"
   ]
  },
  {
   "cell_type": "markdown",
   "id": "990b4fee",
   "metadata": {},
   "source": [
    "Строим гистограмму, смотрим как выглядит она после замены"
   ]
  },
  {
   "cell_type": "code",
   "execution_count": 31,
   "id": "3f05ca22",
   "metadata": {
    "scrolled": false
   },
   "outputs": [
    {
     "name": "stderr",
     "output_type": "stream",
     "text": [
      "C:\\ProgramData\\Anaconda3\\lib\\site-packages\\seaborn\\distributions.py:2619: FutureWarning: `distplot` is a deprecated function and will be removed in a future version. Please adapt your code to use either `displot` (a figure-level function with similar flexibility) or `histplot` (an axes-level function for histograms).\n",
      "  warnings.warn(msg, FutureWarning)\n"
     ]
    },
    {
     "data": {
      "text/plain": [
       "<AxesSubplot:xlabel='years_employed', ylabel='Density'>"
      ]
     },
     "execution_count": 31,
     "metadata": {},
     "output_type": "execute_result"
    },
    {
     "data": {
      "image/png": "[encoded data removed]",
      "text/plain": [
       "<Figure size 432x288 with 1 Axes>"
      ]
     },
     "metadata": {
      "needs_background": "light"
     },
     "output_type": "display_data"
    }
   ],
   "source": [
    "df['years_employed'] = df['days_employed'] / 365\n",
    "sns.distplot(df['years_employed'])"
   ]
  },
  {
   "cell_type": "markdown",
   "id": "1dbc4cb7",
   "metadata": {},
   "source": [
    "В графике гистограммы виден пик. Его мы создали заменой на медианное значение. сначала мы пропуски меняли на медиану, а потом аномалии положительные тоже на медиану.\n",
    "Мне не нравится такая замена, но пока ничего лучшего не просматривается.\n",
    "\n"
   ]
  },
  {
   "cell_type": "markdown",
   "id": "87e06fbb",
   "metadata": {},
   "source": [
    "### Шаг 2.3. Изменение типов данных."
   ]
  },
  {
   "cell_type": "markdown",
   "id": "7b14055b",
   "metadata": {},
   "source": [
    "Заменим вещественный тип данных в столбце total_income на целочисленный и проверим результат"
   ]
  },
  {
   "cell_type": "code",
   "execution_count": 32,
   "id": "b3b9509f",
   "metadata": {},
   "outputs": [
    {
     "name": "stdout",
     "output_type": "stream",
     "text": [
      "<class 'pandas.core.frame.DataFrame'>\n",
      "RangeIndex: 21525 entries, 0 to 21524\n",
      "Data columns (total 13 columns):\n",
      " #   Column            Non-Null Count  Dtype  \n",
      "---  ------            --------------  -----  \n",
      " 0   children          21525 non-null  int64  \n",
      " 1   days_employed     21525 non-null  float64\n",
      " 2   dob_years         21525 non-null  int64  \n",
      " 3   education         21525 non-null  object \n",
      " 4   education_id      21525 non-null  int64  \n",
      " 5   family_status     21525 non-null  object \n",
      " 6   family_status_id  21525 non-null  int64  \n",
      " 7   gender            21525 non-null  object \n",
      " 8   income_type       21525 non-null  object \n",
      " 9   debt              21525 non-null  int64  \n",
      " 10  total_income      21525 non-null  int32  \n",
      " 11  purpose           21525 non-null  object \n",
      " 12  years_employed    21525 non-null  float64\n",
      "dtypes: float64(2), int32(1), int64(5), object(5)\n",
      "memory usage: 2.1+ MB\n"
     ]
    }
   ],
   "source": [
    "#приведение типа\n",
    "df['total_income'] = df['total_income'].astype('int')\n",
    "\n",
    "#смотрим\n",
    "df.info()"
   ]
  },
  {
   "cell_type": "markdown",
   "id": "8e170aa6",
   "metadata": {},
   "source": [
    "Все прошло успешно. Тип данных в столбце total_income теперь int"
   ]
  },
  {
   "cell_type": "markdown",
   "id": "6cd7e97e",
   "metadata": {},
   "source": [
    "### Шаг 2.4. Удаление дубликатов."
   ]
  },
  {
   "cell_type": "markdown",
   "id": "28cb5165",
   "metadata": {},
   "source": [
    "На этапе исследования данных в датасете были замечены неявные дубликаты в столбце education (значения отличаются только регистром), а также в столбце purpose, где одна и та же цель написана разными способами ('на проведение свадьбы', 'сыграть свадьбу', 'свадьба')\n",
    "\n",
    "Вероятно, неявные дубликаты в education образовались при объединении таблицы из разных источников, где они хранились в разных регистрах (где-то в нижнем, где-то в верхнем).\n",
    "вероятно, неявные дубликаты в purpose образовались по причине того, что заявители сами писали причину, поэтому возникло много вариантов написания одной и той же причины.\n",
    "\n",
    "Удалять дубликаты будем в 3 шага: \n",
    " - изучим\n",
    " - исправим неявные дубликаты\n",
    " - удалим явные дубликаты"
   ]
  },
  {
   "cell_type": "code",
   "execution_count": 33,
   "id": "49eb8f47",
   "metadata": {},
   "outputs": [
    {
     "name": "stdout",
     "output_type": "stream",
     "text": [
      "['ВЫСШЕЕ', 'Высшее', 'НАЧАЛЬНОЕ', 'НЕОКОНЧЕННОЕ ВЫСШЕЕ', 'Начальное', 'Неоконченное высшее', 'СРЕДНЕЕ', 'Среднее', 'УЧЕНАЯ СТЕПЕНЬ', 'Ученая степень', 'высшее', 'начальное', 'неоконченное высшее', 'среднее', 'ученая степень']\n"
     ]
    }
   ],
   "source": [
    "print(sorted(df['education'].unique()))"
   ]
  },
  {
   "cell_type": "markdown",
   "id": "d9d4eae4",
   "metadata": {},
   "source": [
    "приведем к нижнему регистру и проверим"
   ]
  },
  {
   "cell_type": "code",
   "execution_count": 34,
   "id": "183883a5",
   "metadata": {},
   "outputs": [
    {
     "name": "stdout",
     "output_type": "stream",
     "text": [
      "['высшее', 'начальное', 'неоконченное высшее', 'среднее', 'ученая степень']\n"
     ]
    }
   ],
   "source": [
    "df['education'] = df['education'].str.lower()\n",
    "\n",
    "# проверяем\n",
    "print(sorted(df['education'].unique()))"
   ]
  },
  {
   "cell_type": "markdown",
   "id": "78ee92f7",
   "metadata": {},
   "source": [
    "Успешно.\n",
    "\n",
    "Теперь столбец purpose"
   ]
  },
  {
   "cell_type": "code",
   "execution_count": 35,
   "id": "63f616c1",
   "metadata": {
    "scrolled": true
   },
   "outputs": [
    {
     "name": "stdout",
     "output_type": "stream",
     "text": [
      "['автомобили', 'автомобиль', 'высшее образование', 'дополнительное образование', 'жилье', 'заняться высшим образованием', 'заняться образованием', 'на покупку автомобиля', 'на покупку подержанного автомобиля', 'на покупку своего автомобиля', 'на проведение свадьбы', 'недвижимость', 'образование', 'операции с жильем', 'операции с коммерческой недвижимостью', 'операции с недвижимостью', 'операции со своей недвижимостью', 'покупка жилой недвижимости', 'покупка жилья', 'покупка жилья для сдачи', 'покупка жилья для семьи', 'покупка коммерческой недвижимости', 'покупка недвижимости', 'покупка своего жилья', 'получение высшего образования', 'получение дополнительного образования', 'получение образования', 'приобретение автомобиля', 'профильное образование', 'ремонт жилью', 'свадьба', 'свой автомобиль', 'сделка с автомобилем', 'сделка с подержанным автомобилем', 'строительство жилой недвижимости', 'строительство недвижимости', 'строительство собственной недвижимости', 'сыграть свадьбу']\n"
     ]
    }
   ],
   "source": [
    "print(sorted(df['purpose'].unique()))"
   ]
  },
  {
   "cell_type": "markdown",
   "id": "ed806a39",
   "metadata": {},
   "source": [
    "Напишем функцию замены и применим ее через apply()"
   ]
  },
  {
   "cell_type": "code",
   "execution_count": 36,
   "id": "9da72fe6",
   "metadata": {},
   "outputs": [
    {
     "name": "stdout",
     "output_type": "stream",
     "text": [
      "покупка жилья => недвижимость\n",
      "приобретение автомобиля => автомобиль\n",
      "дополнительное образование => образование\n",
      "сыграть свадьбу => свадьба\n",
      "операции с жильем => недвижимость\n",
      "образование => образование\n",
      "на проведение свадьбы => свадьба\n",
      "покупка жилья для семьи => недвижимость\n",
      "покупка недвижимости => недвижимость\n",
      "покупка коммерческой недвижимости => недвижимость\n",
      "покупка жилой недвижимости => недвижимость\n",
      "строительство собственной недвижимости => недвижимость\n",
      "недвижимость => недвижимость\n",
      "строительство недвижимости => недвижимость\n",
      "на покупку подержанного автомобиля => автомобиль\n",
      "на покупку своего автомобиля => автомобиль\n",
      "операции с коммерческой недвижимостью => недвижимость\n",
      "строительство жилой недвижимости => недвижимость\n",
      "жилье => недвижимость\n",
      "операции со своей недвижимостью => недвижимость\n",
      "автомобили => автомобиль\n",
      "заняться образованием => образование\n",
      "сделка с подержанным автомобилем => автомобиль\n",
      "получение образования => образование\n",
      "автомобиль => автомобиль\n",
      "свадьба => свадьба\n",
      "получение дополнительного образования => образование\n",
      "покупка своего жилья => недвижимость\n",
      "операции с недвижимостью => недвижимость\n",
      "получение высшего образования => образование\n",
      "свой автомобиль => автомобиль\n",
      "сделка с автомобилем => автомобиль\n",
      "профильное образование => образование\n",
      "высшее образование => образование\n",
      "покупка жилья для сдачи => недвижимость\n",
      "на покупку автомобиля => автомобиль\n",
      "ремонт жилью => недвижимость\n",
      "заняться высшим образованием => образование\n"
     ]
    }
   ],
   "source": [
    "def standart_purpose(str):\n",
    "    if 'свадьб' in str:\n",
    "        return 'свадьба'\n",
    "    elif 'авто' in str:\n",
    "        return 'автомобиль'\n",
    "    elif 'недвиж' in str:\n",
    "        return 'недвижимость'\n",
    "    elif 'жиль' in str:\n",
    "        return 'недвижимость'\n",
    "    elif 'образова' in str:\n",
    "        return 'образование'\n",
    "    else:\n",
    "        return str\n",
    "\n",
    "lst = list(df['purpose'].unique())\n",
    "for s in lst:\n",
    "    print(s + ' => ' + standart_purpose(s))"
   ]
  },
  {
   "cell_type": "markdown",
   "id": "05384136",
   "metadata": {},
   "source": [
    "Все хорошо. Делаем замены и проверяем результат"
   ]
  },
  {
   "cell_type": "code",
   "execution_count": 37,
   "id": "e46ef6cc",
   "metadata": {},
   "outputs": [
    {
     "name": "stdout",
     "output_type": "stream",
     "text": [
      "['автомобиль', 'недвижимость', 'образование', 'свадьба']\n"
     ]
    }
   ],
   "source": [
    "df['purpose'] = df['purpose'].apply(standart_purpose)\n",
    "\n",
    "# проверяем\n",
    "print(sorted(df['purpose'].unique()))"
   ]
  },
  {
   "cell_type": "markdown",
   "id": "fbab0809",
   "metadata": {},
   "source": [
    "Успешно.\n",
    "\n",
    "Теперь удалим дубликаты. При удалении мы удалим сразу все, и те что исходно были явными и те, что исходно были неявными\n",
    "\n",
    "После удаления посчитаем число строк дубликатов"
   ]
  },
  {
   "cell_type": "code",
   "execution_count": 38,
   "id": "77a1a53c",
   "metadata": {},
   "outputs": [
    {
     "data": {
      "text/plain": [
       "344"
      ]
     },
     "execution_count": 38,
     "metadata": {},
     "output_type": "execute_result"
    }
   ],
   "source": [
    "df.duplicated().sum()"
   ]
  },
  {
   "cell_type": "markdown",
   "id": "ecdc146a",
   "metadata": {},
   "source": [
    "проверим общую информацию в датафрейме (внимание на число строк)"
   ]
  },
  {
   "cell_type": "code",
   "execution_count": 39,
   "id": "bb06b48e",
   "metadata": {},
   "outputs": [
    {
     "name": "stdout",
     "output_type": "stream",
     "text": [
      "<class 'pandas.core.frame.DataFrame'>\n",
      "RangeIndex: 21181 entries, 0 to 21180\n",
      "Data columns (total 13 columns):\n",
      " #   Column            Non-Null Count  Dtype  \n",
      "---  ------            --------------  -----  \n",
      " 0   children          21181 non-null  int64  \n",
      " 1   days_employed     21181 non-null  float64\n",
      " 2   dob_years         21181 non-null  int64  \n",
      " 3   education         21181 non-null  object \n",
      " 4   education_id      21181 non-null  int64  \n",
      " 5   family_status     21181 non-null  object \n",
      " 6   family_status_id  21181 non-null  int64  \n",
      " 7   gender            21181 non-null  object \n",
      " 8   income_type       21181 non-null  object \n",
      " 9   debt              21181 non-null  int64  \n",
      " 10  total_income      21181 non-null  int32  \n",
      " 11  purpose           21181 non-null  object \n",
      " 12  years_employed    21181 non-null  float64\n",
      "dtypes: float64(2), int32(1), int64(5), object(5)\n",
      "memory usage: 2.0+ MB\n"
     ]
    }
   ],
   "source": [
    "df = df.drop_duplicates().reset_index(drop=True)\n",
    "df.info()"
   ]
  },
  {
   "cell_type": "markdown",
   "id": "42279379",
   "metadata": {},
   "source": [
    "Успешно"
   ]
  },
  {
   "cell_type": "markdown",
   "id": "525ecec2",
   "metadata": {},
   "source": [
    "### Шаг 2.5. Формирование дополнительных датафреймов словарей, декомпозиция исходного датафрейма."
   ]
  },
  {
   "cell_type": "markdown",
   "id": "30299506",
   "metadata": {},
   "source": [
    "Создаем словарь dic_education и проверяем"
   ]
  },
  {
   "cell_type": "code",
   "execution_count": 40,
   "id": "203e756d",
   "metadata": {
    "scrolled": true
   },
   "outputs": [
    {
     "data": {
      "text/html": [
       "<div>\n",
       "<style scoped>\n",
       "    .dataframe tbody tr th:only-of-type {\n",
       "        vertical-align: middle;\n",
       "    }\n",
       "\n",
       "    .dataframe tbody tr th {\n",
       "        vertical-align: top;\n",
       "    }\n",
       "\n",
       "    .dataframe thead th {\n",
       "        text-align: right;\n",
       "    }\n",
       "</style>\n",
       "<table border=\"1\" class=\"dataframe\">\n",
       "  <thead>\n",
       "    <tr style=\"text-align: right;\">\n",
       "      <th></th>\n",
       "      <th>education</th>\n",
       "      <th>education_id</th>\n",
       "    </tr>\n",
       "  </thead>\n",
       "  <tbody>\n",
       "    <tr>\n",
       "      <th>0</th>\n",
       "      <td>высшее</td>\n",
       "      <td>0</td>\n",
       "    </tr>\n",
       "    <tr>\n",
       "      <th>1</th>\n",
       "      <td>среднее</td>\n",
       "      <td>1</td>\n",
       "    </tr>\n",
       "    <tr>\n",
       "      <th>2</th>\n",
       "      <td>неоконченное высшее</td>\n",
       "      <td>2</td>\n",
       "    </tr>\n",
       "    <tr>\n",
       "      <th>3</th>\n",
       "      <td>начальное</td>\n",
       "      <td>3</td>\n",
       "    </tr>\n",
       "    <tr>\n",
       "      <th>4</th>\n",
       "      <td>ученая степень</td>\n",
       "      <td>4</td>\n",
       "    </tr>\n",
       "  </tbody>\n",
       "</table>\n",
       "</div>"
      ],
      "text/plain": [
       "             education  education_id\n",
       "0               высшее             0\n",
       "1              среднее             1\n",
       "2  неоконченное высшее             2\n",
       "3            начальное             3\n",
       "4       ученая степень             4"
      ]
     },
     "execution_count": 40,
     "metadata": {},
     "output_type": "execute_result"
    }
   ],
   "source": [
    "dic_education = df.loc[:,'education':'education_id'].drop_duplicates().reset_index(drop=True)\n",
    "dic_education"
   ]
  },
  {
   "cell_type": "markdown",
   "id": "a90b459f",
   "metadata": {},
   "source": [
    "Создаем словарь dic_family_status и проверяем"
   ]
  },
  {
   "cell_type": "code",
   "execution_count": 41,
   "id": "8297760b",
   "metadata": {},
   "outputs": [
    {
     "data": {
      "text/html": [
       "<div>\n",
       "<style scoped>\n",
       "    .dataframe tbody tr th:only-of-type {\n",
       "        vertical-align: middle;\n",
       "    }\n",
       "\n",
       "    .dataframe tbody tr th {\n",
       "        vertical-align: top;\n",
       "    }\n",
       "\n",
       "    .dataframe thead th {\n",
       "        text-align: right;\n",
       "    }\n",
       "</style>\n",
       "<table border=\"1\" class=\"dataframe\">\n",
       "  <thead>\n",
       "    <tr style=\"text-align: right;\">\n",
       "      <th></th>\n",
       "      <th>family_status</th>\n",
       "      <th>family_status_id</th>\n",
       "    </tr>\n",
       "  </thead>\n",
       "  <tbody>\n",
       "    <tr>\n",
       "      <th>0</th>\n",
       "      <td>женат / замужем</td>\n",
       "      <td>0</td>\n",
       "    </tr>\n",
       "    <tr>\n",
       "      <th>1</th>\n",
       "      <td>гражданский брак</td>\n",
       "      <td>1</td>\n",
       "    </tr>\n",
       "    <tr>\n",
       "      <th>2</th>\n",
       "      <td>вдовец / вдова</td>\n",
       "      <td>2</td>\n",
       "    </tr>\n",
       "    <tr>\n",
       "      <th>3</th>\n",
       "      <td>в разводе</td>\n",
       "      <td>3</td>\n",
       "    </tr>\n",
       "    <tr>\n",
       "      <th>4</th>\n",
       "      <td>Не женат / не замужем</td>\n",
       "      <td>4</td>\n",
       "    </tr>\n",
       "  </tbody>\n",
       "</table>\n",
       "</div>"
      ],
      "text/plain": [
       "           family_status  family_status_id\n",
       "0        женат / замужем                 0\n",
       "1       гражданский брак                 1\n",
       "2         вдовец / вдова                 2\n",
       "3              в разводе                 3\n",
       "4  Не женат / не замужем                 4"
      ]
     },
     "execution_count": 41,
     "metadata": {},
     "output_type": "execute_result"
    }
   ],
   "source": [
    "dic_family_status = df.loc[:,'family_status':'family_status_id'].drop_duplicates().reset_index(drop=True)\n",
    "dic_family_status"
   ]
  },
  {
   "cell_type": "markdown",
   "id": "efb2a550",
   "metadata": {},
   "source": [
    "Успешно\n",
    "\n",
    "Удаляем столбцы education и family_status из исходного датафрейма"
   ]
  },
  {
   "cell_type": "code",
   "execution_count": 42,
   "id": "d6db6aad",
   "metadata": {},
   "outputs": [
    {
     "name": "stdout",
     "output_type": "stream",
     "text": [
      "<class 'pandas.core.frame.DataFrame'>\n",
      "RangeIndex: 21181 entries, 0 to 21180\n",
      "Data columns (total 11 columns):\n",
      " #   Column            Non-Null Count  Dtype  \n",
      "---  ------            --------------  -----  \n",
      " 0   children          21181 non-null  int64  \n",
      " 1   days_employed     21181 non-null  float64\n",
      " 2   dob_years         21181 non-null  int64  \n",
      " 3   education_id      21181 non-null  int64  \n",
      " 4   family_status_id  21181 non-null  int64  \n",
      " 5   gender            21181 non-null  object \n",
      " 6   income_type       21181 non-null  object \n",
      " 7   debt              21181 non-null  int64  \n",
      " 8   total_income      21181 non-null  int32  \n",
      " 9   purpose           21181 non-null  object \n",
      " 10  years_employed    21181 non-null  float64\n",
      "dtypes: float64(2), int32(1), int64(5), object(3)\n",
      "memory usage: 1.7+ MB\n"
     ]
    }
   ],
   "source": [
    "df.pop('education')\n",
    "df.pop('family_status')\n",
    "df.info()"
   ]
  },
  {
   "cell_type": "markdown",
   "id": "5985dce2",
   "metadata": {},
   "source": [
    "Успешно"
   ]
  },
  {
   "cell_type": "markdown",
   "id": "c4ca175e",
   "metadata": {},
   "source": [
    "### Шаг 2.6. Категоризация дохода."
   ]
  },
  {
   "cell_type": "markdown",
   "id": "1aee1bb3",
   "metadata": {},
   "source": [
    "Создадим функцию, которая будет возвращать категорию. применим функцию через apply()\n",
    "\n",
    "создаем и тестируем"
   ]
  },
  {
   "cell_type": "code",
   "execution_count": 43,
   "id": "60a5edcb",
   "metadata": {},
   "outputs": [
    {
     "name": "stdout",
     "output_type": "stream",
     "text": [
      "-1: val = -50000: result = NEG\n",
      "0: val = 0: result = E\n",
      "13: val = 8192: result = E\n",
      "14: val = 16384: result = E\n",
      "15: val = 32768: result = D\n",
      "16: val = 65536: result = C\n",
      "17: val = 131072: result = C\n",
      "18: val = 262144: result = B\n",
      "19: val = 524288: result = B\n",
      "20: val = 1048576: result = A\n",
      "21: val = 2097152: result = A\n",
      "25000: val = 25000: result = not numeric income\n"
     ]
    }
   ],
   "source": [
    "def set_category(val):\n",
    "    try:\n",
    "        #val = val*1\n",
    "\n",
    "        if val < 0:\n",
    "            return 'NEG'\n",
    "        elif val <= 30000:\n",
    "            return 'E'\n",
    "        elif val <= 50000:\n",
    "            return 'D'\n",
    "        elif val <= 200000:\n",
    "            return 'C'\n",
    "        elif val <= 1000000:\n",
    "            return 'B'\n",
    "        else:\n",
    "            return 'A'\n",
    "    except:\n",
    "        return 'not numeric income'\n",
    "\n",
    "print(str(-1) + ': val = ' + str(-50000) + ': result = ' + set_category(-50000))\n",
    "print(str(0) + ': val = ' + str(0) + ': result = ' + set_category(0))\n",
    "for v in range(22)[13:]:\n",
    "    print(str(v) + ': val = ' + str(2**v) + ': result = ' + set_category(2**v))\n",
    "print('25000' + ': val = ' + str('25000') + ': result = ' + set_category('25000'))"
   ]
  },
  {
   "cell_type": "markdown",
   "id": "7a8e18af",
   "metadata": {},
   "source": [
    "Применяем и создаем столбец 'total_income_category' и проверяем"
   ]
  },
  {
   "cell_type": "code",
   "execution_count": 44,
   "id": "2775b8f0",
   "metadata": {},
   "outputs": [
    {
     "name": "stdout",
     "output_type": "stream",
     "text": [
      "['A', 'B', 'C', 'D', 'E']\n"
     ]
    },
    {
     "data": {
      "text/html": [
       "<div>\n",
       "<style scoped>\n",
       "    .dataframe tbody tr th:only-of-type {\n",
       "        vertical-align: middle;\n",
       "    }\n",
       "\n",
       "    .dataframe tbody tr th {\n",
       "        vertical-align: top;\n",
       "    }\n",
       "\n",
       "    .dataframe thead th {\n",
       "        text-align: right;\n",
       "    }\n",
       "</style>\n",
       "<table border=\"1\" class=\"dataframe\">\n",
       "  <thead>\n",
       "    <tr style=\"text-align: right;\">\n",
       "      <th></th>\n",
       "      <th>children</th>\n",
       "      <th>days_employed</th>\n",
       "      <th>dob_years</th>\n",
       "      <th>education_id</th>\n",
       "      <th>family_status_id</th>\n",
       "      <th>gender</th>\n",
       "      <th>income_type</th>\n",
       "      <th>debt</th>\n",
       "      <th>total_income</th>\n",
       "      <th>purpose</th>\n",
       "      <th>years_employed</th>\n",
       "      <th>total_income_category</th>\n",
       "    </tr>\n",
       "  </thead>\n",
       "  <tbody>\n",
       "    <tr>\n",
       "      <th>0</th>\n",
       "      <td>1</td>\n",
       "      <td>8437.673028</td>\n",
       "      <td>42</td>\n",
       "      <td>0</td>\n",
       "      <td>0</td>\n",
       "      <td>F</td>\n",
       "      <td>сотрудник</td>\n",
       "      <td>0</td>\n",
       "      <td>253875</td>\n",
       "      <td>недвижимость</td>\n",
       "      <td>23.116912</td>\n",
       "      <td>B</td>\n",
       "    </tr>\n",
       "    <tr>\n",
       "      <th>1</th>\n",
       "      <td>1</td>\n",
       "      <td>4024.803754</td>\n",
       "      <td>36</td>\n",
       "      <td>1</td>\n",
       "      <td>0</td>\n",
       "      <td>F</td>\n",
       "      <td>сотрудник</td>\n",
       "      <td>0</td>\n",
       "      <td>112080</td>\n",
       "      <td>автомобиль</td>\n",
       "      <td>11.026860</td>\n",
       "      <td>C</td>\n",
       "    </tr>\n",
       "    <tr>\n",
       "      <th>2</th>\n",
       "      <td>0</td>\n",
       "      <td>5623.422610</td>\n",
       "      <td>33</td>\n",
       "      <td>1</td>\n",
       "      <td>0</td>\n",
       "      <td>M</td>\n",
       "      <td>сотрудник</td>\n",
       "      <td>0</td>\n",
       "      <td>145885</td>\n",
       "      <td>недвижимость</td>\n",
       "      <td>15.406637</td>\n",
       "      <td>C</td>\n",
       "    </tr>\n",
       "    <tr>\n",
       "      <th>3</th>\n",
       "      <td>3</td>\n",
       "      <td>4124.747207</td>\n",
       "      <td>32</td>\n",
       "      <td>1</td>\n",
       "      <td>0</td>\n",
       "      <td>M</td>\n",
       "      <td>сотрудник</td>\n",
       "      <td>0</td>\n",
       "      <td>267628</td>\n",
       "      <td>образование</td>\n",
       "      <td>11.300677</td>\n",
       "      <td>B</td>\n",
       "    </tr>\n",
       "    <tr>\n",
       "      <th>4</th>\n",
       "      <td>0</td>\n",
       "      <td>1347.906788</td>\n",
       "      <td>53</td>\n",
       "      <td>1</td>\n",
       "      <td>1</td>\n",
       "      <td>F</td>\n",
       "      <td>пенсионер</td>\n",
       "      <td>0</td>\n",
       "      <td>158616</td>\n",
       "      <td>свадьба</td>\n",
       "      <td>3.692895</td>\n",
       "      <td>C</td>\n",
       "    </tr>\n",
       "    <tr>\n",
       "      <th>5</th>\n",
       "      <td>0</td>\n",
       "      <td>926.185831</td>\n",
       "      <td>27</td>\n",
       "      <td>0</td>\n",
       "      <td>1</td>\n",
       "      <td>M</td>\n",
       "      <td>компаньон</td>\n",
       "      <td>0</td>\n",
       "      <td>255763</td>\n",
       "      <td>недвижимость</td>\n",
       "      <td>2.537495</td>\n",
       "      <td>B</td>\n",
       "    </tr>\n",
       "    <tr>\n",
       "      <th>6</th>\n",
       "      <td>0</td>\n",
       "      <td>2879.202052</td>\n",
       "      <td>43</td>\n",
       "      <td>0</td>\n",
       "      <td>0</td>\n",
       "      <td>F</td>\n",
       "      <td>компаньон</td>\n",
       "      <td>0</td>\n",
       "      <td>240525</td>\n",
       "      <td>недвижимость</td>\n",
       "      <td>7.888225</td>\n",
       "      <td>B</td>\n",
       "    </tr>\n",
       "    <tr>\n",
       "      <th>7</th>\n",
       "      <td>0</td>\n",
       "      <td>152.779569</td>\n",
       "      <td>50</td>\n",
       "      <td>1</td>\n",
       "      <td>0</td>\n",
       "      <td>M</td>\n",
       "      <td>сотрудник</td>\n",
       "      <td>0</td>\n",
       "      <td>135823</td>\n",
       "      <td>образование</td>\n",
       "      <td>0.418574</td>\n",
       "      <td>C</td>\n",
       "    </tr>\n",
       "    <tr>\n",
       "      <th>8</th>\n",
       "      <td>2</td>\n",
       "      <td>6929.865299</td>\n",
       "      <td>35</td>\n",
       "      <td>0</td>\n",
       "      <td>1</td>\n",
       "      <td>F</td>\n",
       "      <td>сотрудник</td>\n",
       "      <td>0</td>\n",
       "      <td>95856</td>\n",
       "      <td>свадьба</td>\n",
       "      <td>18.985932</td>\n",
       "      <td>C</td>\n",
       "    </tr>\n",
       "    <tr>\n",
       "      <th>9</th>\n",
       "      <td>0</td>\n",
       "      <td>2188.756445</td>\n",
       "      <td>41</td>\n",
       "      <td>1</td>\n",
       "      <td>0</td>\n",
       "      <td>M</td>\n",
       "      <td>сотрудник</td>\n",
       "      <td>0</td>\n",
       "      <td>144425</td>\n",
       "      <td>недвижимость</td>\n",
       "      <td>5.996593</td>\n",
       "      <td>C</td>\n",
       "    </tr>\n",
       "    <tr>\n",
       "      <th>10</th>\n",
       "      <td>2</td>\n",
       "      <td>4171.483647</td>\n",
       "      <td>36</td>\n",
       "      <td>0</td>\n",
       "      <td>0</td>\n",
       "      <td>M</td>\n",
       "      <td>компаньон</td>\n",
       "      <td>0</td>\n",
       "      <td>113943</td>\n",
       "      <td>недвижимость</td>\n",
       "      <td>11.428722</td>\n",
       "      <td>C</td>\n",
       "    </tr>\n",
       "    <tr>\n",
       "      <th>11</th>\n",
       "      <td>0</td>\n",
       "      <td>792.701887</td>\n",
       "      <td>40</td>\n",
       "      <td>1</td>\n",
       "      <td>0</td>\n",
       "      <td>F</td>\n",
       "      <td>сотрудник</td>\n",
       "      <td>0</td>\n",
       "      <td>77069</td>\n",
       "      <td>недвижимость</td>\n",
       "      <td>2.171786</td>\n",
       "      <td>C</td>\n",
       "    </tr>\n",
       "    <tr>\n",
       "      <th>12</th>\n",
       "      <td>0</td>\n",
       "      <td>1203.369529</td>\n",
       "      <td>65</td>\n",
       "      <td>1</td>\n",
       "      <td>1</td>\n",
       "      <td>M</td>\n",
       "      <td>пенсионер</td>\n",
       "      <td>0</td>\n",
       "      <td>158752</td>\n",
       "      <td>свадьба</td>\n",
       "      <td>3.296903</td>\n",
       "      <td>C</td>\n",
       "    </tr>\n",
       "    <tr>\n",
       "      <th>13</th>\n",
       "      <td>0</td>\n",
       "      <td>1846.641941</td>\n",
       "      <td>54</td>\n",
       "      <td>2</td>\n",
       "      <td>0</td>\n",
       "      <td>F</td>\n",
       "      <td>сотрудник</td>\n",
       "      <td>0</td>\n",
       "      <td>130458</td>\n",
       "      <td>автомобиль</td>\n",
       "      <td>5.059293</td>\n",
       "      <td>C</td>\n",
       "    </tr>\n",
       "    <tr>\n",
       "      <th>14</th>\n",
       "      <td>0</td>\n",
       "      <td>1844.956182</td>\n",
       "      <td>56</td>\n",
       "      <td>0</td>\n",
       "      <td>1</td>\n",
       "      <td>F</td>\n",
       "      <td>компаньон</td>\n",
       "      <td>1</td>\n",
       "      <td>165127</td>\n",
       "      <td>недвижимость</td>\n",
       "      <td>5.054674</td>\n",
       "      <td>C</td>\n",
       "    </tr>\n",
       "  </tbody>\n",
       "</table>\n",
       "</div>"
      ],
      "text/plain": [
       "    children  days_employed  dob_years  education_id  family_status_id gender  \\\n",
       "0          1    8437.673028         42             0                 0      F   \n",
       "1          1    4024.803754         36             1                 0      F   \n",
       "2          0    5623.422610         33             1                 0      M   \n",
       "3          3    4124.747207         32             1                 0      M   \n",
       "4          0    1347.906788         53             1                 1      F   \n",
       "5          0     926.185831         27             0                 1      M   \n",
       "6          0    2879.202052         43             0                 0      F   \n",
       "7          0     152.779569         50             1                 0      M   \n",
       "8          2    6929.865299         35             0                 1      F   \n",
       "9          0    2188.756445         41             1                 0      M   \n",
       "10         2    4171.483647         36             0                 0      M   \n",
       "11         0     792.701887         40             1                 0      F   \n",
       "12         0    1203.369529         65             1                 1      M   \n",
       "13         0    1846.641941         54             2                 0      F   \n",
       "14         0    1844.956182         56             0                 1      F   \n",
       "\n",
       "   income_type  debt  total_income       purpose  years_employed  \\\n",
       "0    сотрудник     0        253875  недвижимость       23.116912   \n",
       "1    сотрудник     0        112080    автомобиль       11.026860   \n",
       "2    сотрудник     0        145885  недвижимость       15.406637   \n",
       "3    сотрудник     0        267628   образование       11.300677   \n",
       "4    пенсионер     0        158616       свадьба        3.692895   \n",
       "5    компаньон     0        255763  недвижимость        2.537495   \n",
       "6    компаньон     0        240525  недвижимость        7.888225   \n",
       "7    сотрудник     0        135823   образование        0.418574   \n",
       "8    сотрудник     0         95856       свадьба       18.985932   \n",
       "9    сотрудник     0        144425  недвижимость        5.996593   \n",
       "10   компаньон     0        113943  недвижимость       11.428722   \n",
       "11   сотрудник     0         77069  недвижимость        2.171786   \n",
       "12   пенсионер     0        158752       свадьба        3.296903   \n",
       "13   сотрудник     0        130458    автомобиль        5.059293   \n",
       "14   компаньон     1        165127  недвижимость        5.054674   \n",
       "\n",
       "   total_income_category  \n",
       "0                      B  \n",
       "1                      C  \n",
       "2                      C  \n",
       "3                      B  \n",
       "4                      C  \n",
       "5                      B  \n",
       "6                      B  \n",
       "7                      C  \n",
       "8                      C  \n",
       "9                      C  \n",
       "10                     C  \n",
       "11                     C  \n",
       "12                     C  \n",
       "13                     C  \n",
       "14                     C  "
      ]
     },
     "execution_count": 44,
     "metadata": {},
     "output_type": "execute_result"
    }
   ],
   "source": [
    "df['total_income_category'] = df['total_income'].apply(set_category)\n",
    "# проверяем\n",
    "print(sorted(df['total_income_category'].unique()))\n",
    "\n",
    "df.head(15)\n"
   ]
  },
  {
   "cell_type": "markdown",
   "id": "d9b717d7",
   "metadata": {},
   "source": [
    "Успешно"
   ]
  },
  {
   "cell_type": "markdown",
   "id": "ad607748",
   "metadata": {},
   "source": [
    "### Шаг 2.7. Категоризация целей кредита."
   ]
  },
  {
   "cell_type": "markdown",
   "id": "c6e8e0c2",
   "metadata": {},
   "source": [
    "Это мы уже почти сделали на этапе 2.4 удаления неявных дубликатов. Там как раз писал UDF и через apply удалял дубликаты\n",
    "\n",
    "Создадим столбец purpose_category и сформируем записи по стандарту"
   ]
  },
  {
   "cell_type": "code",
   "execution_count": 45,
   "id": "956e115d",
   "metadata": {
    "scrolled": true
   },
   "outputs": [
    {
     "name": "stdout",
     "output_type": "stream",
     "text": [
      "['операции с автомобилем', 'операции с недвижимостью', 'получение образования', 'проведение свадьбы']\n"
     ]
    },
    {
     "data": {
      "text/html": [
       "<div>\n",
       "<style scoped>\n",
       "    .dataframe tbody tr th:only-of-type {\n",
       "        vertical-align: middle;\n",
       "    }\n",
       "\n",
       "    .dataframe tbody tr th {\n",
       "        vertical-align: top;\n",
       "    }\n",
       "\n",
       "    .dataframe thead th {\n",
       "        text-align: right;\n",
       "    }\n",
       "</style>\n",
       "<table border=\"1\" class=\"dataframe\">\n",
       "  <thead>\n",
       "    <tr style=\"text-align: right;\">\n",
       "      <th></th>\n",
       "      <th>children</th>\n",
       "      <th>days_employed</th>\n",
       "      <th>dob_years</th>\n",
       "      <th>education_id</th>\n",
       "      <th>family_status_id</th>\n",
       "      <th>gender</th>\n",
       "      <th>income_type</th>\n",
       "      <th>debt</th>\n",
       "      <th>total_income</th>\n",
       "      <th>purpose</th>\n",
       "      <th>years_employed</th>\n",
       "      <th>total_income_category</th>\n",
       "      <th>purpose_category</th>\n",
       "    </tr>\n",
       "  </thead>\n",
       "  <tbody>\n",
       "    <tr>\n",
       "      <th>0</th>\n",
       "      <td>1</td>\n",
       "      <td>8437.673028</td>\n",
       "      <td>42</td>\n",
       "      <td>0</td>\n",
       "      <td>0</td>\n",
       "      <td>F</td>\n",
       "      <td>сотрудник</td>\n",
       "      <td>0</td>\n",
       "      <td>253875</td>\n",
       "      <td>недвижимость</td>\n",
       "      <td>23.116912</td>\n",
       "      <td>B</td>\n",
       "      <td>операции с недвижимостью</td>\n",
       "    </tr>\n",
       "    <tr>\n",
       "      <th>1</th>\n",
       "      <td>1</td>\n",
       "      <td>4024.803754</td>\n",
       "      <td>36</td>\n",
       "      <td>1</td>\n",
       "      <td>0</td>\n",
       "      <td>F</td>\n",
       "      <td>сотрудник</td>\n",
       "      <td>0</td>\n",
       "      <td>112080</td>\n",
       "      <td>автомобиль</td>\n",
       "      <td>11.026860</td>\n",
       "      <td>C</td>\n",
       "      <td>операции с автомобилем</td>\n",
       "    </tr>\n",
       "    <tr>\n",
       "      <th>2</th>\n",
       "      <td>0</td>\n",
       "      <td>5623.422610</td>\n",
       "      <td>33</td>\n",
       "      <td>1</td>\n",
       "      <td>0</td>\n",
       "      <td>M</td>\n",
       "      <td>сотрудник</td>\n",
       "      <td>0</td>\n",
       "      <td>145885</td>\n",
       "      <td>недвижимость</td>\n",
       "      <td>15.406637</td>\n",
       "      <td>C</td>\n",
       "      <td>операции с недвижимостью</td>\n",
       "    </tr>\n",
       "    <tr>\n",
       "      <th>3</th>\n",
       "      <td>3</td>\n",
       "      <td>4124.747207</td>\n",
       "      <td>32</td>\n",
       "      <td>1</td>\n",
       "      <td>0</td>\n",
       "      <td>M</td>\n",
       "      <td>сотрудник</td>\n",
       "      <td>0</td>\n",
       "      <td>267628</td>\n",
       "      <td>образование</td>\n",
       "      <td>11.300677</td>\n",
       "      <td>B</td>\n",
       "      <td>получение образования</td>\n",
       "    </tr>\n",
       "    <tr>\n",
       "      <th>4</th>\n",
       "      <td>0</td>\n",
       "      <td>1347.906788</td>\n",
       "      <td>53</td>\n",
       "      <td>1</td>\n",
       "      <td>1</td>\n",
       "      <td>F</td>\n",
       "      <td>пенсионер</td>\n",
       "      <td>0</td>\n",
       "      <td>158616</td>\n",
       "      <td>свадьба</td>\n",
       "      <td>3.692895</td>\n",
       "      <td>C</td>\n",
       "      <td>проведение свадьбы</td>\n",
       "    </tr>\n",
       "    <tr>\n",
       "      <th>5</th>\n",
       "      <td>0</td>\n",
       "      <td>926.185831</td>\n",
       "      <td>27</td>\n",
       "      <td>0</td>\n",
       "      <td>1</td>\n",
       "      <td>M</td>\n",
       "      <td>компаньон</td>\n",
       "      <td>0</td>\n",
       "      <td>255763</td>\n",
       "      <td>недвижимость</td>\n",
       "      <td>2.537495</td>\n",
       "      <td>B</td>\n",
       "      <td>операции с недвижимостью</td>\n",
       "    </tr>\n",
       "    <tr>\n",
       "      <th>6</th>\n",
       "      <td>0</td>\n",
       "      <td>2879.202052</td>\n",
       "      <td>43</td>\n",
       "      <td>0</td>\n",
       "      <td>0</td>\n",
       "      <td>F</td>\n",
       "      <td>компаньон</td>\n",
       "      <td>0</td>\n",
       "      <td>240525</td>\n",
       "      <td>недвижимость</td>\n",
       "      <td>7.888225</td>\n",
       "      <td>B</td>\n",
       "      <td>операции с недвижимостью</td>\n",
       "    </tr>\n",
       "    <tr>\n",
       "      <th>7</th>\n",
       "      <td>0</td>\n",
       "      <td>152.779569</td>\n",
       "      <td>50</td>\n",
       "      <td>1</td>\n",
       "      <td>0</td>\n",
       "      <td>M</td>\n",
       "      <td>сотрудник</td>\n",
       "      <td>0</td>\n",
       "      <td>135823</td>\n",
       "      <td>образование</td>\n",
       "      <td>0.418574</td>\n",
       "      <td>C</td>\n",
       "      <td>получение образования</td>\n",
       "    </tr>\n",
       "    <tr>\n",
       "      <th>8</th>\n",
       "      <td>2</td>\n",
       "      <td>6929.865299</td>\n",
       "      <td>35</td>\n",
       "      <td>0</td>\n",
       "      <td>1</td>\n",
       "      <td>F</td>\n",
       "      <td>сотрудник</td>\n",
       "      <td>0</td>\n",
       "      <td>95856</td>\n",
       "      <td>свадьба</td>\n",
       "      <td>18.985932</td>\n",
       "      <td>C</td>\n",
       "      <td>проведение свадьбы</td>\n",
       "    </tr>\n",
       "    <tr>\n",
       "      <th>9</th>\n",
       "      <td>0</td>\n",
       "      <td>2188.756445</td>\n",
       "      <td>41</td>\n",
       "      <td>1</td>\n",
       "      <td>0</td>\n",
       "      <td>M</td>\n",
       "      <td>сотрудник</td>\n",
       "      <td>0</td>\n",
       "      <td>144425</td>\n",
       "      <td>недвижимость</td>\n",
       "      <td>5.996593</td>\n",
       "      <td>C</td>\n",
       "      <td>операции с недвижимостью</td>\n",
       "    </tr>\n",
       "  </tbody>\n",
       "</table>\n",
       "</div>"
      ],
      "text/plain": [
       "   children  days_employed  dob_years  education_id  family_status_id gender  \\\n",
       "0         1    8437.673028         42             0                 0      F   \n",
       "1         1    4024.803754         36             1                 0      F   \n",
       "2         0    5623.422610         33             1                 0      M   \n",
       "3         3    4124.747207         32             1                 0      M   \n",
       "4         0    1347.906788         53             1                 1      F   \n",
       "5         0     926.185831         27             0                 1      M   \n",
       "6         0    2879.202052         43             0                 0      F   \n",
       "7         0     152.779569         50             1                 0      M   \n",
       "8         2    6929.865299         35             0                 1      F   \n",
       "9         0    2188.756445         41             1                 0      M   \n",
       "\n",
       "  income_type  debt  total_income       purpose  years_employed  \\\n",
       "0   сотрудник     0        253875  недвижимость       23.116912   \n",
       "1   сотрудник     0        112080    автомобиль       11.026860   \n",
       "2   сотрудник     0        145885  недвижимость       15.406637   \n",
       "3   сотрудник     0        267628   образование       11.300677   \n",
       "4   пенсионер     0        158616       свадьба        3.692895   \n",
       "5   компаньон     0        255763  недвижимость        2.537495   \n",
       "6   компаньон     0        240525  недвижимость        7.888225   \n",
       "7   сотрудник     0        135823   образование        0.418574   \n",
       "8   сотрудник     0         95856       свадьба       18.985932   \n",
       "9   сотрудник     0        144425  недвижимость        5.996593   \n",
       "\n",
       "  total_income_category          purpose_category  \n",
       "0                     B  операции с недвижимостью  \n",
       "1                     C    операции с автомобилем  \n",
       "2                     C  операции с недвижимостью  \n",
       "3                     B     получение образования  \n",
       "4                     C        проведение свадьбы  \n",
       "5                     B  операции с недвижимостью  \n",
       "6                     B  операции с недвижимостью  \n",
       "7                     C     получение образования  \n",
       "8                     C        проведение свадьбы  \n",
       "9                     C  операции с недвижимостью  "
      ]
     },
     "execution_count": 45,
     "metadata": {},
     "output_type": "execute_result"
    }
   ],
   "source": [
    "dict_P = {'автомобиль': 'операции с автомобилем', 'недвижимость':'операции с недвижимостью', 'образование':'получение образования', 'свадьба':'проведение свадьбы'}\n",
    "df['purpose_category'] = df['purpose'].map(dict_P)\n",
    "\n",
    "# проверяем\n",
    "print(sorted(df['purpose_category'].unique()))\n",
    "\n",
    "df.head(10)"
   ]
  },
  {
   "cell_type": "markdown",
   "id": "3899e2c7",
   "metadata": {},
   "source": [
    "### Шаг 2.8. Категоризация возраста."
   ]
  },
  {
   "cell_type": "code",
   "execution_count": 46,
   "id": "d439663a",
   "metadata": {},
   "outputs": [
    {
     "name": "stdout",
     "output_type": "stream",
     "text": [
      "-1: val = -5: result = NEGATIVE\n",
      "val = 0: result = 01-18\n",
      "val = 5: result = 01-18\n",
      "val = 10: result = 01-18\n",
      "val = 15: result = 01-18\n",
      "val = 20: result = 19-30\n",
      "val = 25: result = 19-30\n",
      "val = 30: result = 19-30\n",
      "val = 35: result = 31-40\n",
      "val = 40: result = 31-40\n",
      "val = 45: result = 41-60\n",
      "val = 50: result = 41-60\n",
      "val = 55: result = 41-60\n",
      "val = 60: result = 41-60\n",
      "val = 65: result = 60-70\n",
      "val = 70: result = 60-70\n",
      "val = 75: result = 71+\n",
      "val = 80: result = 71+\n",
      "val = 85: result = 71+\n",
      "val = 90: result = 71+\n",
      "val = 95: result = 71+\n",
      "25: val = 25: result = not numeric age\n"
     ]
    }
   ],
   "source": [
    "def set_age_cat(val):\n",
    "    try:\n",
    "        val = val*1\n",
    "\n",
    "        if val < 0:\n",
    "            return 'NEGATIVE'\n",
    "        elif val <= 18:\n",
    "            return '01-18'\n",
    "        elif val <= 30:\n",
    "            return '19-30'\n",
    "        elif val <= 40:\n",
    "            return '31-40'\n",
    "        elif val <= 60:\n",
    "            return '41-60'\n",
    "        elif val <= 70:\n",
    "            return '60-70'\n",
    "        else:\n",
    "            return '71+'\n",
    "    except:\n",
    "        return 'not numeric age'\n",
    "\n",
    "print(str(-1) + ': val = ' + str(-5) + ': result = ' + set_age_cat(-50000))\n",
    "for v in range(20):\n",
    "    print('val = ' + str(5*v) + ': result = ' + set_age_cat(5*v))\n",
    "print('25' + ': val = ' + str('25') + ': result = ' + set_age_cat('25'))"
   ]
  },
  {
   "cell_type": "markdown",
   "id": "47f4e77b",
   "metadata": {},
   "source": [
    "Создаем столбец dob_years_category с категорией возраста заемщика"
   ]
  },
  {
   "cell_type": "code",
   "execution_count": 47,
   "id": "cdae97fb",
   "metadata": {},
   "outputs": [
    {
     "name": "stdout",
     "output_type": "stream",
     "text": [
      "[Interval(18.0, 30.0, closed='right'), Interval(30.0, 40.0, closed='right'), Interval(40.0, 60.0, closed='right'), Interval(60.0, 70.0, closed='right'), Interval(70.0, inf, closed='right')]\n"
     ]
    },
    {
     "data": {
      "text/html": [
       "<div>\n",
       "<style scoped>\n",
       "    .dataframe tbody tr th:only-of-type {\n",
       "        vertical-align: middle;\n",
       "    }\n",
       "\n",
       "    .dataframe tbody tr th {\n",
       "        vertical-align: top;\n",
       "    }\n",
       "\n",
       "    .dataframe thead th {\n",
       "        text-align: right;\n",
       "    }\n",
       "</style>\n",
       "<table border=\"1\" class=\"dataframe\">\n",
       "  <thead>\n",
       "    <tr style=\"text-align: right;\">\n",
       "      <th></th>\n",
       "      <th>children</th>\n",
       "      <th>days_employed</th>\n",
       "      <th>dob_years</th>\n",
       "      <th>education_id</th>\n",
       "      <th>family_status_id</th>\n",
       "      <th>gender</th>\n",
       "      <th>income_type</th>\n",
       "      <th>debt</th>\n",
       "      <th>total_income</th>\n",
       "      <th>purpose</th>\n",
       "      <th>years_employed</th>\n",
       "      <th>total_income_category</th>\n",
       "      <th>purpose_category</th>\n",
       "      <th>dob_years_category</th>\n",
       "    </tr>\n",
       "  </thead>\n",
       "  <tbody>\n",
       "    <tr>\n",
       "      <th>0</th>\n",
       "      <td>1</td>\n",
       "      <td>8437.673028</td>\n",
       "      <td>42</td>\n",
       "      <td>0</td>\n",
       "      <td>0</td>\n",
       "      <td>F</td>\n",
       "      <td>сотрудник</td>\n",
       "      <td>0</td>\n",
       "      <td>253875</td>\n",
       "      <td>недвижимость</td>\n",
       "      <td>23.116912</td>\n",
       "      <td>B</td>\n",
       "      <td>операции с недвижимостью</td>\n",
       "      <td>(40.0, 60.0]</td>\n",
       "    </tr>\n",
       "    <tr>\n",
       "      <th>1</th>\n",
       "      <td>1</td>\n",
       "      <td>4024.803754</td>\n",
       "      <td>36</td>\n",
       "      <td>1</td>\n",
       "      <td>0</td>\n",
       "      <td>F</td>\n",
       "      <td>сотрудник</td>\n",
       "      <td>0</td>\n",
       "      <td>112080</td>\n",
       "      <td>автомобиль</td>\n",
       "      <td>11.026860</td>\n",
       "      <td>C</td>\n",
       "      <td>операции с автомобилем</td>\n",
       "      <td>(30.0, 40.0]</td>\n",
       "    </tr>\n",
       "    <tr>\n",
       "      <th>2</th>\n",
       "      <td>0</td>\n",
       "      <td>5623.422610</td>\n",
       "      <td>33</td>\n",
       "      <td>1</td>\n",
       "      <td>0</td>\n",
       "      <td>M</td>\n",
       "      <td>сотрудник</td>\n",
       "      <td>0</td>\n",
       "      <td>145885</td>\n",
       "      <td>недвижимость</td>\n",
       "      <td>15.406637</td>\n",
       "      <td>C</td>\n",
       "      <td>операции с недвижимостью</td>\n",
       "      <td>(30.0, 40.0]</td>\n",
       "    </tr>\n",
       "    <tr>\n",
       "      <th>3</th>\n",
       "      <td>3</td>\n",
       "      <td>4124.747207</td>\n",
       "      <td>32</td>\n",
       "      <td>1</td>\n",
       "      <td>0</td>\n",
       "      <td>M</td>\n",
       "      <td>сотрудник</td>\n",
       "      <td>0</td>\n",
       "      <td>267628</td>\n",
       "      <td>образование</td>\n",
       "      <td>11.300677</td>\n",
       "      <td>B</td>\n",
       "      <td>получение образования</td>\n",
       "      <td>(30.0, 40.0]</td>\n",
       "    </tr>\n",
       "    <tr>\n",
       "      <th>4</th>\n",
       "      <td>0</td>\n",
       "      <td>1347.906788</td>\n",
       "      <td>53</td>\n",
       "      <td>1</td>\n",
       "      <td>1</td>\n",
       "      <td>F</td>\n",
       "      <td>пенсионер</td>\n",
       "      <td>0</td>\n",
       "      <td>158616</td>\n",
       "      <td>свадьба</td>\n",
       "      <td>3.692895</td>\n",
       "      <td>C</td>\n",
       "      <td>проведение свадьбы</td>\n",
       "      <td>(40.0, 60.0]</td>\n",
       "    </tr>\n",
       "  </tbody>\n",
       "</table>\n",
       "</div>"
      ],
      "text/plain": [
       "   children  days_employed  dob_years  education_id  family_status_id gender  \\\n",
       "0         1    8437.673028         42             0                 0      F   \n",
       "1         1    4024.803754         36             1                 0      F   \n",
       "2         0    5623.422610         33             1                 0      M   \n",
       "3         3    4124.747207         32             1                 0      M   \n",
       "4         0    1347.906788         53             1                 1      F   \n",
       "\n",
       "  income_type  debt  total_income       purpose  years_employed  \\\n",
       "0   сотрудник     0        253875  недвижимость       23.116912   \n",
       "1   сотрудник     0        112080    автомобиль       11.026860   \n",
       "2   сотрудник     0        145885  недвижимость       15.406637   \n",
       "3   сотрудник     0        267628   образование       11.300677   \n",
       "4   пенсионер     0        158616       свадьба        3.692895   \n",
       "\n",
       "  total_income_category          purpose_category dob_years_category  \n",
       "0                     B  операции с недвижимостью       (40.0, 60.0]  \n",
       "1                     C    операции с автомобилем       (30.0, 40.0]  \n",
       "2                     C  операции с недвижимостью       (30.0, 40.0]  \n",
       "3                     B     получение образования       (30.0, 40.0]  \n",
       "4                     C        проведение свадьбы       (40.0, 60.0]  "
      ]
     },
     "execution_count": 47,
     "metadata": {},
     "output_type": "execute_result"
    }
   ],
   "source": [
    "#df['dob_years_category'] = df['dob_years'].apply(set_age_cat)\n",
    "df['dob_years_category'] = pd.cut(df['dob_years'], [-float('inf'), 0, 18, 30, 40, 60, 70, float('inf')])\n",
    "# проверяем\n",
    "print(sorted(df['dob_years_category'].unique()))\n",
    "\n",
    "df.head(5)"
   ]
  },
  {
   "cell_type": "markdown",
   "id": "5b3c76be",
   "metadata": {},
   "source": [
    "### Шаг 2.9. Категоризация трудового стажа."
   ]
  },
  {
   "cell_type": "markdown",
   "id": "6db11a64",
   "metadata": {},
   "source": [
    "<b>Комментарий студента:</b>\n",
    "<br>Это не входило в исходное задание. Сделал дополнительно\n",
    "</div>\n",
    "Пишем UDF для категории стажа и проверяем(тестируем) ее работу"
   ]
  },
  {
   "cell_type": "code",
   "execution_count": 48,
   "id": "29f0ce65",
   "metadata": {},
   "outputs": [
    {
     "name": "stdout",
     "output_type": "stream",
     "text": [
      "-1: val = -5: result = NEGATIVE\n",
      "val = 0: result = 00-01\n",
      "val = 1: result = 00-01\n",
      "val = 2: result = 02-03\n",
      "val = 3: result = 02-03\n",
      "val = 4: result = 04-07\n",
      "val = 5: result = 04-07\n",
      "val = 6: result = 04-07\n",
      "val = 7: result = 04-07\n",
      "val = 8: result = 08-15\n",
      "val = 9: result = 08-15\n",
      "val = 10: result = 08-15\n",
      "val = 11: result = 08-15\n",
      "val = 12: result = 08-15\n",
      "val = 13: result = 08-15\n",
      "val = 14: result = 08-15\n",
      "val = 15: result = 08-15\n",
      "val = 16: result = 16-30\n",
      "val = 17: result = 16-30\n",
      "val = 18: result = 16-30\n",
      "val = 19: result = 16-30\n",
      "val = 20: result = 16-30\n",
      "val = 21: result = 16-30\n",
      "val = 22: result = 16-30\n",
      "val = 23: result = 16-30\n",
      "val = 24: result = 16-30\n",
      "val = 25: result = 16-30\n",
      "val = 26: result = 16-30\n",
      "val = 27: result = 16-30\n",
      "val = 28: result = 16-30\n",
      "val = 29: result = 16-30\n",
      "val = 30: result = 16-30\n",
      "val = 31: result = 31+\n",
      "val = 32: result = 31+\n",
      "val = 33: result = 31+\n",
      "val = 34: result = 31+\n",
      "25: val = 25: result = not numeric age\n"
     ]
    }
   ],
   "source": [
    "def set_years_employed_cat(val):\n",
    "    try:\n",
    "        val = val*1\n",
    "\n",
    "        if val < 0:\n",
    "            return 'NEGATIVE'\n",
    "        elif val <= 1:\n",
    "            return '00-01'\n",
    "        elif val <= 3:\n",
    "            return '02-03'\n",
    "        elif val <= 7:\n",
    "            return '04-07'\n",
    "        elif val <= 15:\n",
    "            return '08-15'\n",
    "        elif val <= 30:\n",
    "            return '16-30'\n",
    "        else:\n",
    "            return '31+'\n",
    "    except:\n",
    "        return 'not numeric age'\n",
    "\n",
    "print(str(-1) + ': val = ' + str(-5) + ': result = ' + set_years_employed_cat(-50000))\n",
    "for v in range(35):\n",
    "    print('val = ' + str(v) + ': result = ' + set_years_employed_cat(v))\n",
    "print('25' + ': val = ' + str('25') + ': result = ' + set_years_employed_cat('25'))"
   ]
  },
  {
   "cell_type": "markdown",
   "id": "10c80ac5",
   "metadata": {},
   "source": [
    "Создаем столбец с категорием стажа years_employed_category и проверяем значения в нем"
   ]
  },
  {
   "cell_type": "code",
   "execution_count": 85,
   "id": "f3b6ae82",
   "metadata": {
    "scrolled": true
   },
   "outputs": [
    {
     "name": "stdout",
     "output_type": "stream",
     "text": [
      "[Interval(-0.9, 2.0, closed='right'), Interval(2.0, 3.0, closed='right'), Interval(3.0, 4.0, closed='right'), Interval(4.0, 5.0, closed='right'), Interval(5.0, 9.0, closed='right'), Interval(9.0, 50.0, closed='right')]\n"
     ]
    },
    {
     "data": {
      "text/html": [
       "<div>\n",
       "<style scoped>\n",
       "    .dataframe tbody tr th:only-of-type {\n",
       "        vertical-align: middle;\n",
       "    }\n",
       "\n",
       "    .dataframe tbody tr th {\n",
       "        vertical-align: top;\n",
       "    }\n",
       "\n",
       "    .dataframe thead th {\n",
       "        text-align: right;\n",
       "    }\n",
       "</style>\n",
       "<table border=\"1\" class=\"dataframe\">\n",
       "  <thead>\n",
       "    <tr style=\"text-align: right;\">\n",
       "      <th></th>\n",
       "      <th>children</th>\n",
       "      <th>days_employed</th>\n",
       "      <th>dob_years</th>\n",
       "      <th>education_id</th>\n",
       "      <th>family_status_id</th>\n",
       "      <th>gender</th>\n",
       "      <th>income_type</th>\n",
       "      <th>debt</th>\n",
       "      <th>total_income</th>\n",
       "      <th>purpose</th>\n",
       "      <th>years_employed</th>\n",
       "      <th>total_income_category</th>\n",
       "      <th>purpose_category</th>\n",
       "      <th>dob_years_category</th>\n",
       "      <th>years_employed_category</th>\n",
       "    </tr>\n",
       "  </thead>\n",
       "  <tbody>\n",
       "    <tr>\n",
       "      <th>0</th>\n",
       "      <td>1</td>\n",
       "      <td>8437.673028</td>\n",
       "      <td>42</td>\n",
       "      <td>0</td>\n",
       "      <td>0</td>\n",
       "      <td>F</td>\n",
       "      <td>сотрудник</td>\n",
       "      <td>0</td>\n",
       "      <td>253875</td>\n",
       "      <td>недвижимость</td>\n",
       "      <td>23.116912</td>\n",
       "      <td>B</td>\n",
       "      <td>операции с недвижимостью</td>\n",
       "      <td>(40.0, 60.0]</td>\n",
       "      <td>(9.0, 50.0]</td>\n",
       "    </tr>\n",
       "    <tr>\n",
       "      <th>1</th>\n",
       "      <td>1</td>\n",
       "      <td>4024.803754</td>\n",
       "      <td>36</td>\n",
       "      <td>1</td>\n",
       "      <td>0</td>\n",
       "      <td>F</td>\n",
       "      <td>сотрудник</td>\n",
       "      <td>0</td>\n",
       "      <td>112080</td>\n",
       "      <td>автомобиль</td>\n",
       "      <td>11.026860</td>\n",
       "      <td>C</td>\n",
       "      <td>операции с автомобилем</td>\n",
       "      <td>(30.0, 40.0]</td>\n",
       "      <td>(9.0, 50.0]</td>\n",
       "    </tr>\n",
       "    <tr>\n",
       "      <th>2</th>\n",
       "      <td>0</td>\n",
       "      <td>5623.422610</td>\n",
       "      <td>33</td>\n",
       "      <td>1</td>\n",
       "      <td>0</td>\n",
       "      <td>M</td>\n",
       "      <td>сотрудник</td>\n",
       "      <td>0</td>\n",
       "      <td>145885</td>\n",
       "      <td>недвижимость</td>\n",
       "      <td>15.406637</td>\n",
       "      <td>C</td>\n",
       "      <td>операции с недвижимостью</td>\n",
       "      <td>(30.0, 40.0]</td>\n",
       "      <td>(9.0, 50.0]</td>\n",
       "    </tr>\n",
       "    <tr>\n",
       "      <th>3</th>\n",
       "      <td>3</td>\n",
       "      <td>4124.747207</td>\n",
       "      <td>32</td>\n",
       "      <td>1</td>\n",
       "      <td>0</td>\n",
       "      <td>M</td>\n",
       "      <td>сотрудник</td>\n",
       "      <td>0</td>\n",
       "      <td>267628</td>\n",
       "      <td>образование</td>\n",
       "      <td>11.300677</td>\n",
       "      <td>B</td>\n",
       "      <td>получение образования</td>\n",
       "      <td>(30.0, 40.0]</td>\n",
       "      <td>(9.0, 50.0]</td>\n",
       "    </tr>\n",
       "    <tr>\n",
       "      <th>4</th>\n",
       "      <td>0</td>\n",
       "      <td>1347.906788</td>\n",
       "      <td>53</td>\n",
       "      <td>1</td>\n",
       "      <td>1</td>\n",
       "      <td>F</td>\n",
       "      <td>пенсионер</td>\n",
       "      <td>0</td>\n",
       "      <td>158616</td>\n",
       "      <td>свадьба</td>\n",
       "      <td>3.692895</td>\n",
       "      <td>C</td>\n",
       "      <td>проведение свадьбы</td>\n",
       "      <td>(40.0, 60.0]</td>\n",
       "      <td>(3.0, 4.0]</td>\n",
       "    </tr>\n",
       "  </tbody>\n",
       "</table>\n",
       "</div>"
      ],
      "text/plain": [
       "   children  days_employed  dob_years  education_id  family_status_id gender  \\\n",
       "0         1    8437.673028         42             0                 0      F   \n",
       "1         1    4024.803754         36             1                 0      F   \n",
       "2         0    5623.422610         33             1                 0      M   \n",
       "3         3    4124.747207         32             1                 0      M   \n",
       "4         0    1347.906788         53             1                 1      F   \n",
       "\n",
       "  income_type  debt  total_income       purpose  years_employed  \\\n",
       "0   сотрудник     0        253875  недвижимость       23.116912   \n",
       "1   сотрудник     0        112080    автомобиль       11.026860   \n",
       "2   сотрудник     0        145885  недвижимость       15.406637   \n",
       "3   сотрудник     0        267628   образование       11.300677   \n",
       "4   пенсионер     0        158616       свадьба        3.692895   \n",
       "\n",
       "  total_income_category          purpose_category dob_years_category  \\\n",
       "0                     B  операции с недвижимостью       (40.0, 60.0]   \n",
       "1                     C    операции с автомобилем       (30.0, 40.0]   \n",
       "2                     C  операции с недвижимостью       (30.0, 40.0]   \n",
       "3                     B     получение образования       (30.0, 40.0]   \n",
       "4                     C        проведение свадьбы       (40.0, 60.0]   \n",
       "\n",
       "  years_employed_category  \n",
       "0             (9.0, 50.0]  \n",
       "1             (9.0, 50.0]  \n",
       "2             (9.0, 50.0]  \n",
       "3             (9.0, 50.0]  \n",
       "4              (3.0, 4.0]  "
      ]
     },
     "execution_count": 85,
     "metadata": {},
     "output_type": "execute_result"
    }
   ],
   "source": [
    "#df['years_employed_category'] = df['years_employed'].apply(set_years_employed_cat)\n",
    "#df['years_employed_category'] = pd.cut(df['years_employed'], [-10, 0, 1, 3, 7, 15, 30, 100], precision=0)\n",
    "df['years_employed_category'] = pd.qcut(df['years_employed'], 6, precision=0)\n",
    "# проверяем\n",
    "print(sorted(df['years_employed_category'].unique()))\n",
    "\n",
    "df.head(5)"
   ]
  },
  {
   "cell_type": "markdown",
   "id": "7b888e24",
   "metadata": {},
   "source": [
    "### Ответы на вопросы."
   ]
  },
  {
   "cell_type": "markdown",
   "id": "ee46c03b",
   "metadata": {},
   "source": [
    "##### Вопрос 1:"
   ]
  },
  {
   "cell_type": "markdown",
   "id": "3b57f333",
   "metadata": {},
   "source": [
    "Строим сводную таблицу и считаем долю должников frac_debt для категорий заемщиков. Заемщиков разделяем на категории по числу детей (поле children)"
   ]
  },
  {
   "cell_type": "code",
   "execution_count": 50,
   "id": "c6c30d39",
   "metadata": {
    "scrolled": false
   },
   "outputs": [
    {
     "data": {
      "text/html": [
       "<div>\n",
       "<style scoped>\n",
       "    .dataframe tbody tr th:only-of-type {\n",
       "        vertical-align: middle;\n",
       "    }\n",
       "\n",
       "    .dataframe tbody tr th {\n",
       "        vertical-align: top;\n",
       "    }\n",
       "\n",
       "    .dataframe thead th {\n",
       "        text-align: right;\n",
       "    }\n",
       "</style>\n",
       "<table border=\"1\" class=\"dataframe\">\n",
       "  <thead>\n",
       "    <tr style=\"text-align: right;\">\n",
       "      <th>debt</th>\n",
       "      <th>children</th>\n",
       "      <th>without_debt</th>\n",
       "      <th>has_debt</th>\n",
       "      <th>frac_debt</th>\n",
       "    </tr>\n",
       "  </thead>\n",
       "  <tbody>\n",
       "    <tr>\n",
       "      <th>0</th>\n",
       "      <td>0</td>\n",
       "      <td>12819</td>\n",
       "      <td>1061</td>\n",
       "      <td>7.644092</td>\n",
       "    </tr>\n",
       "    <tr>\n",
       "      <th>1</th>\n",
       "      <td>1</td>\n",
       "      <td>4360</td>\n",
       "      <td>445</td>\n",
       "      <td>9.261186</td>\n",
       "    </tr>\n",
       "    <tr>\n",
       "      <th>2</th>\n",
       "      <td>2</td>\n",
       "      <td>1916</td>\n",
       "      <td>202</td>\n",
       "      <td>9.537299</td>\n",
       "    </tr>\n",
       "    <tr>\n",
       "      <th>3</th>\n",
       "      <td>3</td>\n",
       "      <td>302</td>\n",
       "      <td>27</td>\n",
       "      <td>8.206687</td>\n",
       "    </tr>\n",
       "    <tr>\n",
       "      <th>4</th>\n",
       "      <td>4</td>\n",
       "      <td>36</td>\n",
       "      <td>4</td>\n",
       "      <td>10.000000</td>\n",
       "    </tr>\n",
       "    <tr>\n",
       "      <th>5</th>\n",
       "      <td>5</td>\n",
       "      <td>9</td>\n",
       "      <td>0</td>\n",
       "      <td>0.000000</td>\n",
       "    </tr>\n",
       "  </tbody>\n",
       "</table>\n",
       "</div>"
      ],
      "text/plain": [
       "debt  children  without_debt  has_debt  frac_debt\n",
       "0            0         12819      1061   7.644092\n",
       "1            1          4360       445   9.261186\n",
       "2            2          1916       202   9.537299\n",
       "3            3           302        27   8.206687\n",
       "4            4            36         4  10.000000\n",
       "5            5             9         0   0.000000"
      ]
     },
     "metadata": {},
     "output_type": "display_data"
    },
    {
     "data": {
      "text/plain": [
       "<AxesSubplot:xlabel='children', ylabel='frac_debt'>"
      ]
     },
     "execution_count": 50,
     "metadata": {},
     "output_type": "execute_result"
    },
    {
     "data": {
      "image/png": "[encoded data removed]",
      "text/plain": [
       "<Figure size 432x288 with 1 Axes>"
      ]
     },
     "metadata": {
      "needs_background": "light"
     },
     "output_type": "display_data"
    }
   ],
   "source": [
    "data_pivot = df.pivot_table(index='children', columns='debt', values='total_income_category', aggfunc='count').reset_index()\n",
    "data_pivot=data_pivot.rename(columns={1:'has_debt', 0:'without_debt'})\n",
    "\n",
    "data_pivot['has_debt'] = data_pivot['has_debt'].fillna(0)\n",
    "data_pivot['frac_debt'] = data_pivot['has_debt'] / (data_pivot['has_debt']+data_pivot['without_debt'])*100\n",
    "\n",
    "data_pivot['has_debt'] = data_pivot['has_debt'].astype('int')\n",
    "data_pivot['without_debt'] = data_pivot['without_debt'].astype('int')\n",
    "\n",
    "display(data_pivot)\n",
    "\n",
    "sns.barplot(x='children', y='frac_debt', data=data_pivot)"
   ]
  },
  {
   "cell_type": "markdown",
   "id": "4ed94657",
   "metadata": {},
   "source": [
    "Как видим,  число заемщиков с 5ю детьми низкое, поэтому выборка не надежная в этой категории.<br />\n",
    "А для числа детей от 0 до 4 данных хватает и судя по доле должников (frac_debt), наличие детей не влияет на риск перехода в категорию должников."
   ]
  },
  {
   "cell_type": "markdown",
   "id": "5d81a9b0",
   "metadata": {},
   "source": [
    "##### Вывод 1:"
   ]
  },
  {
   "cell_type": "markdown",
   "id": "1a917c36",
   "metadata": {},
   "source": [
    "Наличие детей не влияет на риск перехода в категорию должников."
   ]
  },
  {
   "cell_type": "markdown",
   "id": "76aa8d8a",
   "metadata": {},
   "source": [
    "##### Вопрос 2:\n",
    "Есть ли зависимость между семейным положением и возвратом кредита в срок?"
   ]
  },
  {
   "cell_type": "markdown",
   "id": "4be43e76",
   "metadata": {},
   "source": [
    "Строим сводную таблицу и считаем долю должников frac_debt для категорий заемщиков. Заемщиков разделяем на категории по числу детей (поле children)"
   ]
  },
  {
   "cell_type": "code",
   "execution_count": 51,
   "id": "107b726b",
   "metadata": {},
   "outputs": [
    {
     "data": {
      "text/html": [
       "<div>\n",
       "<style scoped>\n",
       "    .dataframe tbody tr th:only-of-type {\n",
       "        vertical-align: middle;\n",
       "    }\n",
       "\n",
       "    .dataframe tbody tr th {\n",
       "        vertical-align: top;\n",
       "    }\n",
       "\n",
       "    .dataframe thead th {\n",
       "        text-align: right;\n",
       "    }\n",
       "</style>\n",
       "<table border=\"1\" class=\"dataframe\">\n",
       "  <thead>\n",
       "    <tr style=\"text-align: right;\">\n",
       "      <th></th>\n",
       "      <th>family_status_id</th>\n",
       "      <th>without_debt</th>\n",
       "      <th>has_debt</th>\n",
       "      <th>frac_debt</th>\n",
       "      <th>family_status</th>\n",
       "    </tr>\n",
       "  </thead>\n",
       "  <tbody>\n",
       "    <tr>\n",
       "      <th>0</th>\n",
       "      <td>0</td>\n",
       "      <td>11185</td>\n",
       "      <td>929</td>\n",
       "      <td>7.668813</td>\n",
       "      <td>женат / замужем</td>\n",
       "    </tr>\n",
       "    <tr>\n",
       "      <th>1</th>\n",
       "      <td>1</td>\n",
       "      <td>3749</td>\n",
       "      <td>388</td>\n",
       "      <td>9.378777</td>\n",
       "      <td>гражданский брак</td>\n",
       "    </tr>\n",
       "    <tr>\n",
       "      <th>2</th>\n",
       "      <td>2</td>\n",
       "      <td>884</td>\n",
       "      <td>63</td>\n",
       "      <td>6.652587</td>\n",
       "      <td>вдовец / вдова</td>\n",
       "    </tr>\n",
       "    <tr>\n",
       "      <th>3</th>\n",
       "      <td>3</td>\n",
       "      <td>1108</td>\n",
       "      <td>85</td>\n",
       "      <td>7.124895</td>\n",
       "      <td>в разводе</td>\n",
       "    </tr>\n",
       "    <tr>\n",
       "      <th>4</th>\n",
       "      <td>4</td>\n",
       "      <td>2516</td>\n",
       "      <td>274</td>\n",
       "      <td>9.820789</td>\n",
       "      <td>Не женат / не замужем</td>\n",
       "    </tr>\n",
       "  </tbody>\n",
       "</table>\n",
       "</div>"
      ],
      "text/plain": [
       "   family_status_id  without_debt  has_debt  frac_debt          family_status\n",
       "0                 0         11185       929   7.668813        женат / замужем\n",
       "1                 1          3749       388   9.378777       гражданский брак\n",
       "2                 2           884        63   6.652587         вдовец / вдова\n",
       "3                 3          1108        85   7.124895              в разводе\n",
       "4                 4          2516       274   9.820789  Не женат / не замужем"
      ]
     },
     "metadata": {},
     "output_type": "display_data"
    },
    {
     "data": {
      "text/plain": [
       "<AxesSubplot:xlabel='family_status', ylabel='frac_debt'>"
      ]
     },
     "execution_count": 51,
     "metadata": {},
     "output_type": "execute_result"
    },
    {
     "data": {
      "image/png": "[encoded data removed]",
      "text/plain": [
       "<Figure size 432x288 with 1 Axes>"
      ]
     },
     "metadata": {
      "needs_background": "light"
     },
     "output_type": "display_data"
    }
   ],
   "source": [
    "# строим сводную таблицу\n",
    "data_pivot = df.pivot_table(index='family_status_id', columns='debt', values='purpose', aggfunc='count').reset_index()\n",
    "# переименуем столбцы в человекопонятные названия\n",
    "data_pivot=data_pivot.rename(columns={1:'has_debt', 0:'without_debt'})\n",
    "\n",
    "# заменим пропуски на нули\n",
    "data_pivot['has_debt'] = data_pivot['has_debt'].fillna(0)\n",
    "\n",
    "# считаем долю должников\n",
    "data_pivot['frac_debt'] = data_pivot['has_debt'] / (data_pivot['has_debt']+data_pivot['without_debt'])*100\n",
    "\n",
    "# число людей целочисленное\n",
    "data_pivot['has_debt'] = data_pivot['has_debt'].astype('int')\n",
    "data_pivot['without_debt'] = data_pivot['without_debt'].astype('int')\n",
    "\n",
    "# используем dic_family_status для вывода понятных категорий семейного положения\n",
    "data_pivot = data_pivot.merge(dic_family_status, on='family_status_id', how='left')\n",
    "display(data_pivot)\n",
    "\n",
    "# строим гистограмму для наглядности\n",
    "sns.barplot(x='family_status', y='frac_debt', data=data_pivot)"
   ]
  },
  {
   "cell_type": "markdown",
   "id": "56ed77ee",
   "metadata": {},
   "source": [
    "Прослеживается слабая зависимость: те, кто еще не вступали в брак (не женат либо только в гражданском браке) имеют более высокий уровень задолженности (9,4%..9,84%) против тех, кто уже в браке или был в браке (6,68% .. 7,69%)\n",
    "\n",
    "Это можно объяснить тем, что брак сам по себе является обязательством и на него соглашаются в среднем более ответственные лица, которые более ответстенно относятся и к финансовым обязательствам перед банком."
   ]
  },
  {
   "cell_type": "markdown",
   "id": "a71fb2db",
   "metadata": {},
   "source": [
    "##### Вывод 2:"
   ]
  },
  {
   "cell_type": "markdown",
   "id": "bfbfa707",
   "metadata": {},
   "source": [
    "Есть зависимость между семейным положением и возвратом кредита в срок. Те, кто еще не вступали в брак (не женат либо только в гражданском браке) имеют более высокий риск задолженности (9,4%..9,84%) против тех, кто уже в браке или был в браке (6,68% .. 7,69%)"
   ]
  },
  {
   "cell_type": "code",
   "execution_count": 52,
   "id": "323e88d5",
   "metadata": {},
   "outputs": [
    {
     "data": {
      "text/html": [
       "<div>\n",
       "<style scoped>\n",
       "    .dataframe tbody tr th:only-of-type {\n",
       "        vertical-align: middle;\n",
       "    }\n",
       "\n",
       "    .dataframe tbody tr th {\n",
       "        vertical-align: top;\n",
       "    }\n",
       "\n",
       "    .dataframe thead th {\n",
       "        text-align: right;\n",
       "    }\n",
       "</style>\n",
       "<table border=\"1\" class=\"dataframe\">\n",
       "  <thead>\n",
       "    <tr style=\"text-align: right;\">\n",
       "      <th></th>\n",
       "      <th>count</th>\n",
       "      <th>sum</th>\n",
       "      <th>my_mean</th>\n",
       "    </tr>\n",
       "    <tr>\n",
       "      <th>children</th>\n",
       "      <th></th>\n",
       "      <th></th>\n",
       "      <th></th>\n",
       "    </tr>\n",
       "  </thead>\n",
       "  <tbody>\n",
       "    <tr>\n",
       "      <th>0</th>\n",
       "      <td>13880</td>\n",
       "      <td>1061</td>\n",
       "      <td>7.64%</td>\n",
       "    </tr>\n",
       "    <tr>\n",
       "      <th>1</th>\n",
       "      <td>4805</td>\n",
       "      <td>445</td>\n",
       "      <td>9.26%</td>\n",
       "    </tr>\n",
       "    <tr>\n",
       "      <th>2</th>\n",
       "      <td>2118</td>\n",
       "      <td>202</td>\n",
       "      <td>9.54%</td>\n",
       "    </tr>\n",
       "    <tr>\n",
       "      <th>3</th>\n",
       "      <td>329</td>\n",
       "      <td>27</td>\n",
       "      <td>8.21%</td>\n",
       "    </tr>\n",
       "    <tr>\n",
       "      <th>4</th>\n",
       "      <td>40</td>\n",
       "      <td>4</td>\n",
       "      <td>10.00%</td>\n",
       "    </tr>\n",
       "    <tr>\n",
       "      <th>5</th>\n",
       "      <td>9</td>\n",
       "      <td>0</td>\n",
       "      <td>0.00%</td>\n",
       "    </tr>\n",
       "  </tbody>\n",
       "</table>\n",
       "</div>"
      ],
      "text/plain": [
       "          count   sum  my_mean\n",
       "children                      \n",
       "0         13880  1061   7.64% \n",
       "1          4805   445   9.26% \n",
       "2          2118   202   9.54% \n",
       "3           329    27   8.21% \n",
       "4            40     4  10.00% \n",
       "5             9     0   0.00% "
      ]
     },
     "execution_count": 52,
     "metadata": {},
     "output_type": "execute_result"
    }
   ],
   "source": [
    "# КОД РЕВЬЮЕРА\n",
    "\n",
    "def my_mean(x): return '{:.2%} '.format(x.mean())\n",
    "\n",
    "# В кач-ве агрегирования можно любую функцию брать.\n",
    "\n",
    "df.groupby('children')['debt'].agg(['count', 'sum', my_mean])"
   ]
  },
  {
   "cell_type": "markdown",
   "id": "b0024943",
   "metadata": {},
   "source": [
    "##### Вопрос 3:\n",
    "Есть ли зависимость между уровнем дохода и возвратом кредита в срок?"
   ]
  },
  {
   "cell_type": "markdown",
   "id": "10bcc15d",
   "metadata": {},
   "source": [
    "Строим сводную таблицу и считаем долю должников frac_debt для категорий заемщиков. Заемщиков разделяем на категории по доходу (поле total_income_category)"
   ]
  },
  {
   "cell_type": "code",
   "execution_count": 53,
   "id": "6a203d6c",
   "metadata": {},
   "outputs": [
    {
     "data": {
      "text/html": [
       "<div>\n",
       "<style scoped>\n",
       "    .dataframe tbody tr th:only-of-type {\n",
       "        vertical-align: middle;\n",
       "    }\n",
       "\n",
       "    .dataframe tbody tr th {\n",
       "        vertical-align: top;\n",
       "    }\n",
       "\n",
       "    .dataframe thead th {\n",
       "        text-align: right;\n",
       "    }\n",
       "</style>\n",
       "<table border=\"1\" class=\"dataframe\">\n",
       "  <thead>\n",
       "    <tr style=\"text-align: right;\">\n",
       "      <th>debt</th>\n",
       "      <th>total_income_category</th>\n",
       "      <th>without_debt</th>\n",
       "      <th>has_debt</th>\n",
       "      <th>frac_debt</th>\n",
       "    </tr>\n",
       "  </thead>\n",
       "  <tbody>\n",
       "    <tr>\n",
       "      <th>0</th>\n",
       "      <td>A</td>\n",
       "      <td>23</td>\n",
       "      <td>2</td>\n",
       "      <td>8.000000</td>\n",
       "    </tr>\n",
       "    <tr>\n",
       "      <th>1</th>\n",
       "      <td>B</td>\n",
       "      <td>4831</td>\n",
       "      <td>364</td>\n",
       "      <td>7.006737</td>\n",
       "    </tr>\n",
       "    <tr>\n",
       "      <th>2</th>\n",
       "      <td>C</td>\n",
       "      <td>14239</td>\n",
       "      <td>1350</td>\n",
       "      <td>8.659953</td>\n",
       "    </tr>\n",
       "    <tr>\n",
       "      <th>3</th>\n",
       "      <td>D</td>\n",
       "      <td>329</td>\n",
       "      <td>21</td>\n",
       "      <td>6.000000</td>\n",
       "    </tr>\n",
       "    <tr>\n",
       "      <th>4</th>\n",
       "      <td>E</td>\n",
       "      <td>20</td>\n",
       "      <td>2</td>\n",
       "      <td>9.090909</td>\n",
       "    </tr>\n",
       "  </tbody>\n",
       "</table>\n",
       "</div>"
      ],
      "text/plain": [
       "debt total_income_category  without_debt  has_debt  frac_debt\n",
       "0                        A            23         2   8.000000\n",
       "1                        B          4831       364   7.006737\n",
       "2                        C         14239      1350   8.659953\n",
       "3                        D           329        21   6.000000\n",
       "4                        E            20         2   9.090909"
      ]
     },
     "metadata": {},
     "output_type": "display_data"
    },
    {
     "data": {
      "text/plain": [
       "<AxesSubplot:xlabel='total_income_category', ylabel='frac_debt'>"
      ]
     },
     "execution_count": 53,
     "metadata": {},
     "output_type": "execute_result"
    },
    {
     "data": {
      "image/png": "[encoded data removed]",
      "text/plain": [
       "<Figure size 432x288 with 1 Axes>"
      ]
     },
     "metadata": {
      "needs_background": "light"
     },
     "output_type": "display_data"
    }
   ],
   "source": [
    "# строим сводную таблицу\n",
    "data_pivot = df.pivot_table(index='total_income_category', columns='debt', values='purpose', aggfunc='count').reset_index()\n",
    "# переименуем столбцы в человекопонятные названия\n",
    "data_pivot=data_pivot.rename(columns={1:'has_debt', 0:'without_debt'})\n",
    "\n",
    "# считаем долю должников\n",
    "data_pivot['frac_debt'] = data_pivot['has_debt'] / (data_pivot['has_debt']+data_pivot['without_debt'])*100\n",
    "\n",
    "# число людей целочисленное\n",
    "data_pivot['has_debt'] = data_pivot['has_debt'].astype('int')\n",
    "data_pivot['without_debt'] = data_pivot['without_debt'].astype('int')\n",
    "\n",
    "display(data_pivot)\n",
    "\n",
    "# строим гистограмму для наглядности\n",
    "sns.barplot(x='total_income_category', y='frac_debt', data=data_pivot)"
   ]
  },
  {
   "cell_type": "markdown",
   "id": "8a3a3de1",
   "metadata": {},
   "source": [
    "Как видно из графика, зависимости между уровнем дохода и возвратом кредита в срок нет."
   ]
  },
  {
   "cell_type": "markdown",
   "id": "e58ce804",
   "metadata": {},
   "source": [
    "##### Вывод 3:"
   ]
  },
  {
   "cell_type": "markdown",
   "id": "3a83c015",
   "metadata": {},
   "source": [
    "Зависимости между уровнем дохода и возвратом кредита в срок нет."
   ]
  },
  {
   "cell_type": "markdown",
   "id": "2fd27e27",
   "metadata": {},
   "source": [
    "##### Вопрос 4:\n",
    "Как разные цели кредита влияют на его возврат в срок?"
   ]
  },
  {
   "cell_type": "markdown",
   "id": "f4fb7dde",
   "metadata": {},
   "source": [
    "Строим сводную таблицу и считаем долю должников frac_debt для категорий заемщиков. Заемщиков разделяем на категории по назначению кредита (поле purpose_category)"
   ]
  },
  {
   "cell_type": "code",
   "execution_count": 54,
   "id": "ddf72971",
   "metadata": {},
   "outputs": [
    {
     "data": {
      "text/html": [
       "<div>\n",
       "<style scoped>\n",
       "    .dataframe tbody tr th:only-of-type {\n",
       "        vertical-align: middle;\n",
       "    }\n",
       "\n",
       "    .dataframe tbody tr th {\n",
       "        vertical-align: top;\n",
       "    }\n",
       "\n",
       "    .dataframe thead th {\n",
       "        text-align: right;\n",
       "    }\n",
       "</style>\n",
       "<table border=\"1\" class=\"dataframe\">\n",
       "  <thead>\n",
       "    <tr style=\"text-align: right;\">\n",
       "      <th>debt</th>\n",
       "      <th>purpose_category</th>\n",
       "      <th>without_debt</th>\n",
       "      <th>has_debt</th>\n",
       "      <th>frac_debt</th>\n",
       "    </tr>\n",
       "  </thead>\n",
       "  <tbody>\n",
       "    <tr>\n",
       "      <th>0</th>\n",
       "      <td>операции с автомобилем</td>\n",
       "      <td>3875</td>\n",
       "      <td>402</td>\n",
       "      <td>9.399112</td>\n",
       "    </tr>\n",
       "    <tr>\n",
       "      <th>1</th>\n",
       "      <td>операции с недвижимостью</td>\n",
       "      <td>9832</td>\n",
       "      <td>781</td>\n",
       "      <td>7.358899</td>\n",
       "    </tr>\n",
       "    <tr>\n",
       "      <th>2</th>\n",
       "      <td>получение образования</td>\n",
       "      <td>3603</td>\n",
       "      <td>370</td>\n",
       "      <td>9.312862</td>\n",
       "    </tr>\n",
       "    <tr>\n",
       "      <th>3</th>\n",
       "      <td>проведение свадьбы</td>\n",
       "      <td>2132</td>\n",
       "      <td>186</td>\n",
       "      <td>8.024159</td>\n",
       "    </tr>\n",
       "  </tbody>\n",
       "</table>\n",
       "</div>"
      ],
      "text/plain": [
       "debt          purpose_category  without_debt  has_debt  frac_debt\n",
       "0       операции с автомобилем          3875       402   9.399112\n",
       "1     операции с недвижимостью          9832       781   7.358899\n",
       "2        получение образования          3603       370   9.312862\n",
       "3           проведение свадьбы          2132       186   8.024159"
      ]
     },
     "metadata": {},
     "output_type": "display_data"
    },
    {
     "data": {
      "text/plain": [
       "<AxesSubplot:xlabel='purpose_category', ylabel='frac_debt'>"
      ]
     },
     "execution_count": 54,
     "metadata": {},
     "output_type": "execute_result"
    },
    {
     "data": {
      "image/png": "[encoded data removed]",
      "text/plain": [
       "<Figure size 432x288 with 1 Axes>"
      ]
     },
     "metadata": {
      "needs_background": "light"
     },
     "output_type": "display_data"
    }
   ],
   "source": [
    "# строим сводную таблицу\n",
    "data_pivot = df.pivot_table(index='purpose_category', columns='debt', values='purpose', aggfunc='count').reset_index()\n",
    "# переименуем столбцы в человекопонятные названия\n",
    "data_pivot=data_pivot.rename(columns={1:'has_debt', 0:'without_debt'})\n",
    "\n",
    "# считаем долю должников\n",
    "data_pivot['frac_debt'] = data_pivot['has_debt'] / (data_pivot['has_debt']+data_pivot['without_debt'])*100\n",
    "\n",
    "# число людей целочисленное\n",
    "data_pivot['has_debt'] = data_pivot['has_debt'].astype('int')\n",
    "data_pivot['without_debt'] = data_pivot['without_debt'].astype('int')\n",
    "\n",
    "display(data_pivot)\n",
    "\n",
    "# строим гистограмму для наглядности\n",
    "sns.barplot(x='purpose_category', y='frac_debt', data=data_pivot)"
   ]
  },
  {
   "cell_type": "markdown",
   "id": "5927267c",
   "metadata": {},
   "source": [
    "Из таблицы видно, что операции с недвижимостью и кредиты на свадьбу несут заметно меньший риск, чем операции с автомобилями и получение образования.\n",
    "\n",
    "Вероятно это объясняется тем, что кредиты на недвижимость выдаются с обременением и на такие условия согласны люди, точно уверенные в том, что платить нужно своевременно. Кредиты на свадьбу берут молодые люди, не желающие начинать брак с долгов по кредитам, поэтому платят в срок, либо платят в срок родители молодоженов, как известно, старшее поколение более ответственно.\n",
    "\n",
    "Кредиты на авто часто выдаются без обеспечения, проверки проще, поэтому клиентская база не столь качественная, отсюда и более высокий уровень задолженности. аналогично можно объяснить и относительно высокий риск задолженности по кредитам на получение образования"
   ]
  },
  {
   "cell_type": "markdown",
   "id": "5a4ec00c",
   "metadata": {},
   "source": [
    "##### Вывод 4:\n",
    "Цели кредита влияют на его возврат в срок. Кредиты на операции с недвижимостью и кредиты на свадьбу несут заметно меньший риск (7.39% .. 8.07%), чем операции с автомобилями и получение образования (9.41% .. 9.33%)."
   ]
  },
  {
   "cell_type": "markdown",
   "id": "3e372adf",
   "metadata": {},
   "source": [
    "##### Вопрос 5:\n",
    "<div class=\"alert alert-info\">\n",
    "<b>Комментарий студента:</b>\n",
    "<br>Это не входило в исходное задание. Сделал дополнительно\n",
    "</div>\n",
    "Как гендер заемщика влияет на его возврат в срок?\n",
    "\n",
    "Строим сводную таблицу и считаем долю должников frac_debt для категорий заемщиков.<br>\n",
    "Заемщиков разделяем на категории по гендеру (поле gender)"
   ]
  },
  {
   "cell_type": "code",
   "execution_count": 55,
   "id": "a714360d",
   "metadata": {
    "scrolled": false
   },
   "outputs": [
    {
     "data": {
      "text/html": [
       "<div>\n",
       "<style scoped>\n",
       "    .dataframe tbody tr th:only-of-type {\n",
       "        vertical-align: middle;\n",
       "    }\n",
       "\n",
       "    .dataframe tbody tr th {\n",
       "        vertical-align: top;\n",
       "    }\n",
       "\n",
       "    .dataframe thead th {\n",
       "        text-align: right;\n",
       "    }\n",
       "</style>\n",
       "<table border=\"1\" class=\"dataframe\">\n",
       "  <thead>\n",
       "    <tr style=\"text-align: right;\">\n",
       "      <th>debt</th>\n",
       "      <th>gender</th>\n",
       "      <th>without_debt</th>\n",
       "      <th>has_debt</th>\n",
       "      <th>frac_debt</th>\n",
       "      <th>total_group</th>\n",
       "    </tr>\n",
       "  </thead>\n",
       "  <tbody>\n",
       "    <tr>\n",
       "      <th>0</th>\n",
       "      <td>F</td>\n",
       "      <td>12979</td>\n",
       "      <td>993</td>\n",
       "      <td>7.107071</td>\n",
       "      <td>13972.0</td>\n",
       "    </tr>\n",
       "    <tr>\n",
       "      <th>1</th>\n",
       "      <td>M</td>\n",
       "      <td>6462</td>\n",
       "      <td>746</td>\n",
       "      <td>10.349612</td>\n",
       "      <td>7208.0</td>\n",
       "    </tr>\n",
       "  </tbody>\n",
       "</table>\n",
       "</div>"
      ],
      "text/plain": [
       "debt gender  without_debt  has_debt  frac_debt  total_group\n",
       "0         F         12979       993   7.107071      13972.0\n",
       "1         M          6462       746  10.349612       7208.0"
      ]
     },
     "metadata": {},
     "output_type": "display_data"
    },
    {
     "data": {
      "text/plain": [
       "<AxesSubplot:xlabel='gender', ylabel='frac_debt'>"
      ]
     },
     "execution_count": 55,
     "metadata": {},
     "output_type": "execute_result"
    },
    {
     "data": {
      "image/png": "[encoded data removed]",
      "text/plain": [
       "<Figure size 432x288 with 1 Axes>"
      ]
     },
     "metadata": {
      "needs_background": "light"
     },
     "output_type": "display_data"
    }
   ],
   "source": [
    "# строим сводную таблицу\n",
    "data_pivot = df.pivot_table(index='gender', columns='debt', values='purpose', aggfunc='count').reset_index()\n",
    "# переименуем столбцы в человекопонятные названия\n",
    "data_pivot=data_pivot.rename(columns={1:'has_debt', 0:'without_debt'})\n",
    "\n",
    "# считаем долю должников\n",
    "data_pivot['frac_debt'] = data_pivot['has_debt'] / (data_pivot['has_debt']+data_pivot['without_debt'])*100\n",
    "\n",
    "# заменим пропуски на нули\n",
    "data_pivot['has_debt'] = data_pivot['has_debt'].fillna(0)\n",
    "data_pivot['without_debt'] = data_pivot['without_debt'].fillna(0)\n",
    "\n",
    "# Удалим строки в которых менее 30 человек в группе. Это статистически незначимая группа\n",
    "data_pivot['total_group'] = data_pivot['has_debt']+data_pivot['without_debt']\n",
    "data_pivot = data_pivot[data_pivot['total_group']>30]\n",
    "\n",
    "# число людей целочисленное\n",
    "data_pivot['has_debt'] = data_pivot['has_debt'].astype('int')\n",
    "data_pivot['without_debt'] = data_pivot['without_debt'].astype('int')\n",
    "\n",
    "display(data_pivot)\n",
    "\n",
    "# строим гистограмму для наглядности\n",
    "sns.barplot(x='gender', y='frac_debt', data=data_pivot)"
   ]
  },
  {
   "cell_type": "markdown",
   "id": "fdd19e7a",
   "metadata": {},
   "source": [
    "Видим, что гендер сильно влияет на риск невозврата. Мужчины невозвращают чаще 7.13% для женщин против 10,37% для мужчин.<br>\n",
    "Вероятно дело в психологии. Возможно женщины более ответственны и менее готовы рисковать и связываться с процедурами взыскания долгов банком"
   ]
  },
  {
   "cell_type": "markdown",
   "id": "c596b0de",
   "metadata": {},
   "source": [
    "##### Вывод 5:\n",
    "Гендер влияет на его возврат в срок. Женщины более надежные заемщики чем мужчины"
   ]
  },
  {
   "cell_type": "markdown",
   "id": "195d4419",
   "metadata": {},
   "source": [
    "##### Вопрос 6:\n",
    "<div class=\"alert alert-info\">\n",
    "<b>Комментарий студента:</b>\n",
    "<br>Это не входило в исходное задание. Сделал дополнительно\n",
    "</div>\n",
    "Как образование заемщика влияет на его возврат в срок?\n",
    "\n",
    "Строим сводную таблицу и считаем долю должников frac_debt для категорий заемщиков.<br>\n",
    "Заемщиков разделяем на категории образованию (поле education_id)"
   ]
  },
  {
   "cell_type": "code",
   "execution_count": 56,
   "id": "7d80c078",
   "metadata": {
    "scrolled": false
   },
   "outputs": [
    {
     "data": {
      "text/html": [
       "<div>\n",
       "<style scoped>\n",
       "    .dataframe tbody tr th:only-of-type {\n",
       "        vertical-align: middle;\n",
       "    }\n",
       "\n",
       "    .dataframe tbody tr th {\n",
       "        vertical-align: top;\n",
       "    }\n",
       "\n",
       "    .dataframe thead th {\n",
       "        text-align: right;\n",
       "    }\n",
       "</style>\n",
       "<table border=\"1\" class=\"dataframe\">\n",
       "  <thead>\n",
       "    <tr style=\"text-align: right;\">\n",
       "      <th></th>\n",
       "      <th>education_id</th>\n",
       "      <th>without_debt</th>\n",
       "      <th>has_debt</th>\n",
       "      <th>total_group</th>\n",
       "      <th>frac_debt</th>\n",
       "      <th>education</th>\n",
       "    </tr>\n",
       "  </thead>\n",
       "  <tbody>\n",
       "    <tr>\n",
       "      <th>0</th>\n",
       "      <td>0</td>\n",
       "      <td>4939</td>\n",
       "      <td>278</td>\n",
       "      <td>5217.0</td>\n",
       "      <td>5.328733</td>\n",
       "      <td>высшее</td>\n",
       "    </tr>\n",
       "    <tr>\n",
       "      <th>1</th>\n",
       "      <td>1</td>\n",
       "      <td>13570</td>\n",
       "      <td>1362</td>\n",
       "      <td>14932.0</td>\n",
       "      <td>9.121350</td>\n",
       "      <td>среднее</td>\n",
       "    </tr>\n",
       "    <tr>\n",
       "      <th>2</th>\n",
       "      <td>2</td>\n",
       "      <td>676</td>\n",
       "      <td>68</td>\n",
       "      <td>744.0</td>\n",
       "      <td>9.139785</td>\n",
       "      <td>неоконченное высшее</td>\n",
       "    </tr>\n",
       "    <tr>\n",
       "      <th>3</th>\n",
       "      <td>3</td>\n",
       "      <td>251</td>\n",
       "      <td>31</td>\n",
       "      <td>282.0</td>\n",
       "      <td>10.992908</td>\n",
       "      <td>начальное</td>\n",
       "    </tr>\n",
       "  </tbody>\n",
       "</table>\n",
       "</div>"
      ],
      "text/plain": [
       "   education_id  without_debt  has_debt  total_group  frac_debt  \\\n",
       "0             0          4939       278       5217.0   5.328733   \n",
       "1             1         13570      1362      14932.0   9.121350   \n",
       "2             2           676        68        744.0   9.139785   \n",
       "3             3           251        31        282.0  10.992908   \n",
       "\n",
       "             education  \n",
       "0               высшее  \n",
       "1              среднее  \n",
       "2  неоконченное высшее  \n",
       "3            начальное  "
      ]
     },
     "metadata": {},
     "output_type": "display_data"
    },
    {
     "data": {
      "text/plain": [
       "<AxesSubplot:xlabel='education', ylabel='frac_debt'>"
      ]
     },
     "execution_count": 56,
     "metadata": {},
     "output_type": "execute_result"
    },
    {
     "data": {
      "image/png": "[encoded data removed]",
      "text/plain": [
       "<Figure size 432x288 with 1 Axes>"
      ]
     },
     "metadata": {
      "needs_background": "light"
     },
     "output_type": "display_data"
    }
   ],
   "source": [
    "# строим сводную таблицу\n",
    "data_pivot = df.pivot_table(index='education_id', columns='debt', values='purpose', aggfunc='count').reset_index()\n",
    "# переименуем столбцы в человекопонятные названия\n",
    "data_pivot=data_pivot.rename(columns={1:'has_debt', 0:'without_debt'})\n",
    "\n",
    "# заменим пропуски на нули\n",
    "data_pivot['has_debt'] = data_pivot['has_debt'].fillna(0)\n",
    "data_pivot['without_debt'] = data_pivot['without_debt'].fillna(0)\n",
    "\n",
    "# Удалим строки в которых менее 30 человек в группе. Это статистически незначимая группа\n",
    "data_pivot['total_group'] = data_pivot['has_debt']+data_pivot['without_debt']\n",
    "data_pivot = data_pivot[data_pivot['total_group']>30]\n",
    "\n",
    "# считаем долю должников\n",
    "data_pivot['frac_debt'] = data_pivot['has_debt'] / (data_pivot['has_debt']+data_pivot['without_debt'])*100\n",
    "\n",
    "# число людей целочисленное\n",
    "data_pivot['has_debt'] = data_pivot['has_debt'].astype('int')\n",
    "data_pivot['without_debt'] = data_pivot['without_debt'].astype('int')\n",
    "\n",
    "# используем dic_education для вывода понятных категорий образования\n",
    "data_pivot = data_pivot.merge(dic_education, on='education_id', how='left')\n",
    "display(data_pivot)\n",
    "\n",
    "# строим гистограмму для наглядности\n",
    "sns.barplot(x='education', y='frac_debt', data=data_pivot)"
   ]
  },
  {
   "cell_type": "markdown",
   "id": "d4dd7c51",
   "metadata": {},
   "source": [
    "Видим зависимость риска долгов от образования. Чем лучше образование, тем ниже риск долгов. При этом, неоконченное высшее приравнивется к среднему, так как человек не смог осилить ступень высшего и остался на ступени среднего образования.\n",
    "Причина вероятно в том, что наличие образования помогает не только грамотно планировать финансы, но и отражает интеллектуальные способности, способность выделять важное, не забывать про важное и т.д. Эти навыки полезны для выплаты кредита в срок.\n",
    "\n",
    "##### Вывод 6:\n",
    "образование заемщика влияет на его возврат в срок. Кредиты отдаются лучше людьми с высшим образованием (риск 5.33%), чем людьми с начальным образованием (риск 10.99%)."
   ]
  },
  {
   "cell_type": "markdown",
   "id": "2fd40e53",
   "metadata": {},
   "source": [
    "##### Вопрос 7:\n",
    "<div class=\"alert alert-info\">\n",
    "<b>Комментарий студента:</b>\n",
    "<br>Это не входило в исходное задание. Сделал дополнительно\n",
    "</div>\n",
    "Как тип занятости заемщика влияет на его возврат в срок?\n",
    "\n",
    "Строим сводную таблицу и считаем долю должников frac_debt для категорий заемщиков.<br>\n",
    "Заемщиков разделяем по типам занятости (поле income_type)"
   ]
  },
  {
   "cell_type": "code",
   "execution_count": 90,
   "id": "9303c14b",
   "metadata": {
    "scrolled": false
   },
   "outputs": [
    {
     "data": {
      "text/html": [
       "<div>\n",
       "<style scoped>\n",
       "    .dataframe tbody tr th:only-of-type {\n",
       "        vertical-align: middle;\n",
       "    }\n",
       "\n",
       "    .dataframe tbody tr th {\n",
       "        vertical-align: top;\n",
       "    }\n",
       "\n",
       "    .dataframe thead th {\n",
       "        text-align: right;\n",
       "    }\n",
       "</style>\n",
       "<table border=\"1\" class=\"dataframe\">\n",
       "  <thead>\n",
       "    <tr style=\"text-align: right;\">\n",
       "      <th>debt</th>\n",
       "      <th>income_type</th>\n",
       "      <th>without_debt</th>\n",
       "      <th>has_debt</th>\n",
       "      <th>total_group</th>\n",
       "      <th>frac_debt</th>\n",
       "    </tr>\n",
       "  </thead>\n",
       "  <tbody>\n",
       "    <tr>\n",
       "      <th>2</th>\n",
       "      <td>госслужащий</td>\n",
       "      <td>1364</td>\n",
       "      <td>86</td>\n",
       "      <td>1450</td>\n",
       "      <td>5.931034</td>\n",
       "    </tr>\n",
       "    <tr>\n",
       "      <th>3</th>\n",
       "      <td>компаньон</td>\n",
       "      <td>4662</td>\n",
       "      <td>376</td>\n",
       "      <td>5038</td>\n",
       "      <td>7.463279</td>\n",
       "    </tr>\n",
       "    <tr>\n",
       "      <th>4</th>\n",
       "      <td>пенсионер</td>\n",
       "      <td>3541</td>\n",
       "      <td>216</td>\n",
       "      <td>3757</td>\n",
       "      <td>5.749268</td>\n",
       "    </tr>\n",
       "    <tr>\n",
       "      <th>6</th>\n",
       "      <td>сотрудник</td>\n",
       "      <td>9871</td>\n",
       "      <td>1059</td>\n",
       "      <td>10930</td>\n",
       "      <td>9.688930</td>\n",
       "    </tr>\n",
       "  </tbody>\n",
       "</table>\n",
       "</div>"
      ],
      "text/plain": [
       "debt  income_type  without_debt  has_debt  total_group  frac_debt\n",
       "2     госслужащий          1364        86         1450   5.931034\n",
       "3       компаньон          4662       376         5038   7.463279\n",
       "4       пенсионер          3541       216         3757   5.749268\n",
       "6       сотрудник          9871      1059        10930   9.688930"
      ]
     },
     "metadata": {},
     "output_type": "display_data"
    },
    {
     "data": {
      "text/plain": [
       "<AxesSubplot:xlabel='income_type', ylabel='frac_debt'>"
      ]
     },
     "execution_count": 90,
     "metadata": {},
     "output_type": "execute_result"
    },
    {
     "data": {
      "image/png": "[encoded data removed]",
      "text/plain": [
       "<Figure size 432x288 with 1 Axes>"
      ]
     },
     "metadata": {
      "needs_background": "light"
     },
     "output_type": "display_data"
    }
   ],
   "source": [
    "# строим сводную таблицу\n",
    "# заменим пропуски на нули \n",
    "data_pivot = df.pivot_table(index='income_type', columns='debt', values='purpose', aggfunc='count', fill_value=0).reset_index()\n",
    "# переименуем столбцы в человекопонятные названия\n",
    "data_pivot=data_pivot.rename(columns={1:'has_debt', 0:'without_debt'})\n",
    "\n",
    "\n",
    "\n",
    "\n",
    "data_pivot['total_group'] = data_pivot['has_debt']+data_pivot['without_debt']\n",
    "\n",
    "data_pivot = data_pivot[data_pivot['total_group']>30]\n",
    "\n",
    "# считаем долю должников\n",
    "data_pivot['frac_debt'] = data_pivot['has_debt'] / (data_pivot['has_debt']+data_pivot['without_debt'])*100\n",
    "\n",
    "# число людей целочисленное\n",
    "data_pivot['has_debt'] = data_pivot['has_debt'].astype('int')\n",
    "data_pivot['without_debt'] = data_pivot['without_debt'].astype('int')\n",
    "\n",
    "display(data_pivot)\n",
    "\n",
    "# строим гистограмму для наглядности\n",
    "sns.barplot(x='income_type', y='frac_debt', data=data_pivot)"
   ]
  },
  {
   "cell_type": "markdown",
   "id": "c32c887a",
   "metadata": {},
   "source": [
    "Видим зависимость риска долгов от типа занятости. Госслужащие и пенсионеры демонстрируют лучшую платежную дисциплину и меньший риск образования долгов. Данные категории характерны тем, что получают доход от государства, верятно, данные категории не находясь в конкурентной рыночной среде имеют осторожные консервативные взгляды и не готовы рисковать и связываться с процедурами взысканя долгов банком\n",
    "\n",
    "##### Вывод 7:\n",
    "Типа занятости заемщика влияет на его возврат в срок. Кредиты отдаются лучше госслужащими (5.93%) и пенсионерами (5.78%) чем  остальными категориями (7.47% .. 9.71%)."
   ]
  },
  {
   "cell_type": "markdown",
   "id": "0aec58fc",
   "metadata": {},
   "source": [
    "Строим сводную таблицу и считаем долю должников frac_debt для категорий заемщиков.<br>\n",
    "Заемщиков разделяем по категории возраста (поле dob_years_category)"
   ]
  },
  {
   "cell_type": "code",
   "execution_count": 61,
   "id": "103921ba",
   "metadata": {},
   "outputs": [
    {
     "data": {
      "text/html": [
       "<div>\n",
       "<style scoped>\n",
       "    .dataframe tbody tr th:only-of-type {\n",
       "        vertical-align: middle;\n",
       "    }\n",
       "\n",
       "    .dataframe tbody tr th {\n",
       "        vertical-align: top;\n",
       "    }\n",
       "\n",
       "    .dataframe thead th {\n",
       "        text-align: right;\n",
       "    }\n",
       "</style>\n",
       "<table border=\"1\" class=\"dataframe\">\n",
       "  <thead>\n",
       "    <tr style=\"text-align: right;\">\n",
       "      <th>debt</th>\n",
       "      <th>dob_years_category</th>\n",
       "      <th>without_debt</th>\n",
       "      <th>has_debt</th>\n",
       "      <th>total_group</th>\n",
       "      <th>frac_debt</th>\n",
       "    </tr>\n",
       "  </thead>\n",
       "  <tbody>\n",
       "    <tr>\n",
       "      <th>2</th>\n",
       "      <td>(18.0, 30.0]</td>\n",
       "      <td>3286</td>\n",
       "      <td>402</td>\n",
       "      <td>3688</td>\n",
       "      <td>10.900217</td>\n",
       "    </tr>\n",
       "    <tr>\n",
       "      <th>3</th>\n",
       "      <td>(30.0, 40.0]</td>\n",
       "      <td>5134</td>\n",
       "      <td>545</td>\n",
       "      <td>5679</td>\n",
       "      <td>9.596760</td>\n",
       "    </tr>\n",
       "    <tr>\n",
       "      <th>4</th>\n",
       "      <td>(40.0, 60.0]</td>\n",
       "      <td>9029</td>\n",
       "      <td>691</td>\n",
       "      <td>9720</td>\n",
       "      <td>7.109053</td>\n",
       "    </tr>\n",
       "    <tr>\n",
       "      <th>5</th>\n",
       "      <td>(60.0, 70.0]</td>\n",
       "      <td>1891</td>\n",
       "      <td>98</td>\n",
       "      <td>1989</td>\n",
       "      <td>4.927099</td>\n",
       "    </tr>\n",
       "    <tr>\n",
       "      <th>6</th>\n",
       "      <td>(70.0, inf]</td>\n",
       "      <td>102</td>\n",
       "      <td>3</td>\n",
       "      <td>105</td>\n",
       "      <td>2.857143</td>\n",
       "    </tr>\n",
       "  </tbody>\n",
       "</table>\n",
       "</div>"
      ],
      "text/plain": [
       "debt dob_years_category  without_debt  has_debt  total_group  frac_debt\n",
       "2          (18.0, 30.0]          3286       402         3688  10.900217\n",
       "3          (30.0, 40.0]          5134       545         5679   9.596760\n",
       "4          (40.0, 60.0]          9029       691         9720   7.109053\n",
       "5          (60.0, 70.0]          1891        98         1989   4.927099\n",
       "6           (70.0, inf]           102         3          105   2.857143"
      ]
     },
     "metadata": {},
     "output_type": "display_data"
    },
    {
     "data": {
      "text/plain": [
       "<AxesSubplot:xlabel='dob_years_category', ylabel='frac_debt'>"
      ]
     },
     "execution_count": 61,
     "metadata": {},
     "output_type": "execute_result"
    },
    {
     "data": {
      "image/png": "[encoded data removed]",
      "text/plain": [
       "<Figure size 432x288 with 1 Axes>"
      ]
     },
     "metadata": {
      "needs_background": "light"
     },
     "output_type": "display_data"
    }
   ],
   "source": [
    "# строим сводную таблицу\n",
    "data_pivot = df.pivot_table(index='dob_years_category', columns='debt', values='purpose', aggfunc='count').reset_index()\n",
    "# переименуем столбцы в человекопонятные названия\n",
    "data_pivot=data_pivot.rename(columns={1:'has_debt', 0:'without_debt'})\n",
    "\n",
    "# заменим пропуски на нули\n",
    "data_pivot['has_debt'] = data_pivot['has_debt'].fillna(0)\n",
    "data_pivot['without_debt'] = data_pivot['without_debt'].fillna(0)\n",
    "\n",
    "data_pivot['total_group'] = data_pivot['has_debt']+data_pivot['without_debt']\n",
    "\n",
    "data_pivot = data_pivot[data_pivot['total_group']>30]\n",
    "\n",
    "# считаем долю должников\n",
    "data_pivot['frac_debt'] = data_pivot['has_debt'] / (data_pivot['has_debt']+data_pivot['without_debt'])*100\n",
    "\n",
    "# число людей целочисленное\n",
    "data_pivot['has_debt'] = data_pivot['has_debt'].astype('int')\n",
    "data_pivot['without_debt'] = data_pivot['without_debt'].astype('int')\n",
    "\n",
    "display(data_pivot)\n",
    "\n",
    "# строим гистограмму для наглядности\n",
    "sns.barplot(x='dob_years_category', y='frac_debt', data=data_pivot)\n",
    "data_pivot"
   ]
  },
  {
   "cell_type": "markdown",
   "id": "17c00381",
   "metadata": {},
   "source": [
    "Видим зависимость риска долгов от возраста заемщика. Чем старше заемщик, тем лучше платежная дисциплина. Это известный факт, что чем старше люди, тем более они ответственные в целом. Данные подтверждают это.\n",
    "\n",
    "##### Вывод 8:\n",
    "Возраст заемщика влияет на его возврат в срок. Чем старше заемщик, тем лучше платежная дисциплина. Риск снижается от 10.92% для категории 19-30 лет до 4.95% для категории 60-70 лет. Категория 71+ лет имеет еще меньший риск, но данных недостатточно для подтверждения такого вывода."
   ]
  },
  {
   "cell_type": "markdown",
   "id": "2b0e1c88",
   "metadata": {},
   "source": [
    "##### Вопрос 9:\n",
    "\n",
    "Как стаж заемщика влияет на его возврат в срок?"
   ]
  },
  {
   "cell_type": "markdown",
   "id": "649dc000",
   "metadata": {},
   "source": [
    "Строим сводную таблицу и считаем долю должников frac_debt для категорий заемщиков.<br>\n",
    "Заемщиков разделяем по категории стажа (поле years_employed_category)"
   ]
  },
  {
   "cell_type": "code",
   "execution_count": 86,
   "id": "b9c0890d",
   "metadata": {
    "scrolled": false
   },
   "outputs": [
    {
     "data": {
      "text/html": [
       "<div>\n",
       "<style scoped>\n",
       "    .dataframe tbody tr th:only-of-type {\n",
       "        vertical-align: middle;\n",
       "    }\n",
       "\n",
       "    .dataframe tbody tr th {\n",
       "        vertical-align: top;\n",
       "    }\n",
       "\n",
       "    .dataframe thead th {\n",
       "        text-align: right;\n",
       "    }\n",
       "</style>\n",
       "<table border=\"1\" class=\"dataframe\">\n",
       "  <thead>\n",
       "    <tr style=\"text-align: right;\">\n",
       "      <th>debt</th>\n",
       "      <th>years_employed_category</th>\n",
       "      <th>without_debt</th>\n",
       "      <th>has_debt</th>\n",
       "      <th>total_group</th>\n",
       "      <th>frac_debt</th>\n",
       "    </tr>\n",
       "  </thead>\n",
       "  <tbody>\n",
       "    <tr>\n",
       "      <th>0</th>\n",
       "      <td>(-0.9, 2.0]</td>\n",
       "      <td>3136</td>\n",
       "      <td>395</td>\n",
       "      <td>3531</td>\n",
       "      <td>11.186633</td>\n",
       "    </tr>\n",
       "    <tr>\n",
       "      <th>1</th>\n",
       "      <td>(2.0, 3.0]</td>\n",
       "      <td>4088</td>\n",
       "      <td>442</td>\n",
       "      <td>4530</td>\n",
       "      <td>9.757174</td>\n",
       "    </tr>\n",
       "    <tr>\n",
       "      <th>2</th>\n",
       "      <td>(3.0, 4.0]</td>\n",
       "      <td>3837</td>\n",
       "      <td>243</td>\n",
       "      <td>4080</td>\n",
       "      <td>5.955882</td>\n",
       "    </tr>\n",
       "    <tr>\n",
       "      <th>3</th>\n",
       "      <td>(4.0, 5.0]</td>\n",
       "      <td>1813</td>\n",
       "      <td>167</td>\n",
       "      <td>1980</td>\n",
       "      <td>8.434343</td>\n",
       "    </tr>\n",
       "    <tr>\n",
       "      <th>4</th>\n",
       "      <td>(5.0, 9.0]</td>\n",
       "      <td>3229</td>\n",
       "      <td>301</td>\n",
       "      <td>3530</td>\n",
       "      <td>8.526912</td>\n",
       "    </tr>\n",
       "    <tr>\n",
       "      <th>5</th>\n",
       "      <td>(9.0, 50.0]</td>\n",
       "      <td>3339</td>\n",
       "      <td>191</td>\n",
       "      <td>3530</td>\n",
       "      <td>5.410765</td>\n",
       "    </tr>\n",
       "  </tbody>\n",
       "</table>\n",
       "</div>"
      ],
      "text/plain": [
       "debt years_employed_category  without_debt  has_debt  total_group  frac_debt\n",
       "0                (-0.9, 2.0]          3136       395         3531  11.186633\n",
       "1                 (2.0, 3.0]          4088       442         4530   9.757174\n",
       "2                 (3.0, 4.0]          3837       243         4080   5.955882\n",
       "3                 (4.0, 5.0]          1813       167         1980   8.434343\n",
       "4                 (5.0, 9.0]          3229       301         3530   8.526912\n",
       "5                (9.0, 50.0]          3339       191         3530   5.410765"
      ]
     },
     "metadata": {},
     "output_type": "display_data"
    },
    {
     "data": {
      "text/plain": [
       "<AxesSubplot:xlabel='Стаж работы, лет', ylabel='Доля клиентов с невозвратами в срок, %'>"
      ]
     },
     "execution_count": 86,
     "metadata": {},
     "output_type": "execute_result"
    },
    {
     "data": {
      "image/png": "[encoded data removed]",
      "text/plain": [
       "<Figure size 648x504 with 1 Axes>"
      ]
     },
     "metadata": {
      "needs_background": "light"
     },
     "output_type": "display_data"
    }
   ],
   "source": [
    "# строим сводную таблицу\n",
    "data_pivot = df.pivot_table(index='years_employed_category', columns='debt', values='purpose', aggfunc='count').reset_index()\n",
    "# переименуем столбцы в человекопонятные названия\n",
    "data_pivot=data_pivot.rename(columns={1:'has_debt', 0:'without_debt'})\n",
    "\n",
    "# заменим пропуски на нули\n",
    "data_pivot['has_debt'] = data_pivot['has_debt'].fillna(0)\n",
    "data_pivot['without_debt'] = data_pivot['without_debt'].fillna(0)\n",
    "\n",
    "data_pivot['total_group'] = data_pivot['has_debt']+data_pivot['without_debt']\n",
    "\n",
    "data_pivot = data_pivot[data_pivot['total_group']>30]\n",
    "\n",
    "# считаем долю должников\n",
    "data_pivot['frac_debt'] = data_pivot['has_debt'] / (data_pivot['has_debt']+data_pivot['without_debt'])*100\n",
    "\n",
    "# число людей целочисленное\n",
    "data_pivot['has_debt'] = data_pivot['has_debt'].astype('int')\n",
    "data_pivot['without_debt'] = data_pivot['without_debt'].astype('int')\n",
    "\n",
    "display(data_pivot)\n",
    "data_pivot.plot(x='years_employed_category', y='frac_debt', kind='bar', figsize=(9,7), \n",
    "                xlabel='Стаж работы, лет', ylabel='Доля клиентов с невозвратами в срок, %', legend=False, rot=0, fontsize=12)\n",
    "\n",
    "# строим гистограмму для наглядности\n",
    "#sns.barplot(x='years_employed_category', y='frac_debt', data=data_pivot)"
   ]
  },
  {
   "cell_type": "markdown",
   "id": "5191a428",
   "metadata": {},
   "source": [
    "Видим зависимость риска долгов от трудового стажа заемщика. Чем выше стаж, тем лучше платежная дисциплина. Эффект проявляется при стаже более 3 лет и отчетливо виден при стаже более 15 лет.\n",
    "Стаж связан с возрастом. Тут есть прямая корреляция. Возрастные люди более ответственны.\n",
    "\n",
    "##### Вывод 9:\n",
    "Трудовой стаж заемщика влияет на его возврат в срок. Стаж более 3 лет снижает риск на 3 п.п., а стаж более 15 лет снижает риск еще на 3 п.п"
   ]
  },
  {
   "cell_type": "markdown",
   "id": "fa534a53",
   "metadata": {},
   "source": [
    "## Общий вывод:"
   ]
  },
  {
   "cell_type": "markdown",
   "id": "eed6f454",
   "metadata": {},
   "source": [
    "В данных были обнаружены пропуски в столбцах стажа и дохода. Как показал последующий анализ, данные показатели существенно влияют на риск образования долгов, поэтому стоит исключить возможность пропусков в данных в будущем\n",
    "\n",
    "Также в данных имеются артефакты \n",
    " - бывает число детей  children < 0 либо число детей 20. Вероятная причина: опечатки при вводе данных\n",
    " - бывает возраст клиента в годах  dob_years = 0. Вероятная причина: случайные ошибки.\n",
    " - общий трудовой стаж в днях days_employed < 0. Вероятная причина: ошибка в знаке\n",
    " - общий трудовой стаж превышает 900 лет. Вероятная причина: техническая ошибка неясного генеза.\n",
    " \n",
    " \n"
   ]
  },
  {
   "cell_type": "markdown",
   "id": "415d64a8",
   "metadata": {},
   "source": [
    "Наличие и количество детей влияет на возврат кредита в срок: от 7.67% при 0 детях до 9.55% при 2 детях. А для числа детей 3+ делать статистические выводы опасно, т.к. выборка небольшая.\n",
    "\n",
    "Есть зависимость между семейным положением и возвратом кредита в срок. Те, кто еще не вступали в брак (не женат либо только в гражданском браке) имеют более высокий риск задолженности (9,4%..9,84%) против тех, кто уже в браке или был в браке (6,68% .. 7,69%)\n",
    "\n",
    "Уровень дохода и возврат кредита в срок имеется. Для диапазона зарплат от 50 000 до 1000 000 рост зарплаты влияет на риск невозврата от 7.06% для 50-200 тыс руб до 8.66% для 200-1000 тыс руб\n",
    "\n",
    "Цели кредита влияют на его возврат в срок. Кредиты на свадьбу несут заметно меньший риск (7.39% .. 8.07%), чем операции с автомобилями и получение образования (9.41% .. 9.33%).\n",
    "\n",
    "\n",
    "<div class=\"alert alert-info\">\n",
    "<b>Комментарий студента:</b>\n",
    "<br>Дополнительные выводы. Это не входило в исходное задание.\n",
    "<br><br>Гендер влияет на его возврат в срок. Риск невозврата у женщин ниже: 7.13% для женщин против 10,37% для мужчин\n",
    "<br><br>Образование заемщика влияет на его возврат в срок. Кредиты отдаются лучше людьми с высшим образованием (риск 5.33%), чем людьми с начальным образованием (риск 10.99%).\n",
    "<br><br>Тип занятости заемщика влияет на его возврат в срок. Кредиты отдаются лучше госслужащими (5.93%) и пенсионерами (5.78%) чем  остальными категориями (7.47% .. 9.71%).\n",
    "<br><br>Возраст заемщика влияет на его возврат в срок. Чем старше заемщик, тем лучше платежная дисциплина. Риск снижается от 10.92% для категории 19-30 лет до 4.95% для категории 60-70 лет. Категория 71+ лет имеет еще меньший риск, но данных недостаточно для подтверждения такого вывода.\n",
    "<br>Трудовой стаж заемщика влияет на его возврат в срок. Стаж более 3 лет снижает риск на 3 п.п., а стаж более 15 лет снижает риск еще на 3 п.п\n",
    "</div>\n",
    "\n"
   ]
  },
  {
   "cell_type": "markdown",
   "id": "c0d400d3",
   "metadata": {},
   "source": []
  }
 ],
 "metadata": {
  "ExecuteTimeLog": [
   {
    "duration": 592,
    "start_time": "2022-02-02T18:46:31.122Z"
   },
   {
    "duration": 3,
    "start_time": "2022-02-02T18:52:40.645Z"
   },
   {
    "duration": 3,
    "start_time": "2022-02-02T18:53:40.184Z"
   },
   {
    "duration": 21,
    "start_time": "2022-02-02T18:56:46.822Z"
   },
   {
    "duration": 10,
    "start_time": "2022-02-02T18:57:27.981Z"
   },
   {
    "duration": 232,
    "start_time": "2022-02-02T18:59:24.422Z"
   },
   {
    "duration": 172,
    "start_time": "2022-02-02T18:59:33.405Z"
   },
   {
    "duration": 15,
    "start_time": "2022-02-02T18:59:40.653Z"
   },
   {
    "duration": 10,
    "start_time": "2022-02-02T18:59:49.260Z"
   },
   {
    "duration": 11,
    "start_time": "2022-02-02T19:01:04.158Z"
   },
   {
    "duration": 4,
    "start_time": "2022-02-02T19:01:13.365Z"
   },
   {
    "duration": 5,
    "start_time": "2022-02-02T19:02:22.382Z"
   },
   {
    "duration": 10,
    "start_time": "2022-02-02T19:02:27.243Z"
   },
   {
    "duration": 172,
    "start_time": "2022-02-02T19:02:51.110Z"
   },
   {
    "duration": 13,
    "start_time": "2022-02-02T19:03:00.875Z"
   },
   {
    "duration": 9,
    "start_time": "2022-02-02T19:04:43.444Z"
   },
   {
    "duration": 7,
    "start_time": "2022-02-02T19:06:55.029Z"
   },
   {
    "duration": 7,
    "start_time": "2022-02-02T19:07:04.140Z"
   },
   {
    "duration": 22,
    "start_time": "2022-02-02T19:09:59.333Z"
   },
   {
    "duration": 64,
    "start_time": "2022-02-02T19:15:22.886Z"
   },
   {
    "duration": 253,
    "start_time": "2022-02-02T19:16:01.925Z"
   },
   {
    "duration": 229,
    "start_time": "2022-02-02T19:16:36.093Z"
   },
   {
    "duration": 255,
    "start_time": "2022-02-02T19:16:54.485Z"
   },
   {
    "duration": 274,
    "start_time": "2022-02-02T19:17:16.061Z"
   },
   {
    "duration": 62,
    "start_time": "2022-02-02T19:17:38.796Z"
   },
   {
    "duration": 60,
    "start_time": "2022-02-02T19:19:15.894Z"
   },
   {
    "duration": 239,
    "start_time": "2022-02-02T19:19:25.382Z"
   },
   {
    "duration": 57,
    "start_time": "2022-02-02T19:19:43.684Z"
   },
   {
    "duration": 4600,
    "start_time": "2022-02-02T19:19:55.727Z"
   },
   {
    "duration": 168,
    "start_time": "2022-02-02T19:22:09.803Z"
   },
   {
    "duration": 14,
    "start_time": "2022-02-02T19:22:52.108Z"
   },
   {
    "duration": 8,
    "start_time": "2022-02-02T19:24:06.932Z"
   },
   {
    "duration": 8,
    "start_time": "2022-02-02T19:24:24.235Z"
   },
   {
    "duration": 4772,
    "start_time": "2022-02-02T19:26:12.492Z"
   },
   {
    "duration": 18,
    "start_time": "2022-02-02T19:26:29.995Z"
   },
   {
    "duration": 18,
    "start_time": "2022-02-02T19:26:39.259Z"
   },
   {
    "duration": 18,
    "start_time": "2022-02-02T19:27:05.861Z"
   },
   {
    "duration": 4664,
    "start_time": "2022-02-02T19:27:14.221Z"
   },
   {
    "duration": 18,
    "start_time": "2022-02-02T19:27:22.323Z"
   },
   {
    "duration": 16,
    "start_time": "2022-02-02T19:27:30.773Z"
   },
   {
    "duration": 14,
    "start_time": "2022-02-02T19:27:59.379Z"
   },
   {
    "duration": 16,
    "start_time": "2022-02-02T19:28:49.644Z"
   },
   {
    "duration": 15,
    "start_time": "2022-02-02T19:29:26.363Z"
   },
   {
    "duration": 17,
    "start_time": "2022-02-02T19:29:45.539Z"
   },
   {
    "duration": 15,
    "start_time": "2022-02-02T19:30:21.019Z"
   },
   {
    "duration": 17,
    "start_time": "2022-02-02T19:30:43.979Z"
   },
   {
    "duration": 17,
    "start_time": "2022-02-02T19:30:45.324Z"
   },
   {
    "duration": 16,
    "start_time": "2022-02-02T19:30:46.322Z"
   },
   {
    "duration": 15,
    "start_time": "2022-02-02T19:30:47.130Z"
   },
   {
    "duration": 16,
    "start_time": "2022-02-02T19:30:48.035Z"
   },
   {
    "duration": 11,
    "start_time": "2022-02-02T19:36:09.739Z"
   },
   {
    "duration": 13,
    "start_time": "2022-02-02T19:37:29.538Z"
   },
   {
    "duration": 210,
    "start_time": "2022-02-02T19:38:08.755Z"
   },
   {
    "duration": 13,
    "start_time": "2022-02-02T19:38:12.715Z"
   },
   {
    "duration": 21,
    "start_time": "2022-02-02T19:38:37.477Z"
   },
   {
    "duration": 23,
    "start_time": "2022-02-02T19:38:42.226Z"
   },
   {
    "duration": 25,
    "start_time": "2022-02-02T19:39:58.045Z"
   },
   {
    "duration": 24,
    "start_time": "2022-02-02T19:40:40.539Z"
   },
   {
    "duration": 58,
    "start_time": "2022-02-02T19:50:16.643Z"
   },
   {
    "duration": 29,
    "start_time": "2022-02-02T19:54:43.651Z"
   },
   {
    "duration": 27,
    "start_time": "2022-02-02T19:55:47.307Z"
   },
   {
    "duration": 10,
    "start_time": "2022-02-02T19:59:25.835Z"
   },
   {
    "duration": 7,
    "start_time": "2022-02-02T19:59:47.260Z"
   },
   {
    "duration": 9,
    "start_time": "2022-02-02T19:59:49.201Z"
   },
   {
    "duration": 70,
    "start_time": "2022-02-02T20:00:00.354Z"
   },
   {
    "duration": 10,
    "start_time": "2022-02-02T20:00:00.426Z"
   },
   {
    "duration": 27,
    "start_time": "2022-02-02T20:00:00.438Z"
   },
   {
    "duration": 25,
    "start_time": "2022-02-02T20:00:00.467Z"
   },
   {
    "duration": 34,
    "start_time": "2022-02-02T20:00:00.494Z"
   },
   {
    "duration": 23,
    "start_time": "2022-02-02T20:00:00.529Z"
   },
   {
    "duration": 20,
    "start_time": "2022-02-02T20:00:00.554Z"
   },
   {
    "duration": 33,
    "start_time": "2022-02-02T20:00:00.576Z"
   },
   {
    "duration": 25,
    "start_time": "2022-02-02T20:00:00.611Z"
   },
   {
    "duration": 26,
    "start_time": "2022-02-02T20:00:00.638Z"
   },
   {
    "duration": 16,
    "start_time": "2022-02-02T20:00:00.666Z"
   },
   {
    "duration": 9,
    "start_time": "2022-02-02T20:00:02.929Z"
   },
   {
    "duration": 7,
    "start_time": "2022-02-02T20:15:46.881Z"
   },
   {
    "duration": 8,
    "start_time": "2022-02-02T20:19:06.586Z"
   },
   {
    "duration": 7,
    "start_time": "2022-02-02T20:20:10.633Z"
   },
   {
    "duration": 5,
    "start_time": "2022-02-02T20:21:21.010Z"
   },
   {
    "duration": 67,
    "start_time": "2022-02-02T20:21:29.562Z"
   },
   {
    "duration": 9,
    "start_time": "2022-02-02T20:21:29.630Z"
   },
   {
    "duration": 22,
    "start_time": "2022-02-02T20:21:29.641Z"
   },
   {
    "duration": 8,
    "start_time": "2022-02-02T20:21:29.665Z"
   },
   {
    "duration": 28,
    "start_time": "2022-02-02T20:21:29.675Z"
   },
   {
    "duration": 60,
    "start_time": "2022-02-02T20:21:29.704Z"
   },
   {
    "duration": 17,
    "start_time": "2022-02-02T20:21:29.766Z"
   },
   {
    "duration": 17,
    "start_time": "2022-02-02T20:21:29.786Z"
   },
   {
    "duration": 59,
    "start_time": "2022-02-02T20:21:29.805Z"
   },
   {
    "duration": 15,
    "start_time": "2022-02-02T20:21:29.865Z"
   },
   {
    "duration": 5,
    "start_time": "2022-02-02T20:21:29.882Z"
   },
   {
    "duration": 9,
    "start_time": "2022-02-02T20:21:29.889Z"
   },
   {
    "duration": 4,
    "start_time": "2022-02-02T20:21:32.089Z"
   },
   {
    "duration": 6,
    "start_time": "2022-02-02T20:21:45.737Z"
   },
   {
    "duration": 176,
    "start_time": "2022-02-02T20:22:12.309Z"
   },
   {
    "duration": 6,
    "start_time": "2022-02-02T20:22:34.209Z"
   },
   {
    "duration": 6,
    "start_time": "2022-02-02T20:23:15.448Z"
   },
   {
    "duration": 5,
    "start_time": "2022-02-02T20:23:40.306Z"
   },
   {
    "duration": 6,
    "start_time": "2022-02-02T20:23:50.505Z"
   },
   {
    "duration": 4,
    "start_time": "2022-02-02T20:25:34.808Z"
   },
   {
    "duration": 7,
    "start_time": "2022-02-02T20:25:45.696Z"
   },
   {
    "duration": 5,
    "start_time": "2022-02-02T20:25:53.809Z"
   },
   {
    "duration": 6,
    "start_time": "2022-02-02T20:26:00.129Z"
   },
   {
    "duration": 3,
    "start_time": "2022-02-02T20:26:06.482Z"
   },
   {
    "duration": 6,
    "start_time": "2022-02-02T20:28:17.992Z"
   },
   {
    "duration": 172,
    "start_time": "2022-02-02T20:28:30.424Z"
   },
   {
    "duration": 4,
    "start_time": "2022-02-02T20:28:34.432Z"
   },
   {
    "duration": 6,
    "start_time": "2022-02-02T20:28:42.295Z"
   },
   {
    "duration": 5,
    "start_time": "2022-02-02T20:29:37.897Z"
   },
   {
    "duration": 5,
    "start_time": "2022-02-02T20:29:45.761Z"
   },
   {
    "duration": 6,
    "start_time": "2022-02-02T20:32:48.290Z"
   },
   {
    "duration": 6,
    "start_time": "2022-02-02T20:32:58.455Z"
   },
   {
    "duration": 4,
    "start_time": "2022-02-02T20:34:24.145Z"
   },
   {
    "duration": 5,
    "start_time": "2022-02-02T20:34:29.983Z"
   },
   {
    "duration": 5,
    "start_time": "2022-02-02T20:34:46.199Z"
   },
   {
    "duration": 6,
    "start_time": "2022-02-02T20:35:01.125Z"
   },
   {
    "duration": 7,
    "start_time": "2022-02-02T20:36:03.113Z"
   },
   {
    "duration": 7,
    "start_time": "2022-02-02T20:36:16.631Z"
   },
   {
    "duration": 1181,
    "start_time": "2022-02-02T20:36:44.639Z"
   },
   {
    "duration": 5,
    "start_time": "2022-02-02T20:37:26.674Z"
   },
   {
    "duration": 639,
    "start_time": "2022-02-02T20:37:29.975Z"
   },
   {
    "duration": 5,
    "start_time": "2022-02-02T20:38:19.919Z"
   },
   {
    "duration": 5,
    "start_time": "2022-02-02T20:40:21.767Z"
   },
   {
    "duration": 6,
    "start_time": "2022-02-02T20:41:31.206Z"
   },
   {
    "duration": 5,
    "start_time": "2022-02-02T20:41:46.247Z"
   },
   {
    "duration": 70,
    "start_time": "2022-02-02T20:41:57.634Z"
   },
   {
    "duration": 9,
    "start_time": "2022-02-02T20:41:57.705Z"
   },
   {
    "duration": 12,
    "start_time": "2022-02-02T20:41:57.716Z"
   },
   {
    "duration": 30,
    "start_time": "2022-02-02T20:41:57.730Z"
   },
   {
    "duration": 27,
    "start_time": "2022-02-02T20:41:57.762Z"
   },
   {
    "duration": 14,
    "start_time": "2022-02-02T20:41:57.791Z"
   },
   {
    "duration": 54,
    "start_time": "2022-02-02T20:41:57.807Z"
   },
   {
    "duration": 14,
    "start_time": "2022-02-02T20:41:57.863Z"
   },
   {
    "duration": 12,
    "start_time": "2022-02-02T20:41:57.879Z"
   },
   {
    "duration": 16,
    "start_time": "2022-02-02T20:41:57.893Z"
   },
   {
    "duration": 49,
    "start_time": "2022-02-02T20:41:57.910Z"
   },
   {
    "duration": 9,
    "start_time": "2022-02-02T20:41:57.961Z"
   },
   {
    "duration": 7,
    "start_time": "2022-02-02T20:41:57.972Z"
   },
   {
    "duration": 6,
    "start_time": "2022-02-02T20:41:57.981Z"
   },
   {
    "duration": 73,
    "start_time": "2022-02-02T20:41:57.989Z"
   },
   {
    "duration": 1025,
    "start_time": "2022-02-02T20:41:57.039Z"
   },
   {
    "duration": 1023,
    "start_time": "2022-02-02T20:41:57.042Z"
   },
   {
    "duration": 1021,
    "start_time": "2022-02-02T20:41:57.045Z"
   },
   {
    "duration": 1018,
    "start_time": "2022-02-02T20:41:57.048Z"
   },
   {
    "duration": 4,
    "start_time": "2022-02-02T20:42:20.966Z"
   },
   {
    "duration": 5,
    "start_time": "2022-02-02T20:42:22.742Z"
   },
   {
    "duration": 6,
    "start_time": "2022-02-02T20:42:24.014Z"
   },
   {
    "duration": 713,
    "start_time": "2022-02-02T20:42:25.710Z"
   },
   {
    "duration": 5,
    "start_time": "2022-02-02T20:42:28.774Z"
   },
   {
    "duration": 643,
    "start_time": "2022-02-02T20:43:29.984Z"
   },
   {
    "duration": 69,
    "start_time": "2022-02-02T20:43:30.641Z"
   },
   {
    "duration": 122,
    "start_time": "2022-02-02T20:43:30.728Z"
   },
   {
    "duration": 92,
    "start_time": "2022-02-02T20:43:30.868Z"
   },
   {
    "duration": 34,
    "start_time": "2022-02-02T20:43:30.962Z"
   },
   {
    "duration": 20,
    "start_time": "2022-02-02T20:43:30.998Z"
   },
   {
    "duration": 19,
    "start_time": "2022-02-02T20:43:31.059Z"
   },
   {
    "duration": 17,
    "start_time": "2022-02-02T20:43:31.081Z"
   },
   {
    "duration": 16,
    "start_time": "2022-02-02T20:43:31.100Z"
   },
   {
    "duration": 55,
    "start_time": "2022-02-02T20:43:31.118Z"
   },
   {
    "duration": 6,
    "start_time": "2022-02-02T20:43:31.175Z"
   },
   {
    "duration": 17,
    "start_time": "2022-02-02T20:43:31.182Z"
   },
   {
    "duration": 5,
    "start_time": "2022-02-02T20:43:31.201Z"
   },
   {
    "duration": 9,
    "start_time": "2022-02-02T20:43:31.208Z"
   },
   {
    "duration": 43,
    "start_time": "2022-02-02T20:43:31.219Z"
   },
   {
    "duration": 8,
    "start_time": "2022-02-02T20:43:31.264Z"
   },
   {
    "duration": 13,
    "start_time": "2022-02-02T20:43:31.275Z"
   },
   {
    "duration": 1253,
    "start_time": "2022-02-02T20:43:31.290Z"
   },
   {
    "duration": 7,
    "start_time": "2022-02-02T20:43:40.321Z"
   },
   {
    "duration": 642,
    "start_time": "2022-02-02T20:44:48.480Z"
   },
   {
    "duration": 249,
    "start_time": "2022-02-02T20:49:44.432Z"
   },
   {
    "duration": 8,
    "start_time": "2022-02-02T20:50:15.096Z"
   },
   {
    "duration": 555,
    "start_time": "2022-02-02T20:50:55.475Z"
   },
   {
    "duration": 7,
    "start_time": "2022-02-02T20:51:05.386Z"
   },
   {
    "duration": 13,
    "start_time": "2022-02-02T20:51:45.761Z"
   },
   {
    "duration": 6,
    "start_time": "2022-02-02T20:52:03.057Z"
   },
   {
    "duration": 6,
    "start_time": "2022-02-02T20:52:14.728Z"
   },
   {
    "duration": 5,
    "start_time": "2022-02-02T20:53:01.372Z"
   },
   {
    "duration": 5,
    "start_time": "2022-02-02T20:53:09.480Z"
   },
   {
    "duration": 5,
    "start_time": "2022-02-02T20:59:00.544Z"
   },
   {
    "duration": 9,
    "start_time": "2022-02-02T21:20:56.167Z"
   },
   {
    "duration": 6,
    "start_time": "2022-02-02T21:23:54.339Z"
   },
   {
    "duration": 5,
    "start_time": "2022-02-02T21:24:27.182Z"
   },
   {
    "duration": 59,
    "start_time": "2022-02-02T21:25:14.501Z"
   },
   {
    "duration": 6,
    "start_time": "2022-02-02T21:25:30.528Z"
   },
   {
    "duration": 7,
    "start_time": "2022-02-02T21:26:24.566Z"
   },
   {
    "duration": 6,
    "start_time": "2022-02-02T21:26:44.957Z"
   },
   {
    "duration": 6,
    "start_time": "2022-02-02T21:31:18.842Z"
   },
   {
    "duration": 37,
    "start_time": "2022-02-02T21:33:00.406Z"
   },
   {
    "duration": 6,
    "start_time": "2022-02-02T21:33:16.755Z"
   },
   {
    "duration": 7,
    "start_time": "2022-02-02T21:34:39.197Z"
   },
   {
    "duration": 6,
    "start_time": "2022-02-02T21:34:53.658Z"
   },
   {
    "duration": 5,
    "start_time": "2022-02-02T21:35:13.707Z"
   },
   {
    "duration": 177,
    "start_time": "2022-02-02T21:35:26.682Z"
   },
   {
    "duration": 7,
    "start_time": "2022-02-02T21:35:30.001Z"
   },
   {
    "duration": 7,
    "start_time": "2022-02-02T21:35:49.282Z"
   },
   {
    "duration": 5,
    "start_time": "2022-02-02T21:36:09.242Z"
   },
   {
    "duration": 2609,
    "start_time": "2022-02-02T21:40:28.888Z"
   },
   {
    "duration": 7,
    "start_time": "2022-02-02T21:41:35.017Z"
   },
   {
    "duration": 8,
    "start_time": "2022-02-02T21:42:06.250Z"
   },
   {
    "duration": 2046,
    "start_time": "2022-02-02T21:42:15.129Z"
   },
   {
    "duration": 2134,
    "start_time": "2022-02-02T21:43:46.448Z"
   },
   {
    "duration": 2110,
    "start_time": "2022-02-02T21:44:25.817Z"
   },
   {
    "duration": 182,
    "start_time": "2022-02-02T21:44:48.386Z"
   },
   {
    "duration": 2115,
    "start_time": "2022-02-02T21:45:37.410Z"
   },
   {
    "duration": 4,
    "start_time": "2022-02-02T21:46:46.712Z"
   },
   {
    "duration": 2059,
    "start_time": "2022-02-02T21:46:57.024Z"
   },
   {
    "duration": 2245,
    "start_time": "2022-02-02T21:47:06.784Z"
   },
   {
    "duration": 552,
    "start_time": "2022-02-02T21:47:16.672Z"
   },
   {
    "duration": 197,
    "start_time": "2022-02-02T21:47:23.135Z"
   },
   {
    "duration": 171,
    "start_time": "2022-02-02T21:47:28.258Z"
   },
   {
    "duration": 60,
    "start_time": "2022-02-02T21:47:40.321Z"
   },
   {
    "duration": 53,
    "start_time": "2022-02-02T21:47:51.223Z"
   },
   {
    "duration": 3,
    "start_time": "2022-02-02T21:47:57.018Z"
   },
   {
    "duration": 5,
    "start_time": "2022-02-02T21:50:11.896Z"
   },
   {
    "duration": 7,
    "start_time": "2022-02-02T21:50:16.278Z"
   },
   {
    "duration": 5,
    "start_time": "2022-02-02T21:50:18.775Z"
   },
   {
    "duration": 2164,
    "start_time": "2022-02-02T21:50:29.768Z"
   },
   {
    "duration": 2262,
    "start_time": "2022-02-02T21:51:01.783Z"
   },
   {
    "duration": 5,
    "start_time": "2022-02-02T21:51:14.943Z"
   },
   {
    "duration": 5,
    "start_time": "2022-02-02T21:52:39.768Z"
   },
   {
    "duration": 5,
    "start_time": "2022-02-02T21:52:43.431Z"
   },
   {
    "duration": 5,
    "start_time": "2022-02-02T21:52:53.191Z"
   },
   {
    "duration": 5,
    "start_time": "2022-02-02T21:53:13.775Z"
   },
   {
    "duration": 5,
    "start_time": "2022-02-02T21:53:17.470Z"
   },
   {
    "duration": 5,
    "start_time": "2022-02-02T21:53:19.630Z"
   },
   {
    "duration": 5,
    "start_time": "2022-02-02T21:53:34.823Z"
   },
   {
    "duration": 7,
    "start_time": "2022-02-02T21:53:51.389Z"
   },
   {
    "duration": 7,
    "start_time": "2022-02-02T21:57:30.552Z"
   },
   {
    "duration": 168,
    "start_time": "2022-02-02T21:58:23.431Z"
   },
   {
    "duration": 5,
    "start_time": "2022-02-02T21:58:39.504Z"
   },
   {
    "duration": 6,
    "start_time": "2022-02-02T21:58:47.495Z"
   },
   {
    "duration": 16,
    "start_time": "2022-02-02T22:01:11.534Z"
   },
   {
    "duration": 1972,
    "start_time": "2022-02-02T22:01:35.663Z"
   },
   {
    "duration": 7,
    "start_time": "2022-02-02T22:03:21.981Z"
   },
   {
    "duration": 2080,
    "start_time": "2022-02-02T22:03:29.084Z"
   },
   {
    "duration": 66,
    "start_time": "2022-02-02T22:04:00.576Z"
   },
   {
    "duration": 177,
    "start_time": "2022-02-02T22:04:28.117Z"
   },
   {
    "duration": 7,
    "start_time": "2022-02-02T22:04:47.171Z"
   },
   {
    "duration": 7,
    "start_time": "2022-02-02T22:04:57.510Z"
   },
   {
    "duration": 8,
    "start_time": "2022-02-02T22:05:32.246Z"
   },
   {
    "duration": 20,
    "start_time": "2022-02-02T22:05:43.534Z"
   },
   {
    "duration": 6,
    "start_time": "2022-02-02T22:06:12.646Z"
   },
   {
    "duration": 6,
    "start_time": "2022-02-02T22:06:24.133Z"
   },
   {
    "duration": 6,
    "start_time": "2022-02-02T22:06:41.244Z"
   },
   {
    "duration": 226,
    "start_time": "2022-02-02T22:06:45.699Z"
   },
   {
    "duration": 230,
    "start_time": "2022-02-02T22:07:19.923Z"
   },
   {
    "duration": 8,
    "start_time": "2022-02-02T22:07:23.155Z"
   },
   {
    "duration": 2231,
    "start_time": "2022-02-02T22:07:25.099Z"
   },
   {
    "duration": 248,
    "start_time": "2022-02-02T22:09:45.723Z"
   },
   {
    "duration": 629,
    "start_time": "2022-02-02T22:09:58.924Z"
   },
   {
    "duration": 188,
    "start_time": "2022-02-02T22:10:09.947Z"
   },
   {
    "duration": 6,
    "start_time": "2022-02-02T22:13:02.789Z"
   },
   {
    "duration": 265,
    "start_time": "2022-02-02T22:19:11.602Z"
   },
   {
    "duration": 185,
    "start_time": "2022-02-02T22:19:25.505Z"
   },
   {
    "duration": 268,
    "start_time": "2022-02-02T22:20:17.305Z"
   },
   {
    "duration": 5,
    "start_time": "2022-02-02T22:22:08.021Z"
   },
   {
    "duration": 185,
    "start_time": "2022-02-02T22:22:12.293Z"
   },
   {
    "duration": 65,
    "start_time": "2022-02-02T22:26:17.395Z"
   },
   {
    "duration": 61,
    "start_time": "2022-02-02T22:26:22.008Z"
   },
   {
    "duration": 57,
    "start_time": "2022-02-02T22:26:36.447Z"
   },
   {
    "duration": 64,
    "start_time": "2022-02-02T22:26:49.361Z"
   },
   {
    "duration": 8,
    "start_time": "2022-02-02T22:26:55.940Z"
   },
   {
    "duration": 6,
    "start_time": "2022-02-02T22:27:08.984Z"
   },
   {
    "duration": 6,
    "start_time": "2022-02-02T22:27:17.872Z"
   },
   {
    "duration": 7,
    "start_time": "2022-02-02T22:28:12.921Z"
   },
   {
    "duration": 6,
    "start_time": "2022-02-02T22:30:18.359Z"
   },
   {
    "duration": 6,
    "start_time": "2022-02-02T22:30:37.879Z"
   },
   {
    "duration": 260,
    "start_time": "2022-02-02T22:31:09.576Z"
   },
   {
    "duration": 258,
    "start_time": "2022-02-02T22:31:16.845Z"
   },
   {
    "duration": 247,
    "start_time": "2022-02-02T22:33:08.159Z"
   },
   {
    "duration": 250,
    "start_time": "2022-02-02T22:34:11.568Z"
   },
   {
    "duration": 18,
    "start_time": "2022-02-02T22:38:27.007Z"
   },
   {
    "duration": 12,
    "start_time": "2022-02-02T22:38:54.558Z"
   },
   {
    "duration": 6,
    "start_time": "2022-02-02T22:51:21.288Z"
   },
   {
    "duration": 4,
    "start_time": "2022-02-02T22:51:45.769Z"
   },
   {
    "duration": 15,
    "start_time": "2022-02-02T22:52:58.792Z"
   },
   {
    "duration": 5,
    "start_time": "2022-02-02T22:53:46.208Z"
   },
   {
    "duration": 54,
    "start_time": "2022-02-02T22:59:23.967Z"
   },
   {
    "duration": 9,
    "start_time": "2022-02-02T22:59:38.209Z"
   },
   {
    "duration": 10,
    "start_time": "2022-02-02T23:00:05.017Z"
   },
   {
    "duration": 11,
    "start_time": "2022-02-02T23:01:36.176Z"
   },
   {
    "duration": 17,
    "start_time": "2022-02-02T23:04:53.119Z"
   },
   {
    "duration": 25,
    "start_time": "2022-02-02T23:05:13.879Z"
   },
   {
    "duration": 173,
    "start_time": "2022-02-02T23:08:51.720Z"
   },
   {
    "duration": 54,
    "start_time": "2022-02-02T23:09:02.589Z"
   },
   {
    "duration": 65,
    "start_time": "2022-02-02T23:09:23.725Z"
   },
   {
    "duration": 5,
    "start_time": "2022-02-02T23:09:29.877Z"
   },
   {
    "duration": 11,
    "start_time": "2022-02-02T23:09:35.508Z"
   },
   {
    "duration": 12,
    "start_time": "2022-02-02T23:10:09.981Z"
   },
   {
    "duration": 11,
    "start_time": "2022-02-02T23:11:48.308Z"
   },
   {
    "duration": 7,
    "start_time": "2022-02-02T23:16:10.126Z"
   },
   {
    "duration": 251,
    "start_time": "2022-02-02T23:16:56.248Z"
   },
   {
    "duration": 4443,
    "start_time": "2022-02-02T23:17:02.989Z"
   },
   {
    "duration": 9,
    "start_time": "2022-02-02T23:17:18.955Z"
   },
   {
    "duration": 72,
    "start_time": "2022-02-02T23:17:33.402Z"
   },
   {
    "duration": 10,
    "start_time": "2022-02-02T23:17:33.477Z"
   },
   {
    "duration": 10,
    "start_time": "2022-02-02T23:17:33.490Z"
   },
   {
    "duration": 9,
    "start_time": "2022-02-02T23:17:33.502Z"
   },
   {
    "duration": 74,
    "start_time": "2022-02-02T23:17:33.512Z"
   },
   {
    "duration": 17,
    "start_time": "2022-02-02T23:17:33.588Z"
   },
   {
    "duration": 57,
    "start_time": "2022-02-02T23:17:33.607Z"
   },
   {
    "duration": 18,
    "start_time": "2022-02-02T23:17:33.667Z"
   },
   {
    "duration": 17,
    "start_time": "2022-02-02T23:17:33.688Z"
   },
   {
    "duration": 62,
    "start_time": "2022-02-02T23:17:33.707Z"
   },
   {
    "duration": 7,
    "start_time": "2022-02-02T23:17:33.772Z"
   },
   {
    "duration": 18,
    "start_time": "2022-02-02T23:17:33.781Z"
   },
   {
    "duration": 8,
    "start_time": "2022-02-02T23:17:33.801Z"
   },
   {
    "duration": 15,
    "start_time": "2022-02-02T23:17:33.811Z"
   },
   {
    "duration": 30,
    "start_time": "2022-02-02T23:17:33.829Z"
   },
   {
    "duration": 8,
    "start_time": "2022-02-02T23:17:33.861Z"
   },
   {
    "duration": 662,
    "start_time": "2022-02-02T23:17:33.870Z"
   },
   {
    "duration": 5,
    "start_time": "2022-02-02T23:17:34.534Z"
   },
   {
    "duration": 21,
    "start_time": "2022-02-02T23:17:34.541Z"
   },
   {
    "duration": 5,
    "start_time": "2022-02-02T23:17:34.564Z"
   },
   {
    "duration": 6,
    "start_time": "2022-02-02T23:17:34.570Z"
   },
   {
    "duration": 292,
    "start_time": "2022-02-02T23:17:34.577Z"
   },
   {
    "duration": 4,
    "start_time": "2022-02-02T23:17:34.873Z"
   },
   {
    "duration": 213,
    "start_time": "2022-02-02T23:17:34.879Z"
   },
   {
    "duration": 8,
    "start_time": "2022-02-02T23:17:35.094Z"
   },
   {
    "duration": 7,
    "start_time": "2022-02-02T23:17:35.104Z"
   },
   {
    "duration": 295,
    "start_time": "2022-02-02T23:17:35.113Z"
   },
   {
    "duration": 14,
    "start_time": "2022-02-02T23:17:35.410Z"
   },
   {
    "duration": 4,
    "start_time": "2022-02-02T23:17:35.426Z"
   },
   {
    "duration": 39,
    "start_time": "2022-02-02T23:17:35.432Z"
   },
   {
    "duration": 5,
    "start_time": "2022-02-02T23:17:35.473Z"
   },
   {
    "duration": 16,
    "start_time": "2022-02-02T23:17:35.479Z"
   },
   {
    "duration": 11,
    "start_time": "2022-02-02T23:17:35.497Z"
   },
   {
    "duration": 52,
    "start_time": "2022-02-02T23:17:35.510Z"
   },
   {
    "duration": 298,
    "start_time": "2022-02-02T23:17:35.564Z"
   },
   {
    "duration": 10,
    "start_time": "2022-02-02T23:17:35.864Z"
   },
   {
    "duration": 22,
    "start_time": "2022-02-02T23:17:35.875Z"
   },
   {
    "duration": 29,
    "start_time": "2022-02-02T23:17:35.898Z"
   },
   {
    "duration": 177,
    "start_time": "2022-02-02T23:25:51.929Z"
   },
   {
    "duration": 177,
    "start_time": "2022-02-02T23:26:09.650Z"
   },
   {
    "duration": 7,
    "start_time": "2022-02-02T23:26:20.290Z"
   },
   {
    "duration": 6,
    "start_time": "2022-02-02T23:26:36.778Z"
   },
   {
    "duration": 54,
    "start_time": "2022-02-02T23:27:09.500Z"
   },
   {
    "duration": 6,
    "start_time": "2022-02-02T23:27:26.601Z"
   },
   {
    "duration": 6,
    "start_time": "2022-02-02T23:27:42.401Z"
   },
   {
    "duration": 5,
    "start_time": "2022-02-02T23:27:48.099Z"
   },
   {
    "duration": 290,
    "start_time": "2022-02-02T23:28:24.945Z"
   },
   {
    "duration": 6,
    "start_time": "2022-02-02T23:32:15.674Z"
   },
   {
    "duration": 6,
    "start_time": "2022-02-02T23:32:26.545Z"
   },
   {
    "duration": 274,
    "start_time": "2022-02-02T23:33:30.101Z"
   },
   {
    "duration": 6,
    "start_time": "2022-02-02T23:34:21.923Z"
   },
   {
    "duration": 5,
    "start_time": "2022-02-02T23:35:07.781Z"
   },
   {
    "duration": 21,
    "start_time": "2022-02-02T23:36:43.072Z"
   },
   {
    "duration": 8,
    "start_time": "2022-02-02T23:44:13.822Z"
   },
   {
    "duration": 19,
    "start_time": "2022-02-02T23:44:30.661Z"
   },
   {
    "duration": 18,
    "start_time": "2022-02-02T23:45:31.870Z"
   },
   {
    "duration": 1081,
    "start_time": "2022-02-02T23:50:13.831Z"
   },
   {
    "duration": 885,
    "start_time": "2022-02-02T23:51:23.219Z"
   },
   {
    "duration": 422,
    "start_time": "2022-02-03T06:08:32.227Z"
   },
   {
    "duration": 878,
    "start_time": "2022-02-03T06:08:49.020Z"
   },
   {
    "duration": 14,
    "start_time": "2022-02-03T06:08:49.902Z"
   },
   {
    "duration": 13,
    "start_time": "2022-02-03T06:08:49.920Z"
   },
   {
    "duration": 14,
    "start_time": "2022-02-03T06:08:49.960Z"
   },
   {
    "duration": 41,
    "start_time": "2022-02-03T06:08:49.976Z"
   },
   {
    "duration": 24,
    "start_time": "2022-02-03T06:08:50.059Z"
   },
   {
    "duration": 22,
    "start_time": "2022-02-03T06:08:50.086Z"
   },
   {
    "duration": 64,
    "start_time": "2022-02-03T06:08:50.113Z"
   },
   {
    "duration": 22,
    "start_time": "2022-02-03T06:08:50.181Z"
   },
   {
    "duration": 57,
    "start_time": "2022-02-03T06:08:50.205Z"
   },
   {
    "duration": 8,
    "start_time": "2022-02-03T06:08:50.265Z"
   },
   {
    "duration": 15,
    "start_time": "2022-02-03T06:08:50.275Z"
   },
   {
    "duration": 8,
    "start_time": "2022-02-03T06:08:50.292Z"
   },
   {
    "duration": 7,
    "start_time": "2022-02-03T06:08:50.303Z"
   },
   {
    "duration": 5,
    "start_time": "2022-02-03T06:08:50.359Z"
   },
   {
    "duration": 7,
    "start_time": "2022-02-03T06:08:50.366Z"
   },
   {
    "duration": 1729,
    "start_time": "2022-02-03T06:08:50.375Z"
   },
   {
    "duration": 8,
    "start_time": "2022-02-03T06:08:52.106Z"
   },
   {
    "duration": 8,
    "start_time": "2022-02-03T06:08:52.116Z"
   },
   {
    "duration": 35,
    "start_time": "2022-02-03T06:08:52.126Z"
   },
   {
    "duration": 9,
    "start_time": "2022-02-03T06:08:52.163Z"
   },
   {
    "duration": 424,
    "start_time": "2022-02-03T06:08:52.175Z"
   },
   {
    "duration": 7,
    "start_time": "2022-02-03T06:08:52.603Z"
   },
   {
    "duration": 315,
    "start_time": "2022-02-03T06:08:52.612Z"
   },
   {
    "duration": 12,
    "start_time": "2022-02-03T06:08:56.931Z"
   },
   {
    "duration": 11,
    "start_time": "2022-02-03T06:09:50.498Z"
   },
   {
    "duration": 19,
    "start_time": "2022-02-03T06:11:41.624Z"
   },
   {
    "duration": 16,
    "start_time": "2022-02-03T06:14:32.520Z"
   },
   {
    "duration": 17,
    "start_time": "2022-02-03T06:14:55.778Z"
   },
   {
    "duration": 9,
    "start_time": "2022-02-03T06:19:16.888Z"
   },
   {
    "duration": 8,
    "start_time": "2022-02-03T06:19:19.790Z"
   },
   {
    "duration": 96,
    "start_time": "2022-02-03T06:20:06.569Z"
   },
   {
    "duration": 11,
    "start_time": "2022-02-03T06:20:06.668Z"
   },
   {
    "duration": 11,
    "start_time": "2022-02-03T06:20:06.683Z"
   },
   {
    "duration": 9,
    "start_time": "2022-02-03T06:20:06.697Z"
   },
   {
    "duration": 75,
    "start_time": "2022-02-03T06:20:06.708Z"
   },
   {
    "duration": 21,
    "start_time": "2022-02-03T06:20:06.785Z"
   },
   {
    "duration": 57,
    "start_time": "2022-02-03T06:20:06.808Z"
   },
   {
    "duration": 21,
    "start_time": "2022-02-03T06:20:06.869Z"
   },
   {
    "duration": 24,
    "start_time": "2022-02-03T06:20:06.893Z"
   },
   {
    "duration": 61,
    "start_time": "2022-02-03T06:20:06.920Z"
   },
   {
    "duration": 8,
    "start_time": "2022-02-03T06:20:06.983Z"
   },
   {
    "duration": 12,
    "start_time": "2022-02-03T06:20:06.993Z"
   },
   {
    "duration": 6,
    "start_time": "2022-02-03T06:20:07.008Z"
   },
   {
    "duration": 48,
    "start_time": "2022-02-03T06:20:07.016Z"
   },
   {
    "duration": 4,
    "start_time": "2022-02-03T06:20:07.067Z"
   },
   {
    "duration": 6,
    "start_time": "2022-02-03T06:20:07.073Z"
   },
   {
    "duration": 1127,
    "start_time": "2022-02-03T06:20:07.081Z"
   },
   {
    "duration": 7,
    "start_time": "2022-02-03T06:20:08.210Z"
   },
   {
    "duration": 7,
    "start_time": "2022-02-03T06:20:08.219Z"
   },
   {
    "duration": 33,
    "start_time": "2022-02-03T06:20:08.229Z"
   },
   {
    "duration": 8,
    "start_time": "2022-02-03T06:20:08.265Z"
   },
   {
    "duration": 425,
    "start_time": "2022-02-03T06:20:08.276Z"
   },
   {
    "duration": 7,
    "start_time": "2022-02-03T06:20:08.705Z"
   },
   {
    "duration": 315,
    "start_time": "2022-02-03T06:20:08.714Z"
   },
   {
    "duration": 9,
    "start_time": "2022-02-03T06:20:09.031Z"
   },
   {
    "duration": 10,
    "start_time": "2022-02-03T06:20:12.638Z"
   },
   {
    "duration": 390,
    "start_time": "2022-02-03T06:20:13.588Z"
   },
   {
    "duration": 90,
    "start_time": "2022-02-03T06:20:55.790Z"
   },
   {
    "duration": 11,
    "start_time": "2022-02-03T06:20:55.883Z"
   },
   {
    "duration": 10,
    "start_time": "2022-02-03T06:20:55.897Z"
   },
   {
    "duration": 9,
    "start_time": "2022-02-03T06:20:55.910Z"
   },
   {
    "duration": 70,
    "start_time": "2022-02-03T06:20:55.922Z"
   },
   {
    "duration": 24,
    "start_time": "2022-02-03T06:20:55.994Z"
   },
   {
    "duration": 58,
    "start_time": "2022-02-03T06:20:56.021Z"
   },
   {
    "duration": 23,
    "start_time": "2022-02-03T06:20:56.085Z"
   },
   {
    "duration": 61,
    "start_time": "2022-02-03T06:20:56.111Z"
   },
   {
    "duration": 21,
    "start_time": "2022-02-03T06:20:56.175Z"
   },
   {
    "duration": 7,
    "start_time": "2022-02-03T06:20:56.199Z"
   },
   {
    "duration": 51,
    "start_time": "2022-02-03T06:20:56.208Z"
   },
   {
    "duration": 6,
    "start_time": "2022-02-03T06:20:56.262Z"
   },
   {
    "duration": 10,
    "start_time": "2022-02-03T06:20:56.271Z"
   },
   {
    "duration": 4,
    "start_time": "2022-02-03T06:20:56.283Z"
   },
   {
    "duration": 7,
    "start_time": "2022-02-03T06:20:56.290Z"
   },
   {
    "duration": 1014,
    "start_time": "2022-02-03T06:20:56.299Z"
   },
   {
    "duration": 7,
    "start_time": "2022-02-03T06:20:57.315Z"
   },
   {
    "duration": 8,
    "start_time": "2022-02-03T06:20:57.324Z"
   },
   {
    "duration": 7,
    "start_time": "2022-02-03T06:20:57.360Z"
   },
   {
    "duration": 13,
    "start_time": "2022-02-03T06:20:57.369Z"
   },
   {
    "duration": 442,
    "start_time": "2022-02-03T06:20:57.385Z"
   },
   {
    "duration": 7,
    "start_time": "2022-02-03T06:20:57.832Z"
   },
   {
    "duration": 302,
    "start_time": "2022-02-03T06:20:57.860Z"
   },
   {
    "duration": 8,
    "start_time": "2022-02-03T06:20:58.165Z"
   },
   {
    "duration": 4,
    "start_time": "2022-02-03T06:20:58.175Z"
   },
   {
    "duration": 421,
    "start_time": "2022-02-03T06:20:58.181Z"
   },
   {
    "duration": 94,
    "start_time": "2022-02-03T06:21:15.571Z"
   },
   {
    "duration": 12,
    "start_time": "2022-02-03T06:21:15.668Z"
   },
   {
    "duration": 11,
    "start_time": "2022-02-03T06:21:15.683Z"
   },
   {
    "duration": 10,
    "start_time": "2022-02-03T06:21:15.697Z"
   },
   {
    "duration": 78,
    "start_time": "2022-02-03T06:21:15.709Z"
   },
   {
    "duration": 21,
    "start_time": "2022-02-03T06:21:15.790Z"
   },
   {
    "duration": 53,
    "start_time": "2022-02-03T06:21:15.813Z"
   },
   {
    "duration": 20,
    "start_time": "2022-02-03T06:21:15.869Z"
   },
   {
    "duration": 19,
    "start_time": "2022-02-03T06:21:15.892Z"
   },
   {
    "duration": 56,
    "start_time": "2022-02-03T06:21:15.913Z"
   },
   {
    "duration": 7,
    "start_time": "2022-02-03T06:21:15.971Z"
   },
   {
    "duration": 15,
    "start_time": "2022-02-03T06:21:15.980Z"
   },
   {
    "duration": 7,
    "start_time": "2022-02-03T06:21:15.998Z"
   },
   {
    "duration": 11,
    "start_time": "2022-02-03T06:21:16.008Z"
   },
   {
    "duration": 7,
    "start_time": "2022-02-03T06:21:16.060Z"
   },
   {
    "duration": 7,
    "start_time": "2022-02-03T06:21:16.070Z"
   },
   {
    "duration": 1296,
    "start_time": "2022-02-03T06:21:16.080Z"
   },
   {
    "duration": 7,
    "start_time": "2022-02-03T06:21:17.379Z"
   },
   {
    "duration": 7,
    "start_time": "2022-02-03T06:21:17.389Z"
   },
   {
    "duration": 7,
    "start_time": "2022-02-03T06:21:17.399Z"
   },
   {
    "duration": 52,
    "start_time": "2022-02-03T06:21:17.408Z"
   },
   {
    "duration": 414,
    "start_time": "2022-02-03T06:21:17.462Z"
   },
   {
    "duration": 6,
    "start_time": "2022-02-03T06:21:17.880Z"
   },
   {
    "duration": 308,
    "start_time": "2022-02-03T06:21:17.889Z"
   },
   {
    "duration": 8,
    "start_time": "2022-02-03T06:21:18.200Z"
   },
   {
    "duration": 9,
    "start_time": "2022-02-03T06:21:18.210Z"
   },
   {
    "duration": 422,
    "start_time": "2022-02-03T06:21:18.222Z"
   },
   {
    "duration": 317,
    "start_time": "2022-02-03T06:21:56.417Z"
   },
   {
    "duration": 90,
    "start_time": "2022-02-03T06:22:35.015Z"
   },
   {
    "duration": 12,
    "start_time": "2022-02-03T06:22:35.107Z"
   },
   {
    "duration": 37,
    "start_time": "2022-02-03T06:22:35.122Z"
   },
   {
    "duration": 10,
    "start_time": "2022-02-03T06:22:35.162Z"
   },
   {
    "duration": 39,
    "start_time": "2022-02-03T06:22:35.174Z"
   },
   {
    "duration": 62,
    "start_time": "2022-02-03T06:22:35.215Z"
   },
   {
    "duration": 20,
    "start_time": "2022-02-03T06:22:35.279Z"
   },
   {
    "duration": 19,
    "start_time": "2022-02-03T06:22:35.303Z"
   },
   {
    "duration": 21,
    "start_time": "2022-02-03T06:22:35.359Z"
   },
   {
    "duration": 21,
    "start_time": "2022-02-03T06:22:35.382Z"
   },
   {
    "duration": 6,
    "start_time": "2022-02-03T06:22:35.406Z"
   },
   {
    "duration": 49,
    "start_time": "2022-02-03T06:22:35.415Z"
   },
   {
    "duration": 5,
    "start_time": "2022-02-03T06:22:35.467Z"
   },
   {
    "duration": 9,
    "start_time": "2022-02-03T06:22:35.474Z"
   },
   {
    "duration": 5,
    "start_time": "2022-02-03T06:22:35.485Z"
   },
   {
    "duration": 6,
    "start_time": "2022-02-03T06:22:35.492Z"
   },
   {
    "duration": 1059,
    "start_time": "2022-02-03T06:22:35.500Z"
   },
   {
    "duration": 7,
    "start_time": "2022-02-03T06:22:36.561Z"
   },
   {
    "duration": 7,
    "start_time": "2022-02-03T06:22:36.570Z"
   },
   {
    "duration": 7,
    "start_time": "2022-02-03T06:22:36.579Z"
   },
   {
    "duration": 7,
    "start_time": "2022-02-03T06:22:36.588Z"
   },
   {
    "duration": 436,
    "start_time": "2022-02-03T06:22:36.597Z"
   },
   {
    "duration": 6,
    "start_time": "2022-02-03T06:22:37.037Z"
   },
   {
    "duration": 298,
    "start_time": "2022-02-03T06:22:37.060Z"
   },
   {
    "duration": 9,
    "start_time": "2022-02-03T06:22:37.360Z"
   },
   {
    "duration": 5,
    "start_time": "2022-02-03T06:22:37.371Z"
   },
   {
    "duration": 349,
    "start_time": "2022-02-03T06:22:37.379Z"
   },
   {
    "duration": 819,
    "start_time": "2022-02-03T06:23:34.233Z"
   },
   {
    "duration": 10,
    "start_time": "2022-02-03T06:23:46.934Z"
   },
   {
    "duration": 400,
    "start_time": "2022-02-03T06:23:48.206Z"
   },
   {
    "duration": 90,
    "start_time": "2022-02-03T06:24:26.593Z"
   },
   {
    "duration": 14,
    "start_time": "2022-02-03T06:24:26.686Z"
   },
   {
    "duration": 13,
    "start_time": "2022-02-03T06:24:26.704Z"
   },
   {
    "duration": 47,
    "start_time": "2022-02-03T06:24:26.721Z"
   },
   {
    "duration": 42,
    "start_time": "2022-02-03T06:24:26.770Z"
   },
   {
    "duration": 60,
    "start_time": "2022-02-03T06:24:26.814Z"
   },
   {
    "duration": 22,
    "start_time": "2022-02-03T06:24:26.877Z"
   },
   {
    "duration": 61,
    "start_time": "2022-02-03T06:24:26.905Z"
   },
   {
    "duration": 25,
    "start_time": "2022-02-03T06:24:26.970Z"
   },
   {
    "duration": 62,
    "start_time": "2022-02-03T06:24:26.997Z"
   },
   {
    "duration": 7,
    "start_time": "2022-02-03T06:24:27.062Z"
   },
   {
    "duration": 11,
    "start_time": "2022-02-03T06:24:27.071Z"
   },
   {
    "duration": 5,
    "start_time": "2022-02-03T06:24:27.085Z"
   },
   {
    "duration": 8,
    "start_time": "2022-02-03T06:24:27.092Z"
   },
   {
    "duration": 5,
    "start_time": "2022-02-03T06:24:27.103Z"
   },
   {
    "duration": 53,
    "start_time": "2022-02-03T06:24:27.111Z"
   },
   {
    "duration": 1071,
    "start_time": "2022-02-03T06:24:27.166Z"
   },
   {
    "duration": 8,
    "start_time": "2022-02-03T06:24:28.239Z"
   },
   {
    "duration": 7,
    "start_time": "2022-02-03T06:24:28.260Z"
   },
   {
    "duration": 6,
    "start_time": "2022-02-03T06:24:28.270Z"
   },
   {
    "duration": 8,
    "start_time": "2022-02-03T06:24:28.279Z"
   },
   {
    "duration": 448,
    "start_time": "2022-02-03T06:24:28.290Z"
   },
   {
    "duration": 17,
    "start_time": "2022-02-03T06:24:28.742Z"
   },
   {
    "duration": 313,
    "start_time": "2022-02-03T06:24:28.762Z"
   },
   {
    "duration": 9,
    "start_time": "2022-02-03T06:24:29.077Z"
   },
   {
    "duration": 8,
    "start_time": "2022-02-03T06:24:29.088Z"
   },
   {
    "duration": 464,
    "start_time": "2022-02-03T06:24:29.098Z"
   },
   {
    "duration": 5,
    "start_time": "2022-02-03T06:24:49.172Z"
   },
   {
    "duration": 402,
    "start_time": "2022-02-03T06:24:49.949Z"
   },
   {
    "duration": 341,
    "start_time": "2022-02-03T06:25:21.342Z"
   },
   {
    "duration": 88,
    "start_time": "2022-02-03T06:25:42.135Z"
   },
   {
    "duration": 38,
    "start_time": "2022-02-03T06:25:42.226Z"
   },
   {
    "duration": 12,
    "start_time": "2022-02-03T06:25:42.267Z"
   },
   {
    "duration": 10,
    "start_time": "2022-02-03T06:25:42.283Z"
   },
   {
    "duration": 77,
    "start_time": "2022-02-03T06:25:42.295Z"
   },
   {
    "duration": 23,
    "start_time": "2022-02-03T06:25:42.374Z"
   },
   {
    "duration": 19,
    "start_time": "2022-02-03T06:25:42.400Z"
   },
   {
    "duration": 23,
    "start_time": "2022-02-03T06:25:42.458Z"
   },
   {
    "duration": 24,
    "start_time": "2022-02-03T06:25:42.484Z"
   },
   {
    "duration": 59,
    "start_time": "2022-02-03T06:25:42.510Z"
   },
   {
    "duration": 8,
    "start_time": "2022-02-03T06:25:42.572Z"
   },
   {
    "duration": 12,
    "start_time": "2022-02-03T06:25:42.582Z"
   },
   {
    "duration": 7,
    "start_time": "2022-02-03T06:25:42.597Z"
   },
   {
    "duration": 8,
    "start_time": "2022-02-03T06:25:42.607Z"
   },
   {
    "duration": 46,
    "start_time": "2022-02-03T06:25:42.617Z"
   },
   {
    "duration": 9,
    "start_time": "2022-02-03T06:25:42.665Z"
   },
   {
    "duration": 1056,
    "start_time": "2022-02-03T06:25:42.677Z"
   },
   {
    "duration": 7,
    "start_time": "2022-02-03T06:25:43.736Z"
   },
   {
    "duration": 8,
    "start_time": "2022-02-03T06:25:43.760Z"
   },
   {
    "duration": 7,
    "start_time": "2022-02-03T06:25:43.770Z"
   },
   {
    "duration": 9,
    "start_time": "2022-02-03T06:25:43.780Z"
   },
   {
    "duration": 580,
    "start_time": "2022-02-03T06:25:43.791Z"
   },
   {
    "duration": 6,
    "start_time": "2022-02-03T06:25:44.375Z"
   },
   {
    "duration": 331,
    "start_time": "2022-02-03T06:25:44.384Z"
   },
   {
    "duration": 9,
    "start_time": "2022-02-03T06:25:44.719Z"
   },
   {
    "duration": 28,
    "start_time": "2022-02-03T06:25:44.730Z"
   },
   {
    "duration": 330,
    "start_time": "2022-02-03T06:25:44.761Z"
   },
   {
    "duration": 319,
    "start_time": "2022-02-03T06:25:59.103Z"
   },
   {
    "duration": 92,
    "start_time": "2022-02-03T06:28:43.481Z"
   },
   {
    "duration": 15,
    "start_time": "2022-02-03T06:28:43.576Z"
   },
   {
    "duration": 13,
    "start_time": "2022-02-03T06:28:43.595Z"
   },
   {
    "duration": 12,
    "start_time": "2022-02-03T06:28:43.611Z"
   },
   {
    "duration": 42,
    "start_time": "2022-02-03T06:28:43.661Z"
   },
   {
    "duration": 58,
    "start_time": "2022-02-03T06:28:43.705Z"
   },
   {
    "duration": 20,
    "start_time": "2022-02-03T06:28:43.766Z"
   },
   {
    "duration": 21,
    "start_time": "2022-02-03T06:28:43.789Z"
   },
   {
    "duration": 61,
    "start_time": "2022-02-03T06:28:43.814Z"
   },
   {
    "duration": 22,
    "start_time": "2022-02-03T06:28:43.878Z"
   },
   {
    "duration": 7,
    "start_time": "2022-02-03T06:28:43.902Z"
   },
   {
    "duration": 50,
    "start_time": "2022-02-03T06:28:43.912Z"
   },
   {
    "duration": 8,
    "start_time": "2022-02-03T06:28:43.965Z"
   },
   {
    "duration": 9,
    "start_time": "2022-02-03T06:28:43.976Z"
   },
   {
    "duration": 5,
    "start_time": "2022-02-03T06:28:43.988Z"
   },
   {
    "duration": 6,
    "start_time": "2022-02-03T06:28:43.995Z"
   },
   {
    "duration": 1105,
    "start_time": "2022-02-03T06:28:44.003Z"
   },
   {
    "duration": 8,
    "start_time": "2022-02-03T06:28:45.110Z"
   },
   {
    "duration": 9,
    "start_time": "2022-02-03T06:28:45.120Z"
   },
   {
    "duration": 31,
    "start_time": "2022-02-03T06:28:45.131Z"
   },
   {
    "duration": 9,
    "start_time": "2022-02-03T06:28:45.165Z"
   },
   {
    "duration": 428,
    "start_time": "2022-02-03T06:28:45.176Z"
   },
   {
    "duration": 5,
    "start_time": "2022-02-03T06:28:45.608Z"
   },
   {
    "duration": 320,
    "start_time": "2022-02-03T06:28:45.616Z"
   },
   {
    "duration": 21,
    "start_time": "2022-02-03T06:28:45.940Z"
   },
   {
    "duration": 11,
    "start_time": "2022-02-03T06:28:45.964Z"
   },
   {
    "duration": 360,
    "start_time": "2022-02-03T06:28:45.977Z"
   },
   {
    "duration": 325,
    "start_time": "2022-02-03T06:29:14.812Z"
   },
   {
    "duration": 397,
    "start_time": "2022-02-03T06:29:48.853Z"
   },
   {
    "duration": 389,
    "start_time": "2022-02-03T06:30:06.773Z"
   },
   {
    "duration": 312,
    "start_time": "2022-02-03T06:30:17.310Z"
   },
   {
    "duration": 325,
    "start_time": "2022-02-03T06:30:42.437Z"
   },
   {
    "duration": 370,
    "start_time": "2022-02-03T06:31:08.365Z"
   },
   {
    "duration": 112,
    "start_time": "2022-02-03T06:31:44.049Z"
   },
   {
    "duration": 13,
    "start_time": "2022-02-03T06:31:44.164Z"
   },
   {
    "duration": 14,
    "start_time": "2022-02-03T06:31:44.181Z"
   },
   {
    "duration": 11,
    "start_time": "2022-02-03T06:31:44.198Z"
   },
   {
    "duration": 82,
    "start_time": "2022-02-03T06:31:44.212Z"
   },
   {
    "duration": 21,
    "start_time": "2022-02-03T06:31:44.296Z"
   },
   {
    "duration": 56,
    "start_time": "2022-02-03T06:31:44.319Z"
   },
   {
    "duration": 23,
    "start_time": "2022-02-03T06:31:44.379Z"
   },
   {
    "duration": 54,
    "start_time": "2022-02-03T06:31:44.405Z"
   },
   {
    "duration": 23,
    "start_time": "2022-02-03T06:31:44.462Z"
   },
   {
    "duration": 8,
    "start_time": "2022-02-03T06:31:44.487Z"
   },
   {
    "duration": 12,
    "start_time": "2022-02-03T06:31:44.498Z"
   },
   {
    "duration": 47,
    "start_time": "2022-02-03T06:31:44.513Z"
   },
   {
    "duration": 9,
    "start_time": "2022-02-03T06:31:44.562Z"
   },
   {
    "duration": 5,
    "start_time": "2022-02-03T06:31:44.573Z"
   },
   {
    "duration": 6,
    "start_time": "2022-02-03T06:31:44.581Z"
   },
   {
    "duration": 1257,
    "start_time": "2022-02-03T06:31:44.590Z"
   },
   {
    "duration": 13,
    "start_time": "2022-02-03T06:31:45.850Z"
   },
   {
    "duration": 8,
    "start_time": "2022-02-03T06:31:45.865Z"
   },
   {
    "duration": 13,
    "start_time": "2022-02-03T06:31:45.875Z"
   },
   {
    "duration": 15,
    "start_time": "2022-02-03T06:31:45.890Z"
   },
   {
    "duration": 466,
    "start_time": "2022-02-03T06:31:45.907Z"
   },
   {
    "duration": 7,
    "start_time": "2022-02-03T06:31:46.377Z"
   },
   {
    "duration": 340,
    "start_time": "2022-02-03T06:31:46.386Z"
   },
   {
    "duration": 10,
    "start_time": "2022-02-03T06:31:46.729Z"
   },
   {
    "duration": 11,
    "start_time": "2022-02-03T06:31:46.759Z"
   },
   {
    "duration": 442,
    "start_time": "2022-02-03T06:31:46.773Z"
   },
   {
    "duration": 557,
    "start_time": "2022-02-03T06:31:54.635Z"
   },
   {
    "duration": 90,
    "start_time": "2022-02-03T06:34:05.829Z"
   },
   {
    "duration": 12,
    "start_time": "2022-02-03T06:34:05.921Z"
   },
   {
    "duration": 14,
    "start_time": "2022-02-03T06:34:05.960Z"
   },
   {
    "duration": 11,
    "start_time": "2022-02-03T06:34:05.977Z"
   },
   {
    "duration": 76,
    "start_time": "2022-02-03T06:34:05.990Z"
   },
   {
    "duration": 21,
    "start_time": "2022-02-03T06:34:06.069Z"
   },
   {
    "duration": 21,
    "start_time": "2022-02-03T06:34:06.093Z"
   },
   {
    "duration": 61,
    "start_time": "2022-02-03T06:34:06.117Z"
   },
   {
    "duration": 24,
    "start_time": "2022-02-03T06:34:06.182Z"
   },
   {
    "duration": 56,
    "start_time": "2022-02-03T06:34:06.209Z"
   },
   {
    "duration": 8,
    "start_time": "2022-02-03T06:34:06.267Z"
   },
   {
    "duration": 12,
    "start_time": "2022-02-03T06:34:06.277Z"
   },
   {
    "duration": 6,
    "start_time": "2022-02-03T06:34:06.292Z"
   },
   {
    "duration": 9,
    "start_time": "2022-02-03T06:34:06.300Z"
   },
   {
    "duration": 5,
    "start_time": "2022-02-03T06:34:06.359Z"
   },
   {
    "duration": 7,
    "start_time": "2022-02-03T06:34:06.367Z"
   },
   {
    "duration": 1064,
    "start_time": "2022-02-03T06:34:06.376Z"
   },
   {
    "duration": 16,
    "start_time": "2022-02-03T06:34:07.443Z"
   },
   {
    "duration": 8,
    "start_time": "2022-02-03T06:34:07.462Z"
   },
   {
    "duration": 9,
    "start_time": "2022-02-03T06:34:07.473Z"
   },
   {
    "duration": 11,
    "start_time": "2022-02-03T06:34:07.484Z"
   },
   {
    "duration": 468,
    "start_time": "2022-02-03T06:34:07.498Z"
   },
   {
    "duration": 6,
    "start_time": "2022-02-03T06:34:07.972Z"
   },
   {
    "duration": 317,
    "start_time": "2022-02-03T06:34:07.980Z"
   },
   {
    "duration": 8,
    "start_time": "2022-02-03T06:34:08.299Z"
   },
   {
    "duration": 7,
    "start_time": "2022-02-03T06:34:08.309Z"
   },
   {
    "duration": 434,
    "start_time": "2022-02-03T06:34:08.319Z"
   },
   {
    "duration": 411,
    "start_time": "2022-02-03T06:39:42.884Z"
   },
   {
    "duration": 449,
    "start_time": "2022-02-03T06:41:26.362Z"
   },
   {
    "duration": 119,
    "start_time": "2022-02-03T06:41:49.499Z"
   },
   {
    "duration": 623,
    "start_time": "2022-02-03T06:41:57.536Z"
   },
   {
    "duration": 403,
    "start_time": "2022-02-03T06:42:14.947Z"
   },
   {
    "duration": 412,
    "start_time": "2022-02-03T06:42:56.854Z"
   },
   {
    "duration": 395,
    "start_time": "2022-02-03T06:43:28.860Z"
   },
   {
    "duration": 407,
    "start_time": "2022-02-03T06:44:50.394Z"
   },
   {
    "duration": 411,
    "start_time": "2022-02-03T06:48:38.465Z"
   },
   {
    "duration": 97,
    "start_time": "2022-02-03T06:48:45.764Z"
   },
   {
    "duration": 12,
    "start_time": "2022-02-03T06:48:45.864Z"
   },
   {
    "duration": 12,
    "start_time": "2022-02-03T06:48:45.879Z"
   },
   {
    "duration": 10,
    "start_time": "2022-02-03T06:48:45.894Z"
   },
   {
    "duration": 80,
    "start_time": "2022-02-03T06:48:45.906Z"
   },
   {
    "duration": 22,
    "start_time": "2022-02-03T06:48:45.989Z"
   },
   {
    "duration": 57,
    "start_time": "2022-02-03T06:48:46.014Z"
   },
   {
    "duration": 20,
    "start_time": "2022-02-03T06:48:46.075Z"
   },
   {
    "duration": 20,
    "start_time": "2022-02-03T06:48:46.098Z"
   },
   {
    "duration": 59,
    "start_time": "2022-02-03T06:48:46.121Z"
   },
   {
    "duration": 7,
    "start_time": "2022-02-03T06:48:46.182Z"
   },
   {
    "duration": 11,
    "start_time": "2022-02-03T06:48:46.192Z"
   },
   {
    "duration": 54,
    "start_time": "2022-02-03T06:48:46.205Z"
   },
   {
    "duration": 8,
    "start_time": "2022-02-03T06:48:46.262Z"
   },
   {
    "duration": 5,
    "start_time": "2022-02-03T06:48:46.272Z"
   },
   {
    "duration": 6,
    "start_time": "2022-02-03T06:48:46.279Z"
   },
   {
    "duration": 1283,
    "start_time": "2022-02-03T06:48:46.287Z"
   },
   {
    "duration": 8,
    "start_time": "2022-02-03T06:48:47.572Z"
   },
   {
    "duration": 8,
    "start_time": "2022-02-03T06:48:47.582Z"
   },
   {
    "duration": 7,
    "start_time": "2022-02-03T06:48:47.593Z"
   },
   {
    "duration": 8,
    "start_time": "2022-02-03T06:48:47.602Z"
   },
   {
    "duration": 407,
    "start_time": "2022-02-03T06:48:50.304Z"
   },
   {
    "duration": 7,
    "start_time": "2022-02-03T06:49:46.745Z"
   },
   {
    "duration": 287,
    "start_time": "2022-02-03T06:49:54.809Z"
   },
   {
    "duration": 401,
    "start_time": "2022-02-03T06:50:18.497Z"
   },
   {
    "duration": 424,
    "start_time": "2022-02-03T06:51:01.239Z"
   },
   {
    "duration": 409,
    "start_time": "2022-02-03T06:51:21.602Z"
   },
   {
    "duration": 94,
    "start_time": "2022-02-03T06:53:45.786Z"
   },
   {
    "duration": 12,
    "start_time": "2022-02-03T06:53:45.883Z"
   },
   {
    "duration": 12,
    "start_time": "2022-02-03T06:53:45.898Z"
   },
   {
    "duration": 51,
    "start_time": "2022-02-03T06:53:45.913Z"
   },
   {
    "duration": 42,
    "start_time": "2022-02-03T06:53:45.967Z"
   },
   {
    "duration": 59,
    "start_time": "2022-02-03T06:53:46.011Z"
   },
   {
    "duration": 21,
    "start_time": "2022-02-03T06:53:46.072Z"
   },
   {
    "duration": 21,
    "start_time": "2022-02-03T06:53:46.097Z"
   },
   {
    "duration": 52,
    "start_time": "2022-02-03T06:53:46.121Z"
   },
   {
    "duration": 23,
    "start_time": "2022-02-03T06:53:46.176Z"
   },
   {
    "duration": 8,
    "start_time": "2022-02-03T06:53:46.201Z"
   },
   {
    "duration": 54,
    "start_time": "2022-02-03T06:53:46.212Z"
   },
   {
    "duration": 9,
    "start_time": "2022-02-03T06:53:46.269Z"
   },
   {
    "duration": 10,
    "start_time": "2022-02-03T06:53:46.280Z"
   },
   {
    "duration": 5,
    "start_time": "2022-02-03T06:53:46.292Z"
   },
   {
    "duration": 8,
    "start_time": "2022-02-03T06:53:46.300Z"
   },
   {
    "duration": 1254,
    "start_time": "2022-02-03T06:53:46.311Z"
   },
   {
    "duration": 7,
    "start_time": "2022-02-03T06:53:47.567Z"
   },
   {
    "duration": 9,
    "start_time": "2022-02-03T06:53:47.576Z"
   },
   {
    "duration": 7,
    "start_time": "2022-02-03T06:53:47.588Z"
   },
   {
    "duration": 8,
    "start_time": "2022-02-03T06:53:47.597Z"
   },
   {
    "duration": 473,
    "start_time": "2022-02-03T06:53:47.607Z"
   },
   {
    "duration": 6,
    "start_time": "2022-02-03T06:53:48.084Z"
   },
   {
    "duration": 327,
    "start_time": "2022-02-03T06:53:48.093Z"
   },
   {
    "duration": 424,
    "start_time": "2022-02-03T06:53:48.422Z"
   },
   {
    "duration": 451,
    "start_time": "2022-02-03T06:53:48.848Z"
   },
   {
    "duration": 258,
    "start_time": "2022-02-03T06:57:11.227Z"
   },
   {
    "duration": 6298,
    "start_time": "2022-02-03T06:57:23.575Z"
   },
   {
    "duration": 242,
    "start_time": "2022-02-03T06:57:37.287Z"
   },
   {
    "duration": 90,
    "start_time": "2022-02-03T06:57:45.340Z"
   },
   {
    "duration": 31,
    "start_time": "2022-02-03T06:57:45.433Z"
   },
   {
    "duration": 11,
    "start_time": "2022-02-03T06:57:45.467Z"
   },
   {
    "duration": 12,
    "start_time": "2022-02-03T06:57:45.482Z"
   },
   {
    "duration": 84,
    "start_time": "2022-02-03T06:57:45.497Z"
   },
   {
    "duration": 25,
    "start_time": "2022-02-03T06:57:45.584Z"
   },
   {
    "duration": 54,
    "start_time": "2022-02-03T06:57:45.611Z"
   },
   {
    "duration": 22,
    "start_time": "2022-02-03T06:57:45.669Z"
   },
   {
    "duration": 22,
    "start_time": "2022-02-03T06:57:45.694Z"
   },
   {
    "duration": 63,
    "start_time": "2022-02-03T06:57:45.718Z"
   },
   {
    "duration": 8,
    "start_time": "2022-02-03T06:57:45.783Z"
   },
   {
    "duration": 13,
    "start_time": "2022-02-03T06:57:45.794Z"
   },
   {
    "duration": 53,
    "start_time": "2022-02-03T06:57:45.810Z"
   },
   {
    "duration": 10,
    "start_time": "2022-02-03T06:57:45.866Z"
   },
   {
    "duration": 6,
    "start_time": "2022-02-03T06:57:45.878Z"
   },
   {
    "duration": 8,
    "start_time": "2022-02-03T06:57:45.887Z"
   },
   {
    "duration": 1173,
    "start_time": "2022-02-03T06:57:45.897Z"
   },
   {
    "duration": 9,
    "start_time": "2022-02-03T06:57:47.073Z"
   },
   {
    "duration": 7,
    "start_time": "2022-02-03T06:57:47.084Z"
   },
   {
    "duration": 21,
    "start_time": "2022-02-03T06:57:47.094Z"
   },
   {
    "duration": 43,
    "start_time": "2022-02-03T06:57:47.118Z"
   },
   {
    "duration": 435,
    "start_time": "2022-02-03T06:57:47.164Z"
   },
   {
    "duration": 6,
    "start_time": "2022-02-03T06:57:47.603Z"
   },
   {
    "duration": 457,
    "start_time": "2022-02-03T06:57:49.402Z"
   },
   {
    "duration": 300,
    "start_time": "2022-02-03T06:59:45.615Z"
   },
   {
    "duration": 451,
    "start_time": "2022-02-03T07:01:17.126Z"
   },
   {
    "duration": 887,
    "start_time": "2022-02-03T07:01:42.398Z"
   },
   {
    "duration": 668,
    "start_time": "2022-02-03T07:03:54.665Z"
   },
   {
    "duration": 658,
    "start_time": "2022-02-03T07:04:05.646Z"
   },
   {
    "duration": 484,
    "start_time": "2022-02-03T07:04:17.358Z"
   },
   {
    "duration": 558,
    "start_time": "2022-02-03T07:04:26.366Z"
   },
   {
    "duration": 520,
    "start_time": "2022-02-03T07:04:51.410Z"
   },
   {
    "duration": 468,
    "start_time": "2022-02-03T07:04:59.775Z"
   },
   {
    "duration": 696,
    "start_time": "2022-02-03T07:05:10.095Z"
   },
   {
    "duration": 450,
    "start_time": "2022-02-03T07:05:23.122Z"
   },
   {
    "duration": 457,
    "start_time": "2022-02-03T07:05:39.766Z"
   },
   {
    "duration": 433,
    "start_time": "2022-02-03T07:05:43.870Z"
   },
   {
    "duration": 470,
    "start_time": "2022-02-03T07:05:47.558Z"
   },
   {
    "duration": 473,
    "start_time": "2022-02-03T07:05:51.482Z"
   },
   {
    "duration": 1157,
    "start_time": "2022-02-03T07:05:59.289Z"
   },
   {
    "duration": 690,
    "start_time": "2022-02-03T07:06:07.175Z"
   },
   {
    "duration": 636,
    "start_time": "2022-02-03T07:06:15.243Z"
   },
   {
    "duration": 536,
    "start_time": "2022-02-03T07:06:22.847Z"
   },
   {
    "duration": 499,
    "start_time": "2022-02-03T07:06:48.743Z"
   },
   {
    "duration": 529,
    "start_time": "2022-02-03T07:06:57.735Z"
   },
   {
    "duration": 558,
    "start_time": "2022-02-03T07:07:05.325Z"
   },
   {
    "duration": 397,
    "start_time": "2022-02-03T07:14:15.342Z"
   },
   {
    "duration": 88,
    "start_time": "2022-02-03T07:14:25.183Z"
   },
   {
    "duration": 13,
    "start_time": "2022-02-03T07:14:25.273Z"
   },
   {
    "duration": 11,
    "start_time": "2022-02-03T07:14:25.289Z"
   },
   {
    "duration": 10,
    "start_time": "2022-02-03T07:14:25.303Z"
   },
   {
    "duration": 79,
    "start_time": "2022-02-03T07:14:25.316Z"
   },
   {
    "duration": 23,
    "start_time": "2022-02-03T07:14:25.398Z"
   },
   {
    "duration": 22,
    "start_time": "2022-02-03T07:14:25.460Z"
   },
   {
    "duration": 22,
    "start_time": "2022-02-03T07:14:25.488Z"
   },
   {
    "duration": 61,
    "start_time": "2022-02-03T07:14:25.514Z"
   },
   {
    "duration": 24,
    "start_time": "2022-02-03T07:14:25.578Z"
   },
   {
    "duration": 9,
    "start_time": "2022-02-03T07:14:25.605Z"
   },
   {
    "duration": 51,
    "start_time": "2022-02-03T07:14:25.617Z"
   },
   {
    "duration": 9,
    "start_time": "2022-02-03T07:14:25.671Z"
   },
   {
    "duration": 10,
    "start_time": "2022-02-03T07:14:25.682Z"
   },
   {
    "duration": 6,
    "start_time": "2022-02-03T07:14:25.695Z"
   },
   {
    "duration": 61,
    "start_time": "2022-02-03T07:14:25.704Z"
   },
   {
    "duration": 1046,
    "start_time": "2022-02-03T07:14:25.768Z"
   },
   {
    "duration": 9,
    "start_time": "2022-02-03T07:14:26.817Z"
   },
   {
    "duration": 33,
    "start_time": "2022-02-03T07:14:26.829Z"
   },
   {
    "duration": 7,
    "start_time": "2022-02-03T07:14:26.864Z"
   },
   {
    "duration": 8,
    "start_time": "2022-02-03T07:14:26.874Z"
   },
   {
    "duration": 446,
    "start_time": "2022-02-03T07:14:26.884Z"
   },
   {
    "duration": 7,
    "start_time": "2022-02-03T07:14:27.335Z"
   },
   {
    "duration": 340,
    "start_time": "2022-02-03T07:14:27.344Z"
   },
   {
    "duration": 598,
    "start_time": "2022-02-03T07:14:27.687Z"
   },
   {
    "duration": 438,
    "start_time": "2022-02-03T07:14:28.287Z"
   },
   {
    "duration": 438,
    "start_time": "2022-02-03T07:14:28.728Z"
   },
   {
    "duration": 8,
    "start_time": "2022-02-03T07:14:29.169Z"
   },
   {
    "duration": 8,
    "start_time": "2022-02-03T07:14:29.179Z"
   },
   {
    "duration": 432,
    "start_time": "2022-02-03T07:14:29.189Z"
   },
   {
    "duration": 98,
    "start_time": "2022-02-03T07:28:51.220Z"
   },
   {
    "duration": 45,
    "start_time": "2022-02-03T07:28:51.320Z"
   },
   {
    "duration": 12,
    "start_time": "2022-02-03T07:28:51.368Z"
   },
   {
    "duration": 11,
    "start_time": "2022-02-03T07:28:51.383Z"
   },
   {
    "duration": 81,
    "start_time": "2022-02-03T07:28:51.396Z"
   },
   {
    "duration": 25,
    "start_time": "2022-02-03T07:28:51.480Z"
   },
   {
    "duration": 65,
    "start_time": "2022-02-03T07:28:51.508Z"
   },
   {
    "duration": 21,
    "start_time": "2022-02-03T07:28:51.577Z"
   },
   {
    "duration": 59,
    "start_time": "2022-02-03T07:28:51.601Z"
   },
   {
    "duration": 26,
    "start_time": "2022-02-03T07:28:51.662Z"
   },
   {
    "duration": 10,
    "start_time": "2022-02-03T07:28:51.691Z"
   },
   {
    "duration": 58,
    "start_time": "2022-02-03T07:28:51.703Z"
   },
   {
    "duration": 7,
    "start_time": "2022-02-03T07:28:51.764Z"
   },
   {
    "duration": 11,
    "start_time": "2022-02-03T07:28:51.773Z"
   },
   {
    "duration": 5,
    "start_time": "2022-02-03T07:28:51.787Z"
   },
   {
    "duration": 6,
    "start_time": "2022-02-03T07:28:51.794Z"
   },
   {
    "duration": 1082,
    "start_time": "2022-02-03T07:28:51.803Z"
   },
   {
    "duration": 7,
    "start_time": "2022-02-03T07:28:52.888Z"
   },
   {
    "duration": 11,
    "start_time": "2022-02-03T07:28:52.897Z"
   },
   {
    "duration": 10,
    "start_time": "2022-02-03T07:28:52.910Z"
   },
   {
    "duration": 38,
    "start_time": "2022-02-03T07:28:52.923Z"
   },
   {
    "duration": 444,
    "start_time": "2022-02-03T07:28:52.963Z"
   },
   {
    "duration": 7,
    "start_time": "2022-02-03T07:28:53.413Z"
   },
   {
    "duration": 343,
    "start_time": "2022-02-03T07:28:53.423Z"
   },
   {
    "duration": 563,
    "start_time": "2022-02-03T07:28:53.769Z"
   },
   {
    "duration": 767,
    "start_time": "2022-02-03T07:28:55.377Z"
   },
   {
    "duration": 403,
    "start_time": "2022-02-03T07:29:23.220Z"
   },
   {
    "duration": 383,
    "start_time": "2022-02-03T07:29:47.521Z"
   },
   {
    "duration": 390,
    "start_time": "2022-02-03T07:30:05.149Z"
   },
   {
    "duration": 512,
    "start_time": "2022-02-03T07:30:15.864Z"
   },
   {
    "duration": 379,
    "start_time": "2022-02-03T07:30:40.114Z"
   },
   {
    "duration": 89,
    "start_time": "2022-02-03T07:33:42.497Z"
   },
   {
    "duration": 13,
    "start_time": "2022-02-03T07:33:42.589Z"
   },
   {
    "duration": 12,
    "start_time": "2022-02-03T07:33:42.606Z"
   },
   {
    "duration": 42,
    "start_time": "2022-02-03T07:33:42.620Z"
   },
   {
    "duration": 38,
    "start_time": "2022-02-03T07:33:42.664Z"
   },
   {
    "duration": 21,
    "start_time": "2022-02-03T07:33:42.704Z"
   },
   {
    "duration": 21,
    "start_time": "2022-02-03T07:33:42.759Z"
   },
   {
    "duration": 21,
    "start_time": "2022-02-03T07:33:42.783Z"
   },
   {
    "duration": 62,
    "start_time": "2022-02-03T07:33:42.808Z"
   },
   {
    "duration": 32,
    "start_time": "2022-02-03T07:33:42.873Z"
   },
   {
    "duration": 9,
    "start_time": "2022-02-03T07:33:42.907Z"
   },
   {
    "duration": 43,
    "start_time": "2022-02-03T07:33:42.918Z"
   },
   {
    "duration": 7,
    "start_time": "2022-02-03T07:33:42.963Z"
   },
   {
    "duration": 8,
    "start_time": "2022-02-03T07:33:42.972Z"
   },
   {
    "duration": 5,
    "start_time": "2022-02-03T07:33:42.982Z"
   },
   {
    "duration": 6,
    "start_time": "2022-02-03T07:33:42.990Z"
   },
   {
    "duration": 1051,
    "start_time": "2022-02-03T07:33:42.999Z"
   },
   {
    "duration": 6,
    "start_time": "2022-02-03T07:33:44.059Z"
   },
   {
    "duration": 8,
    "start_time": "2022-02-03T07:33:44.068Z"
   },
   {
    "duration": 6,
    "start_time": "2022-02-03T07:33:44.078Z"
   },
   {
    "duration": 7,
    "start_time": "2022-02-03T07:33:44.087Z"
   },
   {
    "duration": 454,
    "start_time": "2022-02-03T07:33:44.096Z"
   },
   {
    "duration": 6,
    "start_time": "2022-02-03T07:33:44.559Z"
   },
   {
    "duration": 325,
    "start_time": "2022-02-03T07:33:44.568Z"
   },
   {
    "duration": 564,
    "start_time": "2022-02-03T07:33:44.895Z"
   },
   {
    "duration": 416,
    "start_time": "2022-02-03T07:33:45.462Z"
   },
   {
    "duration": 451,
    "start_time": "2022-02-03T07:33:45.880Z"
   },
   {
    "duration": 11,
    "start_time": "2022-02-03T07:33:46.334Z"
   },
   {
    "duration": 12,
    "start_time": "2022-02-03T07:33:46.360Z"
   },
   {
    "duration": 474,
    "start_time": "2022-02-03T07:33:46.375Z"
   },
   {
    "duration": 18,
    "start_time": "2022-02-03T07:33:48.240Z"
   },
   {
    "duration": 655,
    "start_time": "2022-02-03T07:36:36.362Z"
   },
   {
    "duration": 111,
    "start_time": "2022-02-03T07:36:47.865Z"
   },
   {
    "duration": 11,
    "start_time": "2022-02-03T07:36:47.979Z"
   },
   {
    "duration": 11,
    "start_time": "2022-02-03T07:36:47.994Z"
   },
   {
    "duration": 10,
    "start_time": "2022-02-03T07:36:48.007Z"
   },
   {
    "duration": 43,
    "start_time": "2022-02-03T07:36:48.060Z"
   },
   {
    "duration": 64,
    "start_time": "2022-02-03T07:36:48.106Z"
   },
   {
    "duration": 20,
    "start_time": "2022-02-03T07:36:48.173Z"
   },
   {
    "duration": 19,
    "start_time": "2022-02-03T07:36:48.197Z"
   },
   {
    "duration": 52,
    "start_time": "2022-02-03T07:36:48.219Z"
   },
   {
    "duration": 20,
    "start_time": "2022-02-03T07:36:48.274Z"
   },
   {
    "duration": 7,
    "start_time": "2022-02-03T07:36:48.296Z"
   },
   {
    "duration": 13,
    "start_time": "2022-02-03T07:36:48.305Z"
   },
   {
    "duration": 7,
    "start_time": "2022-02-03T07:36:48.361Z"
   },
   {
    "duration": 11,
    "start_time": "2022-02-03T07:36:48.371Z"
   },
   {
    "duration": 5,
    "start_time": "2022-02-03T07:36:48.384Z"
   },
   {
    "duration": 7,
    "start_time": "2022-02-03T07:36:48.392Z"
   },
   {
    "duration": 1081,
    "start_time": "2022-02-03T07:36:48.401Z"
   },
   {
    "duration": 8,
    "start_time": "2022-02-03T07:36:49.484Z"
   },
   {
    "duration": 7,
    "start_time": "2022-02-03T07:36:49.495Z"
   },
   {
    "duration": 7,
    "start_time": "2022-02-03T07:36:49.505Z"
   },
   {
    "duration": 48,
    "start_time": "2022-02-03T07:36:49.514Z"
   },
   {
    "duration": 413,
    "start_time": "2022-02-03T07:36:49.564Z"
   },
   {
    "duration": 6,
    "start_time": "2022-02-03T07:36:49.982Z"
   },
   {
    "duration": 338,
    "start_time": "2022-02-03T07:36:49.993Z"
   },
   {
    "duration": 587,
    "start_time": "2022-02-03T07:36:50.334Z"
   },
   {
    "duration": 438,
    "start_time": "2022-02-03T07:36:50.923Z"
   },
   {
    "duration": 418,
    "start_time": "2022-02-03T07:36:51.363Z"
   },
   {
    "duration": 8,
    "start_time": "2022-02-03T07:36:51.783Z"
   },
   {
    "duration": 7,
    "start_time": "2022-02-03T07:36:51.794Z"
   },
   {
    "duration": 408,
    "start_time": "2022-02-03T07:36:51.804Z"
   },
   {
    "duration": 17,
    "start_time": "2022-02-03T07:36:52.214Z"
   },
   {
    "duration": 27,
    "start_time": "2022-02-03T07:36:52.233Z"
   },
   {
    "duration": 21,
    "start_time": "2022-02-03T07:36:52.262Z"
   },
   {
    "duration": 7,
    "start_time": "2022-02-03T07:36:52.285Z"
   },
   {
    "duration": 13,
    "start_time": "2022-02-03T07:36:52.295Z"
   },
   {
    "duration": 51,
    "start_time": "2022-02-03T07:36:52.311Z"
   },
   {
    "duration": 26,
    "start_time": "2022-02-03T07:36:52.364Z"
   },
   {
    "duration": 33,
    "start_time": "2022-02-03T07:36:52.392Z"
   },
   {
    "duration": 42,
    "start_time": "2022-02-03T07:36:52.428Z"
   },
   {
    "duration": 15,
    "start_time": "2022-02-03T07:36:52.472Z"
   },
   {
    "duration": 13,
    "start_time": "2022-02-03T07:36:52.489Z"
   },
   {
    "duration": 8,
    "start_time": "2022-02-03T07:36:52.504Z"
   },
   {
    "duration": 76,
    "start_time": "2022-02-03T07:36:52.514Z"
   },
   {
    "duration": 28,
    "start_time": "2022-02-03T07:36:52.592Z"
   },
   {
    "duration": 30,
    "start_time": "2022-02-03T07:36:54.815Z"
   },
   {
    "duration": 1108,
    "start_time": "2022-02-03T07:38:07.352Z"
   },
   {
    "duration": 7848,
    "start_time": "2022-02-03T07:38:29.640Z"
   },
   {
    "duration": 6808,
    "start_time": "2022-02-03T07:38:41.052Z"
   },
   {
    "duration": 26,
    "start_time": "2022-02-03T07:39:03.848Z"
   },
   {
    "duration": 30,
    "start_time": "2022-02-03T07:39:14.871Z"
   },
   {
    "duration": 6955,
    "start_time": "2022-02-03T07:39:22.760Z"
   },
   {
    "duration": 29,
    "start_time": "2022-02-03T07:39:50.880Z"
   },
   {
    "duration": 34,
    "start_time": "2022-02-03T07:40:12.896Z"
   },
   {
    "duration": 29,
    "start_time": "2022-02-03T07:40:25.440Z"
   },
   {
    "duration": 31,
    "start_time": "2022-02-03T07:40:39.761Z"
   },
   {
    "duration": 1111,
    "start_time": "2022-02-03T07:41:06.991Z"
   },
   {
    "duration": 29,
    "start_time": "2022-02-03T07:41:08.534Z"
   },
   {
    "duration": 1105,
    "start_time": "2022-02-03T07:41:28.558Z"
   },
   {
    "duration": 29,
    "start_time": "2022-02-03T07:43:04.423Z"
   },
   {
    "duration": 31,
    "start_time": "2022-02-03T07:43:19.086Z"
   },
   {
    "duration": 29,
    "start_time": "2022-02-03T07:43:31.207Z"
   },
   {
    "duration": 32,
    "start_time": "2022-02-03T07:43:37.366Z"
   },
   {
    "duration": 29,
    "start_time": "2022-02-03T07:43:51.721Z"
   },
   {
    "duration": 118,
    "start_time": "2022-02-03T07:44:11.743Z"
   },
   {
    "duration": 31,
    "start_time": "2022-02-03T07:44:15.853Z"
   },
   {
    "duration": 32,
    "start_time": "2022-02-03T07:45:09.472Z"
   },
   {
    "duration": 386,
    "start_time": "2022-02-03T07:46:06.887Z"
   },
   {
    "duration": 33,
    "start_time": "2022-02-03T07:46:21.528Z"
   },
   {
    "duration": 33,
    "start_time": "2022-02-03T07:46:36.174Z"
   },
   {
    "duration": 33,
    "start_time": "2022-02-03T07:47:23.495Z"
   },
   {
    "duration": 272,
    "start_time": "2022-02-03T07:48:06.968Z"
   },
   {
    "duration": 277,
    "start_time": "2022-02-03T07:50:04.157Z"
   },
   {
    "duration": 392,
    "start_time": "2022-02-03T07:53:18.406Z"
   },
   {
    "duration": 265,
    "start_time": "2022-02-03T07:53:23.301Z"
   },
   {
    "duration": 259,
    "start_time": "2022-02-03T07:58:30.092Z"
   },
   {
    "duration": 475,
    "start_time": "2022-02-03T07:59:09.365Z"
   },
   {
    "duration": 1119,
    "start_time": "2022-02-03T07:59:23.888Z"
   },
   {
    "duration": 283,
    "start_time": "2022-02-03T07:59:25.355Z"
   },
   {
    "duration": 282,
    "start_time": "2022-02-03T07:59:55.382Z"
   },
   {
    "duration": 392,
    "start_time": "2022-02-03T08:00:05.268Z"
   },
   {
    "duration": 301,
    "start_time": "2022-02-03T08:00:10.635Z"
   },
   {
    "duration": 8991,
    "start_time": "2022-02-03T08:00:20.685Z"
   },
   {
    "duration": 263,
    "start_time": "2022-02-03T08:00:30.492Z"
   },
   {
    "duration": 379,
    "start_time": "2022-02-03T08:00:40.812Z"
   },
   {
    "duration": 415,
    "start_time": "2022-02-03T08:00:55.759Z"
   },
   {
    "duration": 269,
    "start_time": "2022-02-03T08:01:01.835Z"
   },
   {
    "duration": 6,
    "start_time": "2022-02-03T08:05:43.852Z"
   },
   {
    "duration": 1585,
    "start_time": "2022-02-03T08:09:07.710Z"
   },
   {
    "duration": 1790,
    "start_time": "2022-02-03T08:09:18.423Z"
   },
   {
    "duration": 1426,
    "start_time": "2022-02-03T08:10:27.458Z"
   },
   {
    "duration": 41,
    "start_time": "2022-02-03T08:13:12.673Z"
   },
   {
    "duration": 37,
    "start_time": "2022-02-03T08:13:54.469Z"
   },
   {
    "duration": 284,
    "start_time": "2022-02-03T08:14:20.313Z"
   },
   {
    "duration": 5,
    "start_time": "2022-02-03T13:45:46.410Z"
   },
   {
    "duration": 393,
    "start_time": "2022-02-03T13:48:27.656Z"
   },
   {
    "duration": 304,
    "start_time": "2022-02-03T13:49:07.963Z"
   },
   {
    "duration": 386,
    "start_time": "2022-02-03T13:49:14.824Z"
   },
   {
    "duration": 133,
    "start_time": "2022-02-03T13:50:00.531Z"
   },
   {
    "duration": 13,
    "start_time": "2022-02-03T13:50:00.667Z"
   },
   {
    "duration": 13,
    "start_time": "2022-02-03T13:50:00.683Z"
   },
   {
    "duration": 10,
    "start_time": "2022-02-03T13:50:00.699Z"
   },
   {
    "duration": 43,
    "start_time": "2022-02-03T13:50:00.760Z"
   },
   {
    "duration": 56,
    "start_time": "2022-02-03T13:50:00.806Z"
   },
   {
    "duration": 22,
    "start_time": "2022-02-03T13:50:00.864Z"
   },
   {
    "duration": 21,
    "start_time": "2022-02-03T13:50:00.890Z"
   },
   {
    "duration": 56,
    "start_time": "2022-02-03T13:50:00.914Z"
   },
   {
    "duration": 24,
    "start_time": "2022-02-03T13:50:00.972Z"
   },
   {
    "duration": 8,
    "start_time": "2022-02-03T13:50:00.999Z"
   },
   {
    "duration": 54,
    "start_time": "2022-02-03T13:50:01.010Z"
   },
   {
    "duration": 6,
    "start_time": "2022-02-03T13:50:01.067Z"
   },
   {
    "duration": 19,
    "start_time": "2022-02-03T13:50:01.076Z"
   },
   {
    "duration": 5,
    "start_time": "2022-02-03T13:50:01.097Z"
   },
   {
    "duration": 12,
    "start_time": "2022-02-03T13:50:01.105Z"
   },
   {
    "duration": 1129,
    "start_time": "2022-02-03T13:50:01.120Z"
   },
   {
    "duration": 13,
    "start_time": "2022-02-03T13:50:02.251Z"
   },
   {
    "duration": 10,
    "start_time": "2022-02-03T13:50:02.266Z"
   },
   {
    "duration": 8,
    "start_time": "2022-02-03T13:50:02.279Z"
   },
   {
    "duration": 9,
    "start_time": "2022-02-03T13:50:02.291Z"
   },
   {
    "duration": 467,
    "start_time": "2022-02-03T13:50:02.303Z"
   },
   {
    "duration": 7,
    "start_time": "2022-02-03T13:50:02.776Z"
   },
   {
    "duration": 795,
    "start_time": "2022-02-03T13:50:02.786Z"
   },
   {
    "duration": 604,
    "start_time": "2022-02-03T13:50:03.583Z"
   },
   {
    "duration": 433,
    "start_time": "2022-02-03T13:50:04.190Z"
   },
   {
    "duration": 433,
    "start_time": "2022-02-03T13:50:04.626Z"
   },
   {
    "duration": 8,
    "start_time": "2022-02-03T13:50:05.062Z"
   },
   {
    "duration": 7,
    "start_time": "2022-02-03T13:50:05.073Z"
   },
   {
    "duration": 431,
    "start_time": "2022-02-03T13:50:05.082Z"
   },
   {
    "duration": 17,
    "start_time": "2022-02-03T13:50:05.515Z"
   },
   {
    "duration": 25,
    "start_time": "2022-02-03T13:50:05.534Z"
   },
   {
    "duration": 21,
    "start_time": "2022-02-03T13:50:05.562Z"
   },
   {
    "duration": 9,
    "start_time": "2022-02-03T13:50:05.587Z"
   },
   {
    "duration": 17,
    "start_time": "2022-02-03T13:50:05.599Z"
   },
   {
    "duration": 55,
    "start_time": "2022-02-03T13:50:05.619Z"
   },
   {
    "duration": 29,
    "start_time": "2022-02-03T13:50:05.677Z"
   },
   {
    "duration": 64,
    "start_time": "2022-02-03T13:50:05.708Z"
   },
   {
    "duration": 19,
    "start_time": "2022-02-03T13:50:05.774Z"
   },
   {
    "duration": 16,
    "start_time": "2022-02-03T13:50:05.796Z"
   },
   {
    "duration": 46,
    "start_time": "2022-02-03T13:50:05.814Z"
   },
   {
    "duration": 8,
    "start_time": "2022-02-03T13:50:05.863Z"
   },
   {
    "duration": 36,
    "start_time": "2022-02-03T13:50:05.874Z"
   },
   {
    "duration": 57,
    "start_time": "2022-02-03T13:50:05.913Z"
   },
   {
    "duration": 305,
    "start_time": "2022-02-03T13:50:05.972Z"
   },
   {
    "duration": 310,
    "start_time": "2022-02-03T13:50:06.280Z"
   },
   {
    "duration": 381,
    "start_time": "2022-02-03T13:50:15.355Z"
   },
   {
    "duration": 321,
    "start_time": "2022-02-03T13:50:20.920Z"
   },
   {
    "duration": 444,
    "start_time": "2022-02-03T13:50:23.976Z"
   },
   {
    "duration": 365,
    "start_time": "2022-02-03T13:50:43.337Z"
   },
   {
    "duration": 24,
    "start_time": "2022-02-03T13:51:18.083Z"
   },
   {
    "duration": 137,
    "start_time": "2022-02-03T13:51:32.064Z"
   },
   {
    "duration": 247,
    "start_time": "2022-02-03T13:51:38.199Z"
   },
   {
    "duration": 9,
    "start_time": "2022-02-03T13:56:06.697Z"
   },
   {
    "duration": 9,
    "start_time": "2022-02-03T13:56:29.962Z"
   },
   {
    "duration": 38,
    "start_time": "2022-02-03T13:56:38.071Z"
   },
   {
    "duration": 385,
    "start_time": "2022-02-03T14:00:10.227Z"
   },
   {
    "duration": 423,
    "start_time": "2022-02-03T14:08:56.200Z"
   },
   {
    "duration": 247,
    "start_time": "2022-02-03T14:09:37.272Z"
   },
   {
    "duration": 240,
    "start_time": "2022-02-03T14:12:56.662Z"
   },
   {
    "duration": 265,
    "start_time": "2022-02-03T14:14:20.713Z"
   },
   {
    "duration": 392,
    "start_time": "2022-02-03T14:15:18.052Z"
   },
   {
    "duration": 295,
    "start_time": "2022-02-03T14:15:39.142Z"
   },
   {
    "duration": 437,
    "start_time": "2022-02-03T14:16:34.916Z"
   },
   {
    "duration": 310,
    "start_time": "2022-02-03T14:16:49.871Z"
   },
   {
    "duration": 332,
    "start_time": "2022-02-03T14:17:07.244Z"
   },
   {
    "duration": 313,
    "start_time": "2022-02-03T14:17:35.558Z"
   },
   {
    "duration": 324,
    "start_time": "2022-02-03T14:17:48.668Z"
   },
   {
    "duration": 279,
    "start_time": "2022-02-03T14:19:37.361Z"
   },
   {
    "duration": 12,
    "start_time": "2022-02-03T14:28:12.300Z"
   },
   {
    "duration": 13,
    "start_time": "2022-02-03T14:28:22.554Z"
   },
   {
    "duration": 35,
    "start_time": "2022-02-03T14:29:19.841Z"
   },
   {
    "duration": 36,
    "start_time": "2022-02-03T14:29:35.344Z"
   },
   {
    "duration": 279,
    "start_time": "2022-02-03T14:29:54.856Z"
   },
   {
    "duration": 283,
    "start_time": "2022-02-03T14:30:15.769Z"
   },
   {
    "duration": 10,
    "start_time": "2022-02-03T14:31:50.279Z"
   },
   {
    "duration": 34,
    "start_time": "2022-02-03T14:31:52.865Z"
   },
   {
    "duration": 262,
    "start_time": "2022-02-03T14:31:55.677Z"
   },
   {
    "duration": 16,
    "start_time": "2022-02-03T14:36:13.281Z"
   },
   {
    "duration": 10,
    "start_time": "2022-02-03T14:36:27.299Z"
   },
   {
    "duration": 39,
    "start_time": "2022-02-03T14:36:38.400Z"
   },
   {
    "duration": 41,
    "start_time": "2022-02-03T14:36:53.136Z"
   },
   {
    "duration": 296,
    "start_time": "2022-02-03T14:36:59.538Z"
   },
   {
    "duration": 1424,
    "start_time": "2022-02-03T14:40:21.006Z"
   },
   {
    "duration": 271,
    "start_time": "2022-02-03T14:46:23.185Z"
   },
   {
    "duration": 33,
    "start_time": "2022-02-03T14:59:41.896Z"
   },
   {
    "duration": 35,
    "start_time": "2022-02-03T15:03:51.539Z"
   },
   {
    "duration": 943,
    "start_time": "2022-02-03T18:00:11.938Z"
   },
   {
    "duration": 18,
    "start_time": "2022-02-03T18:00:12.885Z"
   },
   {
    "duration": 29,
    "start_time": "2022-02-03T18:00:12.907Z"
   },
   {
    "duration": 30,
    "start_time": "2022-02-03T18:00:12.939Z"
   },
   {
    "duration": 42,
    "start_time": "2022-02-03T18:00:12.972Z"
   },
   {
    "duration": 61,
    "start_time": "2022-02-03T18:00:13.017Z"
   },
   {
    "duration": 19,
    "start_time": "2022-02-03T18:00:13.080Z"
   },
   {
    "duration": 58,
    "start_time": "2022-02-03T18:00:13.103Z"
   },
   {
    "duration": 22,
    "start_time": "2022-02-03T18:00:13.164Z"
   },
   {
    "duration": 25,
    "start_time": "2022-02-03T18:00:13.189Z"
   },
   {
    "duration": 44,
    "start_time": "2022-02-03T18:00:13.217Z"
   },
   {
    "duration": 13,
    "start_time": "2022-02-03T18:00:13.263Z"
   },
   {
    "duration": 6,
    "start_time": "2022-02-03T18:00:13.278Z"
   },
   {
    "duration": 10,
    "start_time": "2022-02-03T18:00:13.286Z"
   },
   {
    "duration": 4,
    "start_time": "2022-02-03T18:00:13.298Z"
   },
   {
    "duration": 7,
    "start_time": "2022-02-03T18:00:13.304Z"
   },
   {
    "duration": 1811,
    "start_time": "2022-02-03T18:00:13.360Z"
   },
   {
    "duration": 7,
    "start_time": "2022-02-03T18:00:15.173Z"
   },
   {
    "duration": 8,
    "start_time": "2022-02-03T18:00:15.182Z"
   },
   {
    "duration": 7,
    "start_time": "2022-02-03T18:00:15.192Z"
   },
   {
    "duration": 7,
    "start_time": "2022-02-03T18:00:15.201Z"
   },
   {
    "duration": 563,
    "start_time": "2022-02-03T18:00:15.210Z"
   },
   {
    "duration": 6,
    "start_time": "2022-02-03T18:00:15.779Z"
   },
   {
    "duration": 428,
    "start_time": "2022-02-03T18:00:15.788Z"
   },
   {
    "duration": 784,
    "start_time": "2022-02-03T18:00:16.219Z"
   },
   {
    "duration": 425,
    "start_time": "2022-02-03T18:00:17.006Z"
   },
   {
    "duration": 417,
    "start_time": "2022-02-03T18:00:17.434Z"
   },
   {
    "duration": 13,
    "start_time": "2022-02-03T18:00:17.853Z"
   },
   {
    "duration": 8,
    "start_time": "2022-02-03T18:00:17.868Z"
   },
   {
    "duration": 425,
    "start_time": "2022-02-03T18:00:17.879Z"
   },
   {
    "duration": 18,
    "start_time": "2022-02-03T18:00:18.306Z"
   },
   {
    "duration": 6,
    "start_time": "2022-02-03T18:00:18.326Z"
   },
   {
    "duration": 19,
    "start_time": "2022-02-03T18:00:18.360Z"
   },
   {
    "duration": 7,
    "start_time": "2022-02-03T18:00:18.382Z"
   },
   {
    "duration": 13,
    "start_time": "2022-02-03T18:00:18.392Z"
   },
   {
    "duration": 53,
    "start_time": "2022-02-03T18:00:18.408Z"
   },
   {
    "duration": 25,
    "start_time": "2022-02-03T18:00:18.464Z"
   },
   {
    "duration": 37,
    "start_time": "2022-02-03T18:00:18.491Z"
   },
   {
    "duration": 16,
    "start_time": "2022-02-03T18:00:18.560Z"
   },
   {
    "duration": 13,
    "start_time": "2022-02-03T18:00:18.579Z"
   },
   {
    "duration": 20,
    "start_time": "2022-02-03T18:00:18.595Z"
   },
   {
    "duration": 42,
    "start_time": "2022-02-03T18:00:18.618Z"
   },
   {
    "duration": 38,
    "start_time": "2022-02-03T18:00:18.663Z"
   },
   {
    "duration": 28,
    "start_time": "2022-02-03T18:00:18.703Z"
   },
   {
    "duration": 36,
    "start_time": "2022-02-03T18:00:18.733Z"
   },
   {
    "duration": 34,
    "start_time": "2022-02-03T18:00:18.772Z"
   },
   {
    "duration": 51,
    "start_time": "2022-02-03T18:00:18.809Z"
   },
   {
    "duration": 38,
    "start_time": "2022-02-03T18:00:18.863Z"
   },
   {
    "duration": 325,
    "start_time": "2022-02-03T18:00:18.904Z"
   },
   {
    "duration": 294,
    "start_time": "2022-02-03T18:00:19.231Z"
   },
   {
    "duration": 272,
    "start_time": "2022-02-03T18:00:19.527Z"
   },
   {
    "duration": 268,
    "start_time": "2022-02-03T18:00:19.801Z"
   },
   {
    "duration": 258,
    "start_time": "2022-02-03T18:00:20.071Z"
   },
   {
    "duration": 286,
    "start_time": "2022-02-03T18:00:20.331Z"
   },
   {
    "duration": 281,
    "start_time": "2022-02-03T18:00:20.619Z"
   },
   {
    "duration": 379,
    "start_time": "2022-02-03T18:00:20.903Z"
   },
   {
    "duration": 304,
    "start_time": "2022-02-03T18:00:21.285Z"
   },
   {
    "duration": 40,
    "start_time": "2022-02-03T18:11:29.171Z"
   },
   {
    "duration": 92,
    "start_time": "2022-02-03T18:11:37.557Z"
   },
   {
    "duration": 20,
    "start_time": "2022-02-03T18:11:37.651Z"
   },
   {
    "duration": 18,
    "start_time": "2022-02-03T18:11:37.674Z"
   },
   {
    "duration": 13,
    "start_time": "2022-02-03T18:11:37.695Z"
   },
   {
    "duration": 99,
    "start_time": "2022-02-03T18:11:37.711Z"
   },
   {
    "duration": 68,
    "start_time": "2022-02-03T18:11:37.814Z"
   },
   {
    "duration": 28,
    "start_time": "2022-02-03T18:11:37.885Z"
   },
   {
    "duration": 66,
    "start_time": "2022-02-03T18:11:37.918Z"
   },
   {
    "duration": 29,
    "start_time": "2022-02-03T18:11:37.988Z"
   },
   {
    "duration": 60,
    "start_time": "2022-02-03T18:11:38.020Z"
   },
   {
    "duration": 9,
    "start_time": "2022-02-03T18:11:38.082Z"
   },
   {
    "duration": 12,
    "start_time": "2022-02-03T18:11:38.093Z"
   },
   {
    "duration": 7,
    "start_time": "2022-02-03T18:11:38.107Z"
   },
   {
    "duration": 48,
    "start_time": "2022-02-03T18:11:38.116Z"
   },
   {
    "duration": 4,
    "start_time": "2022-02-03T18:11:38.167Z"
   },
   {
    "duration": 8,
    "start_time": "2022-02-03T18:11:38.174Z"
   },
   {
    "duration": 1082,
    "start_time": "2022-02-03T18:11:38.184Z"
   },
   {
    "duration": 8,
    "start_time": "2022-02-03T18:11:39.269Z"
   },
   {
    "duration": 9,
    "start_time": "2022-02-03T18:11:39.279Z"
   },
   {
    "duration": 6,
    "start_time": "2022-02-03T18:11:39.291Z"
   },
   {
    "duration": 8,
    "start_time": "2022-02-03T18:11:39.300Z"
   },
   {
    "duration": 479,
    "start_time": "2022-02-03T18:11:39.311Z"
   },
   {
    "duration": 7,
    "start_time": "2022-02-03T18:11:39.796Z"
   },
   {
    "duration": 355,
    "start_time": "2022-02-03T18:11:39.807Z"
   },
   {
    "duration": 600,
    "start_time": "2022-02-03T18:11:40.165Z"
   },
   {
    "duration": 462,
    "start_time": "2022-02-03T18:11:40.768Z"
   },
   {
    "duration": 442,
    "start_time": "2022-02-03T18:11:41.233Z"
   },
   {
    "duration": 8,
    "start_time": "2022-02-03T18:11:41.678Z"
   },
   {
    "duration": 8,
    "start_time": "2022-02-03T18:11:41.689Z"
   },
   {
    "duration": 449,
    "start_time": "2022-02-03T18:11:41.700Z"
   },
   {
    "duration": 19,
    "start_time": "2022-02-03T18:11:42.160Z"
   },
   {
    "duration": 6,
    "start_time": "2022-02-03T18:11:42.182Z"
   },
   {
    "duration": 21,
    "start_time": "2022-02-03T18:11:42.190Z"
   },
   {
    "duration": 7,
    "start_time": "2022-02-03T18:11:42.214Z"
   },
   {
    "duration": 14,
    "start_time": "2022-02-03T18:11:42.258Z"
   },
   {
    "duration": 18,
    "start_time": "2022-02-03T18:11:42.275Z"
   },
   {
    "duration": 211,
    "start_time": "2022-02-03T18:11:42.296Z"
   },
   {
    "duration": 65,
    "start_time": "2022-02-03T18:11:42.510Z"
   },
   {
    "duration": 20,
    "start_time": "2022-02-03T18:11:42.578Z"
   },
   {
    "duration": 21,
    "start_time": "2022-02-03T18:11:42.601Z"
   },
   {
    "duration": 48,
    "start_time": "2022-02-03T18:11:42.625Z"
   },
   {
    "duration": 14,
    "start_time": "2022-02-03T18:11:42.676Z"
   },
   {
    "duration": 83,
    "start_time": "2022-02-03T18:11:42.693Z"
   },
   {
    "duration": 43,
    "start_time": "2022-02-03T18:11:42.779Z"
   },
   {
    "duration": 37,
    "start_time": "2022-02-03T18:11:42.825Z"
   },
   {
    "duration": 51,
    "start_time": "2022-02-03T18:11:42.868Z"
   },
   {
    "duration": 44,
    "start_time": "2022-02-03T18:11:42.922Z"
   },
   {
    "duration": 35,
    "start_time": "2022-02-03T18:11:42.969Z"
   },
   {
    "duration": 326,
    "start_time": "2022-02-03T18:11:43.006Z"
   },
   {
    "duration": 302,
    "start_time": "2022-02-03T18:11:43.335Z"
   },
   {
    "duration": 285,
    "start_time": "2022-02-03T18:11:43.639Z"
   },
   {
    "duration": 284,
    "start_time": "2022-02-03T18:11:43.927Z"
   },
   {
    "duration": 263,
    "start_time": "2022-02-03T18:11:44.214Z"
   },
   {
    "duration": 303,
    "start_time": "2022-02-03T18:11:44.480Z"
   },
   {
    "duration": 301,
    "start_time": "2022-02-03T18:11:44.785Z"
   },
   {
    "duration": 416,
    "start_time": "2022-02-03T18:11:45.089Z"
   },
   {
    "duration": 456,
    "start_time": "2022-02-03T18:11:45.509Z"
   },
   {
    "duration": 8,
    "start_time": "2022-02-03T18:15:26.347Z"
   },
   {
    "duration": 123,
    "start_time": "2022-02-03T18:15:41.057Z"
   },
   {
    "duration": 17,
    "start_time": "2022-02-03T18:15:41.183Z"
   },
   {
    "duration": 17,
    "start_time": "2022-02-03T18:15:41.204Z"
   },
   {
    "duration": 41,
    "start_time": "2022-02-03T18:15:41.224Z"
   },
   {
    "duration": 47,
    "start_time": "2022-02-03T18:15:41.268Z"
   },
   {
    "duration": 57,
    "start_time": "2022-02-03T18:15:41.318Z"
   },
   {
    "duration": 22,
    "start_time": "2022-02-03T18:15:41.378Z"
   },
   {
    "duration": 63,
    "start_time": "2022-02-03T18:15:41.403Z"
   },
   {
    "duration": 22,
    "start_time": "2022-02-03T18:15:41.469Z"
   },
   {
    "duration": 23,
    "start_time": "2022-02-03T18:15:41.494Z"
   },
   {
    "duration": 44,
    "start_time": "2022-02-03T18:15:41.520Z"
   },
   {
    "duration": 13,
    "start_time": "2022-02-03T18:15:41.567Z"
   },
   {
    "duration": 6,
    "start_time": "2022-02-03T18:15:41.583Z"
   },
   {
    "duration": 6,
    "start_time": "2022-02-03T18:15:43.416Z"
   },
   {
    "duration": 8,
    "start_time": "2022-02-03T18:15:45.161Z"
   },
   {
    "duration": 91,
    "start_time": "2022-02-03T18:16:08.320Z"
   },
   {
    "duration": 22,
    "start_time": "2022-02-03T18:16:08.414Z"
   },
   {
    "duration": 17,
    "start_time": "2022-02-03T18:16:10.255Z"
   },
   {
    "duration": 13,
    "start_time": "2022-02-03T18:16:16.192Z"
   },
   {
    "duration": 54,
    "start_time": "2022-02-03T18:16:30.346Z"
   },
   {
    "duration": 30,
    "start_time": "2022-02-03T18:16:54.231Z"
   },
   {
    "duration": 28,
    "start_time": "2022-02-03T18:16:57.712Z"
   },
   {
    "duration": 28,
    "start_time": "2022-02-03T18:17:09.749Z"
   },
   {
    "duration": 25,
    "start_time": "2022-02-03T18:17:15.697Z"
   },
   {
    "duration": 24,
    "start_time": "2022-02-03T18:17:27.599Z"
   },
   {
    "duration": 460,
    "start_time": "2022-02-03T18:18:16.448Z"
   },
   {
    "duration": 566,
    "start_time": "2022-02-03T18:18:33.309Z"
   },
   {
    "duration": 353,
    "start_time": "2022-02-03T18:19:11.918Z"
   },
   {
    "duration": 551,
    "start_time": "2022-02-03T18:19:17.657Z"
   },
   {
    "duration": 623,
    "start_time": "2022-02-03T18:19:23.827Z"
   },
   {
    "duration": 497,
    "start_time": "2022-02-03T18:19:29.864Z"
   },
   {
    "duration": 465,
    "start_time": "2022-02-03T18:19:34.446Z"
   },
   {
    "duration": 8938,
    "start_time": "2022-02-03T18:23:11.911Z"
   },
   {
    "duration": 109,
    "start_time": "2022-02-03T18:23:21.661Z"
   },
   {
    "duration": 12,
    "start_time": "2022-02-03T18:23:21.773Z"
   },
   {
    "duration": 15,
    "start_time": "2022-02-03T18:23:21.788Z"
   },
   {
    "duration": 55,
    "start_time": "2022-02-03T18:23:21.806Z"
   },
   {
    "duration": 41,
    "start_time": "2022-02-03T18:23:21.863Z"
   },
   {
    "duration": 55,
    "start_time": "2022-02-03T18:23:21.907Z"
   },
   {
    "duration": 23,
    "start_time": "2022-02-03T18:23:21.964Z"
   },
   {
    "duration": 21,
    "start_time": "2022-02-03T18:23:21.990Z"
   },
   {
    "duration": 57,
    "start_time": "2022-02-03T18:23:22.014Z"
   },
   {
    "duration": 26,
    "start_time": "2022-02-03T18:23:22.073Z"
   },
   {
    "duration": 9,
    "start_time": "2022-02-03T18:23:22.102Z"
   },
   {
    "duration": 50,
    "start_time": "2022-02-03T18:23:22.114Z"
   },
   {
    "duration": 8,
    "start_time": "2022-02-03T18:23:22.167Z"
   },
   {
    "duration": 10,
    "start_time": "2022-02-03T18:23:22.178Z"
   },
   {
    "duration": 6,
    "start_time": "2022-02-03T18:23:22.191Z"
   },
   {
    "duration": 10,
    "start_time": "2022-02-03T18:23:22.200Z"
   },
   {
    "duration": 745,
    "start_time": "2022-02-03T18:23:22.260Z"
   },
   {
    "duration": 8,
    "start_time": "2022-02-03T18:23:23.009Z"
   },
   {
    "duration": 9,
    "start_time": "2022-02-03T18:23:23.020Z"
   },
   {
    "duration": 35,
    "start_time": "2022-02-03T18:23:23.032Z"
   },
   {
    "duration": 11,
    "start_time": "2022-02-03T18:23:23.069Z"
   },
   {
    "duration": 452,
    "start_time": "2022-02-03T18:23:23.082Z"
   },
   {
    "duration": 6,
    "start_time": "2022-02-03T18:23:23.538Z"
   },
   {
    "duration": 330,
    "start_time": "2022-02-03T18:23:23.547Z"
   },
   {
    "duration": 653,
    "start_time": "2022-02-03T18:23:23.879Z"
   },
   {
    "duration": 743,
    "start_time": "2022-02-03T18:23:32.224Z"
   },
   {
    "duration": 787,
    "start_time": "2022-02-03T18:23:38.393Z"
   },
   {
    "duration": 614,
    "start_time": "2022-02-03T18:23:43.497Z"
   },
   {
    "duration": 587,
    "start_time": "2022-02-03T18:23:48.816Z"
   },
   {
    "duration": 927,
    "start_time": "2022-02-03T18:23:54.222Z"
   },
   {
    "duration": 616,
    "start_time": "2022-02-03T18:24:03.487Z"
   },
   {
    "duration": 620,
    "start_time": "2022-02-03T18:24:07.831Z"
   },
   {
    "duration": 91,
    "start_time": "2022-02-12T10:25:16.646Z"
   },
   {
    "duration": 335,
    "start_time": "2022-02-12T10:25:21.338Z"
   },
   {
    "duration": 816,
    "start_time": "2022-02-12T10:25:26.148Z"
   },
   {
    "duration": 13,
    "start_time": "2022-02-12T10:25:26.967Z"
   },
   {
    "duration": 15,
    "start_time": "2022-02-12T10:25:26.983Z"
   },
   {
    "duration": 13,
    "start_time": "2022-02-12T10:25:27.001Z"
   },
   {
    "duration": 38,
    "start_time": "2022-02-12T10:25:27.060Z"
   },
   {
    "duration": 20,
    "start_time": "2022-02-12T10:25:27.101Z"
   },
   {
    "duration": 51,
    "start_time": "2022-02-12T10:25:27.123Z"
   },
   {
    "duration": 19,
    "start_time": "2022-02-12T10:25:27.176Z"
   },
   {
    "duration": 21,
    "start_time": "2022-02-12T10:25:27.199Z"
   },
   {
    "duration": 22,
    "start_time": "2022-02-12T10:25:27.261Z"
   },
   {
    "duration": 21,
    "start_time": "2022-02-12T10:25:27.286Z"
   },
   {
    "duration": 51,
    "start_time": "2022-02-12T10:25:27.309Z"
   },
   {
    "duration": 11,
    "start_time": "2022-02-12T10:25:27.363Z"
   },
   {
    "duration": 6,
    "start_time": "2022-02-12T10:25:27.376Z"
   },
   {
    "duration": 10,
    "start_time": "2022-02-12T10:25:27.384Z"
   },
   {
    "duration": 5,
    "start_time": "2022-02-12T10:25:27.396Z"
   },
   {
    "duration": 7,
    "start_time": "2022-02-12T10:25:27.403Z"
   },
   {
    "duration": 1191,
    "start_time": "2022-02-12T10:25:27.412Z"
   },
   {
    "duration": 7,
    "start_time": "2022-02-12T10:25:28.606Z"
   },
   {
    "duration": 7,
    "start_time": "2022-02-12T10:25:28.616Z"
   },
   {
    "duration": 37,
    "start_time": "2022-02-12T10:25:28.626Z"
   },
   {
    "duration": 8,
    "start_time": "2022-02-12T10:25:28.667Z"
   },
   {
    "duration": 457,
    "start_time": "2022-02-12T10:25:28.678Z"
   },
   {
    "duration": 8,
    "start_time": "2022-02-12T10:25:29.137Z"
   },
   {
    "duration": 326,
    "start_time": "2022-02-12T10:25:29.159Z"
   },
   {
    "duration": 711,
    "start_time": "2022-02-12T10:25:29.487Z"
   },
   {
    "duration": 743,
    "start_time": "2022-02-12T10:25:30.203Z"
   },
   {
    "duration": 451,
    "start_time": "2022-02-12T10:25:30.949Z"
   },
   {
    "duration": 9,
    "start_time": "2022-02-12T10:25:31.402Z"
   },
   {
    "duration": 8,
    "start_time": "2022-02-12T10:25:31.414Z"
   },
   {
    "duration": 438,
    "start_time": "2022-02-12T10:25:31.425Z"
   },
   {
    "duration": 19,
    "start_time": "2022-02-12T10:25:31.866Z"
   },
   {
    "duration": 7,
    "start_time": "2022-02-12T10:25:31.888Z"
   },
   {
    "duration": 63,
    "start_time": "2022-02-12T10:25:31.898Z"
   },
   {
    "duration": 8,
    "start_time": "2022-02-12T10:25:31.964Z"
   },
   {
    "duration": 15,
    "start_time": "2022-02-12T10:25:31.974Z"
   },
   {
    "duration": 14,
    "start_time": "2022-02-12T10:25:31.991Z"
   },
   {
    "duration": 69,
    "start_time": "2022-02-12T10:25:32.008Z"
   },
   {
    "duration": 36,
    "start_time": "2022-02-12T10:25:32.079Z"
   },
   {
    "duration": 15,
    "start_time": "2022-02-12T10:25:32.118Z"
   },
   {
    "duration": 15,
    "start_time": "2022-02-12T10:25:32.160Z"
   },
   {
    "duration": 14,
    "start_time": "2022-02-12T10:25:32.178Z"
   },
   {
    "duration": 10,
    "start_time": "2022-02-12T10:25:32.194Z"
   },
   {
    "duration": 74,
    "start_time": "2022-02-12T10:25:32.206Z"
   },
   {
    "duration": 29,
    "start_time": "2022-02-12T10:25:32.282Z"
   },
   {
    "duration": 10,
    "start_time": "2022-02-12T10:25:32.313Z"
   },
   {
    "duration": 63,
    "start_time": "2022-02-12T10:25:32.326Z"
   },
   {
    "duration": 11,
    "start_time": "2022-02-12T10:25:32.391Z"
   },
   {
    "duration": 67,
    "start_time": "2022-02-12T10:25:32.404Z"
   },
   {
    "duration": 340,
    "start_time": "2022-02-12T10:25:32.474Z"
   },
   {
    "duration": 308,
    "start_time": "2022-02-12T10:25:32.816Z"
   },
   {
    "duration": 314,
    "start_time": "2022-02-12T10:25:33.127Z"
   },
   {
    "duration": 289,
    "start_time": "2022-02-12T10:25:33.443Z"
   },
   {
    "duration": 250,
    "start_time": "2022-02-12T10:25:33.735Z"
   },
   {
    "duration": 512,
    "start_time": "2022-02-12T10:25:33.987Z"
   },
   {
    "duration": 411,
    "start_time": "2022-02-12T10:25:34.502Z"
   },
   {
    "duration": 478,
    "start_time": "2022-02-12T10:25:34.916Z"
   },
   {
    "duration": 430,
    "start_time": "2022-02-12T10:25:35.397Z"
   },
   {
    "duration": 602,
    "start_time": "2022-02-12T15:43:23.619Z"
   },
   {
    "duration": 8,
    "start_time": "2022-02-12T15:43:24.223Z"
   },
   {
    "duration": 19,
    "start_time": "2022-02-12T15:43:24.233Z"
   },
   {
    "duration": 17,
    "start_time": "2022-02-12T15:43:24.253Z"
   },
   {
    "duration": 30,
    "start_time": "2022-02-12T15:43:24.271Z"
   },
   {
    "duration": 12,
    "start_time": "2022-02-12T15:43:24.303Z"
   },
   {
    "duration": 14,
    "start_time": "2022-02-12T15:43:24.316Z"
   },
   {
    "duration": 11,
    "start_time": "2022-02-12T15:43:24.332Z"
   },
   {
    "duration": 28,
    "start_time": "2022-02-12T15:43:24.344Z"
   },
   {
    "duration": 11,
    "start_time": "2022-02-12T15:43:24.374Z"
   },
   {
    "duration": 13,
    "start_time": "2022-02-12T15:43:24.386Z"
   },
   {
    "duration": 21,
    "start_time": "2022-02-12T15:43:24.400Z"
   },
   {
    "duration": 16,
    "start_time": "2022-02-12T15:43:24.423Z"
   },
   {
    "duration": 5,
    "start_time": "2022-02-12T15:43:24.441Z"
   },
   {
    "duration": 24,
    "start_time": "2022-02-12T15:43:24.447Z"
   },
   {
    "duration": 3,
    "start_time": "2022-02-12T15:43:24.473Z"
   },
   {
    "duration": 23,
    "start_time": "2022-02-12T15:43:24.477Z"
   },
   {
    "duration": 837,
    "start_time": "2022-02-12T15:43:24.501Z"
   },
   {
    "duration": 5,
    "start_time": "2022-02-12T15:43:25.340Z"
   },
   {
    "duration": 24,
    "start_time": "2022-02-12T15:43:25.346Z"
   },
   {
    "duration": 408,
    "start_time": "2022-02-12T15:43:25.372Z"
   },
   {
    "duration": 1316,
    "start_time": "2022-02-12T15:43:24.467Z"
   },
   {
    "duration": 1312,
    "start_time": "2022-02-12T15:43:24.472Z"
   },
   {
    "duration": 1307,
    "start_time": "2022-02-12T15:43:24.478Z"
   },
   {
    "duration": 1304,
    "start_time": "2022-02-12T15:43:24.482Z"
   },
   {
    "duration": 1300,
    "start_time": "2022-02-12T15:43:24.487Z"
   },
   {
    "duration": 1295,
    "start_time": "2022-02-12T15:43:24.493Z"
   },
   {
    "duration": 1290,
    "start_time": "2022-02-12T15:43:24.499Z"
   },
   {
    "duration": 1286,
    "start_time": "2022-02-12T15:43:24.504Z"
   },
   {
    "duration": 1281,
    "start_time": "2022-02-12T15:43:24.510Z"
   },
   {
    "duration": 1278,
    "start_time": "2022-02-12T15:43:24.514Z"
   },
   {
    "duration": 1273,
    "start_time": "2022-02-12T15:43:24.520Z"
   },
   {
    "duration": 1269,
    "start_time": "2022-02-12T15:43:24.525Z"
   },
   {
    "duration": 1265,
    "start_time": "2022-02-12T15:43:24.530Z"
   },
   {
    "duration": 1261,
    "start_time": "2022-02-12T15:43:24.535Z"
   },
   {
    "duration": 1257,
    "start_time": "2022-02-12T15:43:24.540Z"
   },
   {
    "duration": 1253,
    "start_time": "2022-02-12T15:43:24.545Z"
   },
   {
    "duration": 1250,
    "start_time": "2022-02-12T15:43:24.549Z"
   },
   {
    "duration": 1230,
    "start_time": "2022-02-12T15:43:24.570Z"
   },
   {
    "duration": 1220,
    "start_time": "2022-02-12T15:43:24.580Z"
   },
   {
    "duration": 1210,
    "start_time": "2022-02-12T15:43:24.591Z"
   },
   {
    "duration": 1203,
    "start_time": "2022-02-12T15:43:24.599Z"
   },
   {
    "duration": 1196,
    "start_time": "2022-02-12T15:43:24.607Z"
   },
   {
    "duration": 1190,
    "start_time": "2022-02-12T15:43:24.614Z"
   },
   {
    "duration": 1174,
    "start_time": "2022-02-12T15:43:24.631Z"
   },
   {
    "duration": 1169,
    "start_time": "2022-02-12T15:43:24.637Z"
   },
   {
    "duration": 1165,
    "start_time": "2022-02-12T15:43:24.642Z"
   },
   {
    "duration": 1161,
    "start_time": "2022-02-12T15:43:24.647Z"
   },
   {
    "duration": 1156,
    "start_time": "2022-02-12T15:43:24.653Z"
   },
   {
    "duration": 1153,
    "start_time": "2022-02-12T15:43:24.658Z"
   },
   {
    "duration": 1148,
    "start_time": "2022-02-12T15:43:24.663Z"
   },
   {
    "duration": 1135,
    "start_time": "2022-02-12T15:43:24.677Z"
   },
   {
    "duration": 1131,
    "start_time": "2022-02-12T15:43:24.682Z"
   },
   {
    "duration": 1126,
    "start_time": "2022-02-12T15:43:24.688Z"
   },
   {
    "duration": 1121,
    "start_time": "2022-02-12T15:43:24.694Z"
   },
   {
    "duration": 1117,
    "start_time": "2022-02-12T15:43:24.699Z"
   },
   {
    "duration": 1112,
    "start_time": "2022-02-12T15:43:24.705Z"
   },
   {
    "duration": 1108,
    "start_time": "2022-02-12T15:43:24.710Z"
   },
   {
    "duration": 70,
    "start_time": "2022-02-12T15:43:50.685Z"
   },
   {
    "duration": 10,
    "start_time": "2022-02-12T15:43:50.757Z"
   },
   {
    "duration": 12,
    "start_time": "2022-02-12T15:43:50.772Z"
   },
   {
    "duration": 9,
    "start_time": "2022-02-12T15:43:50.786Z"
   },
   {
    "duration": 33,
    "start_time": "2022-02-12T15:43:50.797Z"
   },
   {
    "duration": 49,
    "start_time": "2022-02-12T15:43:50.832Z"
   },
   {
    "duration": 15,
    "start_time": "2022-02-12T15:43:50.883Z"
   },
   {
    "duration": 14,
    "start_time": "2022-02-12T15:43:50.901Z"
   },
   {
    "duration": 60,
    "start_time": "2022-02-12T15:43:50.917Z"
   },
   {
    "duration": 14,
    "start_time": "2022-02-12T15:43:50.979Z"
   },
   {
    "duration": 13,
    "start_time": "2022-02-12T15:43:50.994Z"
   },
   {
    "duration": 7,
    "start_time": "2022-02-12T15:43:51.009Z"
   },
   {
    "duration": 12,
    "start_time": "2022-02-12T15:43:51.017Z"
   },
   {
    "duration": 7,
    "start_time": "2022-02-12T15:43:51.030Z"
   },
   {
    "duration": 7,
    "start_time": "2022-02-12T15:43:51.072Z"
   },
   {
    "duration": 4,
    "start_time": "2022-02-12T15:43:51.081Z"
   },
   {
    "duration": 8,
    "start_time": "2022-02-12T15:43:51.087Z"
   },
   {
    "duration": 293,
    "start_time": "2022-02-12T15:43:51.097Z"
   },
   {
    "duration": 5,
    "start_time": "2022-02-12T15:43:51.392Z"
   },
   {
    "duration": 5,
    "start_time": "2022-02-12T15:43:51.399Z"
   },
   {
    "duration": 322,
    "start_time": "2022-02-12T15:43:51.406Z"
   },
   {
    "duration": 1200,
    "start_time": "2022-02-12T15:43:50.531Z"
   },
   {
    "duration": 1196,
    "start_time": "2022-02-12T15:43:50.536Z"
   },
   {
    "duration": 1192,
    "start_time": "2022-02-12T15:43:50.541Z"
   },
   {
    "duration": 1188,
    "start_time": "2022-02-12T15:43:50.546Z"
   },
   {
    "duration": 1184,
    "start_time": "2022-02-12T15:43:50.550Z"
   },
   {
    "duration": 1180,
    "start_time": "2022-02-12T15:43:50.555Z"
   },
   {
    "duration": 1177,
    "start_time": "2022-02-12T15:43:50.560Z"
   },
   {
    "duration": 1174,
    "start_time": "2022-02-12T15:43:50.564Z"
   },
   {
    "duration": 1170,
    "start_time": "2022-02-12T15:43:50.569Z"
   },
   {
    "duration": 1139,
    "start_time": "2022-02-12T15:43:50.600Z"
   },
   {
    "duration": 1134,
    "start_time": "2022-02-12T15:43:50.606Z"
   },
   {
    "duration": 1130,
    "start_time": "2022-02-12T15:43:50.611Z"
   },
   {
    "duration": 1126,
    "start_time": "2022-02-12T15:43:50.616Z"
   },
   {
    "duration": 1123,
    "start_time": "2022-02-12T15:43:50.621Z"
   },
   {
    "duration": 1119,
    "start_time": "2022-02-12T15:43:50.626Z"
   },
   {
    "duration": 1115,
    "start_time": "2022-02-12T15:43:50.631Z"
   },
   {
    "duration": 1110,
    "start_time": "2022-02-12T15:43:50.636Z"
   },
   {
    "duration": 1106,
    "start_time": "2022-02-12T15:43:50.641Z"
   },
   {
    "duration": 1103,
    "start_time": "2022-02-12T15:43:50.645Z"
   },
   {
    "duration": 1098,
    "start_time": "2022-02-12T15:43:50.650Z"
   },
   {
    "duration": 1095,
    "start_time": "2022-02-12T15:43:50.654Z"
   },
   {
    "duration": 1091,
    "start_time": "2022-02-12T15:43:50.658Z"
   },
   {
    "duration": 1087,
    "start_time": "2022-02-12T15:43:50.663Z"
   },
   {
    "duration": 1082,
    "start_time": "2022-02-12T15:43:50.668Z"
   },
   {
    "duration": 1079,
    "start_time": "2022-02-12T15:43:50.672Z"
   },
   {
    "duration": 1074,
    "start_time": "2022-02-12T15:43:50.677Z"
   },
   {
    "duration": 1070,
    "start_time": "2022-02-12T15:43:50.682Z"
   },
   {
    "duration": 1066,
    "start_time": "2022-02-12T15:43:50.686Z"
   },
   {
    "duration": 1062,
    "start_time": "2022-02-12T15:43:50.691Z"
   },
   {
    "duration": 1057,
    "start_time": "2022-02-12T15:43:50.696Z"
   },
   {
    "duration": 1043,
    "start_time": "2022-02-12T15:43:50.711Z"
   },
   {
    "duration": 1039,
    "start_time": "2022-02-12T15:43:50.716Z"
   },
   {
    "duration": 1034,
    "start_time": "2022-02-12T15:43:50.721Z"
   },
   {
    "duration": 1029,
    "start_time": "2022-02-12T15:43:50.727Z"
   },
   {
    "duration": 1024,
    "start_time": "2022-02-12T15:43:50.732Z"
   },
   {
    "duration": 1020,
    "start_time": "2022-02-12T15:43:50.737Z"
   },
   {
    "duration": 1016,
    "start_time": "2022-02-12T15:43:50.741Z"
   },
   {
    "duration": 62,
    "start_time": "2022-02-12T15:44:59.748Z"
   },
   {
    "duration": 8,
    "start_time": "2022-02-12T15:44:59.811Z"
   },
   {
    "duration": 15,
    "start_time": "2022-02-12T15:44:59.821Z"
   },
   {
    "duration": 6,
    "start_time": "2022-02-12T15:44:59.837Z"
   },
   {
    "duration": 48,
    "start_time": "2022-02-12T15:44:59.845Z"
   },
   {
    "duration": 14,
    "start_time": "2022-02-12T15:44:59.894Z"
   },
   {
    "duration": 12,
    "start_time": "2022-02-12T15:44:59.909Z"
   },
   {
    "duration": 48,
    "start_time": "2022-02-12T15:44:59.924Z"
   },
   {
    "duration": 14,
    "start_time": "2022-02-12T15:44:59.974Z"
   },
   {
    "duration": 13,
    "start_time": "2022-02-12T15:44:59.989Z"
   },
   {
    "duration": 13,
    "start_time": "2022-02-12T15:45:00.004Z"
   },
   {
    "duration": 9,
    "start_time": "2022-02-12T15:45:00.018Z"
   },
   {
    "duration": 52,
    "start_time": "2022-02-12T15:45:00.029Z"
   },
   {
    "duration": 5,
    "start_time": "2022-02-12T15:45:00.083Z"
   },
   {
    "duration": 7,
    "start_time": "2022-02-12T15:45:00.089Z"
   },
   {
    "duration": 20,
    "start_time": "2022-02-12T15:45:00.098Z"
   },
   {
    "duration": 7,
    "start_time": "2022-02-12T15:45:00.119Z"
   },
   {
    "duration": 273,
    "start_time": "2022-02-12T15:45:00.127Z"
   },
   {
    "duration": 5,
    "start_time": "2022-02-12T15:45:00.402Z"
   },
   {
    "duration": 22,
    "start_time": "2022-02-12T15:45:00.409Z"
   },
   {
    "duration": 11,
    "start_time": "2022-02-12T15:45:00.433Z"
   },
   {
    "duration": 12,
    "start_time": "2022-02-12T15:45:00.445Z"
   },
   {
    "duration": 228,
    "start_time": "2022-02-12T15:45:00.460Z"
   },
   {
    "duration": 4,
    "start_time": "2022-02-12T15:45:00.691Z"
   },
   {
    "duration": 253,
    "start_time": "2022-02-12T15:45:00.697Z"
   },
   {
    "duration": 336,
    "start_time": "2022-02-12T15:45:00.952Z"
   },
   {
    "duration": 250,
    "start_time": "2022-02-12T15:45:01.290Z"
   },
   {
    "duration": 241,
    "start_time": "2022-02-12T15:45:01.542Z"
   },
   {
    "duration": 6,
    "start_time": "2022-02-12T15:45:01.785Z"
   },
   {
    "duration": 6,
    "start_time": "2022-02-12T15:45:01.793Z"
   },
   {
    "duration": 237,
    "start_time": "2022-02-12T15:45:01.801Z"
   },
   {
    "duration": 13,
    "start_time": "2022-02-12T15:45:02.039Z"
   },
   {
    "duration": 19,
    "start_time": "2022-02-12T15:45:02.053Z"
   },
   {
    "duration": 15,
    "start_time": "2022-02-12T15:45:02.074Z"
   },
   {
    "duration": 5,
    "start_time": "2022-02-12T15:45:02.090Z"
   },
   {
    "duration": 9,
    "start_time": "2022-02-12T15:45:02.097Z"
   },
   {
    "duration": 9,
    "start_time": "2022-02-12T15:45:02.107Z"
   },
   {
    "duration": 17,
    "start_time": "2022-02-12T15:45:02.118Z"
   },
   {
    "duration": 54,
    "start_time": "2022-02-12T15:45:02.136Z"
   },
   {
    "duration": 9,
    "start_time": "2022-02-12T15:45:02.192Z"
   },
   {
    "duration": 8,
    "start_time": "2022-02-12T15:45:02.203Z"
   },
   {
    "duration": 11,
    "start_time": "2022-02-12T15:45:02.213Z"
   },
   {
    "duration": 7,
    "start_time": "2022-02-12T15:45:02.226Z"
   },
   {
    "duration": 20,
    "start_time": "2022-02-12T15:45:02.272Z"
   },
   {
    "duration": 16,
    "start_time": "2022-02-12T15:45:02.294Z"
   },
   {
    "duration": 6,
    "start_time": "2022-02-12T15:45:02.311Z"
   },
   {
    "duration": 20,
    "start_time": "2022-02-12T15:45:02.318Z"
   },
   {
    "duration": 36,
    "start_time": "2022-02-12T15:45:02.339Z"
   },
   {
    "duration": 20,
    "start_time": "2022-02-12T15:45:02.376Z"
   },
   {
    "duration": 168,
    "start_time": "2022-02-12T15:45:02.397Z"
   },
   {
    "duration": 160,
    "start_time": "2022-02-12T15:45:02.571Z"
   },
   {
    "duration": 159,
    "start_time": "2022-02-12T15:45:02.732Z"
   },
   {
    "duration": 163,
    "start_time": "2022-02-12T15:45:02.892Z"
   },
   {
    "duration": 136,
    "start_time": "2022-02-12T15:45:03.056Z"
   },
   {
    "duration": 227,
    "start_time": "2022-02-12T15:45:03.194Z"
   },
   {
    "duration": 157,
    "start_time": "2022-02-12T15:45:03.423Z"
   },
   {
    "duration": 157,
    "start_time": "2022-02-12T15:45:03.582Z"
   },
   {
    "duration": 172,
    "start_time": "2022-02-12T15:45:03.740Z"
   },
   {
    "duration": 1120,
    "start_time": "2022-02-13T07:24:34.862Z"
   },
   {
    "duration": 20,
    "start_time": "2022-02-13T07:24:35.986Z"
   },
   {
    "duration": 25,
    "start_time": "2022-02-13T07:24:36.026Z"
   },
   {
    "duration": 10,
    "start_time": "2022-02-13T07:24:36.053Z"
   },
   {
    "duration": 91,
    "start_time": "2022-02-13T07:24:36.066Z"
   },
   {
    "duration": 34,
    "start_time": "2022-02-13T07:24:36.161Z"
   },
   {
    "duration": 53,
    "start_time": "2022-02-13T07:24:36.198Z"
   },
   {
    "duration": 25,
    "start_time": "2022-02-13T07:24:36.257Z"
   },
   {
    "duration": 56,
    "start_time": "2022-02-13T07:24:36.285Z"
   },
   {
    "duration": 21,
    "start_time": "2022-02-13T07:24:36.344Z"
   },
   {
    "duration": 72,
    "start_time": "2022-02-13T07:24:36.367Z"
   },
   {
    "duration": 15,
    "start_time": "2022-02-13T07:24:36.441Z"
   },
   {
    "duration": 12,
    "start_time": "2022-02-13T07:24:36.458Z"
   },
   {
    "duration": 53,
    "start_time": "2022-02-13T07:24:36.473Z"
   },
   {
    "duration": 8,
    "start_time": "2022-02-13T07:24:36.529Z"
   },
   {
    "duration": 4,
    "start_time": "2022-02-13T07:24:36.540Z"
   },
   {
    "duration": 8,
    "start_time": "2022-02-13T07:24:36.546Z"
   },
   {
    "duration": 1234,
    "start_time": "2022-02-13T07:24:36.556Z"
   },
   {
    "duration": 9,
    "start_time": "2022-02-13T07:24:37.793Z"
   },
   {
    "duration": 10,
    "start_time": "2022-02-13T07:24:37.824Z"
   },
   {
    "duration": 8,
    "start_time": "2022-02-13T07:24:37.837Z"
   },
   {
    "duration": 8,
    "start_time": "2022-02-13T07:24:37.849Z"
   },
   {
    "duration": 483,
    "start_time": "2022-02-13T07:24:37.863Z"
   },
   {
    "duration": 8,
    "start_time": "2022-02-13T07:24:38.350Z"
   },
   {
    "duration": 353,
    "start_time": "2022-02-13T07:24:38.361Z"
   },
   {
    "duration": 606,
    "start_time": "2022-02-13T07:24:38.717Z"
   },
   {
    "duration": 584,
    "start_time": "2022-02-13T07:24:39.326Z"
   },
   {
    "duration": 443,
    "start_time": "2022-02-13T07:24:39.912Z"
   },
   {
    "duration": 8,
    "start_time": "2022-02-13T07:24:40.357Z"
   },
   {
    "duration": 8,
    "start_time": "2022-02-13T07:24:40.367Z"
   },
   {
    "duration": 449,
    "start_time": "2022-02-13T07:24:40.377Z"
   },
   {
    "duration": 17,
    "start_time": "2022-02-13T07:24:40.828Z"
   },
   {
    "duration": 5,
    "start_time": "2022-02-13T07:24:40.848Z"
   },
   {
    "duration": 21,
    "start_time": "2022-02-13T07:24:40.855Z"
   },
   {
    "duration": 49,
    "start_time": "2022-02-13T07:24:40.879Z"
   },
   {
    "duration": 15,
    "start_time": "2022-02-13T07:24:40.930Z"
   },
   {
    "duration": 16,
    "start_time": "2022-02-13T07:24:40.947Z"
   },
   {
    "duration": 75,
    "start_time": "2022-02-13T07:24:40.965Z"
   },
   {
    "duration": 40,
    "start_time": "2022-02-13T07:24:41.042Z"
   },
   {
    "duration": 44,
    "start_time": "2022-02-13T07:24:41.085Z"
   },
   {
    "duration": 14,
    "start_time": "2022-02-13T07:24:41.132Z"
   },
   {
    "duration": 13,
    "start_time": "2022-02-13T07:24:41.149Z"
   },
   {
    "duration": 10,
    "start_time": "2022-02-13T07:24:41.164Z"
   },
   {
    "duration": 74,
    "start_time": "2022-02-13T07:24:41.176Z"
   },
   {
    "duration": 29,
    "start_time": "2022-02-13T07:24:41.252Z"
   },
   {
    "duration": 11,
    "start_time": "2022-02-13T07:24:41.283Z"
   },
   {
    "duration": 59,
    "start_time": "2022-02-13T07:24:41.296Z"
   },
   {
    "duration": 12,
    "start_time": "2022-02-13T07:24:41.357Z"
   },
   {
    "duration": 74,
    "start_time": "2022-02-13T07:24:41.371Z"
   },
   {
    "duration": 297,
    "start_time": "2022-02-13T07:24:41.447Z"
   },
   {
    "duration": 19,
    "start_time": "2022-02-13T07:25:13.108Z"
   },
   {
    "duration": 19,
    "start_time": "2022-02-13T07:25:36.910Z"
   }
  ],
  "kernelspec": {
   "display_name": "Python 3 (ipykernel)",
   "language": "python",
   "name": "python3"
  },
  "language_info": {
   "codemirror_mode": {
    "name": "ipython",
    "version": 3
   },
   "file_extension": ".py",
   "mimetype": "text/x-python",
   "name": "python",
   "nbconvert_exporter": "python",
   "pygments_lexer": "ipython3",
   "version": "3.9.7"
  },
  "toc": {
   "base_numbering": 1,
   "nav_menu": {},
   "number_sections": true,
   "sideBar": true,
   "skip_h1_title": true,
   "title_cell": "Table of Contents",
   "title_sidebar": "Contents",
   "toc_cell": false,
   "toc_position": {
    "height": "calc(100% - 180px)",
    "left": "10px",
    "top": "150px",
    "width": "292px"
   },
   "toc_section_display": true,
   "toc_window_display": true
  }
 },
 "nbformat": 4,
 "nbformat_minor": 5
}
