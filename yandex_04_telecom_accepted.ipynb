{
 "cells": [
  {
   "cell_type": "markdown",
   "id": "7e0d4310",
   "metadata": {},
   "source": [
    "<div style=\"border:solid green 2px; padding: 20px\">\n",
    "<b>Привет, Юрий!</b>\n",
    "\n",
    "Меня зовут Венец Анастасия, и я буду проверять твой проект. Предлагаю общаться на «ты», но если это не удобно  — дай знать, и мы перейдем на \"вы\". \n",
    "    \n",
    "Спасибо за работу, проект выполнен отлично, его, действительно, было интересно проверять, спасибо тебе за это! Еще ты очень здорово оформляешь графики. Лучшая работа по статистическому анализу, которую я проверяла 👍 \n",
    "    \n",
    "Возвращаю проект на доработку только для того, чтобы у тебя была возможность что-то изменить в своей работе или ответить на мои комментарии.\n",
    "\n",
    "Ниже ты найдешь мои комментарии  — **пожалуйста, не перемещай, не изменяй и не удаляй их**. Я буду использовать цветовую разметку:\n",
    "    \n",
    "<div class=\"alert alert-success\">\n",
    "<b>Комментарий ревьюера ✔️:</b> Так я выделяю места, где все отлично.</div>\n",
    "    \n",
    "<div class=\"alert alert-warning\">\n",
    "<b>Комментарий ревьюера ⚠️:</b> Так выделены небольшие замечания. Я надеюсь, что их ты тоже учтешь  — твой проект от этого станет только лучше. Но настаивать на их отработке не буду.</div>\n",
    "    \n",
    "<div class=\"alert alert-danger\">\n",
    "<b>Комментарий ревьюера ❌:</b> Так выделены самые важные замечания. Без их отработки проект не будет принят. </div>\n",
    "\n",
    "    \n",
    "Давай работать над проектом в диалоге: **если ты что-то меняешь в проекте или отвечаешь на мои комменатри — пиши об этом.** Мне будет легче отследить изменения, если ты выделишь свои комментарии:\n",
    "<div class=\"alert alert-info\"> <b>Комментарий студента:</b> Например, вот так.</div>\n",
    "\n",
    "Всё это поможет выполнить повторную проверку твоего проекта оперативнее. "
   ]
  },
  {
   "cell_type": "markdown",
   "id": "e7556d02",
   "metadata": {},
   "source": [
    "<div class=\"alert alert-info\">\n",
    "<b>Комментарий студента:</b>\n",
    "\n",
    "Привет, Анастасия!<br>\n",
    "**Поздравляю с международным праздником 8 марта!**<br>Мира, счастья, любви, тепла и хорошего настроения!<br><br>\n",
    "    \n",
    "Спасибо за высокую оценку моей работы. Было приятно увидеть что я сделал проект правильно.<br>\n",
    "    \n",
    "Я учел твои комментарии:\n",
    " - поправил использование np.ceil на более оптимальный способ, \n",
    " - сделал график scatterplot с указанием цветом города, \n",
    " - добавил колонку с гендером пользователя и посмотрел отличаются ли предпочтения мужчин и женщин по потреблению минут и гигабайт. Это было просто интересно сделать (определить пол по имени и посмотреть есть ли разница у мужчин и женщин в потреблении телеком услуг)\n",
    "    \n",
    "    \n",
    "Если блокирующих замечаний не будет, прими пожалуйста проект. Твои комментарии/ответы я обязательно посмотрю в принятом проекте.\n",
    "</div>"
   ]
  },
  {
   "cell_type": "markdown",
   "id": "2864cbe2",
   "metadata": {},
   "source": [
    "<div style=\"border:solid green 2px; padding: 3px\">\n",
    "<div style=\"border:solid green 2px; padding: 20px\">\n",
    "<b>Привет, Юрий!</b>\n",
    "\n",
    "Спасибо большое за поздравление 😊\n",
    "    \n",
    "Работа замечательная, интересное решение посмотреть зависимость от гендера. Было приятно проверять твой проект, спасибо!\n",
    "    \n",
    "\n",
    "---- \n",
    "    \n",
    "    \n",
    "Комментарии пометила вот так: **Коментарии ревьюера v2**"
   ]
  },
  {
   "cell_type": "markdown",
   "id": "ca2d7472",
   "metadata": {},
   "source": [
    "# Определение перспективного тарифа для телеком-компании\n",
    "\n",
    "**Задача** сделать предварительный анализ тарифов на небольшой выборке клиентов. Нужно проанализировать поведение клиентов и сделать вывод — какой тариф приносит больше денег.<br>\n",
    "**Данные** данные 500 пользователей «Мегалайна»: кто они, откуда, каким тарифом пользуются, сколько звонков и сообщений каждый отправил за 2018 год.<br>\n",
    "\n",
    "**Описание тарифов**<br>\n",
    "*Тариф «Смарт»*\n",
    "1. Ежемесячная плата: 550 рублей\n",
    "2. Включено 500 минут разговора, 50 сообщений и 15 Гб интернет-трафика\n",
    "3. Стоимость услуг сверх тарифного пакета:\n",
    " - минута разговора: 3 рубля\n",
    " - сообщение: 3 рубля\n",
    " - 1 Гб интернет-трафика: 200 рублей\n",
    "*Тариф «Ультра»*\n",
    "1. Ежемесячная плата: 1950 рублей\n",
    "2. Включено 3000 минут разговора, 1000 сообщений и 30 Гб интернет-трафика\n",
    "3. Стоимость услуг сверх тарифного пакета:\n",
    " - минута разговора: 1 рубль\n",
    " - сообщение: 1 рубль\n",
    " - 1 Гб интернет-трафика: 150 рублей\n",
    " \n",
    " \n",
    " <h2>Описание данных</h2><div class=\"paragraph\">Таблица <code class=\"code-inline code-inline_theme_light\">users</code> (информация о пользователях):</div><ul><li><em>user_id</em> — уникальный идентификатор пользователя</li><li><em>first_name</em> — имя пользователя</li><li><em>last_name</em> — фамилия пользователя</li><li><em>age</em> — возраст пользователя (годы)</li><li><em>reg_date</em> — дата подключения тарифа (день, месяц, год)</li><li><em>churn_date</em> — дата прекращения пользования тарифом  (если значение пропущено, то тариф ещё действовал на момент выгрузки данных)</li><li><em>city</em> — город проживания пользователя</li><li><em>tarif</em> — название тарифного плана</li></ul><div class=\"paragraph\">Таблица <code class=\"code-inline code-inline_theme_light\">calls</code> (информация о звонках):</div><ul><li><em>id</em> — уникальный номер звонка</li><li><em>call_date</em> — дата звонка</li><li><em>duration</em> — длительность звонка в минутах</li><li><em>user_id</em> — идентификатор пользователя, сделавшего звонок</li></ul><div class=\"paragraph\">Таблица <code class=\"code-inline code-inline_theme_light\">messages</code> (информация о сообщениях):</div><ul><li><em>id</em> — уникальный номер сообщения</li><li><em>message_date</em> — дата сообщения</li><li><em>user_id</em> — идентификатор пользователя, отправившего сообщение</li></ul><div class=\"paragraph\">Таблица <code class=\"code-inline code-inline_theme_light\">internet</code> (информация об интернет-сессиях):</div><ul><li><em>id</em> — уникальный номер сессии</li><li><em>mb_used</em> —  объём потраченного за сессию интернет-трафика (в мегабайтах)</li><li><em>session_date</em> — дата интернет-сессии</li><li><em>user_id</em> — идентификатор пользователя</li></ul><div class=\"paragraph\">Таблица <code class=\"code-inline code-inline_theme_light\">tariffs</code> (информация о тарифах):</div><ul><li><em>tariff_name</em> — название тарифа</li><li><em>rub_monthly_fee</em> — ежемесячная абонентская плата в рублях</li><li><em>minutes_included</em> — количество минут разговора в месяц, включённых в абонентскую плату</li><li><em>messages_included</em> — количество сообщений в месяц, включённых в абонентскую плату</li><li><em>mb_per_month_included</em> — объём интернет-трафика, включённого в&nbsp;абонентскую плату (в мегабайтах)</li><li><em>rub_per_minute</em> — стоимость минуты разговора сверх тарифного пакета (например, если в тарифе 100 минут разговора в месяц, то со 101 минуты будет взиматься плата)</li><li><em>rub_per_message</em> — стоимость отправки сообщения сверх тарифного пакета</li><li><em>rub_per_gb</em> — стоимость дополнительного гигабайта интернет-трафика сверх тарифного пакета (1 гигабайт = 1024 мегабайта)</li></ul>\n",
    " \n",
    " <div class=\"quiz-task\" style=\"background:#f5f6f7;\">\n",
    "    <div class=\"paragraph\"><strong>Примечание:</strong> </div><div class=\"paragraph\">«Мегалайн» всегда округляет секунды до минут, а мегабайты — до гигабайт. Каждый звонок округляется отдельно: даже если он длился всего 1 секунду, будет засчитан как 1 минута.</div><div class=\"paragraph\">      Для веб-трафика отдельные сессии не считаются. Вместо этого общая сумма за месяц округляется в бо́льшую сторону. Если абонент использует 1025 мегабайт в этом месяце, с него возьмут плату за 2 гигабайта.</div></div>"
   ]
  },
  {
   "cell_type": "markdown",
   "id": "7eb01f80",
   "metadata": {},
   "source": [
    "## Изучение данных из файлов"
   ]
  },
  {
   "cell_type": "code",
   "execution_count": 1,
   "id": "d5fbb04d",
   "metadata": {},
   "outputs": [],
   "source": [
    "from pylab import rcParams\n",
    "rcParams['figure.figsize'] = 9,6\n",
    "\n",
    "import pandas as pd\n",
    "pd.options.display.float_format = '{:,.2f}'.format\n",
    "pd.options.display.max_columns = 100\n",
    "pd.set_option('display.max_rows',30)\n",
    "\n",
    "import matplotlib.pyplot as plt\n",
    "import numpy as np\n",
    "from scipy import stats as st\n",
    "import math\n",
    "\n",
    "\n",
    "import seaborn as sns\n",
    "sns.set(rc={'figure.figsize':(9,6)})"
   ]
  },
  {
   "cell_type": "markdown",
   "id": "b6b720e7",
   "metadata": {},
   "source": [
    "<div class=\"alert alert-success\">\n",
    "<b>Комментарий ревьюера ✔️:</b> Круто, что задаешь параметры графиков и датафреймов</div>"
   ]
  },
  {
   "cell_type": "code",
   "execution_count": 2,
   "id": "e7619e8f",
   "metadata": {},
   "outputs": [],
   "source": [
    "try:\n",
    "    calls = pd.read_csv('/datasets/calls.csv', sep=',')\n",
    "    internet = pd.read_csv('/datasets/internet.csv', sep=',')\n",
    "    messages = pd.read_csv('/datasets/messages.csv', sep=',')\n",
    "    tariffs = pd.read_csv('/datasets/tariffs.csv', sep=',')\n",
    "    users = pd.read_csv('/datasets/users.csv', sep=',')\n",
    "except:\n",
    "    calls = pd.read_csv('datasets\\yandex_04_calls.csv', sep=',')\n",
    "    internet = pd.read_csv('datasets\\yandex_04_internet.csv', sep=',')\n",
    "    messages = pd.read_csv('datasets\\yandex_04_messages.csv', sep=',')\n",
    "    tariffs = pd.read_csv('datasets\\yandex_04_tariffs.csv', sep=',')\n",
    "    users = pd.read_csv('datasets\\yandex_04_users.csv')"
   ]
  },
  {
   "cell_type": "code",
   "execution_count": 3,
   "id": "ad6dbb5c",
   "metadata": {},
   "outputs": [],
   "source": [
    "# Определим функцию для изучения датасета, ее будем применять к разным датафреймам\n",
    "def evaluate_df(df):\n",
    "    print('\\n------SAMPLE--------')\n",
    "    display(df.sample(min(5,len(df))))\n",
    "    print('\\n------DTYPES--------')\n",
    "    print(df.dtypes)\n",
    "\n",
    "    # число пропусков\n",
    "    print('\\n\\n------NULL--------')\n",
    "    print(df.isna().sum())\n",
    "\n",
    "    # статистики\n",
    "    display(df.describe(include='all').transpose())"
   ]
  },
  {
   "cell_type": "markdown",
   "id": "ac5b5b40",
   "metadata": {},
   "source": [
    "<div class=\"alert alert-success\">\n",
    "<b>Комментарий ревьюера ✔️:</b> Супер, что задаешь функцию для первичного осмотра данных 👍</div>"
   ]
  },
  {
   "cell_type": "markdown",
   "id": "a326e2cf",
   "metadata": {},
   "source": [
    "### Изучение calls.csv"
   ]
  },
  {
   "cell_type": "code",
   "execution_count": 4,
   "id": "1f45ac0a",
   "metadata": {},
   "outputs": [
    {
     "data": {
      "text/plain": [
       "id            object\n",
       "call_date     object\n",
       "duration     float64\n",
       "user_id        int64\n",
       "dtype: object"
      ]
     },
     "execution_count": 4,
     "metadata": {},
     "output_type": "execute_result"
    }
   ],
   "source": [
    "calls.dtypes"
   ]
  },
  {
   "cell_type": "code",
   "execution_count": 5,
   "id": "c1c4acb0",
   "metadata": {
    "scrolled": false
   },
   "outputs": [
    {
     "name": "stdout",
     "output_type": "stream",
     "text": [
      "\n",
      "------SAMPLE--------\n"
     ]
    },
    {
     "data": {
      "text/html": [
       "<div>\n",
       "<style scoped>\n",
       "    .dataframe tbody tr th:only-of-type {\n",
       "        vertical-align: middle;\n",
       "    }\n",
       "\n",
       "    .dataframe tbody tr th {\n",
       "        vertical-align: top;\n",
       "    }\n",
       "\n",
       "    .dataframe thead th {\n",
       "        text-align: right;\n",
       "    }\n",
       "</style>\n",
       "<table border=\"1\" class=\"dataframe\">\n",
       "  <thead>\n",
       "    <tr style=\"text-align: right;\">\n",
       "      <th></th>\n",
       "      <th>id</th>\n",
       "      <th>call_date</th>\n",
       "      <th>duration</th>\n",
       "      <th>user_id</th>\n",
       "    </tr>\n",
       "  </thead>\n",
       "  <tbody>\n",
       "    <tr>\n",
       "      <td>65912</td>\n",
       "      <td>1168_1063</td>\n",
       "      <td>2018-05-11</td>\n",
       "      <td>5.45</td>\n",
       "      <td>1168</td>\n",
       "    </tr>\n",
       "    <tr>\n",
       "      <td>27576</td>\n",
       "      <td>1067_486</td>\n",
       "      <td>2018-07-18</td>\n",
       "      <td>0.00</td>\n",
       "      <td>1067</td>\n",
       "    </tr>\n",
       "    <tr>\n",
       "      <td>171360</td>\n",
       "      <td>1424_7</td>\n",
       "      <td>2018-10-26</td>\n",
       "      <td>6.20</td>\n",
       "      <td>1424</td>\n",
       "    </tr>\n",
       "    <tr>\n",
       "      <td>82127</td>\n",
       "      <td>1204_10</td>\n",
       "      <td>2018-08-15</td>\n",
       "      <td>2.93</td>\n",
       "      <td>1204</td>\n",
       "    </tr>\n",
       "    <tr>\n",
       "      <td>103462</td>\n",
       "      <td>1265_124</td>\n",
       "      <td>2018-09-25</td>\n",
       "      <td>6.21</td>\n",
       "      <td>1265</td>\n",
       "    </tr>\n",
       "  </tbody>\n",
       "</table>\n",
       "</div>"
      ],
      "text/plain": [
       "               id   call_date  duration  user_id\n",
       "65912   1168_1063  2018-05-11      5.45     1168\n",
       "27576    1067_486  2018-07-18      0.00     1067\n",
       "171360     1424_7  2018-10-26      6.20     1424\n",
       "82127     1204_10  2018-08-15      2.93     1204\n",
       "103462   1265_124  2018-09-25      6.21     1265"
      ]
     },
     "metadata": {},
     "output_type": "display_data"
    },
    {
     "name": "stdout",
     "output_type": "stream",
     "text": [
      "\n",
      "------DTYPES--------\n",
      "id            object\n",
      "call_date     object\n",
      "duration     float64\n",
      "user_id        int64\n",
      "dtype: object\n",
      "\n",
      "\n",
      "------NULL--------\n",
      "id           0\n",
      "call_date    0\n",
      "duration     0\n",
      "user_id      0\n",
      "dtype: int64\n"
     ]
    },
    {
     "data": {
      "text/html": [
       "<div>\n",
       "<style scoped>\n",
       "    .dataframe tbody tr th:only-of-type {\n",
       "        vertical-align: middle;\n",
       "    }\n",
       "\n",
       "    .dataframe tbody tr th {\n",
       "        vertical-align: top;\n",
       "    }\n",
       "\n",
       "    .dataframe thead th {\n",
       "        text-align: right;\n",
       "    }\n",
       "</style>\n",
       "<table border=\"1\" class=\"dataframe\">\n",
       "  <thead>\n",
       "    <tr style=\"text-align: right;\">\n",
       "      <th></th>\n",
       "      <th>count</th>\n",
       "      <th>unique</th>\n",
       "      <th>top</th>\n",
       "      <th>freq</th>\n",
       "      <th>mean</th>\n",
       "      <th>std</th>\n",
       "      <th>min</th>\n",
       "      <th>25%</th>\n",
       "      <th>50%</th>\n",
       "      <th>75%</th>\n",
       "      <th>max</th>\n",
       "    </tr>\n",
       "  </thead>\n",
       "  <tbody>\n",
       "    <tr>\n",
       "      <td>id</td>\n",
       "      <td>202607</td>\n",
       "      <td>202607</td>\n",
       "      <td>1119_93</td>\n",
       "      <td>1</td>\n",
       "      <td>NaN</td>\n",
       "      <td>NaN</td>\n",
       "      <td>NaN</td>\n",
       "      <td>NaN</td>\n",
       "      <td>NaN</td>\n",
       "      <td>NaN</td>\n",
       "      <td>NaN</td>\n",
       "    </tr>\n",
       "    <tr>\n",
       "      <td>call_date</td>\n",
       "      <td>202607</td>\n",
       "      <td>365</td>\n",
       "      <td>2018-12-31</td>\n",
       "      <td>1435</td>\n",
       "      <td>NaN</td>\n",
       "      <td>NaN</td>\n",
       "      <td>NaN</td>\n",
       "      <td>NaN</td>\n",
       "      <td>NaN</td>\n",
       "      <td>NaN</td>\n",
       "      <td>NaN</td>\n",
       "    </tr>\n",
       "    <tr>\n",
       "      <td>duration</td>\n",
       "      <td>202,607.00</td>\n",
       "      <td>NaN</td>\n",
       "      <td>NaN</td>\n",
       "      <td>NaN</td>\n",
       "      <td>6.76</td>\n",
       "      <td>5.84</td>\n",
       "      <td>0.00</td>\n",
       "      <td>1.30</td>\n",
       "      <td>6.00</td>\n",
       "      <td>10.70</td>\n",
       "      <td>38.00</td>\n",
       "    </tr>\n",
       "    <tr>\n",
       "      <td>user_id</td>\n",
       "      <td>202,607.00</td>\n",
       "      <td>NaN</td>\n",
       "      <td>NaN</td>\n",
       "      <td>NaN</td>\n",
       "      <td>1,253.94</td>\n",
       "      <td>144.72</td>\n",
       "      <td>1,000.00</td>\n",
       "      <td>1,126.00</td>\n",
       "      <td>1,260.00</td>\n",
       "      <td>1,379.00</td>\n",
       "      <td>1,499.00</td>\n",
       "    </tr>\n",
       "  </tbody>\n",
       "</table>\n",
       "</div>"
      ],
      "text/plain": [
       "               count  unique         top  freq     mean    std      min  \\\n",
       "id            202607  202607     1119_93     1      NaN    NaN      NaN   \n",
       "call_date     202607     365  2018-12-31  1435      NaN    NaN      NaN   \n",
       "duration  202,607.00     NaN         NaN   NaN     6.76   5.84     0.00   \n",
       "user_id   202,607.00     NaN         NaN   NaN 1,253.94 144.72 1,000.00   \n",
       "\n",
       "               25%      50%      75%      max  \n",
       "id             NaN      NaN      NaN      NaN  \n",
       "call_date      NaN      NaN      NaN      NaN  \n",
       "duration      1.30     6.00    10.70    38.00  \n",
       "user_id   1,126.00 1,260.00 1,379.00 1,499.00  "
      ]
     },
     "metadata": {},
     "output_type": "display_data"
    }
   ],
   "source": [
    "evaluate_df(calls)"
   ]
  },
  {
   "cell_type": "markdown",
   "id": "4031e371",
   "metadata": {},
   "source": [
    "**Выводы**<br>\n",
    "- call_date имеет текстовый тип, нужно преобразовать в date\n",
    "- Все поля заполнены. Пропусков нет\n",
    "- duration\tнужно округлить до минут целых\n",
    "- Аномальных явных выбросов min max не просматривается"
   ]
  },
  {
   "cell_type": "markdown",
   "id": "d0bed1bd",
   "metadata": {},
   "source": [
    "<div class=\"alert alert-success\">\n",
    "<b>Комментарий ревьюера ✔️:</b> 👍</div>"
   ]
  },
  {
   "cell_type": "markdown",
   "id": "f7863e42",
   "metadata": {},
   "source": [
    "### Изучение internet.csv"
   ]
  },
  {
   "cell_type": "code",
   "execution_count": 6,
   "id": "99ad51c0",
   "metadata": {},
   "outputs": [
    {
     "name": "stdout",
     "output_type": "stream",
     "text": [
      "\n",
      "------SAMPLE--------\n"
     ]
    },
    {
     "data": {
      "text/html": [
       "<div>\n",
       "<style scoped>\n",
       "    .dataframe tbody tr th:only-of-type {\n",
       "        vertical-align: middle;\n",
       "    }\n",
       "\n",
       "    .dataframe tbody tr th {\n",
       "        vertical-align: top;\n",
       "    }\n",
       "\n",
       "    .dataframe thead th {\n",
       "        text-align: right;\n",
       "    }\n",
       "</style>\n",
       "<table border=\"1\" class=\"dataframe\">\n",
       "  <thead>\n",
       "    <tr style=\"text-align: right;\">\n",
       "      <th></th>\n",
       "      <th>Unnamed: 0</th>\n",
       "      <th>id</th>\n",
       "      <th>mb_used</th>\n",
       "      <th>session_date</th>\n",
       "      <th>user_id</th>\n",
       "    </tr>\n",
       "  </thead>\n",
       "  <tbody>\n",
       "    <tr>\n",
       "      <td>12701</td>\n",
       "      <td>12701</td>\n",
       "      <td>1044_338</td>\n",
       "      <td>239.36</td>\n",
       "      <td>2018-07-12</td>\n",
       "      <td>1044</td>\n",
       "    </tr>\n",
       "    <tr>\n",
       "      <td>97382</td>\n",
       "      <td>97382</td>\n",
       "      <td>1327_303</td>\n",
       "      <td>330.91</td>\n",
       "      <td>2018-07-02</td>\n",
       "      <td>1327</td>\n",
       "    </tr>\n",
       "    <tr>\n",
       "      <td>21484</td>\n",
       "      <td>21484</td>\n",
       "      <td>1072_207</td>\n",
       "      <td>354.94</td>\n",
       "      <td>2018-06-28</td>\n",
       "      <td>1072</td>\n",
       "    </tr>\n",
       "    <tr>\n",
       "      <td>62107</td>\n",
       "      <td>62107</td>\n",
       "      <td>1210_216</td>\n",
       "      <td>1,228.53</td>\n",
       "      <td>2018-09-02</td>\n",
       "      <td>1210</td>\n",
       "    </tr>\n",
       "    <tr>\n",
       "      <td>130604</td>\n",
       "      <td>130604</td>\n",
       "      <td>1435_212</td>\n",
       "      <td>75.79</td>\n",
       "      <td>2018-02-21</td>\n",
       "      <td>1435</td>\n",
       "    </tr>\n",
       "  </tbody>\n",
       "</table>\n",
       "</div>"
      ],
      "text/plain": [
       "        Unnamed: 0        id  mb_used session_date  user_id\n",
       "12701        12701  1044_338   239.36   2018-07-12     1044\n",
       "97382        97382  1327_303   330.91   2018-07-02     1327\n",
       "21484        21484  1072_207   354.94   2018-06-28     1072\n",
       "62107        62107  1210_216 1,228.53   2018-09-02     1210\n",
       "130604      130604  1435_212    75.79   2018-02-21     1435"
      ]
     },
     "metadata": {},
     "output_type": "display_data"
    },
    {
     "name": "stdout",
     "output_type": "stream",
     "text": [
      "\n",
      "------DTYPES--------\n",
      "Unnamed: 0        int64\n",
      "id               object\n",
      "mb_used         float64\n",
      "session_date     object\n",
      "user_id           int64\n",
      "dtype: object\n",
      "\n",
      "\n",
      "------NULL--------\n",
      "Unnamed: 0      0\n",
      "id              0\n",
      "mb_used         0\n",
      "session_date    0\n",
      "user_id         0\n",
      "dtype: int64\n"
     ]
    },
    {
     "data": {
      "text/html": [
       "<div>\n",
       "<style scoped>\n",
       "    .dataframe tbody tr th:only-of-type {\n",
       "        vertical-align: middle;\n",
       "    }\n",
       "\n",
       "    .dataframe tbody tr th {\n",
       "        vertical-align: top;\n",
       "    }\n",
       "\n",
       "    .dataframe thead th {\n",
       "        text-align: right;\n",
       "    }\n",
       "</style>\n",
       "<table border=\"1\" class=\"dataframe\">\n",
       "  <thead>\n",
       "    <tr style=\"text-align: right;\">\n",
       "      <th></th>\n",
       "      <th>count</th>\n",
       "      <th>unique</th>\n",
       "      <th>top</th>\n",
       "      <th>freq</th>\n",
       "      <th>mean</th>\n",
       "      <th>std</th>\n",
       "      <th>min</th>\n",
       "      <th>25%</th>\n",
       "      <th>50%</th>\n",
       "      <th>75%</th>\n",
       "      <th>max</th>\n",
       "    </tr>\n",
       "  </thead>\n",
       "  <tbody>\n",
       "    <tr>\n",
       "      <td>Unnamed: 0</td>\n",
       "      <td>149,396.00</td>\n",
       "      <td>NaN</td>\n",
       "      <td>NaN</td>\n",
       "      <td>NaN</td>\n",
       "      <td>74,697.50</td>\n",
       "      <td>43,127.05</td>\n",
       "      <td>0.00</td>\n",
       "      <td>37,348.75</td>\n",
       "      <td>74,697.50</td>\n",
       "      <td>112,046.25</td>\n",
       "      <td>149,395.00</td>\n",
       "    </tr>\n",
       "    <tr>\n",
       "      <td>id</td>\n",
       "      <td>149396</td>\n",
       "      <td>149396</td>\n",
       "      <td>1430_67</td>\n",
       "      <td>1</td>\n",
       "      <td>NaN</td>\n",
       "      <td>NaN</td>\n",
       "      <td>NaN</td>\n",
       "      <td>NaN</td>\n",
       "      <td>NaN</td>\n",
       "      <td>NaN</td>\n",
       "      <td>NaN</td>\n",
       "    </tr>\n",
       "    <tr>\n",
       "      <td>mb_used</td>\n",
       "      <td>149,396.00</td>\n",
       "      <td>NaN</td>\n",
       "      <td>NaN</td>\n",
       "      <td>NaN</td>\n",
       "      <td>370.19</td>\n",
       "      <td>278.30</td>\n",
       "      <td>0.00</td>\n",
       "      <td>138.19</td>\n",
       "      <td>348.01</td>\n",
       "      <td>559.55</td>\n",
       "      <td>1,724.83</td>\n",
       "    </tr>\n",
       "    <tr>\n",
       "      <td>session_date</td>\n",
       "      <td>149396</td>\n",
       "      <td>365</td>\n",
       "      <td>2018-12-31</td>\n",
       "      <td>1057</td>\n",
       "      <td>NaN</td>\n",
       "      <td>NaN</td>\n",
       "      <td>NaN</td>\n",
       "      <td>NaN</td>\n",
       "      <td>NaN</td>\n",
       "      <td>NaN</td>\n",
       "      <td>NaN</td>\n",
       "    </tr>\n",
       "    <tr>\n",
       "      <td>user_id</td>\n",
       "      <td>149,396.00</td>\n",
       "      <td>NaN</td>\n",
       "      <td>NaN</td>\n",
       "      <td>NaN</td>\n",
       "      <td>1,252.10</td>\n",
       "      <td>144.05</td>\n",
       "      <td>1,000.00</td>\n",
       "      <td>1,130.00</td>\n",
       "      <td>1,251.00</td>\n",
       "      <td>1,380.00</td>\n",
       "      <td>1,499.00</td>\n",
       "    </tr>\n",
       "  </tbody>\n",
       "</table>\n",
       "</div>"
      ],
      "text/plain": [
       "                  count  unique         top  freq      mean       std  \\\n",
       "Unnamed: 0   149,396.00     NaN         NaN   NaN 74,697.50 43,127.05   \n",
       "id               149396  149396     1430_67     1       NaN       NaN   \n",
       "mb_used      149,396.00     NaN         NaN   NaN    370.19    278.30   \n",
       "session_date     149396     365  2018-12-31  1057       NaN       NaN   \n",
       "user_id      149,396.00     NaN         NaN   NaN  1,252.10    144.05   \n",
       "\n",
       "                  min       25%       50%        75%        max  \n",
       "Unnamed: 0       0.00 37,348.75 74,697.50 112,046.25 149,395.00  \n",
       "id                NaN       NaN       NaN        NaN        NaN  \n",
       "mb_used          0.00    138.19    348.01     559.55   1,724.83  \n",
       "session_date      NaN       NaN       NaN        NaN        NaN  \n",
       "user_id      1,000.00  1,130.00  1,251.00   1,380.00   1,499.00  "
      ]
     },
     "metadata": {},
     "output_type": "display_data"
    }
   ],
   "source": [
    "evaluate_df(internet)"
   ]
  },
  {
   "cell_type": "markdown",
   "id": "1601cf99",
   "metadata": {},
   "source": [
    "**Выводы**<br>\n",
    "- Unnamed: 0 дублирует индекс. Нужно удалить столбец\n",
    "- Все заполнены, пустых нет\n",
    "- session_date имеет текстовый тип, нужно преобразовать в date\n",
    "- Аномальных явных выбросов min max не просматривается"
   ]
  },
  {
   "cell_type": "markdown",
   "id": "a19945d2",
   "metadata": {},
   "source": [
    "<div class=\"alert alert-success\">\n",
    "<b>Комментарий ревьюера ✔️:</b> Хорошо\n",
    "\n",
    "- Правильное замечание про `Unnamed: 0`. Он возникает, когда данные сохраняют с указанием индекса `pd.DataFrame().to_csv(..., index=column)`. Если при чтении указать этот столбец `pd.read_csv(..., index_col=0)` - данные сразу прочитаются корректно\n",
    "    \n",
    "</div>"
   ]
  },
  {
   "cell_type": "markdown",
   "id": "c31941cf",
   "metadata": {},
   "source": [
    "### Изучение messages.csv"
   ]
  },
  {
   "cell_type": "code",
   "execution_count": 7,
   "id": "e4916f28",
   "metadata": {},
   "outputs": [
    {
     "name": "stdout",
     "output_type": "stream",
     "text": [
      "\n",
      "------SAMPLE--------\n"
     ]
    },
    {
     "data": {
      "text/html": [
       "<div>\n",
       "<style scoped>\n",
       "    .dataframe tbody tr th:only-of-type {\n",
       "        vertical-align: middle;\n",
       "    }\n",
       "\n",
       "    .dataframe tbody tr th {\n",
       "        vertical-align: top;\n",
       "    }\n",
       "\n",
       "    .dataframe thead th {\n",
       "        text-align: right;\n",
       "    }\n",
       "</style>\n",
       "<table border=\"1\" class=\"dataframe\">\n",
       "  <thead>\n",
       "    <tr style=\"text-align: right;\">\n",
       "      <th></th>\n",
       "      <th>id</th>\n",
       "      <th>message_date</th>\n",
       "      <th>user_id</th>\n",
       "    </tr>\n",
       "  </thead>\n",
       "  <tbody>\n",
       "    <tr>\n",
       "      <td>2224</td>\n",
       "      <td>1005_86</td>\n",
       "      <td>2018-11-24</td>\n",
       "      <td>1005</td>\n",
       "    </tr>\n",
       "    <tr>\n",
       "      <td>45174</td>\n",
       "      <td>1196_624</td>\n",
       "      <td>2018-12-25</td>\n",
       "      <td>1196</td>\n",
       "    </tr>\n",
       "    <tr>\n",
       "      <td>117865</td>\n",
       "      <td>1478_217</td>\n",
       "      <td>2018-11-01</td>\n",
       "      <td>1478</td>\n",
       "    </tr>\n",
       "    <tr>\n",
       "      <td>42266</td>\n",
       "      <td>1182_41</td>\n",
       "      <td>2018-11-23</td>\n",
       "      <td>1182</td>\n",
       "    </tr>\n",
       "    <tr>\n",
       "      <td>30555</td>\n",
       "      <td>1134_273</td>\n",
       "      <td>2018-06-11</td>\n",
       "      <td>1134</td>\n",
       "    </tr>\n",
       "  </tbody>\n",
       "</table>\n",
       "</div>"
      ],
      "text/plain": [
       "              id message_date  user_id\n",
       "2224     1005_86   2018-11-24     1005\n",
       "45174   1196_624   2018-12-25     1196\n",
       "117865  1478_217   2018-11-01     1478\n",
       "42266    1182_41   2018-11-23     1182\n",
       "30555   1134_273   2018-06-11     1134"
      ]
     },
     "metadata": {},
     "output_type": "display_data"
    },
    {
     "name": "stdout",
     "output_type": "stream",
     "text": [
      "\n",
      "------DTYPES--------\n",
      "id              object\n",
      "message_date    object\n",
      "user_id          int64\n",
      "dtype: object\n",
      "\n",
      "\n",
      "------NULL--------\n",
      "id              0\n",
      "message_date    0\n",
      "user_id         0\n",
      "dtype: int64\n"
     ]
    },
    {
     "data": {
      "text/html": [
       "<div>\n",
       "<style scoped>\n",
       "    .dataframe tbody tr th:only-of-type {\n",
       "        vertical-align: middle;\n",
       "    }\n",
       "\n",
       "    .dataframe tbody tr th {\n",
       "        vertical-align: top;\n",
       "    }\n",
       "\n",
       "    .dataframe thead th {\n",
       "        text-align: right;\n",
       "    }\n",
       "</style>\n",
       "<table border=\"1\" class=\"dataframe\">\n",
       "  <thead>\n",
       "    <tr style=\"text-align: right;\">\n",
       "      <th></th>\n",
       "      <th>count</th>\n",
       "      <th>unique</th>\n",
       "      <th>top</th>\n",
       "      <th>freq</th>\n",
       "      <th>mean</th>\n",
       "      <th>std</th>\n",
       "      <th>min</th>\n",
       "      <th>25%</th>\n",
       "      <th>50%</th>\n",
       "      <th>75%</th>\n",
       "      <th>max</th>\n",
       "    </tr>\n",
       "  </thead>\n",
       "  <tbody>\n",
       "    <tr>\n",
       "      <td>id</td>\n",
       "      <td>123036</td>\n",
       "      <td>123036</td>\n",
       "      <td>1430_67</td>\n",
       "      <td>1</td>\n",
       "      <td>NaN</td>\n",
       "      <td>NaN</td>\n",
       "      <td>NaN</td>\n",
       "      <td>NaN</td>\n",
       "      <td>NaN</td>\n",
       "      <td>NaN</td>\n",
       "      <td>NaN</td>\n",
       "    </tr>\n",
       "    <tr>\n",
       "      <td>message_date</td>\n",
       "      <td>123036</td>\n",
       "      <td>364</td>\n",
       "      <td>2018-12-31</td>\n",
       "      <td>859</td>\n",
       "      <td>NaN</td>\n",
       "      <td>NaN</td>\n",
       "      <td>NaN</td>\n",
       "      <td>NaN</td>\n",
       "      <td>NaN</td>\n",
       "      <td>NaN</td>\n",
       "      <td>NaN</td>\n",
       "    </tr>\n",
       "    <tr>\n",
       "      <td>user_id</td>\n",
       "      <td>123,036.00</td>\n",
       "      <td>NaN</td>\n",
       "      <td>NaN</td>\n",
       "      <td>NaN</td>\n",
       "      <td>1,256.99</td>\n",
       "      <td>143.52</td>\n",
       "      <td>1,000.00</td>\n",
       "      <td>1,134.00</td>\n",
       "      <td>1,271.00</td>\n",
       "      <td>1,381.00</td>\n",
       "      <td>1,499.00</td>\n",
       "    </tr>\n",
       "  </tbody>\n",
       "</table>\n",
       "</div>"
      ],
      "text/plain": [
       "                  count  unique         top freq     mean    std      min  \\\n",
       "id               123036  123036     1430_67    1      NaN    NaN      NaN   \n",
       "message_date     123036     364  2018-12-31  859      NaN    NaN      NaN   \n",
       "user_id      123,036.00     NaN         NaN  NaN 1,256.99 143.52 1,000.00   \n",
       "\n",
       "                  25%      50%      75%      max  \n",
       "id                NaN      NaN      NaN      NaN  \n",
       "message_date      NaN      NaN      NaN      NaN  \n",
       "user_id      1,134.00 1,271.00 1,381.00 1,499.00  "
      ]
     },
     "metadata": {},
     "output_type": "display_data"
    }
   ],
   "source": [
    "evaluate_df(messages)"
   ]
  },
  {
   "cell_type": "markdown",
   "id": "80781bbf",
   "metadata": {},
   "source": [
    "**Выводы**<br>\n",
    "- Все заполнены, пустых нет\n",
    "- message_date имеет текстовый тип, нужно преобразовать в date"
   ]
  },
  {
   "cell_type": "markdown",
   "id": "f494bd2c",
   "metadata": {},
   "source": [
    "<div class=\"alert alert-success\">\n",
    "<b>Комментарий ревьюера ✔️:</b> 👍</div>"
   ]
  },
  {
   "cell_type": "markdown",
   "id": "d590e3ff",
   "metadata": {},
   "source": [
    "### Изучение users.csv"
   ]
  },
  {
   "cell_type": "code",
   "execution_count": 8,
   "id": "50ff1678",
   "metadata": {},
   "outputs": [
    {
     "name": "stdout",
     "output_type": "stream",
     "text": [
      "\n",
      "------SAMPLE--------\n"
     ]
    },
    {
     "data": {
      "text/html": [
       "<div>\n",
       "<style scoped>\n",
       "    .dataframe tbody tr th:only-of-type {\n",
       "        vertical-align: middle;\n",
       "    }\n",
       "\n",
       "    .dataframe tbody tr th {\n",
       "        vertical-align: top;\n",
       "    }\n",
       "\n",
       "    .dataframe thead th {\n",
       "        text-align: right;\n",
       "    }\n",
       "</style>\n",
       "<table border=\"1\" class=\"dataframe\">\n",
       "  <thead>\n",
       "    <tr style=\"text-align: right;\">\n",
       "      <th></th>\n",
       "      <th>user_id</th>\n",
       "      <th>age</th>\n",
       "      <th>churn_date</th>\n",
       "      <th>city</th>\n",
       "      <th>first_name</th>\n",
       "      <th>last_name</th>\n",
       "      <th>reg_date</th>\n",
       "      <th>tariff</th>\n",
       "    </tr>\n",
       "  </thead>\n",
       "  <tbody>\n",
       "    <tr>\n",
       "      <td>84</td>\n",
       "      <td>1084</td>\n",
       "      <td>47</td>\n",
       "      <td>NaN</td>\n",
       "      <td>Саранск</td>\n",
       "      <td>Виолетта</td>\n",
       "      <td>Спиридонова</td>\n",
       "      <td>2018-12-13</td>\n",
       "      <td>ultra</td>\n",
       "    </tr>\n",
       "    <tr>\n",
       "      <td>36</td>\n",
       "      <td>1036</td>\n",
       "      <td>47</td>\n",
       "      <td>NaN</td>\n",
       "      <td>Санкт-Петербург</td>\n",
       "      <td>Анжелика</td>\n",
       "      <td>Андропова</td>\n",
       "      <td>2018-07-14</td>\n",
       "      <td>smart</td>\n",
       "    </tr>\n",
       "    <tr>\n",
       "      <td>445</td>\n",
       "      <td>1445</td>\n",
       "      <td>40</td>\n",
       "      <td>NaN</td>\n",
       "      <td>Москва</td>\n",
       "      <td>Рауль</td>\n",
       "      <td>Иванов</td>\n",
       "      <td>2018-12-29</td>\n",
       "      <td>smart</td>\n",
       "    </tr>\n",
       "    <tr>\n",
       "      <td>455</td>\n",
       "      <td>1455</td>\n",
       "      <td>38</td>\n",
       "      <td>NaN</td>\n",
       "      <td>Балашиха</td>\n",
       "      <td>Рубен</td>\n",
       "      <td>Авринский</td>\n",
       "      <td>2018-03-22</td>\n",
       "      <td>ultra</td>\n",
       "    </tr>\n",
       "    <tr>\n",
       "      <td>377</td>\n",
       "      <td>1377</td>\n",
       "      <td>59</td>\n",
       "      <td>NaN</td>\n",
       "      <td>Брянск</td>\n",
       "      <td>Альфред</td>\n",
       "      <td>Семин</td>\n",
       "      <td>2018-02-25</td>\n",
       "      <td>ultra</td>\n",
       "    </tr>\n",
       "  </tbody>\n",
       "</table>\n",
       "</div>"
      ],
      "text/plain": [
       "     user_id  age churn_date             city first_name    last_name  \\\n",
       "84      1084   47        NaN          Саранск   Виолетта  Спиридонова   \n",
       "36      1036   47        NaN  Санкт-Петербург   Анжелика    Андропова   \n",
       "445     1445   40        NaN           Москва      Рауль       Иванов   \n",
       "455     1455   38        NaN         Балашиха      Рубен    Авринский   \n",
       "377     1377   59        NaN           Брянск    Альфред        Семин   \n",
       "\n",
       "       reg_date tariff  \n",
       "84   2018-12-13  ultra  \n",
       "36   2018-07-14  smart  \n",
       "445  2018-12-29  smart  \n",
       "455  2018-03-22  ultra  \n",
       "377  2018-02-25  ultra  "
      ]
     },
     "metadata": {},
     "output_type": "display_data"
    },
    {
     "name": "stdout",
     "output_type": "stream",
     "text": [
      "\n",
      "------DTYPES--------\n",
      "user_id        int64\n",
      "age            int64\n",
      "churn_date    object\n",
      "city          object\n",
      "first_name    object\n",
      "last_name     object\n",
      "reg_date      object\n",
      "tariff        object\n",
      "dtype: object\n",
      "\n",
      "\n",
      "------NULL--------\n",
      "user_id         0\n",
      "age             0\n",
      "churn_date    462\n",
      "city            0\n",
      "first_name      0\n",
      "last_name       0\n",
      "reg_date        0\n",
      "tariff          0\n",
      "dtype: int64\n"
     ]
    },
    {
     "data": {
      "text/html": [
       "<div>\n",
       "<style scoped>\n",
       "    .dataframe tbody tr th:only-of-type {\n",
       "        vertical-align: middle;\n",
       "    }\n",
       "\n",
       "    .dataframe tbody tr th {\n",
       "        vertical-align: top;\n",
       "    }\n",
       "\n",
       "    .dataframe thead th {\n",
       "        text-align: right;\n",
       "    }\n",
       "</style>\n",
       "<table border=\"1\" class=\"dataframe\">\n",
       "  <thead>\n",
       "    <tr style=\"text-align: right;\">\n",
       "      <th></th>\n",
       "      <th>count</th>\n",
       "      <th>unique</th>\n",
       "      <th>top</th>\n",
       "      <th>freq</th>\n",
       "      <th>mean</th>\n",
       "      <th>std</th>\n",
       "      <th>min</th>\n",
       "      <th>25%</th>\n",
       "      <th>50%</th>\n",
       "      <th>75%</th>\n",
       "      <th>max</th>\n",
       "    </tr>\n",
       "  </thead>\n",
       "  <tbody>\n",
       "    <tr>\n",
       "      <td>user_id</td>\n",
       "      <td>500.00</td>\n",
       "      <td>NaN</td>\n",
       "      <td>NaN</td>\n",
       "      <td>NaN</td>\n",
       "      <td>1,249.50</td>\n",
       "      <td>144.48</td>\n",
       "      <td>1,000.00</td>\n",
       "      <td>1,124.75</td>\n",
       "      <td>1,249.50</td>\n",
       "      <td>1,374.25</td>\n",
       "      <td>1,499.00</td>\n",
       "    </tr>\n",
       "    <tr>\n",
       "      <td>age</td>\n",
       "      <td>500.00</td>\n",
       "      <td>NaN</td>\n",
       "      <td>NaN</td>\n",
       "      <td>NaN</td>\n",
       "      <td>46.59</td>\n",
       "      <td>16.67</td>\n",
       "      <td>18.00</td>\n",
       "      <td>32.00</td>\n",
       "      <td>46.00</td>\n",
       "      <td>62.00</td>\n",
       "      <td>75.00</td>\n",
       "    </tr>\n",
       "    <tr>\n",
       "      <td>churn_date</td>\n",
       "      <td>38</td>\n",
       "      <td>33</td>\n",
       "      <td>2018-10-03</td>\n",
       "      <td>2</td>\n",
       "      <td>NaN</td>\n",
       "      <td>NaN</td>\n",
       "      <td>NaN</td>\n",
       "      <td>NaN</td>\n",
       "      <td>NaN</td>\n",
       "      <td>NaN</td>\n",
       "      <td>NaN</td>\n",
       "    </tr>\n",
       "    <tr>\n",
       "      <td>city</td>\n",
       "      <td>500</td>\n",
       "      <td>76</td>\n",
       "      <td>Москва</td>\n",
       "      <td>99</td>\n",
       "      <td>NaN</td>\n",
       "      <td>NaN</td>\n",
       "      <td>NaN</td>\n",
       "      <td>NaN</td>\n",
       "      <td>NaN</td>\n",
       "      <td>NaN</td>\n",
       "      <td>NaN</td>\n",
       "    </tr>\n",
       "    <tr>\n",
       "      <td>first_name</td>\n",
       "      <td>500</td>\n",
       "      <td>246</td>\n",
       "      <td>Радим</td>\n",
       "      <td>6</td>\n",
       "      <td>NaN</td>\n",
       "      <td>NaN</td>\n",
       "      <td>NaN</td>\n",
       "      <td>NaN</td>\n",
       "      <td>NaN</td>\n",
       "      <td>NaN</td>\n",
       "      <td>NaN</td>\n",
       "    </tr>\n",
       "    <tr>\n",
       "      <td>last_name</td>\n",
       "      <td>500</td>\n",
       "      <td>419</td>\n",
       "      <td>Андреенко</td>\n",
       "      <td>5</td>\n",
       "      <td>NaN</td>\n",
       "      <td>NaN</td>\n",
       "      <td>NaN</td>\n",
       "      <td>NaN</td>\n",
       "      <td>NaN</td>\n",
       "      <td>NaN</td>\n",
       "      <td>NaN</td>\n",
       "    </tr>\n",
       "    <tr>\n",
       "      <td>reg_date</td>\n",
       "      <td>500</td>\n",
       "      <td>270</td>\n",
       "      <td>2018-05-28</td>\n",
       "      <td>8</td>\n",
       "      <td>NaN</td>\n",
       "      <td>NaN</td>\n",
       "      <td>NaN</td>\n",
       "      <td>NaN</td>\n",
       "      <td>NaN</td>\n",
       "      <td>NaN</td>\n",
       "      <td>NaN</td>\n",
       "    </tr>\n",
       "    <tr>\n",
       "      <td>tariff</td>\n",
       "      <td>500</td>\n",
       "      <td>2</td>\n",
       "      <td>smart</td>\n",
       "      <td>351</td>\n",
       "      <td>NaN</td>\n",
       "      <td>NaN</td>\n",
       "      <td>NaN</td>\n",
       "      <td>NaN</td>\n",
       "      <td>NaN</td>\n",
       "      <td>NaN</td>\n",
       "      <td>NaN</td>\n",
       "    </tr>\n",
       "  </tbody>\n",
       "</table>\n",
       "</div>"
      ],
      "text/plain": [
       "            count unique         top freq     mean    std      min      25%  \\\n",
       "user_id    500.00    NaN         NaN  NaN 1,249.50 144.48 1,000.00 1,124.75   \n",
       "age        500.00    NaN         NaN  NaN    46.59  16.67    18.00    32.00   \n",
       "churn_date     38     33  2018-10-03    2      NaN    NaN      NaN      NaN   \n",
       "city          500     76      Москва   99      NaN    NaN      NaN      NaN   \n",
       "first_name    500    246       Радим    6      NaN    NaN      NaN      NaN   \n",
       "last_name     500    419   Андреенко    5      NaN    NaN      NaN      NaN   \n",
       "reg_date      500    270  2018-05-28    8      NaN    NaN      NaN      NaN   \n",
       "tariff        500      2       smart  351      NaN    NaN      NaN      NaN   \n",
       "\n",
       "                50%      75%      max  \n",
       "user_id    1,249.50 1,374.25 1,499.00  \n",
       "age           46.00    62.00    75.00  \n",
       "churn_date      NaN      NaN      NaN  \n",
       "city            NaN      NaN      NaN  \n",
       "first_name      NaN      NaN      NaN  \n",
       "last_name       NaN      NaN      NaN  \n",
       "reg_date        NaN      NaN      NaN  \n",
       "tariff          NaN      NaN      NaN  "
      ]
     },
     "metadata": {},
     "output_type": "display_data"
    }
   ],
   "source": [
    "evaluate_df(users) "
   ]
  },
  {
   "cell_type": "code",
   "execution_count": 9,
   "id": "12ffa7ba",
   "metadata": {},
   "outputs": [
    {
     "data": {
      "text/plain": [
       "array(['Архангельск', 'Астрахань', 'Балашиха', 'Барнаул', 'Белгород',\n",
       "       'Брянск', 'Владивосток', 'Владикавказ', 'Владимир', 'Волгоград',\n",
       "       'Волжский', 'Вологда', 'Воронеж', 'Грозный', 'Екатеринбург',\n",
       "       'Иваново', 'Ижевск', 'Иркутск', 'Казань', 'Калининград', 'Калуга',\n",
       "       'Кемерово', 'Киров', 'Кострома', 'Краснодар', 'Красноярск',\n",
       "       'Курган', 'Курск', 'Липецк', 'Магнитогорск', 'Махачкала', 'Москва',\n",
       "       'Мурманск', 'Набережные Челны', 'Нижневартовск', 'Нижний Новгород',\n",
       "       'Нижний Тагил', 'Новокузнецк', 'Новороссийск', 'Новосибирск',\n",
       "       'Омск', 'Оренбург', 'Орёл', 'Пенза', 'Пермь', 'Петрозаводск',\n",
       "       'Подольск', 'Ростов-на-Дону', 'Рязань', 'Самара',\n",
       "       'Санкт-Петербург', 'Саранск', 'Саратов', 'Севастополь', 'Смоленск',\n",
       "       'Сочи', 'Ставрополь', 'Стерлитамак', 'Сургут', 'Тамбов', 'Тверь',\n",
       "       'Тольятти', 'Томск', 'Тула', 'Тюмень', 'Улан-Удэ', 'Ульяновск',\n",
       "       'Уфа', 'Хабаровск', 'Химки', 'Чебоксары', 'Челябинск', 'Череповец',\n",
       "       'Чита', 'Якутск', 'Ярославль'], dtype=object)"
      ]
     },
     "execution_count": 9,
     "metadata": {},
     "output_type": "execute_result"
    }
   ],
   "source": [
    "users['city'].sort_values().unique()"
   ]
  },
  {
   "cell_type": "code",
   "execution_count": 10,
   "id": "d1c6a70f",
   "metadata": {},
   "outputs": [
    {
     "data": {
      "text/html": [
       "<div>\n",
       "<style scoped>\n",
       "    .dataframe tbody tr th:only-of-type {\n",
       "        vertical-align: middle;\n",
       "    }\n",
       "\n",
       "    .dataframe tbody tr th {\n",
       "        vertical-align: top;\n",
       "    }\n",
       "\n",
       "    .dataframe thead th {\n",
       "        text-align: right;\n",
       "    }\n",
       "</style>\n",
       "<table border=\"1\" class=\"dataframe\">\n",
       "  <thead>\n",
       "    <tr style=\"text-align: right;\">\n",
       "      <th></th>\n",
       "      <th>user_id</th>\n",
       "      <th>age</th>\n",
       "      <th>churn_date</th>\n",
       "      <th>city</th>\n",
       "      <th>first_name</th>\n",
       "      <th>last_name</th>\n",
       "      <th>reg_date</th>\n",
       "      <th>tariff</th>\n",
       "    </tr>\n",
       "  </thead>\n",
       "  <tbody>\n",
       "  </tbody>\n",
       "</table>\n",
       "</div>"
      ],
      "text/plain": [
       "Empty DataFrame\n",
       "Columns: [user_id, age, churn_date, city, first_name, last_name, reg_date, tariff]\n",
       "Index: []"
      ]
     },
     "execution_count": 10,
     "metadata": {},
     "output_type": "execute_result"
    }
   ],
   "source": [
    "list_churn_uid = users.query('churn_date==churn_date')['user_id']\n",
    "users.query('user_id in @list_churn_uid and churn_date != churn_date').head(30)"
   ]
  },
  {
   "cell_type": "markdown",
   "id": "1c37d30c",
   "metadata": {},
   "source": [
    "**Выводы**<br>\n",
    "- Все заполнены, пустых нет\n",
    "- тарифов всего два\n",
    "- reg_date имеет текстовый тип, нужно преобразовать в date\n",
    "- churn_date имеет текстовый тип, нужно преобразовать в date\n",
    "- churn_date имеет 38 заполненных  462 пустых. Из описания это нормально, если пропуск. Поле в дальнейшем не используется. Заполнять пропуск не надо\n",
    "- пользователи, которые завершили обслуживание не продолжали обслуживаться далее на другом тарифе\n",
    "- кроме churn_date остальные полностью заполнены\n",
    "- дубликатов в названии города нет"
   ]
  },
  {
   "cell_type": "markdown",
   "id": "0c0528a3",
   "metadata": {},
   "source": [
    "<div class=\"alert alert-success\">\n",
    "<b>Комментарий ревьюера ✔️:</b> Хорошо\n",
    "\n",
    "- пропуски в `churn_date` означают, что клиент все еще пользуется тарифом   \n",
    "- здорово, что проверил нет ли дубликатов в названии городов (не видела, чтобы кто-то еще проверял, хотя это, действительно, важно)\n",
    "\n",
    "    \n",
    "</div>"
   ]
  },
  {
   "cell_type": "markdown",
   "id": "56138284",
   "metadata": {},
   "source": [
    "### Изучение tariffs.csv"
   ]
  },
  {
   "cell_type": "code",
   "execution_count": 11,
   "id": "a61975b9",
   "metadata": {},
   "outputs": [
    {
     "name": "stdout",
     "output_type": "stream",
     "text": [
      "\n",
      "------SAMPLE--------\n"
     ]
    },
    {
     "data": {
      "text/html": [
       "<div>\n",
       "<style scoped>\n",
       "    .dataframe tbody tr th:only-of-type {\n",
       "        vertical-align: middle;\n",
       "    }\n",
       "\n",
       "    .dataframe tbody tr th {\n",
       "        vertical-align: top;\n",
       "    }\n",
       "\n",
       "    .dataframe thead th {\n",
       "        text-align: right;\n",
       "    }\n",
       "</style>\n",
       "<table border=\"1\" class=\"dataframe\">\n",
       "  <thead>\n",
       "    <tr style=\"text-align: right;\">\n",
       "      <th></th>\n",
       "      <th>messages_included</th>\n",
       "      <th>mb_per_month_included</th>\n",
       "      <th>minutes_included</th>\n",
       "      <th>rub_monthly_fee</th>\n",
       "      <th>rub_per_gb</th>\n",
       "      <th>rub_per_message</th>\n",
       "      <th>rub_per_minute</th>\n",
       "      <th>tariff_name</th>\n",
       "    </tr>\n",
       "  </thead>\n",
       "  <tbody>\n",
       "    <tr>\n",
       "      <td>1</td>\n",
       "      <td>1000</td>\n",
       "      <td>30720</td>\n",
       "      <td>3000</td>\n",
       "      <td>1950</td>\n",
       "      <td>150</td>\n",
       "      <td>1</td>\n",
       "      <td>1</td>\n",
       "      <td>ultra</td>\n",
       "    </tr>\n",
       "    <tr>\n",
       "      <td>0</td>\n",
       "      <td>50</td>\n",
       "      <td>15360</td>\n",
       "      <td>500</td>\n",
       "      <td>550</td>\n",
       "      <td>200</td>\n",
       "      <td>3</td>\n",
       "      <td>3</td>\n",
       "      <td>smart</td>\n",
       "    </tr>\n",
       "  </tbody>\n",
       "</table>\n",
       "</div>"
      ],
      "text/plain": [
       "   messages_included  mb_per_month_included  minutes_included  \\\n",
       "1               1000                  30720              3000   \n",
       "0                 50                  15360               500   \n",
       "\n",
       "   rub_monthly_fee  rub_per_gb  rub_per_message  rub_per_minute tariff_name  \n",
       "1             1950         150                1               1       ultra  \n",
       "0              550         200                3               3       smart  "
      ]
     },
     "metadata": {},
     "output_type": "display_data"
    },
    {
     "name": "stdout",
     "output_type": "stream",
     "text": [
      "\n",
      "------DTYPES--------\n",
      "messages_included         int64\n",
      "mb_per_month_included     int64\n",
      "minutes_included          int64\n",
      "rub_monthly_fee           int64\n",
      "rub_per_gb                int64\n",
      "rub_per_message           int64\n",
      "rub_per_minute            int64\n",
      "tariff_name              object\n",
      "dtype: object\n",
      "\n",
      "\n",
      "------NULL--------\n",
      "messages_included        0\n",
      "mb_per_month_included    0\n",
      "minutes_included         0\n",
      "rub_monthly_fee          0\n",
      "rub_per_gb               0\n",
      "rub_per_message          0\n",
      "rub_per_minute           0\n",
      "tariff_name              0\n",
      "dtype: int64\n"
     ]
    },
    {
     "data": {
      "text/html": [
       "<div>\n",
       "<style scoped>\n",
       "    .dataframe tbody tr th:only-of-type {\n",
       "        vertical-align: middle;\n",
       "    }\n",
       "\n",
       "    .dataframe tbody tr th {\n",
       "        vertical-align: top;\n",
       "    }\n",
       "\n",
       "    .dataframe thead th {\n",
       "        text-align: right;\n",
       "    }\n",
       "</style>\n",
       "<table border=\"1\" class=\"dataframe\">\n",
       "  <thead>\n",
       "    <tr style=\"text-align: right;\">\n",
       "      <th></th>\n",
       "      <th>count</th>\n",
       "      <th>unique</th>\n",
       "      <th>top</th>\n",
       "      <th>freq</th>\n",
       "      <th>mean</th>\n",
       "      <th>std</th>\n",
       "      <th>min</th>\n",
       "      <th>25%</th>\n",
       "      <th>50%</th>\n",
       "      <th>75%</th>\n",
       "      <th>max</th>\n",
       "    </tr>\n",
       "  </thead>\n",
       "  <tbody>\n",
       "    <tr>\n",
       "      <td>messages_included</td>\n",
       "      <td>2.00</td>\n",
       "      <td>NaN</td>\n",
       "      <td>NaN</td>\n",
       "      <td>NaN</td>\n",
       "      <td>525.00</td>\n",
       "      <td>671.75</td>\n",
       "      <td>50.00</td>\n",
       "      <td>287.50</td>\n",
       "      <td>525.00</td>\n",
       "      <td>762.50</td>\n",
       "      <td>1,000.00</td>\n",
       "    </tr>\n",
       "    <tr>\n",
       "      <td>mb_per_month_included</td>\n",
       "      <td>2.00</td>\n",
       "      <td>NaN</td>\n",
       "      <td>NaN</td>\n",
       "      <td>NaN</td>\n",
       "      <td>23,040.00</td>\n",
       "      <td>10,861.16</td>\n",
       "      <td>15,360.00</td>\n",
       "      <td>19,200.00</td>\n",
       "      <td>23,040.00</td>\n",
       "      <td>26,880.00</td>\n",
       "      <td>30,720.00</td>\n",
       "    </tr>\n",
       "    <tr>\n",
       "      <td>minutes_included</td>\n",
       "      <td>2.00</td>\n",
       "      <td>NaN</td>\n",
       "      <td>NaN</td>\n",
       "      <td>NaN</td>\n",
       "      <td>1,750.00</td>\n",
       "      <td>1,767.77</td>\n",
       "      <td>500.00</td>\n",
       "      <td>1,125.00</td>\n",
       "      <td>1,750.00</td>\n",
       "      <td>2,375.00</td>\n",
       "      <td>3,000.00</td>\n",
       "    </tr>\n",
       "    <tr>\n",
       "      <td>rub_monthly_fee</td>\n",
       "      <td>2.00</td>\n",
       "      <td>NaN</td>\n",
       "      <td>NaN</td>\n",
       "      <td>NaN</td>\n",
       "      <td>1,250.00</td>\n",
       "      <td>989.95</td>\n",
       "      <td>550.00</td>\n",
       "      <td>900.00</td>\n",
       "      <td>1,250.00</td>\n",
       "      <td>1,600.00</td>\n",
       "      <td>1,950.00</td>\n",
       "    </tr>\n",
       "    <tr>\n",
       "      <td>rub_per_gb</td>\n",
       "      <td>2.00</td>\n",
       "      <td>NaN</td>\n",
       "      <td>NaN</td>\n",
       "      <td>NaN</td>\n",
       "      <td>175.00</td>\n",
       "      <td>35.36</td>\n",
       "      <td>150.00</td>\n",
       "      <td>162.50</td>\n",
       "      <td>175.00</td>\n",
       "      <td>187.50</td>\n",
       "      <td>200.00</td>\n",
       "    </tr>\n",
       "    <tr>\n",
       "      <td>rub_per_message</td>\n",
       "      <td>2.00</td>\n",
       "      <td>NaN</td>\n",
       "      <td>NaN</td>\n",
       "      <td>NaN</td>\n",
       "      <td>2.00</td>\n",
       "      <td>1.41</td>\n",
       "      <td>1.00</td>\n",
       "      <td>1.50</td>\n",
       "      <td>2.00</td>\n",
       "      <td>2.50</td>\n",
       "      <td>3.00</td>\n",
       "    </tr>\n",
       "    <tr>\n",
       "      <td>rub_per_minute</td>\n",
       "      <td>2.00</td>\n",
       "      <td>NaN</td>\n",
       "      <td>NaN</td>\n",
       "      <td>NaN</td>\n",
       "      <td>2.00</td>\n",
       "      <td>1.41</td>\n",
       "      <td>1.00</td>\n",
       "      <td>1.50</td>\n",
       "      <td>2.00</td>\n",
       "      <td>2.50</td>\n",
       "      <td>3.00</td>\n",
       "    </tr>\n",
       "    <tr>\n",
       "      <td>tariff_name</td>\n",
       "      <td>2</td>\n",
       "      <td>2</td>\n",
       "      <td>smart</td>\n",
       "      <td>1</td>\n",
       "      <td>NaN</td>\n",
       "      <td>NaN</td>\n",
       "      <td>NaN</td>\n",
       "      <td>NaN</td>\n",
       "      <td>NaN</td>\n",
       "      <td>NaN</td>\n",
       "      <td>NaN</td>\n",
       "    </tr>\n",
       "  </tbody>\n",
       "</table>\n",
       "</div>"
      ],
      "text/plain": [
       "                      count unique    top freq      mean       std       min  \\\n",
       "messages_included      2.00    NaN    NaN  NaN    525.00    671.75     50.00   \n",
       "mb_per_month_included  2.00    NaN    NaN  NaN 23,040.00 10,861.16 15,360.00   \n",
       "minutes_included       2.00    NaN    NaN  NaN  1,750.00  1,767.77    500.00   \n",
       "rub_monthly_fee        2.00    NaN    NaN  NaN  1,250.00    989.95    550.00   \n",
       "rub_per_gb             2.00    NaN    NaN  NaN    175.00     35.36    150.00   \n",
       "rub_per_message        2.00    NaN    NaN  NaN      2.00      1.41      1.00   \n",
       "rub_per_minute         2.00    NaN    NaN  NaN      2.00      1.41      1.00   \n",
       "tariff_name               2      2  smart    1       NaN       NaN       NaN   \n",
       "\n",
       "                            25%       50%       75%       max  \n",
       "messages_included        287.50    525.00    762.50  1,000.00  \n",
       "mb_per_month_included 19,200.00 23,040.00 26,880.00 30,720.00  \n",
       "minutes_included       1,125.00  1,750.00  2,375.00  3,000.00  \n",
       "rub_monthly_fee          900.00  1,250.00  1,600.00  1,950.00  \n",
       "rub_per_gb               162.50    175.00    187.50    200.00  \n",
       "rub_per_message            1.50      2.00      2.50      3.00  \n",
       "rub_per_minute             1.50      2.00      2.50      3.00  \n",
       "tariff_name                 NaN       NaN       NaN       NaN  "
      ]
     },
     "metadata": {},
     "output_type": "display_data"
    }
   ],
   "source": [
    "evaluate_df(tariffs)"
   ]
  },
  {
   "cell_type": "markdown",
   "id": "8cb3f3f1",
   "metadata": {},
   "source": [
    "**Выводы**<br>\n",
    "- Данные заполнены корректно\n",
    "- rub_per_gb, rub_per_message, rub_per_minute преобразовать в float т.к. стоимость не обязана быть целой"
   ]
  },
  {
   "cell_type": "markdown",
   "id": "bf8ae8c9",
   "metadata": {},
   "source": [
    "<div class=\"alert alert-warning\">\n",
    "<b>Комментарий ревьюера ⚠️:</b> Да, согласна, если говорить о стоимости как о величине, то она не обязана быть целой. \n",
    "    \n",
    "Однако тут это константы, которые задают тариф. Эти значения — целые, поэтому считаю, что не стоит преобразовывать их в `float`. К тому же, операции с `int` на машинном уровне проще операций с `float`</div>"
   ]
  },
  {
   "cell_type": "markdown",
   "id": "8a974309",
   "metadata": {},
   "source": [
    "<div class=\"alert alert-info\">\n",
    "<b>Комментарий студента:</b> \n",
    "    \n",
    "Я рассуждал еще и с позиции чтения таблиц. Когда значения целые, например 300, они не воспринимаются как денежные, а когда `float` 300.00 это уже деньги явно. В целом, полагаю, что в данном случае, это скорее вопрос вкуса. Кроме того, у `int` нет глюков типа 299,99999999999, что приятно :)\n",
    "\n",
    "</div>"
   ]
  },
  {
   "cell_type": "markdown",
   "id": "7f217713",
   "metadata": {},
   "source": [
    "<div class=\"alert alert-success\"> \n",
    "<div style=\"border:solid white 3px; padding: 10px\">\n",
    "<b> Комментарий ревьюера v2 ✔️: </b> Да, согласна, что это больше дело вкуса : )\n"
   ]
  },
  {
   "cell_type": "markdown",
   "id": "050c0d1c",
   "metadata": {},
   "source": [
    "# Подготовка данных"
   ]
  },
  {
   "cell_type": "markdown",
   "id": "d04c19c7",
   "metadata": {},
   "source": [
    "## Приведение типов и исправление ошибок"
   ]
  },
  {
   "cell_type": "code",
   "execution_count": 12,
   "id": "d548290b",
   "metadata": {},
   "outputs": [],
   "source": [
    "# преобразуем типы\n",
    "# строки в даты\n",
    "calls['call_date'] = pd.to_datetime(calls['call_date'], format='%Y-%m-%d')\n",
    "internet['session_date'] = pd.to_datetime(internet['session_date'], format='%Y-%m-%d')\n",
    "messages['message_date'] = pd.to_datetime(messages['message_date'], format='%Y-%m-%d')\n",
    "users['reg_date'] = pd.to_datetime(users['reg_date'], format='%Y-%m-%d')\n",
    "users['churn_date'] = pd.to_datetime(users['churn_date'], format='%Y-%m-%d')\n",
    "\n",
    "# \n",
    "tariffs['rub_per_gb'] = tariffs['rub_per_gb'].astype('float')\n",
    "tariffs['rub_per_message'] = tariffs['rub_per_message'].astype('float')\n",
    "tariffs['rub_per_minute'] = tariffs['rub_per_minute'].astype('float')"
   ]
  },
  {
   "cell_type": "markdown",
   "id": "f5734af5",
   "metadata": {},
   "source": [
    "<div class=\"alert alert-success\">\n",
    "<b>Комментарий ревьюера ✔️:</b> \n",
    "\n",
    "Правильно, что переводишь даты из объектного типа в тип ```datetime64```.\n",
    "</div>"
   ]
  },
  {
   "cell_type": "code",
   "execution_count": 13,
   "id": "6de44d29",
   "metadata": {},
   "outputs": [],
   "source": [
    "# удалим столбец, дублирующий индекс\n",
    "internet = internet.drop(['Unnamed: 0'], axis=1)"
   ]
  },
  {
   "cell_type": "markdown",
   "id": "86c7781a",
   "metadata": {},
   "source": [
    "<div class=\"alert alert-success\">\n",
    "<b>Комментарий ревьюера ✔️:</b> Хорошо.\n",
    "</div>"
   ]
  },
  {
   "cell_type": "markdown",
   "id": "ddfd6be1",
   "metadata": {},
   "source": [
    "## Расчеты дополнительных полей"
   ]
  },
  {
   "cell_type": "markdown",
   "id": "c648203b",
   "metadata": {},
   "source": [
    "Так как время каждого звонка округляется до минут, то"
   ]
  },
  {
   "cell_type": "code",
   "execution_count": 14,
   "id": "6ba0120f",
   "metadata": {},
   "outputs": [],
   "source": [
    "# добавляем столбец с числом минут\n",
    "#calls['duration_minutes'] = calls['duration'].apply(np.ceil).astype('int')\n",
    "# исправил\n",
    "calls['duration_minutes'] = np.ceil(calls['duration']).astype('int')\n"
   ]
  },
  {
   "cell_type": "markdown",
   "id": "9762fd32",
   "metadata": {},
   "source": [
    "<div class=\"alert alert-warning\">\n",
    "<b>Комментарий ревьюера ⚠️:</b> \n",
    "    \n",
    "Округляешь правильно, но не оптимально: ```np.ceil``` не нуждается в ```apply```, т.к. может работать сразу со всем столбцом.</div>"
   ]
  },
  {
   "cell_type": "markdown",
   "id": "7e80b495",
   "metadata": {},
   "source": [
    "<div class=\"alert alert-info\">\n",
    "<b>Комментарий студента:</b> Спасибо за комментарий. В курсе ЯндексПрактикума по np.ceil вообе не сталкивались, я нагуглил что есть такая функция. применил, сработала и пошел дельше к тестированию гипотез. А вот в документацию и примеры не полез смотреть. Оказалось зря. Спасибо!\n",
    "\n",
    "</div>"
   ]
  },
  {
   "cell_type": "markdown",
   "id": "b02c9f28",
   "metadata": {},
   "source": [
    "<div class=\"alert alert-success\"> \n",
    "<div style=\"border:solid white 3px; padding: 10px\">\n",
    "<b> Комментарий ревьюера v2 ✔️: </b> Я разделяю такой подход, ведь времени далеко не всегда хватает, чтобы очень внимательно читать документацию. Важно то, что ты нашел, как реализовать округление, и применил найденную функцию правильно 🙂\n"
   ]
  },
  {
   "cell_type": "markdown",
   "id": "12579e6b",
   "metadata": {},
   "source": [
    "Нам потребуются столбцы с месяцем для группировки по месяцам и объединения в одну таблицу. Делаем их с одним названием в разных фреймах"
   ]
  },
  {
   "cell_type": "code",
   "execution_count": 15,
   "id": "a3a712dd",
   "metadata": {},
   "outputs": [],
   "source": [
    "# добавляем столбец с месяцем в виде \"2018-05\"\n",
    "calls['date_month'] = calls['call_date'].dt.strftime('%Y-%m')\n",
    "internet['date_month'] = internet['session_date'].dt.strftime('%Y-%m')\n",
    "messages['date_month'] = messages['message_date'].dt.strftime('%Y-%m')\n"
   ]
  },
  {
   "cell_type": "markdown",
   "id": "eb823bb9",
   "metadata": {},
   "source": [
    "<div class=\"alert alert-success\">\n",
    "<b>Комментарий ревьюера ✔️:</b> Отлично!\n",
    "    \n",
    "Да, действительно, обычно в датафрейме содержатся данные нескольких лет - и тогда, чтобы отличать, например, июнь 2019 и июнь 2020, важно сохранять не тольцо месяц, но и год.\n",
    "</div>"
   ]
  },
  {
   "cell_type": "code",
   "execution_count": 16,
   "id": "ec190870",
   "metadata": {},
   "outputs": [],
   "source": [
    "# словарь фреймов для автоматизации\n",
    "df_dict={\n",
    "    'calls': calls,\n",
    "    'internet': internet,\n",
    "    'messages': messages,\n",
    "    'users': users,\n",
    "    'tariffs': tariffs\n",
    "}"
   ]
  },
  {
   "cell_type": "markdown",
   "id": "ae64c4df",
   "metadata": {},
   "source": [
    "<div class=\"alert alert-success\">\n",
    "<b>Комментарий ревьюера ✔️:</b> Разумное решение создать словарь!\n",
    "</div>"
   ]
  },
  {
   "cell_type": "markdown",
   "id": "4f3baeb2",
   "metadata": {},
   "source": [
    "## Проверка исправленных типов и наличия дубликатов"
   ]
  },
  {
   "cell_type": "code",
   "execution_count": 17,
   "id": "72914939",
   "metadata": {},
   "outputs": [
    {
     "name": "stdout",
     "output_type": "stream",
     "text": [
      "-----  calls  --------\n",
      "id                          object\n",
      "call_date           datetime64[ns]\n",
      "duration                   float64\n",
      "user_id                      int64\n",
      "duration_minutes             int64\n",
      "date_month                  object\n",
      "dtype: object\n",
      "\n",
      "\n",
      "-----  internet  --------\n",
      "id                      object\n",
      "mb_used                float64\n",
      "session_date    datetime64[ns]\n",
      "user_id                  int64\n",
      "date_month              object\n",
      "dtype: object\n",
      "\n",
      "\n",
      "-----  messages  --------\n",
      "id                      object\n",
      "message_date    datetime64[ns]\n",
      "user_id                  int64\n",
      "date_month              object\n",
      "dtype: object\n",
      "\n",
      "\n",
      "-----  users  --------\n",
      "user_id                int64\n",
      "age                    int64\n",
      "churn_date    datetime64[ns]\n",
      "city                  object\n",
      "first_name            object\n",
      "last_name             object\n",
      "reg_date      datetime64[ns]\n",
      "tariff                object\n",
      "dtype: object\n",
      "\n",
      "\n",
      "-----  tariffs  --------\n",
      "messages_included          int64\n",
      "mb_per_month_included      int64\n",
      "minutes_included           int64\n",
      "rub_monthly_fee            int64\n",
      "rub_per_gb               float64\n",
      "rub_per_message          float64\n",
      "rub_per_minute           float64\n",
      "tariff_name               object\n",
      "dtype: object\n",
      "\n",
      "\n"
     ]
    }
   ],
   "source": [
    "# выводим все столбцы всех датафреймов и их типы\n",
    "for name, frame in df_dict.items():\n",
    "    print('-----  ' + name + '  --------', frame.dtypes,'\\n', sep='\\n')"
   ]
  },
  {
   "cell_type": "markdown",
   "id": "6faab272",
   "metadata": {},
   "source": [
    "Все хорошо, типы правильные теперь, пропуски проанализировали\n",
    "\n",
    "Посмотрим дубликаты еще"
   ]
  },
  {
   "cell_type": "code",
   "execution_count": 18,
   "id": "f921f18d",
   "metadata": {},
   "outputs": [
    {
     "name": "stdout",
     "output_type": "stream",
     "text": [
      "-----  calls  --------\n",
      "0\n",
      "\n",
      "\n",
      "-----  internet  --------\n",
      "0\n",
      "\n",
      "\n",
      "-----  messages  --------\n",
      "0\n",
      "\n",
      "\n",
      "-----  users  --------\n",
      "0\n",
      "\n",
      "\n",
      "-----  tariffs  --------\n",
      "0\n",
      "\n",
      "\n"
     ]
    }
   ],
   "source": [
    "# проверка дубликатов\n",
    "for name, frame in df_dict.items():\n",
    "    print('-----  ' + name + '  --------', frame.duplicated().sum(),'\\n', sep='\\n')"
   ]
  },
  {
   "cell_type": "markdown",
   "id": "8808ee9f",
   "metadata": {},
   "source": [
    "Дублей нет"
   ]
  },
  {
   "cell_type": "markdown",
   "id": "30986399",
   "metadata": {},
   "source": [
    "<div class=\"alert alert-success\">\n",
    "<b>Комментарий ревьюера ✔️:</b> Правильно, что проводишь проверку, круто оформляешь вывод 👍\n",
    "</div>"
   ]
  },
  {
   "cell_type": "markdown",
   "id": "a6462f89",
   "metadata": {},
   "source": [
    "## Анализ пользователей"
   ]
  },
  {
   "cell_type": "code",
   "execution_count": 19,
   "id": "b2ecf05c",
   "metadata": {},
   "outputs": [
    {
     "data": {
      "text/html": [
       "<div>\n",
       "<style scoped>\n",
       "    .dataframe tbody tr th:only-of-type {\n",
       "        vertical-align: middle;\n",
       "    }\n",
       "\n",
       "    .dataframe tbody tr th {\n",
       "        vertical-align: top;\n",
       "    }\n",
       "\n",
       "    .dataframe thead th {\n",
       "        text-align: right;\n",
       "    }\n",
       "</style>\n",
       "<table border=\"1\" class=\"dataframe\">\n",
       "  <thead>\n",
       "    <tr style=\"text-align: right;\">\n",
       "      <th></th>\n",
       "      <th>user_id</th>\n",
       "      <th>date_month</th>\n",
       "      <th>calls_minutes</th>\n",
       "      <th>calls_count</th>\n",
       "      <th>mb_used</th>\n",
       "      <th>messages_count</th>\n",
       "      <th>age</th>\n",
       "      <th>churn_date</th>\n",
       "      <th>city</th>\n",
       "      <th>first_name</th>\n",
       "      <th>last_name</th>\n",
       "      <th>reg_date</th>\n",
       "      <th>tariff</th>\n",
       "      <th>messages_included</th>\n",
       "      <th>mb_per_month_included</th>\n",
       "      <th>minutes_included</th>\n",
       "      <th>rub_monthly_fee</th>\n",
       "      <th>rub_per_gb</th>\n",
       "      <th>rub_per_message</th>\n",
       "      <th>rub_per_minute</th>\n",
       "      <th>tariff_name</th>\n",
       "    </tr>\n",
       "  </thead>\n",
       "  <tbody>\n",
       "    <tr>\n",
       "      <td>0</td>\n",
       "      <td>1000</td>\n",
       "      <td>2018-05</td>\n",
       "      <td>159.00</td>\n",
       "      <td>22.00</td>\n",
       "      <td>2,253.49</td>\n",
       "      <td>22.00</td>\n",
       "      <td>52</td>\n",
       "      <td>NaT</td>\n",
       "      <td>Краснодар</td>\n",
       "      <td>Рафаил</td>\n",
       "      <td>Верещагин</td>\n",
       "      <td>2018-05-25</td>\n",
       "      <td>ultra</td>\n",
       "      <td>1000</td>\n",
       "      <td>30720</td>\n",
       "      <td>3000</td>\n",
       "      <td>1950</td>\n",
       "      <td>150.00</td>\n",
       "      <td>1.00</td>\n",
       "      <td>1.00</td>\n",
       "      <td>ultra</td>\n",
       "    </tr>\n",
       "    <tr>\n",
       "      <td>1</td>\n",
       "      <td>1000</td>\n",
       "      <td>2018-06</td>\n",
       "      <td>172.00</td>\n",
       "      <td>43.00</td>\n",
       "      <td>23,233.77</td>\n",
       "      <td>60.00</td>\n",
       "      <td>52</td>\n",
       "      <td>NaT</td>\n",
       "      <td>Краснодар</td>\n",
       "      <td>Рафаил</td>\n",
       "      <td>Верещагин</td>\n",
       "      <td>2018-05-25</td>\n",
       "      <td>ultra</td>\n",
       "      <td>1000</td>\n",
       "      <td>30720</td>\n",
       "      <td>3000</td>\n",
       "      <td>1950</td>\n",
       "      <td>150.00</td>\n",
       "      <td>1.00</td>\n",
       "      <td>1.00</td>\n",
       "      <td>ultra</td>\n",
       "    </tr>\n",
       "    <tr>\n",
       "      <td>2</td>\n",
       "      <td>1000</td>\n",
       "      <td>2018-07</td>\n",
       "      <td>340.00</td>\n",
       "      <td>47.00</td>\n",
       "      <td>14,003.64</td>\n",
       "      <td>75.00</td>\n",
       "      <td>52</td>\n",
       "      <td>NaT</td>\n",
       "      <td>Краснодар</td>\n",
       "      <td>Рафаил</td>\n",
       "      <td>Верещагин</td>\n",
       "      <td>2018-05-25</td>\n",
       "      <td>ultra</td>\n",
       "      <td>1000</td>\n",
       "      <td>30720</td>\n",
       "      <td>3000</td>\n",
       "      <td>1950</td>\n",
       "      <td>150.00</td>\n",
       "      <td>1.00</td>\n",
       "      <td>1.00</td>\n",
       "      <td>ultra</td>\n",
       "    </tr>\n",
       "    <tr>\n",
       "      <td>3</td>\n",
       "      <td>1000</td>\n",
       "      <td>2018-08</td>\n",
       "      <td>408.00</td>\n",
       "      <td>52.00</td>\n",
       "      <td>14,055.93</td>\n",
       "      <td>81.00</td>\n",
       "      <td>52</td>\n",
       "      <td>NaT</td>\n",
       "      <td>Краснодар</td>\n",
       "      <td>Рафаил</td>\n",
       "      <td>Верещагин</td>\n",
       "      <td>2018-05-25</td>\n",
       "      <td>ultra</td>\n",
       "      <td>1000</td>\n",
       "      <td>30720</td>\n",
       "      <td>3000</td>\n",
       "      <td>1950</td>\n",
       "      <td>150.00</td>\n",
       "      <td>1.00</td>\n",
       "      <td>1.00</td>\n",
       "      <td>ultra</td>\n",
       "    </tr>\n",
       "    <tr>\n",
       "      <td>4</td>\n",
       "      <td>1000</td>\n",
       "      <td>2018-09</td>\n",
       "      <td>466.00</td>\n",
       "      <td>58.00</td>\n",
       "      <td>14,568.91</td>\n",
       "      <td>57.00</td>\n",
       "      <td>52</td>\n",
       "      <td>NaT</td>\n",
       "      <td>Краснодар</td>\n",
       "      <td>Рафаил</td>\n",
       "      <td>Верещагин</td>\n",
       "      <td>2018-05-25</td>\n",
       "      <td>ultra</td>\n",
       "      <td>1000</td>\n",
       "      <td>30720</td>\n",
       "      <td>3000</td>\n",
       "      <td>1950</td>\n",
       "      <td>150.00</td>\n",
       "      <td>1.00</td>\n",
       "      <td>1.00</td>\n",
       "      <td>ultra</td>\n",
       "    </tr>\n",
       "    <tr>\n",
       "      <td>...</td>\n",
       "      <td>...</td>\n",
       "      <td>...</td>\n",
       "      <td>...</td>\n",
       "      <td>...</td>\n",
       "      <td>...</td>\n",
       "      <td>...</td>\n",
       "      <td>...</td>\n",
       "      <td>...</td>\n",
       "      <td>...</td>\n",
       "      <td>...</td>\n",
       "      <td>...</td>\n",
       "      <td>...</td>\n",
       "      <td>...</td>\n",
       "      <td>...</td>\n",
       "      <td>...</td>\n",
       "      <td>...</td>\n",
       "      <td>...</td>\n",
       "      <td>...</td>\n",
       "      <td>...</td>\n",
       "      <td>...</td>\n",
       "      <td>...</td>\n",
       "    </tr>\n",
       "    <tr>\n",
       "      <td>3209</td>\n",
       "      <td>1489</td>\n",
       "      <td>2018-08</td>\n",
       "      <td>nan</td>\n",
       "      <td>nan</td>\n",
       "      <td>11,050.56</td>\n",
       "      <td>17.00</td>\n",
       "      <td>35</td>\n",
       "      <td>NaT</td>\n",
       "      <td>Санкт-Петербург</td>\n",
       "      <td>Павел</td>\n",
       "      <td>Гончаров</td>\n",
       "      <td>2018-08-15</td>\n",
       "      <td>smart</td>\n",
       "      <td>50</td>\n",
       "      <td>15360</td>\n",
       "      <td>500</td>\n",
       "      <td>550</td>\n",
       "      <td>200.00</td>\n",
       "      <td>3.00</td>\n",
       "      <td>3.00</td>\n",
       "      <td>smart</td>\n",
       "    </tr>\n",
       "    <tr>\n",
       "      <td>3210</td>\n",
       "      <td>1489</td>\n",
       "      <td>2018-09</td>\n",
       "      <td>nan</td>\n",
       "      <td>nan</td>\n",
       "      <td>17,206.30</td>\n",
       "      <td>32.00</td>\n",
       "      <td>35</td>\n",
       "      <td>NaT</td>\n",
       "      <td>Санкт-Петербург</td>\n",
       "      <td>Павел</td>\n",
       "      <td>Гончаров</td>\n",
       "      <td>2018-08-15</td>\n",
       "      <td>smart</td>\n",
       "      <td>50</td>\n",
       "      <td>15360</td>\n",
       "      <td>500</td>\n",
       "      <td>550</td>\n",
       "      <td>200.00</td>\n",
       "      <td>3.00</td>\n",
       "      <td>3.00</td>\n",
       "      <td>smart</td>\n",
       "    </tr>\n",
       "    <tr>\n",
       "      <td>3211</td>\n",
       "      <td>1489</td>\n",
       "      <td>2018-10</td>\n",
       "      <td>nan</td>\n",
       "      <td>nan</td>\n",
       "      <td>19,559.44</td>\n",
       "      <td>21.00</td>\n",
       "      <td>35</td>\n",
       "      <td>NaT</td>\n",
       "      <td>Санкт-Петербург</td>\n",
       "      <td>Павел</td>\n",
       "      <td>Гончаров</td>\n",
       "      <td>2018-08-15</td>\n",
       "      <td>smart</td>\n",
       "      <td>50</td>\n",
       "      <td>15360</td>\n",
       "      <td>500</td>\n",
       "      <td>550</td>\n",
       "      <td>200.00</td>\n",
       "      <td>3.00</td>\n",
       "      <td>3.00</td>\n",
       "      <td>smart</td>\n",
       "    </tr>\n",
       "    <tr>\n",
       "      <td>3212</td>\n",
       "      <td>1489</td>\n",
       "      <td>2018-11</td>\n",
       "      <td>nan</td>\n",
       "      <td>nan</td>\n",
       "      <td>17,491.56</td>\n",
       "      <td>20.00</td>\n",
       "      <td>35</td>\n",
       "      <td>NaT</td>\n",
       "      <td>Санкт-Петербург</td>\n",
       "      <td>Павел</td>\n",
       "      <td>Гончаров</td>\n",
       "      <td>2018-08-15</td>\n",
       "      <td>smart</td>\n",
       "      <td>50</td>\n",
       "      <td>15360</td>\n",
       "      <td>500</td>\n",
       "      <td>550</td>\n",
       "      <td>200.00</td>\n",
       "      <td>3.00</td>\n",
       "      <td>3.00</td>\n",
       "      <td>smart</td>\n",
       "    </tr>\n",
       "    <tr>\n",
       "      <td>3213</td>\n",
       "      <td>1489</td>\n",
       "      <td>2018-12</td>\n",
       "      <td>nan</td>\n",
       "      <td>nan</td>\n",
       "      <td>17,322.51</td>\n",
       "      <td>35.00</td>\n",
       "      <td>35</td>\n",
       "      <td>NaT</td>\n",
       "      <td>Санкт-Петербург</td>\n",
       "      <td>Павел</td>\n",
       "      <td>Гончаров</td>\n",
       "      <td>2018-08-15</td>\n",
       "      <td>smart</td>\n",
       "      <td>50</td>\n",
       "      <td>15360</td>\n",
       "      <td>500</td>\n",
       "      <td>550</td>\n",
       "      <td>200.00</td>\n",
       "      <td>3.00</td>\n",
       "      <td>3.00</td>\n",
       "      <td>smart</td>\n",
       "    </tr>\n",
       "  </tbody>\n",
       "</table>\n",
       "<p>3214 rows × 21 columns</p>\n",
       "</div>"
      ],
      "text/plain": [
       "      user_id date_month  calls_minutes  calls_count   mb_used  \\\n",
       "0        1000    2018-05         159.00        22.00  2,253.49   \n",
       "1        1000    2018-06         172.00        43.00 23,233.77   \n",
       "2        1000    2018-07         340.00        47.00 14,003.64   \n",
       "3        1000    2018-08         408.00        52.00 14,055.93   \n",
       "4        1000    2018-09         466.00        58.00 14,568.91   \n",
       "...       ...        ...            ...          ...       ...   \n",
       "3209     1489    2018-08            nan          nan 11,050.56   \n",
       "3210     1489    2018-09            nan          nan 17,206.30   \n",
       "3211     1489    2018-10            nan          nan 19,559.44   \n",
       "3212     1489    2018-11            nan          nan 17,491.56   \n",
       "3213     1489    2018-12            nan          nan 17,322.51   \n",
       "\n",
       "      messages_count  age churn_date             city first_name  last_name  \\\n",
       "0              22.00   52        NaT        Краснодар     Рафаил  Верещагин   \n",
       "1              60.00   52        NaT        Краснодар     Рафаил  Верещагин   \n",
       "2              75.00   52        NaT        Краснодар     Рафаил  Верещагин   \n",
       "3              81.00   52        NaT        Краснодар     Рафаил  Верещагин   \n",
       "4              57.00   52        NaT        Краснодар     Рафаил  Верещагин   \n",
       "...              ...  ...        ...              ...        ...        ...   \n",
       "3209           17.00   35        NaT  Санкт-Петербург      Павел   Гончаров   \n",
       "3210           32.00   35        NaT  Санкт-Петербург      Павел   Гончаров   \n",
       "3211           21.00   35        NaT  Санкт-Петербург      Павел   Гончаров   \n",
       "3212           20.00   35        NaT  Санкт-Петербург      Павел   Гончаров   \n",
       "3213           35.00   35        NaT  Санкт-Петербург      Павел   Гончаров   \n",
       "\n",
       "       reg_date tariff  messages_included  mb_per_month_included  \\\n",
       "0    2018-05-25  ultra               1000                  30720   \n",
       "1    2018-05-25  ultra               1000                  30720   \n",
       "2    2018-05-25  ultra               1000                  30720   \n",
       "3    2018-05-25  ultra               1000                  30720   \n",
       "4    2018-05-25  ultra               1000                  30720   \n",
       "...         ...    ...                ...                    ...   \n",
       "3209 2018-08-15  smart                 50                  15360   \n",
       "3210 2018-08-15  smart                 50                  15360   \n",
       "3211 2018-08-15  smart                 50                  15360   \n",
       "3212 2018-08-15  smart                 50                  15360   \n",
       "3213 2018-08-15  smart                 50                  15360   \n",
       "\n",
       "      minutes_included  rub_monthly_fee  rub_per_gb  rub_per_message  \\\n",
       "0                 3000             1950      150.00             1.00   \n",
       "1                 3000             1950      150.00             1.00   \n",
       "2                 3000             1950      150.00             1.00   \n",
       "3                 3000             1950      150.00             1.00   \n",
       "4                 3000             1950      150.00             1.00   \n",
       "...                ...              ...         ...              ...   \n",
       "3209               500              550      200.00             3.00   \n",
       "3210               500              550      200.00             3.00   \n",
       "3211               500              550      200.00             3.00   \n",
       "3212               500              550      200.00             3.00   \n",
       "3213               500              550      200.00             3.00   \n",
       "\n",
       "      rub_per_minute tariff_name  \n",
       "0               1.00       ultra  \n",
       "1               1.00       ultra  \n",
       "2               1.00       ultra  \n",
       "3               1.00       ultra  \n",
       "4               1.00       ultra  \n",
       "...              ...         ...  \n",
       "3209            3.00       smart  \n",
       "3210            3.00       smart  \n",
       "3211            3.00       smart  \n",
       "3212            3.00       smart  \n",
       "3213            3.00       smart  \n",
       "\n",
       "[3214 rows x 21 columns]"
      ]
     },
     "execution_count": 19,
     "metadata": {},
     "output_type": "execute_result"
    }
   ],
   "source": [
    "# Готовим сводную таблицу из всех фреймов\n",
    "# группируем звонки, смс, интернет по пользователю и месяцу\n",
    "t1 = calls.groupby(by=['user_id', 'date_month']).agg({'duration_minutes':['sum','count']}).reset_index()\n",
    "t1.columns = ['user_id', 'date_month', 'calls_minutes', 'calls_count']\n",
    "t2 = internet.groupby(by=['user_id', 'date_month'])['mb_used'].sum()\n",
    "t3 =  messages.groupby(by=['user_id', 'date_month'])['message_date'].count()\n",
    "\n",
    "# объединяем в одну таблицу\n",
    "df = t1.join(t2, on=['user_id', 'date_month'], how='outer')\n",
    "df = df.join(t3, on=['user_id', 'date_month'], how='outer')\n",
    "df.columns = ['user_id', 'date_month', 'calls_minutes', 'calls_count', 'mb_used', 'messages_count']\n",
    "df = df.merge(users, on='user_id', how='left')\n",
    "df = df.merge(tariffs, left_on='tariff', right_on='tariff_name', how='left')\n",
    "df\n"
   ]
  },
  {
   "cell_type": "markdown",
   "id": "2be1e7b8",
   "metadata": {},
   "source": [
    "<div class=\"alert alert-success\">\n",
    "<b>Комментарий ревьюера ✔️:</b> Хорошо.\n",
    "\n",
    "Объединение сделано не только верно, но и компактно!\n",
    "</div>"
   ]
  },
  {
   "cell_type": "code",
   "execution_count": 20,
   "id": "228bdf16",
   "metadata": {},
   "outputs": [],
   "source": [
    "# заполняем пропуски после объединения join на нули\n",
    "df['calls_minutes'] = df['calls_minutes'].fillna(0)\n",
    "df['calls_count'] = df['calls_count'].fillna(0)\n",
    "df['mb_used'] = df['mb_used'].fillna(0)\n",
    "df['messages_count'] = df['messages_count'].fillna(0)"
   ]
  },
  {
   "cell_type": "markdown",
   "id": "1ab530dd",
   "metadata": {},
   "source": [
    "<div class=\"alert alert-success\">\n",
    "<b>Комментарий ревьюера ✔️:</b>  \n",
    "    \n",
    "Действительно, не все пользователи пользуются всеми видами связи каждый месяц, логичное решение заполнить прпуски нулями.\n",
    "</div>"
   ]
  },
  {
   "cell_type": "markdown",
   "id": "685d6e91",
   "metadata": {},
   "source": [
    "Добавим колонки с гигабайтами: потраченными за месяц (с учетом округления ceil) и числа включенных в тариф"
   ]
  },
  {
   "cell_type": "code",
   "execution_count": 21,
   "id": "1bc3a7b6",
   "metadata": {},
   "outputs": [],
   "source": [
    "#df['gb_used'] = (df['mb_used']/1024).apply(np.ceil).astype('int')\n",
    "# исправил\n",
    "df['gb_used'] = np.ceil(df['mb_used']/1024).astype('int')\n",
    "\n",
    "df['gb_per_month_included'] = (df['mb_per_month_included']/1024).astype('int')"
   ]
  },
  {
   "cell_type": "markdown",
   "id": "52af9797",
   "metadata": {},
   "source": [
    "<div class=\"alert alert-warning\">\n",
    "<b>Комментарий ревьюера ⚠️:</b> \n",
    "    \n",
    "Округляешь правильно, но не оптимально: ```np.ceil``` не нуждается в ```apply```, т.к. может работать сразу со всем столбцом.</div>"
   ]
  },
  {
   "cell_type": "markdown",
   "id": "4d5cbbe1",
   "metadata": {},
   "source": [
    "<div class=\"alert alert-info\">\n",
    "<b>Комментарий студента:</b> Спасибо за комментарий. В курсе ЯндексПрактикума по np.ceil вообе не сталкивались, я нагуглил что есть такая функция. Применил, сработала и пошел дельше к тестированию гипотез. А вот в документацию и примеры не полез смотреть. Оказалось зря. Спасибо!\n",
    "\n",
    "</div>"
   ]
  },
  {
   "cell_type": "markdown",
   "id": "7c95c6fa",
   "metadata": {},
   "source": [
    "<div class=\"alert alert-success\"> \n",
    "<div style=\"border:solid white 3px; padding: 10px\">\n",
    "<b> Комментарий ревьюера v2 ✔️: </b> 👍\n"
   ]
  },
  {
   "cell_type": "markdown",
   "id": "e6c2fed8",
   "metadata": {},
   "source": [
    "Рассчитаем стоимость пользования (затрат) каждого пользователя за каждый месяц и поместм в столбец 'amount_user_month'"
   ]
  },
  {
   "cell_type": "code",
   "execution_count": 22,
   "id": "d746197c",
   "metadata": {},
   "outputs": [],
   "source": [
    "df['amount_user_month'] = df['rub_monthly_fee'] + \\\n",
    "(df['calls_minutes']- df['minutes_included'] > 0)*(df['calls_minutes']- df['minutes_included'])*df['rub_per_minute'] + \\\n",
    "(df['messages_count']- df['messages_included'] > 0)*(df['messages_count']- df['messages_included'])*df['rub_per_message'] + \\\n",
    "(df['gb_used']- df['gb_per_month_included'] > 0)*(df['gb_used']- df['gb_per_month_included'])*df['rub_per_gb'] \n"
   ]
  },
  {
   "cell_type": "markdown",
   "id": "d8bc34c7",
   "metadata": {},
   "source": [
    "<div class=\"alert alert-success\">\n",
    "<b>Комментарий ревьюера ✔️:</b>  Красота, очень лаконично 😍\n",
    "</div>"
   ]
  },
  {
   "cell_type": "code",
   "execution_count": 23,
   "id": "3f152c32",
   "metadata": {},
   "outputs": [
    {
     "data": {
      "text/html": [
       "<div>\n",
       "<style scoped>\n",
       "    .dataframe tbody tr th:only-of-type {\n",
       "        vertical-align: middle;\n",
       "    }\n",
       "\n",
       "    .dataframe tbody tr th {\n",
       "        vertical-align: top;\n",
       "    }\n",
       "\n",
       "    .dataframe thead th {\n",
       "        text-align: right;\n",
       "    }\n",
       "</style>\n",
       "<table border=\"1\" class=\"dataframe\">\n",
       "  <thead>\n",
       "    <tr style=\"text-align: right;\">\n",
       "      <th></th>\n",
       "      <th>user_id</th>\n",
       "      <th>date_month</th>\n",
       "      <th>calls_minutes</th>\n",
       "      <th>calls_count</th>\n",
       "      <th>mb_used</th>\n",
       "      <th>messages_count</th>\n",
       "      <th>age</th>\n",
       "      <th>churn_date</th>\n",
       "      <th>city</th>\n",
       "      <th>first_name</th>\n",
       "      <th>last_name</th>\n",
       "      <th>reg_date</th>\n",
       "      <th>tariff</th>\n",
       "      <th>messages_included</th>\n",
       "      <th>mb_per_month_included</th>\n",
       "      <th>minutes_included</th>\n",
       "      <th>rub_monthly_fee</th>\n",
       "      <th>rub_per_gb</th>\n",
       "      <th>rub_per_message</th>\n",
       "      <th>rub_per_minute</th>\n",
       "      <th>tariff_name</th>\n",
       "      <th>gb_used</th>\n",
       "      <th>gb_per_month_included</th>\n",
       "      <th>amount_user_month</th>\n",
       "    </tr>\n",
       "  </thead>\n",
       "  <tbody>\n",
       "    <tr>\n",
       "      <td>0</td>\n",
       "      <td>1000</td>\n",
       "      <td>2018-05</td>\n",
       "      <td>159.00</td>\n",
       "      <td>22.00</td>\n",
       "      <td>2,253.49</td>\n",
       "      <td>22.00</td>\n",
       "      <td>52</td>\n",
       "      <td>NaT</td>\n",
       "      <td>Краснодар</td>\n",
       "      <td>Рафаил</td>\n",
       "      <td>Верещагин</td>\n",
       "      <td>2018-05-25</td>\n",
       "      <td>ultra</td>\n",
       "      <td>1000</td>\n",
       "      <td>30720</td>\n",
       "      <td>3000</td>\n",
       "      <td>1950</td>\n",
       "      <td>150.00</td>\n",
       "      <td>1.00</td>\n",
       "      <td>1.00</td>\n",
       "      <td>ultra</td>\n",
       "      <td>3</td>\n",
       "      <td>30</td>\n",
       "      <td>1,950.00</td>\n",
       "    </tr>\n",
       "    <tr>\n",
       "      <td>1</td>\n",
       "      <td>1000</td>\n",
       "      <td>2018-06</td>\n",
       "      <td>172.00</td>\n",
       "      <td>43.00</td>\n",
       "      <td>23,233.77</td>\n",
       "      <td>60.00</td>\n",
       "      <td>52</td>\n",
       "      <td>NaT</td>\n",
       "      <td>Краснодар</td>\n",
       "      <td>Рафаил</td>\n",
       "      <td>Верещагин</td>\n",
       "      <td>2018-05-25</td>\n",
       "      <td>ultra</td>\n",
       "      <td>1000</td>\n",
       "      <td>30720</td>\n",
       "      <td>3000</td>\n",
       "      <td>1950</td>\n",
       "      <td>150.00</td>\n",
       "      <td>1.00</td>\n",
       "      <td>1.00</td>\n",
       "      <td>ultra</td>\n",
       "      <td>23</td>\n",
       "      <td>30</td>\n",
       "      <td>1,950.00</td>\n",
       "    </tr>\n",
       "    <tr>\n",
       "      <td>2</td>\n",
       "      <td>1000</td>\n",
       "      <td>2018-07</td>\n",
       "      <td>340.00</td>\n",
       "      <td>47.00</td>\n",
       "      <td>14,003.64</td>\n",
       "      <td>75.00</td>\n",
       "      <td>52</td>\n",
       "      <td>NaT</td>\n",
       "      <td>Краснодар</td>\n",
       "      <td>Рафаил</td>\n",
       "      <td>Верещагин</td>\n",
       "      <td>2018-05-25</td>\n",
       "      <td>ultra</td>\n",
       "      <td>1000</td>\n",
       "      <td>30720</td>\n",
       "      <td>3000</td>\n",
       "      <td>1950</td>\n",
       "      <td>150.00</td>\n",
       "      <td>1.00</td>\n",
       "      <td>1.00</td>\n",
       "      <td>ultra</td>\n",
       "      <td>14</td>\n",
       "      <td>30</td>\n",
       "      <td>1,950.00</td>\n",
       "    </tr>\n",
       "    <tr>\n",
       "      <td>3</td>\n",
       "      <td>1000</td>\n",
       "      <td>2018-08</td>\n",
       "      <td>408.00</td>\n",
       "      <td>52.00</td>\n",
       "      <td>14,055.93</td>\n",
       "      <td>81.00</td>\n",
       "      <td>52</td>\n",
       "      <td>NaT</td>\n",
       "      <td>Краснодар</td>\n",
       "      <td>Рафаил</td>\n",
       "      <td>Верещагин</td>\n",
       "      <td>2018-05-25</td>\n",
       "      <td>ultra</td>\n",
       "      <td>1000</td>\n",
       "      <td>30720</td>\n",
       "      <td>3000</td>\n",
       "      <td>1950</td>\n",
       "      <td>150.00</td>\n",
       "      <td>1.00</td>\n",
       "      <td>1.00</td>\n",
       "      <td>ultra</td>\n",
       "      <td>14</td>\n",
       "      <td>30</td>\n",
       "      <td>1,950.00</td>\n",
       "    </tr>\n",
       "    <tr>\n",
       "      <td>4</td>\n",
       "      <td>1000</td>\n",
       "      <td>2018-09</td>\n",
       "      <td>466.00</td>\n",
       "      <td>58.00</td>\n",
       "      <td>14,568.91</td>\n",
       "      <td>57.00</td>\n",
       "      <td>52</td>\n",
       "      <td>NaT</td>\n",
       "      <td>Краснодар</td>\n",
       "      <td>Рафаил</td>\n",
       "      <td>Верещагин</td>\n",
       "      <td>2018-05-25</td>\n",
       "      <td>ultra</td>\n",
       "      <td>1000</td>\n",
       "      <td>30720</td>\n",
       "      <td>3000</td>\n",
       "      <td>1950</td>\n",
       "      <td>150.00</td>\n",
       "      <td>1.00</td>\n",
       "      <td>1.00</td>\n",
       "      <td>ultra</td>\n",
       "      <td>15</td>\n",
       "      <td>30</td>\n",
       "      <td>1,950.00</td>\n",
       "    </tr>\n",
       "    <tr>\n",
       "      <td>...</td>\n",
       "      <td>...</td>\n",
       "      <td>...</td>\n",
       "      <td>...</td>\n",
       "      <td>...</td>\n",
       "      <td>...</td>\n",
       "      <td>...</td>\n",
       "      <td>...</td>\n",
       "      <td>...</td>\n",
       "      <td>...</td>\n",
       "      <td>...</td>\n",
       "      <td>...</td>\n",
       "      <td>...</td>\n",
       "      <td>...</td>\n",
       "      <td>...</td>\n",
       "      <td>...</td>\n",
       "      <td>...</td>\n",
       "      <td>...</td>\n",
       "      <td>...</td>\n",
       "      <td>...</td>\n",
       "      <td>...</td>\n",
       "      <td>...</td>\n",
       "      <td>...</td>\n",
       "      <td>...</td>\n",
       "      <td>...</td>\n",
       "    </tr>\n",
       "    <tr>\n",
       "      <td>3209</td>\n",
       "      <td>1489</td>\n",
       "      <td>2018-08</td>\n",
       "      <td>0.00</td>\n",
       "      <td>0.00</td>\n",
       "      <td>11,050.56</td>\n",
       "      <td>17.00</td>\n",
       "      <td>35</td>\n",
       "      <td>NaT</td>\n",
       "      <td>Санкт-Петербург</td>\n",
       "      <td>Павел</td>\n",
       "      <td>Гончаров</td>\n",
       "      <td>2018-08-15</td>\n",
       "      <td>smart</td>\n",
       "      <td>50</td>\n",
       "      <td>15360</td>\n",
       "      <td>500</td>\n",
       "      <td>550</td>\n",
       "      <td>200.00</td>\n",
       "      <td>3.00</td>\n",
       "      <td>3.00</td>\n",
       "      <td>smart</td>\n",
       "      <td>11</td>\n",
       "      <td>15</td>\n",
       "      <td>550.00</td>\n",
       "    </tr>\n",
       "    <tr>\n",
       "      <td>3210</td>\n",
       "      <td>1489</td>\n",
       "      <td>2018-09</td>\n",
       "      <td>0.00</td>\n",
       "      <td>0.00</td>\n",
       "      <td>17,206.30</td>\n",
       "      <td>32.00</td>\n",
       "      <td>35</td>\n",
       "      <td>NaT</td>\n",
       "      <td>Санкт-Петербург</td>\n",
       "      <td>Павел</td>\n",
       "      <td>Гончаров</td>\n",
       "      <td>2018-08-15</td>\n",
       "      <td>smart</td>\n",
       "      <td>50</td>\n",
       "      <td>15360</td>\n",
       "      <td>500</td>\n",
       "      <td>550</td>\n",
       "      <td>200.00</td>\n",
       "      <td>3.00</td>\n",
       "      <td>3.00</td>\n",
       "      <td>smart</td>\n",
       "      <td>17</td>\n",
       "      <td>15</td>\n",
       "      <td>950.00</td>\n",
       "    </tr>\n",
       "    <tr>\n",
       "      <td>3211</td>\n",
       "      <td>1489</td>\n",
       "      <td>2018-10</td>\n",
       "      <td>0.00</td>\n",
       "      <td>0.00</td>\n",
       "      <td>19,559.44</td>\n",
       "      <td>21.00</td>\n",
       "      <td>35</td>\n",
       "      <td>NaT</td>\n",
       "      <td>Санкт-Петербург</td>\n",
       "      <td>Павел</td>\n",
       "      <td>Гончаров</td>\n",
       "      <td>2018-08-15</td>\n",
       "      <td>smart</td>\n",
       "      <td>50</td>\n",
       "      <td>15360</td>\n",
       "      <td>500</td>\n",
       "      <td>550</td>\n",
       "      <td>200.00</td>\n",
       "      <td>3.00</td>\n",
       "      <td>3.00</td>\n",
       "      <td>smart</td>\n",
       "      <td>20</td>\n",
       "      <td>15</td>\n",
       "      <td>1,550.00</td>\n",
       "    </tr>\n",
       "    <tr>\n",
       "      <td>3212</td>\n",
       "      <td>1489</td>\n",
       "      <td>2018-11</td>\n",
       "      <td>0.00</td>\n",
       "      <td>0.00</td>\n",
       "      <td>17,491.56</td>\n",
       "      <td>20.00</td>\n",
       "      <td>35</td>\n",
       "      <td>NaT</td>\n",
       "      <td>Санкт-Петербург</td>\n",
       "      <td>Павел</td>\n",
       "      <td>Гончаров</td>\n",
       "      <td>2018-08-15</td>\n",
       "      <td>smart</td>\n",
       "      <td>50</td>\n",
       "      <td>15360</td>\n",
       "      <td>500</td>\n",
       "      <td>550</td>\n",
       "      <td>200.00</td>\n",
       "      <td>3.00</td>\n",
       "      <td>3.00</td>\n",
       "      <td>smart</td>\n",
       "      <td>18</td>\n",
       "      <td>15</td>\n",
       "      <td>1,150.00</td>\n",
       "    </tr>\n",
       "    <tr>\n",
       "      <td>3213</td>\n",
       "      <td>1489</td>\n",
       "      <td>2018-12</td>\n",
       "      <td>0.00</td>\n",
       "      <td>0.00</td>\n",
       "      <td>17,322.51</td>\n",
       "      <td>35.00</td>\n",
       "      <td>35</td>\n",
       "      <td>NaT</td>\n",
       "      <td>Санкт-Петербург</td>\n",
       "      <td>Павел</td>\n",
       "      <td>Гончаров</td>\n",
       "      <td>2018-08-15</td>\n",
       "      <td>smart</td>\n",
       "      <td>50</td>\n",
       "      <td>15360</td>\n",
       "      <td>500</td>\n",
       "      <td>550</td>\n",
       "      <td>200.00</td>\n",
       "      <td>3.00</td>\n",
       "      <td>3.00</td>\n",
       "      <td>smart</td>\n",
       "      <td>17</td>\n",
       "      <td>15</td>\n",
       "      <td>950.00</td>\n",
       "    </tr>\n",
       "  </tbody>\n",
       "</table>\n",
       "<p>3214 rows × 24 columns</p>\n",
       "</div>"
      ],
      "text/plain": [
       "      user_id date_month  calls_minutes  calls_count   mb_used  \\\n",
       "0        1000    2018-05         159.00        22.00  2,253.49   \n",
       "1        1000    2018-06         172.00        43.00 23,233.77   \n",
       "2        1000    2018-07         340.00        47.00 14,003.64   \n",
       "3        1000    2018-08         408.00        52.00 14,055.93   \n",
       "4        1000    2018-09         466.00        58.00 14,568.91   \n",
       "...       ...        ...            ...          ...       ...   \n",
       "3209     1489    2018-08           0.00         0.00 11,050.56   \n",
       "3210     1489    2018-09           0.00         0.00 17,206.30   \n",
       "3211     1489    2018-10           0.00         0.00 19,559.44   \n",
       "3212     1489    2018-11           0.00         0.00 17,491.56   \n",
       "3213     1489    2018-12           0.00         0.00 17,322.51   \n",
       "\n",
       "      messages_count  age churn_date             city first_name  last_name  \\\n",
       "0              22.00   52        NaT        Краснодар     Рафаил  Верещагин   \n",
       "1              60.00   52        NaT        Краснодар     Рафаил  Верещагин   \n",
       "2              75.00   52        NaT        Краснодар     Рафаил  Верещагин   \n",
       "3              81.00   52        NaT        Краснодар     Рафаил  Верещагин   \n",
       "4              57.00   52        NaT        Краснодар     Рафаил  Верещагин   \n",
       "...              ...  ...        ...              ...        ...        ...   \n",
       "3209           17.00   35        NaT  Санкт-Петербург      Павел   Гончаров   \n",
       "3210           32.00   35        NaT  Санкт-Петербург      Павел   Гончаров   \n",
       "3211           21.00   35        NaT  Санкт-Петербург      Павел   Гончаров   \n",
       "3212           20.00   35        NaT  Санкт-Петербург      Павел   Гончаров   \n",
       "3213           35.00   35        NaT  Санкт-Петербург      Павел   Гончаров   \n",
       "\n",
       "       reg_date tariff  messages_included  mb_per_month_included  \\\n",
       "0    2018-05-25  ultra               1000                  30720   \n",
       "1    2018-05-25  ultra               1000                  30720   \n",
       "2    2018-05-25  ultra               1000                  30720   \n",
       "3    2018-05-25  ultra               1000                  30720   \n",
       "4    2018-05-25  ultra               1000                  30720   \n",
       "...         ...    ...                ...                    ...   \n",
       "3209 2018-08-15  smart                 50                  15360   \n",
       "3210 2018-08-15  smart                 50                  15360   \n",
       "3211 2018-08-15  smart                 50                  15360   \n",
       "3212 2018-08-15  smart                 50                  15360   \n",
       "3213 2018-08-15  smart                 50                  15360   \n",
       "\n",
       "      minutes_included  rub_monthly_fee  rub_per_gb  rub_per_message  \\\n",
       "0                 3000             1950      150.00             1.00   \n",
       "1                 3000             1950      150.00             1.00   \n",
       "2                 3000             1950      150.00             1.00   \n",
       "3                 3000             1950      150.00             1.00   \n",
       "4                 3000             1950      150.00             1.00   \n",
       "...                ...              ...         ...              ...   \n",
       "3209               500              550      200.00             3.00   \n",
       "3210               500              550      200.00             3.00   \n",
       "3211               500              550      200.00             3.00   \n",
       "3212               500              550      200.00             3.00   \n",
       "3213               500              550      200.00             3.00   \n",
       "\n",
       "      rub_per_minute tariff_name  gb_used  gb_per_month_included  \\\n",
       "0               1.00       ultra        3                     30   \n",
       "1               1.00       ultra       23                     30   \n",
       "2               1.00       ultra       14                     30   \n",
       "3               1.00       ultra       14                     30   \n",
       "4               1.00       ultra       15                     30   \n",
       "...              ...         ...      ...                    ...   \n",
       "3209            3.00       smart       11                     15   \n",
       "3210            3.00       smart       17                     15   \n",
       "3211            3.00       smart       20                     15   \n",
       "3212            3.00       smart       18                     15   \n",
       "3213            3.00       smart       17                     15   \n",
       "\n",
       "      amount_user_month  \n",
       "0              1,950.00  \n",
       "1              1,950.00  \n",
       "2              1,950.00  \n",
       "3              1,950.00  \n",
       "4              1,950.00  \n",
       "...                 ...  \n",
       "3209             550.00  \n",
       "3210             950.00  \n",
       "3211           1,550.00  \n",
       "3212           1,150.00  \n",
       "3213             950.00  \n",
       "\n",
       "[3214 rows x 24 columns]"
      ]
     },
     "execution_count": 23,
     "metadata": {},
     "output_type": "execute_result"
    }
   ],
   "source": [
    "df"
   ]
  },
  {
   "cell_type": "markdown",
   "id": "74c0e3a3",
   "metadata": {},
   "source": [
    "Рассчитаем статистики"
   ]
  },
  {
   "cell_type": "code",
   "execution_count": 24,
   "id": "b94f570a",
   "metadata": {
    "scrolled": false
   },
   "outputs": [
    {
     "data": {
      "text/html": [
       "<div>\n",
       "<style scoped>\n",
       "    .dataframe tbody tr th:only-of-type {\n",
       "        vertical-align: middle;\n",
       "    }\n",
       "\n",
       "    .dataframe tbody tr th {\n",
       "        vertical-align: top;\n",
       "    }\n",
       "\n",
       "    .dataframe thead th {\n",
       "        text-align: right;\n",
       "    }\n",
       "</style>\n",
       "<table border=\"1\" class=\"dataframe\">\n",
       "  <thead>\n",
       "    <tr style=\"text-align: right;\">\n",
       "      <th></th>\n",
       "      <th>tariff_name</th>\n",
       "      <th>smart</th>\n",
       "      <th>ultra</th>\n",
       "    </tr>\n",
       "  </thead>\n",
       "  <tbody>\n",
       "    <tr>\n",
       "      <td rowspan=\"6\" valign=\"top\">calls_minutes</td>\n",
       "      <td>count</td>\n",
       "      <td>2,229.00</td>\n",
       "      <td>985.00</td>\n",
       "    </tr>\n",
       "    <tr>\n",
       "      <td>mean</td>\n",
       "      <td>417.93</td>\n",
       "      <td>526.62</td>\n",
       "    </tr>\n",
       "    <tr>\n",
       "      <td>std</td>\n",
       "      <td>190.31</td>\n",
       "      <td>317.61</td>\n",
       "    </tr>\n",
       "    <tr>\n",
       "      <td>min</td>\n",
       "      <td>0.00</td>\n",
       "      <td>0.00</td>\n",
       "    </tr>\n",
       "    <tr>\n",
       "      <td>50%</td>\n",
       "      <td>422.00</td>\n",
       "      <td>518.00</td>\n",
       "    </tr>\n",
       "    <tr>\n",
       "      <td>max</td>\n",
       "      <td>1,435.00</td>\n",
       "      <td>1,673.00</td>\n",
       "    </tr>\n",
       "    <tr>\n",
       "      <td rowspan=\"6\" valign=\"top\">gb_used</td>\n",
       "      <td>count</td>\n",
       "      <td>2,229.00</td>\n",
       "      <td>985.00</td>\n",
       "    </tr>\n",
       "    <tr>\n",
       "      <td>mean</td>\n",
       "      <td>16.33</td>\n",
       "      <td>19.49</td>\n",
       "    </tr>\n",
       "    <tr>\n",
       "      <td>std</td>\n",
       "      <td>5.75</td>\n",
       "      <td>9.85</td>\n",
       "    </tr>\n",
       "    <tr>\n",
       "      <td>min</td>\n",
       "      <td>0.00</td>\n",
       "      <td>0.00</td>\n",
       "    </tr>\n",
       "    <tr>\n",
       "      <td>50%</td>\n",
       "      <td>17.00</td>\n",
       "      <td>19.00</td>\n",
       "    </tr>\n",
       "    <tr>\n",
       "      <td>max</td>\n",
       "      <td>38.00</td>\n",
       "      <td>49.00</td>\n",
       "    </tr>\n",
       "    <tr>\n",
       "      <td rowspan=\"6\" valign=\"top\">messages_count</td>\n",
       "      <td>count</td>\n",
       "      <td>2,229.00</td>\n",
       "      <td>985.00</td>\n",
       "    </tr>\n",
       "    <tr>\n",
       "      <td>mean</td>\n",
       "      <td>33.38</td>\n",
       "      <td>49.36</td>\n",
       "    </tr>\n",
       "    <tr>\n",
       "      <td>std</td>\n",
       "      <td>28.23</td>\n",
       "      <td>47.80</td>\n",
       "    </tr>\n",
       "    <tr>\n",
       "      <td>min</td>\n",
       "      <td>0.00</td>\n",
       "      <td>0.00</td>\n",
       "    </tr>\n",
       "    <tr>\n",
       "      <td>50%</td>\n",
       "      <td>28.00</td>\n",
       "      <td>38.00</td>\n",
       "    </tr>\n",
       "    <tr>\n",
       "      <td>max</td>\n",
       "      <td>143.00</td>\n",
       "      <td>224.00</td>\n",
       "    </tr>\n",
       "  </tbody>\n",
       "</table>\n",
       "</div>"
      ],
      "text/plain": [
       "tariff_name             smart    ultra\n",
       "calls_minutes  count 2,229.00   985.00\n",
       "               mean    417.93   526.62\n",
       "               std     190.31   317.61\n",
       "               min       0.00     0.00\n",
       "               50%     422.00   518.00\n",
       "               max   1,435.00 1,673.00\n",
       "gb_used        count 2,229.00   985.00\n",
       "               mean     16.33    19.49\n",
       "               std       5.75     9.85\n",
       "               min       0.00     0.00\n",
       "               50%      17.00    19.00\n",
       "               max      38.00    49.00\n",
       "messages_count count 2,229.00   985.00\n",
       "               mean     33.38    49.36\n",
       "               std      28.23    47.80\n",
       "               min       0.00     0.00\n",
       "               50%      28.00    38.00\n",
       "               max     143.00   224.00"
      ]
     },
     "execution_count": 24,
     "metadata": {},
     "output_type": "execute_result"
    }
   ],
   "source": [
    "df.groupby('tariff_name')[['calls_minutes', 'gb_used', 'messages_count']].describe(percentiles=[]).transpose()"
   ]
  },
  {
   "cell_type": "markdown",
   "id": "0e561343",
   "metadata": {},
   "source": [
    "<div class=\"alert alert-success\">\n",
    "<b>Комментарий ревьюера ✔️:</b>  Очень хорошее прдеставление статистики!\n",
    "</div>"
   ]
  },
  {
   "cell_type": "code",
   "execution_count": 25,
   "id": "7b94d9f2",
   "metadata": {},
   "outputs": [],
   "source": [
    "def show_hist_tarifs(df, param):\n",
    "    ax = df.query('tariff == \"smart\"').plot(kind='hist', y=param, histtype='step',\n",
    "        density=True,\n",
    "        bins=15,\n",
    "        alpha=0.7,\n",
    "        linewidth=3,\n",
    "        label='smart',\n",
    "        figsize=(10,7)\n",
    "        )\n",
    "    df.query('tariff == \"ultra\"').plot(kind='hist', y=param, histtype='step',\n",
    "        density=True,\n",
    "        bins=15,\n",
    "        alpha=0.7,\n",
    "        linewidth=3,\n",
    "        label='ultra',\n",
    "        ax=ax,\n",
    "        figsize=(10,7),\n",
    "        title = \"Гистограмма \" + param\n",
    "        )\n",
    "    plt.xlabel(param)\n",
    "    plt.show"
   ]
  },
  {
   "cell_type": "markdown",
   "id": "55b594bd",
   "metadata": {},
   "source": [
    "<div class=\"alert alert-success\">\n",
    "<b>Комментарий ревьюера ✔️:</b>  Отлично, что пишешь функцию для постоения гистограмм 👍\n",
    "</div>"
   ]
  },
  {
   "cell_type": "code",
   "execution_count": 26,
   "id": "f043a7e6",
   "metadata": {
    "scrolled": true
   },
   "outputs": [
    {
     "name": "stdout",
     "output_type": "stream",
     "text": [
      "smart: доля, кто уложился в свой лимит минут: 0.6617317182593091\n",
      "smart: доля, кто уложился в свой лимит GB: 0.41498429789143115\n",
      "smart: доля, кто уложился в свой лимит SMS: 0.746971736204576\n",
      "\n",
      "\n",
      "ultra: доля, кто уложился в свой лимит минут: 1.0\n",
      "ultra: доля, кто уложился в свой лимит GB: 0.8639593908629442\n",
      "ultra: доля, кто уложился в свой лимит SMS: 1.0\n"
     ]
    }
   ],
   "source": [
    "tariff_name = \"smart\"\n",
    "print(tariff_name + ': доля, кто уложился в свой лимит минут:', len(df.query('tariff == @tariff_name and calls_minutes <= minutes_included'))/len(df.query('tariff == @tariff_name')))\n",
    "print(tariff_name + ': доля, кто уложился в свой лимит GB:', len(df.query('tariff == @tariff_name and gb_used <= gb_per_month_included'))/len(df.query('tariff == @tariff_name')))\n",
    "print(tariff_name + ': доля, кто уложился в свой лимит SMS:', len(df.query('tariff == @tariff_name and messages_count <= messages_included'))/len(df.query('tariff == @tariff_name')))\n",
    "\n",
    "tariff_name = \"ultra\"\n",
    "print('\\n')\n",
    "print(tariff_name + ': доля, кто уложился в свой лимит минут:', len(df.query('tariff == @tariff_name and calls_minutes <= minutes_included'))/len(df.query('tariff == @tariff_name')))\n",
    "print(tariff_name + ': доля, кто уложился в свой лимит GB:', len(df.query('tariff == @tariff_name and gb_used <= gb_per_month_included'))/len(df.query('tariff == @tariff_name')))\n",
    "print(tariff_name + ': доля, кто уложился в свой лимит SMS:', len(df.query('tariff == @tariff_name and messages_count <= messages_included'))/len(df.query('tariff == @tariff_name')))"
   ]
  },
  {
   "cell_type": "markdown",
   "id": "1aea42d7",
   "metadata": {},
   "source": [
    "<div class=\"alert alert-success\">\n",
    "<b>Комментарий ревьюера ✔️:</b>  Супер, что посчитал доли людей, которым хватило услуг пакетов\n",
    "</div>"
   ]
  },
  {
   "cell_type": "code",
   "execution_count": 27,
   "id": "4776cec1",
   "metadata": {},
   "outputs": [
    {
     "data": {
      "image/png": "[encoded data removed]",
      "text/plain": [
       "<Figure size 720x504 with 1 Axes>"
      ]
     },
     "metadata": {},
     "output_type": "display_data"
    }
   ],
   "source": [
    "show_hist_tarifs(df, 'calls_minutes')"
   ]
  },
  {
   "cell_type": "markdown",
   "id": "0fb78962",
   "metadata": {},
   "source": [
    "Гистограмма smart обрезана слева и скошена влево, гистограмма ultra аналогично<br>\n",
    "Чисто по формальным статистикам mean примерно равно median, но распределения не симметричные. У ultra явно больше разброс, что подтверждается и статистикой std"
   ]
  },
  {
   "cell_type": "markdown",
   "id": "43868649",
   "metadata": {},
   "source": [
    "<div class=\"alert alert-success\">\n",
    "<b>Комментарий ревьюера ✔️:</b>  Верные наблюдения\n",
    "</div>"
   ]
  },
  {
   "cell_type": "code",
   "execution_count": 28,
   "id": "5d37146e",
   "metadata": {},
   "outputs": [
    {
     "data": {
      "image/png": "[encoded data removed]",
      "text/plain": [
       "<Figure size 720x504 with 1 Axes>"
      ]
     },
     "metadata": {},
     "output_type": "display_data"
    }
   ],
   "source": [
    "show_hist_tarifs(df, 'gb_used')"
   ]
  },
  {
   "cell_type": "markdown",
   "id": "34e5cab3",
   "metadata": {},
   "source": [
    "Гистограмма smart практически симметрична, гистограмма ultra обрезана слева, но  могла бы быть симетричной<br>\n",
    "Чисто по формальным статистикам mean примерно равно median. У ultra явно больше разброс, что подтверждается и статистикой std"
   ]
  },
  {
   "cell_type": "markdown",
   "id": "acd72515",
   "metadata": {},
   "source": [
    "<div class=\"alert alert-success\">\n",
    "<b>Комментарий ревьюера ✔️:</b>  Согласна\n",
    "</div>"
   ]
  },
  {
   "cell_type": "code",
   "execution_count": 29,
   "id": "1d195b60",
   "metadata": {},
   "outputs": [
    {
     "data": {
      "image/png": "[encoded data removed]",
      "text/plain": [
       "<Figure size 720x504 with 1 Axes>"
      ]
     },
     "metadata": {},
     "output_type": "display_data"
    }
   ],
   "source": [
    "show_hist_tarifs(df, 'messages_count')"
   ]
  },
  {
   "cell_type": "markdown",
   "id": "8c53b597",
   "metadata": {},
   "source": [
    "Гистограмма smart несимметрична, левого хвоста нет, есть только правый хвост, гистограмма ultra аналогично<br>\n",
    "Чисто по формальным статистикам mean > median, скос вправо, распределения не симметричные. У ultra явно больше разброс, что подтверждается и статистикой std"
   ]
  },
  {
   "cell_type": "markdown",
   "id": "fad860cf",
   "metadata": {},
   "source": [
    "<div class=\"alert alert-success\">\n",
    "<b>Комментарий ревьюера ✔️:</b> Все так\n",
    "</div>"
   ]
  },
  {
   "cell_type": "code",
   "execution_count": 30,
   "id": "1bd25acc",
   "metadata": {
    "scrolled": false
   },
   "outputs": [
    {
     "data": {
      "image/png": "[encoded data removed]",
      "text/plain": [
       "<Figure size 720x504 with 1 Axes>"
      ]
     },
     "metadata": {},
     "output_type": "display_data"
    }
   ],
   "source": [
    "show_hist_tarifs(df, 'amount_user_month')"
   ]
  },
  {
   "cell_type": "markdown",
   "id": "f9735925",
   "metadata": {},
   "source": [
    "Гистограмма smart имеет только правый хвост, а также пик, при затратах, равных абонентской плате. Сверх минплаты значительная часть людей платит, гистограмма ultra аналогично, но почти 90% укладываются в базовый тариф и не доплачивают"
   ]
  },
  {
   "cell_type": "markdown",
   "id": "1824378d",
   "metadata": {},
   "source": [
    "<div class=\"alert alert-success\">\n",
    "<b>Комментарий ревьюера ✔️:</b>  Верно\n",
    "</div>"
   ]
  },
  {
   "cell_type": "markdown",
   "id": "1b173e54",
   "metadata": {},
   "source": [
    "<div class=\"alert alert-success\">\n",
    "<b>Комментарий ревьюера ✔️:</b> Мне нравится стиль графиков, очень элегантно, здорово, что реализуешь с помощью функции\n",
    "</div>"
   ]
  },
  {
   "cell_type": "markdown",
   "id": "82dec0de",
   "metadata": {},
   "source": [
    "## добавление дополнительных столбцов в сводный датафрейм"
   ]
  },
  {
   "cell_type": "markdown",
   "id": "aafd28d9",
   "metadata": {},
   "source": [
    "<div class=\"alert alert-info\">\n",
    "\n",
    "**Комментарий студента**\n",
    "\n",
    "Добавлю столбец с признаком города Москва. Столбец булевый. Нужен для удобного построения графика scatterplot\n",
    "</div>"
   ]
  },
  {
   "cell_type": "markdown",
   "id": "2ca3f803",
   "metadata": {},
   "source": [
    "<div class=\"alert alert-success\"> \n",
    "<div style=\"border:solid white 3px; padding: 10px\">\n",
    "<b> Комментарий ревьюера v2 ✔️: </b> Хорошее решение \n"
   ]
  },
  {
   "cell_type": "code",
   "execution_count": 31,
   "id": "c0f76ea1",
   "metadata": {},
   "outputs": [
    {
     "data": {
      "text/html": [
       "<div>\n",
       "<style scoped>\n",
       "    .dataframe tbody tr th:only-of-type {\n",
       "        vertical-align: middle;\n",
       "    }\n",
       "\n",
       "    .dataframe tbody tr th {\n",
       "        vertical-align: top;\n",
       "    }\n",
       "\n",
       "    .dataframe thead th {\n",
       "        text-align: right;\n",
       "    }\n",
       "</style>\n",
       "<table border=\"1\" class=\"dataframe\">\n",
       "  <thead>\n",
       "    <tr style=\"text-align: right;\">\n",
       "      <th></th>\n",
       "      <th>city</th>\n",
       "      <th>is_moscow</th>\n",
       "    </tr>\n",
       "  </thead>\n",
       "  <tbody>\n",
       "    <tr>\n",
       "      <td>531</td>\n",
       "      <td>Омск</td>\n",
       "      <td>False</td>\n",
       "    </tr>\n",
       "    <tr>\n",
       "      <td>413</td>\n",
       "      <td>Москва</td>\n",
       "      <td>True</td>\n",
       "    </tr>\n",
       "    <tr>\n",
       "      <td>1795</td>\n",
       "      <td>Севастополь</td>\n",
       "      <td>False</td>\n",
       "    </tr>\n",
       "    <tr>\n",
       "      <td>1794</td>\n",
       "      <td>Севастополь</td>\n",
       "      <td>False</td>\n",
       "    </tr>\n",
       "    <tr>\n",
       "      <td>1417</td>\n",
       "      <td>Оренбург</td>\n",
       "      <td>False</td>\n",
       "    </tr>\n",
       "  </tbody>\n",
       "</table>\n",
       "</div>"
      ],
      "text/plain": [
       "             city  is_moscow\n",
       "531          Омск      False\n",
       "413        Москва       True\n",
       "1795  Севастополь      False\n",
       "1794  Севастополь      False\n",
       "1417     Оренбург      False"
      ]
     },
     "execution_count": 31,
     "metadata": {},
     "output_type": "execute_result"
    }
   ],
   "source": [
    "# Добавим столбец is_moscow\n",
    "df['is_moscow']=df['city'].apply(lambda x: True if x==\"Москва\" else False)\n",
    "df.sample(5)[['city', 'is_moscow']]"
   ]
  },
  {
   "cell_type": "markdown",
   "id": "d1e8275d",
   "metadata": {},
   "source": [
    "<div class=\"alert alert-info\">\n",
    "\n",
    "**Комментарий студента**\n",
    "\n",
    "Добавлю столбец с признаком пола. Столбец строковый, либо M либо F<br>\n",
    "Определять пол будем по имени человека.<br>\n",
    "При ознакомлении с Датасетом было видно, что имена кириллические. <br>\n",
    "В русском языке есть закономерность: женские имена заканчиваются на \"а\" или \"я\". Есть исключение: Любовь и не славянские имена.\n",
    "Мужские имена не заканчиваются на \"а\" или \"я\". Поэтому аккуратно проверим и определим пол\n",
    "</div>"
   ]
  },
  {
   "cell_type": "markdown",
   "id": "d6af22ee",
   "metadata": {},
   "source": [
    "<div class=\"alert alert-success\"> \n",
    "<div style=\"border:solid white 3px; padding: 10px\">\n",
    "<b> Комментарий ревьюера v2 ✔️: </b> Очень здорово, хорошее решение определять пол по имени"
   ]
  },
  {
   "cell_type": "code",
   "execution_count": 32,
   "id": "1a7bc099",
   "metadata": {},
   "outputs": [
    {
     "data": {
      "text/plain": [
       "array(['Рафаил', 'Иван', 'Евгений', 'Белла', 'Татьяна', 'Афанасий',\n",
       "       'Леонид', 'Юна', 'Рустэм', 'Василиса', 'Эдуард', 'Веселина',\n",
       "       'Варлам', 'Борис', 'Яков', 'Рузана', 'Марица', 'Мария', 'Матвей',\n",
       "       'Игнатий', 'Тала', 'Святослав', 'Людмила', 'Иулиан', 'Владислав',\n",
       "       'Рустем', 'Алексей', 'Мариетта', 'Лаврентий', 'Инна', 'Лия',\n",
       "       'Розалия', 'Анжелика', 'Изольда', 'Агнесса', 'Юрий', 'Михаил',\n",
       "       'Константин', 'Марианна', 'Иннокентий', 'Джемма', 'Екатерина',\n",
       "       'Милица', 'Лола', 'Габриель', 'Кристина', 'Павел', 'Ренальд',\n",
       "       'Луиза', 'Радислав', 'Динара', 'Лукий', 'Глеб', 'Тамара',\n",
       "       'Александр', 'Таира', 'Роза', 'Исак', 'Юзефа', 'Ким', 'Гордей',\n",
       "       'Эльза', 'Гектор', 'Андрей', 'Рафаэль', 'Фёдор', 'Харитон',\n",
       "       'Еремей', 'Всеволод', 'Софья', 'Авксентий', 'Виолетта', 'Ириней',\n",
       "       'Гелена', 'Ксения', 'Вениамин', 'Вероника', 'Даниэла', 'Алла',\n",
       "       'Элеонора', 'Аюна', 'Руслан', 'Онисим', 'Марта', 'Эльвира',\n",
       "       'Габриэль', 'Милана', 'Арнольд', 'Маргарита', 'Рашид', 'Альберта',\n",
       "       'Дана', 'Вера', 'Олег', 'Альбин', 'Сабина', 'Яна', 'Анвар',\n",
       "       'Инара', 'Нина', 'Надежда', 'Марьяна', 'Милена', 'Пётр', 'Леся',\n",
       "       'Светлана', 'Клариса', 'Симона', 'Арсен', 'Ефим', 'Юлий',\n",
       "       'Владимир', 'Евдокия', 'Алиса', 'Майя', 'Лариса', 'Марина',\n",
       "       'Валерий', 'Виктория', 'Игорь', 'Эльга', 'Лев', 'Геральд',\n",
       "       'Клавдия', 'Лилия', 'Георгина', 'Вадим', 'Каролина', 'Алан',\n",
       "       'Агафья', 'Лолита', 'Радим', 'Наталья', 'Рем', 'Снежана',\n",
       "       'Мануэла', 'Рэм', 'Виталий', 'Рауль', 'Степан', 'Егор', 'Демьян',\n",
       "       'Агата', 'Геннадий', 'Адам', 'Мирослава', 'Елена', 'Ева',\n",
       "       'Евфросинья', 'Арина', 'Гайдар', 'Артемий', 'Рустам', 'Ермолай',\n",
       "       'Кузьма', 'Рубен', 'Ахмет', 'Раиса', 'Денис', 'Нелли', 'Сара',\n",
       "       'Роксана', 'Леон', 'Алина', 'Даниил', 'Зинаида', 'Артём',\n",
       "       'Анатолий', 'Лейла', 'Александра', 'Серафима', 'Алевтина',\n",
       "       'Эмилия', 'Мадина', 'Антонина', 'Саида', 'Трофим', 'Аким',\n",
       "       'Мальвина', 'Аурелия', 'Мстислав', 'Аксён', 'Семён', 'Валерия',\n",
       "       'Григорий', 'Таисия', 'Арсений', 'Эдита', 'Дебора', 'Олеся',\n",
       "       'Альфред', 'Тихон', 'Наида', 'Илья', 'Инесса', 'Юлия', 'Рудольф',\n",
       "       'Максим', 'Инга', 'Эсмеральда', 'Дайна', 'Джозефина', 'Тимофей',\n",
       "       'Виктор', 'Валентина', 'Анита', 'Илзе', 'Галина', 'Варвара',\n",
       "       'Анфиса', 'Доминика', 'Касьян', 'Лаура', 'Рената', 'Оксана',\n",
       "       'Георгий', 'Лидия', 'Евгения', 'Фаддей', 'Герасим', 'Радомир',\n",
       "       'Ренат', 'Владислава', 'Роберт', 'Элина', 'Станислав', 'Элла',\n",
       "       'Гарри', 'Берта', 'Геодар', 'Эльмира', 'Клара', 'Камилла',\n",
       "       'Джулия', 'Карина', 'Нателла', 'Леонтий', 'Ростислав', 'Ангелина',\n",
       "       'Алёна', 'Ринат', 'Эллада', 'Руслана', 'Трифон', 'Исаак',\n",
       "       'Николай'], dtype=object)"
      ]
     },
     "execution_count": 32,
     "metadata": {},
     "output_type": "execute_result"
    }
   ],
   "source": [
    "df['first_name'].unique()"
   ]
  },
  {
   "cell_type": "markdown",
   "id": "8806912e",
   "metadata": {},
   "source": [
    "Для контроля также буду смотреть не только имя, но и фамилию. У женщин она часто на а/я, у мужчин нет."
   ]
  },
  {
   "cell_type": "code",
   "execution_count": 33,
   "id": "927c2d91",
   "metadata": {},
   "outputs": [
    {
     "name": "stdout",
     "output_type": "stream",
     "text": [
      "Женские имена (заканчиваются на а/я) \n",
      "\n",
      "['Агата', 'Агафья', 'Агнесса', 'Алевтина', 'Александра', 'Алина', 'Алиса', 'Алла', 'Альберта', 'Алёна', 'Ангелина', 'Анжелика', 'Анита', 'Антонина', 'Анфиса', 'Арина', 'Аурелия', 'Аюна', 'Белла', 'Берта', 'Валентина', 'Валерия', 'Варвара', 'Василиса', 'Вера', 'Вероника', 'Веселина', 'Виктория', 'Виолетта', 'Владислава', 'Галина', 'Гелена', 'Георгина', 'Дайна', 'Дана', 'Даниэла', 'Дебора', 'Джемма', 'Джозефина', 'Джулия', 'Динара', 'Доминика', 'Ева', 'Евгения', 'Евдокия', 'Евфросинья', 'Екатерина', 'Елена', 'Зинаида', 'Изольда', 'Илья', 'Инара', 'Инга', 'Инесса', 'Инна', 'Камилла', 'Карина', 'Каролина', 'Клавдия', 'Клара', 'Клариса', 'Кристина', 'Ксения', 'Кузьма', 'Лариса', 'Лаура', 'Лейла', 'Леся', 'Лидия', 'Лилия', 'Лия', 'Лола', 'Лолита', 'Луиза', 'Людмила', 'Мадина', 'Майя', 'Мальвина', 'Мануэла', 'Маргарита', 'Марианна', 'Мариетта', 'Марина', 'Марица', 'Мария', 'Марта', 'Марьяна', 'Милана', 'Милена', 'Милица', 'Мирослава', 'Надежда', 'Наида', 'Наталья', 'Нателла', 'Нина', 'Оксана', 'Олеся', 'Раиса', 'Рената', 'Роза', 'Розалия', 'Роксана', 'Рузана', 'Руслана', 'Сабина', 'Саида', 'Сара', 'Светлана', 'Серафима', 'Симона', 'Снежана', 'Софья', 'Таира', 'Таисия', 'Тала', 'Тамара', 'Татьяна', 'Эдита', 'Элеонора', 'Элина', 'Элла', 'Эллада', 'Эльвира', 'Эльга', 'Эльза', 'Эльмира', 'Эмилия', 'Эсмеральда', 'Юзефа', 'Юлия', 'Юна', 'Яна']\n",
      "\n",
      " Фамилии не на а/я при условии что имя заканчивается на а/я \n",
      "\n",
      "['Авдеенко', 'Авраменко', 'Акуленко', 'Алексеенко', 'Алёшко', 'Андреенко', 'Андрющенко', 'Анищенко', 'Артемчук', 'Артёменко', 'Астапенко', 'Некрасов', 'Соловьёв']\n"
     ]
    }
   ],
   "source": [
    "print('Женские имена (заканчиваются на а/я) \\n')\n",
    "print(sorted(df[df['first_name'].str.contains('[ая]$',regex=True)]['first_name'].unique()))\n",
    "\n",
    "print(\"\\n Фамилии не на а/я при условии что имя заканчивается на а/я \\n\")\n",
    "print(sorted(df[df['first_name'].str.contains('[ая]$',regex=True)&df['last_name'].str.contains('[^ая]$',regex=True)]['last_name'].unique()))"
   ]
  },
  {
   "cell_type": "markdown",
   "id": "9eaa2cde",
   "metadata": {},
   "source": [
    "Видно два имени: \"Илья\", 'Кузьма'. Это исключения будут"
   ]
  },
  {
   "cell_type": "code",
   "execution_count": 34,
   "id": "621a448b",
   "metadata": {},
   "outputs": [
    {
     "data": {
      "text/html": [
       "<div>\n",
       "<style scoped>\n",
       "    .dataframe tbody tr th:only-of-type {\n",
       "        vertical-align: middle;\n",
       "    }\n",
       "\n",
       "    .dataframe tbody tr th {\n",
       "        vertical-align: top;\n",
       "    }\n",
       "\n",
       "    .dataframe thead th {\n",
       "        text-align: right;\n",
       "    }\n",
       "</style>\n",
       "<table border=\"1\" class=\"dataframe\">\n",
       "  <thead>\n",
       "    <tr style=\"text-align: right;\">\n",
       "      <th></th>\n",
       "      <th>first_name</th>\n",
       "      <th>last_name</th>\n",
       "    </tr>\n",
       "  </thead>\n",
       "  <tbody>\n",
       "    <tr>\n",
       "      <td>1377</td>\n",
       "      <td>Кузьма</td>\n",
       "      <td>Некрасов</td>\n",
       "    </tr>\n",
       "    <tr>\n",
       "      <td>1908</td>\n",
       "      <td>Илья</td>\n",
       "      <td>Соловьёв</td>\n",
       "    </tr>\n",
       "    <tr>\n",
       "      <td>2863</td>\n",
       "      <td>Кузьма</td>\n",
       "      <td>Акуленко</td>\n",
       "    </tr>\n",
       "  </tbody>\n",
       "</table>\n",
       "</div>"
      ],
      "text/plain": [
       "     first_name last_name\n",
       "1377     Кузьма  Некрасов\n",
       "1908       Илья  Соловьёв\n",
       "2863     Кузьма  Акуленко"
      ]
     },
     "execution_count": 34,
     "metadata": {},
     "output_type": "execute_result"
    }
   ],
   "source": [
    "df[df['first_name'].isin([\"Илья\", 'Кузьма'])][['first_name', 'last_name']].drop_duplicates()\n"
   ]
  },
  {
   "cell_type": "code",
   "execution_count": 35,
   "id": "482cfdc8",
   "metadata": {},
   "outputs": [
    {
     "name": "stdout",
     "output_type": "stream",
     "text": [
      "Мужские имена (не заканчиваются на а/я) \n",
      "\n",
      "['Авксентий', 'Адам', 'Аким', 'Аксён', 'Алан', 'Александр', 'Алексей', 'Альбин', 'Альфред', 'Анатолий', 'Анвар', 'Андрей', 'Арнольд', 'Арсен', 'Арсений', 'Артемий', 'Артём', 'Афанасий', 'Ахмет', 'Борис', 'Вадим', 'Валерий', 'Варлам', 'Вениамин', 'Виктор', 'Виталий', 'Владимир', 'Владислав', 'Всеволод', 'Габриель', 'Габриэль', 'Гайдар', 'Гарри', 'Гектор', 'Геннадий', 'Геодар', 'Георгий', 'Геральд', 'Герасим', 'Глеб', 'Гордей', 'Григорий', 'Даниил', 'Демьян', 'Денис', 'Евгений', 'Егор', 'Еремей', 'Ермолай', 'Ефим', 'Иван', 'Игнатий', 'Игорь', 'Илзе', 'Иннокентий', 'Ириней', 'Исаак', 'Исак', 'Иулиан', 'Касьян', 'Ким', 'Константин', 'Лаврентий', 'Лев', 'Леон', 'Леонид', 'Леонтий', 'Лукий', 'Максим', 'Матвей', 'Михаил', 'Мстислав', 'Нелли', 'Николай', 'Олег', 'Онисим', 'Павел', 'Пётр', 'Радим', 'Радислав', 'Радомир', 'Рауль', 'Рафаил', 'Рафаэль', 'Рашид', 'Рем', 'Ренальд', 'Ренат', 'Ринат', 'Роберт', 'Ростислав', 'Рубен', 'Рудольф', 'Руслан', 'Рустам', 'Рустем', 'Рустэм', 'Рэм', 'Святослав', 'Семён', 'Станислав', 'Степан', 'Тимофей', 'Тихон', 'Трифон', 'Трофим', 'Фаддей', 'Фёдор', 'Харитон', 'Эдуард', 'Юлий', 'Юрий', 'Яков']\n",
      "\n",
      " Фамилии на а/я при условии что имя не заканчивается на а/я \n",
      "\n",
      "['Абалдуева', 'Зубкова', 'Игнатьева', 'Кочергина']\n"
     ]
    }
   ],
   "source": [
    "print('Мужские имена (не заканчиваются на а/я) \\n')\n",
    "print(sorted(df[df['first_name'].str.contains('[^ая]$',regex=True)]['first_name'].unique()))\n",
    "\n",
    "print(\"\\n Фамилии на а/я при условии что имя не заканчивается на а/я \\n\")\n",
    "print(sorted(df[df['first_name'].str.contains('[^ая]$',regex=True)&df['last_name'].str.contains('[ая]$',regex=True)]['last_name'].unique()))"
   ]
  },
  {
   "cell_type": "markdown",
   "id": "20d49328",
   "metadata": {},
   "source": [
    "Видно два женских имени: \"Илзе\", 'Нелли'. Это исключения будут"
   ]
  },
  {
   "cell_type": "code",
   "execution_count": 36,
   "id": "f15380e9",
   "metadata": {
    "scrolled": true
   },
   "outputs": [
    {
     "data": {
      "text/html": [
       "<div>\n",
       "<style scoped>\n",
       "    .dataframe tbody tr th:only-of-type {\n",
       "        vertical-align: middle;\n",
       "    }\n",
       "\n",
       "    .dataframe tbody tr th {\n",
       "        vertical-align: top;\n",
       "    }\n",
       "\n",
       "    .dataframe thead th {\n",
       "        text-align: right;\n",
       "    }\n",
       "</style>\n",
       "<table border=\"1\" class=\"dataframe\">\n",
       "  <thead>\n",
       "    <tr style=\"text-align: right;\">\n",
       "      <th></th>\n",
       "      <th>first_name</th>\n",
       "      <th>last_name</th>\n",
       "    </tr>\n",
       "  </thead>\n",
       "  <tbody>\n",
       "    <tr>\n",
       "      <td>1450</td>\n",
       "      <td>Нелли</td>\n",
       "      <td>Зубкова</td>\n",
       "    </tr>\n",
       "    <tr>\n",
       "      <td>2152</td>\n",
       "      <td>Илзе</td>\n",
       "      <td>Игнатьева</td>\n",
       "    </tr>\n",
       "    <tr>\n",
       "      <td>2318</td>\n",
       "      <td>Нелли</td>\n",
       "      <td>Афанасенко</td>\n",
       "    </tr>\n",
       "    <tr>\n",
       "      <td>2381</td>\n",
       "      <td>Нелли</td>\n",
       "      <td>Кочергина</td>\n",
       "    </tr>\n",
       "    <tr>\n",
       "      <td>3098</td>\n",
       "      <td>Илзе</td>\n",
       "      <td>Абалдуева</td>\n",
       "    </tr>\n",
       "  </tbody>\n",
       "</table>\n",
       "</div>"
      ],
      "text/plain": [
       "     first_name   last_name\n",
       "1450      Нелли     Зубкова\n",
       "2152       Илзе   Игнатьева\n",
       "2318      Нелли  Афанасенко\n",
       "2381      Нелли   Кочергина\n",
       "3098       Илзе   Абалдуева"
      ]
     },
     "execution_count": 36,
     "metadata": {},
     "output_type": "execute_result"
    }
   ],
   "source": [
    "df[df['first_name'].isin([\"Илзе\", 'Нелли'])][['first_name', 'last_name']].drop_duplicates()"
   ]
  },
  {
   "cell_type": "markdown",
   "id": "a0bc6a67",
   "metadata": {},
   "source": [
    "Делаем замену"
   ]
  },
  {
   "cell_type": "code",
   "execution_count": 37,
   "id": "8a59059a",
   "metadata": {},
   "outputs": [
    {
     "data": {
      "text/html": [
       "<div>\n",
       "<style scoped>\n",
       "    .dataframe tbody tr th:only-of-type {\n",
       "        vertical-align: middle;\n",
       "    }\n",
       "\n",
       "    .dataframe tbody tr th {\n",
       "        vertical-align: top;\n",
       "    }\n",
       "\n",
       "    .dataframe thead th {\n",
       "        text-align: right;\n",
       "    }\n",
       "</style>\n",
       "<table border=\"1\" class=\"dataframe\">\n",
       "  <thead>\n",
       "    <tr style=\"text-align: right;\">\n",
       "      <th></th>\n",
       "      <th>first_name</th>\n",
       "      <th>gender</th>\n",
       "    </tr>\n",
       "  </thead>\n",
       "  <tbody>\n",
       "    <tr>\n",
       "      <td>0</td>\n",
       "      <td>Рафаил</td>\n",
       "      <td>M</td>\n",
       "    </tr>\n",
       "    <tr>\n",
       "      <td>8</td>\n",
       "      <td>Иван</td>\n",
       "      <td>M</td>\n",
       "    </tr>\n",
       "    <tr>\n",
       "      <td>10</td>\n",
       "      <td>Евгений</td>\n",
       "      <td>M</td>\n",
       "    </tr>\n",
       "    <tr>\n",
       "      <td>17</td>\n",
       "      <td>Белла</td>\n",
       "      <td>F</td>\n",
       "    </tr>\n",
       "    <tr>\n",
       "      <td>22</td>\n",
       "      <td>Татьяна</td>\n",
       "      <td>F</td>\n",
       "    </tr>\n",
       "    <tr>\n",
       "      <td>...</td>\n",
       "      <td>...</td>\n",
       "      <td>...</td>\n",
       "    </tr>\n",
       "    <tr>\n",
       "      <td>2990</td>\n",
       "      <td>Эллада</td>\n",
       "      <td>F</td>\n",
       "    </tr>\n",
       "    <tr>\n",
       "      <td>3132</td>\n",
       "      <td>Руслана</td>\n",
       "      <td>F</td>\n",
       "    </tr>\n",
       "    <tr>\n",
       "      <td>3151</td>\n",
       "      <td>Трифон</td>\n",
       "      <td>M</td>\n",
       "    </tr>\n",
       "    <tr>\n",
       "      <td>3182</td>\n",
       "      <td>Исаак</td>\n",
       "      <td>M</td>\n",
       "    </tr>\n",
       "    <tr>\n",
       "      <td>3203</td>\n",
       "      <td>Николай</td>\n",
       "      <td>M</td>\n",
       "    </tr>\n",
       "  </tbody>\n",
       "</table>\n",
       "<p>246 rows × 2 columns</p>\n",
       "</div>"
      ],
      "text/plain": [
       "     first_name gender\n",
       "0        Рафаил      M\n",
       "8          Иван      M\n",
       "10      Евгений      M\n",
       "17        Белла      F\n",
       "22      Татьяна      F\n",
       "...         ...    ...\n",
       "2990     Эллада      F\n",
       "3132    Руслана      F\n",
       "3151     Трифон      M\n",
       "3182      Исаак      M\n",
       "3203    Николай      M\n",
       "\n",
       "[246 rows x 2 columns]"
      ]
     },
     "execution_count": 37,
     "metadata": {},
     "output_type": "execute_result"
    }
   ],
   "source": [
    "# Делаем новый столбец\n",
    "df['gender']=df['first_name'].apply(lambda x: \"F\" if (x[-1]==\"а\")|(x[-1]==\"я\") else \"M\")\n",
    "# учитываем исключения\n",
    "df['gender']=df.apply(lambda x: \"F\" if (x.first_name==\"Илзе\")|(x.first_name==\"Нелли\") else x.gender, axis=1)\n",
    "df['gender']=df.apply(lambda x: \"M\" if (x.first_name==\"Илья\")|(x.first_name==\"Кузьма\") else x.gender, axis=1)\n",
    "\n",
    "# смотрим что получилось\n",
    "df[['first_name', 'gender']].drop_duplicates()"
   ]
  },
  {
   "cell_type": "code",
   "execution_count": 38,
   "id": "6ad6306a",
   "metadata": {},
   "outputs": [
    {
     "data": {
      "text/html": [
       "<div>\n",
       "<style scoped>\n",
       "    .dataframe tbody tr th:only-of-type {\n",
       "        vertical-align: middle;\n",
       "    }\n",
       "\n",
       "    .dataframe tbody tr th {\n",
       "        vertical-align: top;\n",
       "    }\n",
       "\n",
       "    .dataframe thead th {\n",
       "        text-align: right;\n",
       "    }\n",
       "</style>\n",
       "<table border=\"1\" class=\"dataframe\">\n",
       "  <thead>\n",
       "    <tr style=\"text-align: right;\">\n",
       "      <th></th>\n",
       "      <th>first_name</th>\n",
       "      <th>last_name</th>\n",
       "      <th>gender</th>\n",
       "    </tr>\n",
       "  </thead>\n",
       "  <tbody>\n",
       "    <tr>\n",
       "      <td>1377</td>\n",
       "      <td>Кузьма</td>\n",
       "      <td>Некрасов</td>\n",
       "      <td>M</td>\n",
       "    </tr>\n",
       "    <tr>\n",
       "      <td>1450</td>\n",
       "      <td>Нелли</td>\n",
       "      <td>Зубкова</td>\n",
       "      <td>F</td>\n",
       "    </tr>\n",
       "    <tr>\n",
       "      <td>1908</td>\n",
       "      <td>Илья</td>\n",
       "      <td>Соловьёв</td>\n",
       "      <td>M</td>\n",
       "    </tr>\n",
       "    <tr>\n",
       "      <td>2152</td>\n",
       "      <td>Илзе</td>\n",
       "      <td>Игнатьева</td>\n",
       "      <td>F</td>\n",
       "    </tr>\n",
       "    <tr>\n",
       "      <td>2318</td>\n",
       "      <td>Нелли</td>\n",
       "      <td>Афанасенко</td>\n",
       "      <td>F</td>\n",
       "    </tr>\n",
       "    <tr>\n",
       "      <td>2381</td>\n",
       "      <td>Нелли</td>\n",
       "      <td>Кочергина</td>\n",
       "      <td>F</td>\n",
       "    </tr>\n",
       "    <tr>\n",
       "      <td>2863</td>\n",
       "      <td>Кузьма</td>\n",
       "      <td>Акуленко</td>\n",
       "      <td>M</td>\n",
       "    </tr>\n",
       "    <tr>\n",
       "      <td>3098</td>\n",
       "      <td>Илзе</td>\n",
       "      <td>Абалдуева</td>\n",
       "      <td>F</td>\n",
       "    </tr>\n",
       "  </tbody>\n",
       "</table>\n",
       "</div>"
      ],
      "text/plain": [
       "     first_name   last_name gender\n",
       "1377     Кузьма    Некрасов      M\n",
       "1450      Нелли     Зубкова      F\n",
       "1908       Илья    Соловьёв      M\n",
       "2152       Илзе   Игнатьева      F\n",
       "2318      Нелли  Афанасенко      F\n",
       "2381      Нелли   Кочергина      F\n",
       "2863     Кузьма    Акуленко      M\n",
       "3098       Илзе   Абалдуева      F"
      ]
     },
     "execution_count": 38,
     "metadata": {},
     "output_type": "execute_result"
    }
   ],
   "source": [
    "# Проверяем исключения\n",
    "df[df['first_name'].isin([\"Илзе\", 'Нелли',\"Илья\", 'Кузьма'])][['first_name', 'last_name', 'gender']].drop_duplicates()"
   ]
  },
  {
   "cell_type": "markdown",
   "id": "c3724729",
   "metadata": {},
   "source": [
    "<div class=\"alert alert-success\"> \n",
    "<div style=\"border:solid white 3px; padding: 10px\">\n",
    "<b> Комментарий ревьюера v2 ✔️: </b> 👍"
   ]
  },
  {
   "cell_type": "markdown",
   "id": "eb2f03b1",
   "metadata": {},
   "source": [
    "# Проверка гипотез"
   ]
  },
  {
   "cell_type": "markdown",
   "id": "8745cce0",
   "metadata": {},
   "source": [
    "## Гипотеза 1. Средняя выручка тарифов равна или различается\n",
    "\n",
    "Будем использовать  t-критерий Стьюдента, так как сравниваемые выборки независимы между собой. Так как гистограммы сильно отличаются, поведение на тарифах также отличается, то считаем дисперсии различными\n",
    "Из данных мы знаем, что средняя выручка пользователей тарифов «Ультра» значительно больше чем на средняя вырсчка на «Смарт», поэтому тестировать будем одностороннюю гипотезу.\n",
    "\n",
    "**H<sub>0</sub>**: средняя выручка пользователей тарифов «Ультра» и «Смарт» равна<br>\n",
    "**H<sub>1</sub>**: средняя выручка пользователей тарифов «Ультра» больше чем на «Смарт»\n",
    "\n",
    "Уровень значимости alpha = 0.01\n",
    "\n"
   ]
  },
  {
   "cell_type": "markdown",
   "id": "68ade66a",
   "metadata": {},
   "source": [
    "<div class=\"alert alert-success\">\n",
    "<b>Комментарий ревьюера ✔️:</b> Огромное спасибо, что ты подробно расписываешь теоретическую часть проекта. Очень приятно понимать, что выполнено осмысленно и вдумчиво!\n",
    "    \n",
    "- Хорошее замечание, что достаточно рассмотреть одностороннюю гипотезу\n",
    "- Правильно отмечаешь, что у нас есть основание предполагать, что дисперсии генеральных совокупностей различаются\n",
    "\n",
    "</div>"
   ]
  },
  {
   "cell_type": "markdown",
   "id": "ff95155b",
   "metadata": {},
   "source": [
    "### Анализ выбросов"
   ]
  },
  {
   "cell_type": "code",
   "execution_count": 39,
   "id": "9cae1a18",
   "metadata": {},
   "outputs": [
    {
     "data": {
      "image/png": "[encoded data removed]",
      "text/plain": [
       "<Figure size 720x504 with 1 Axes>"
      ]
     },
     "metadata": {},
     "output_type": "display_data"
    }
   ],
   "source": [
    "show_hist_tarifs(df.query('amount_user_month > 2000'), 'amount_user_month')"
   ]
  },
  {
   "cell_type": "code",
   "execution_count": 40,
   "id": "fb3834a6",
   "metadata": {},
   "outputs": [
    {
     "name": "stdout",
     "output_type": "stream",
     "text": [
      "count   2,229.00\n",
      "mean    1,289.97\n",
      "std       818.40\n",
      "min       550.00\n",
      "25%       550.00\n",
      "50%     1,023.00\n",
      "75%     1,750.00\n",
      "max     6,770.00\n",
      "Name: amount_user_month, dtype: float64\n",
      "count     985.00\n",
      "mean    2,070.15\n",
      "std       376.19\n",
      "min     1,950.00\n",
      "25%     1,950.00\n",
      "50%     1,950.00\n",
      "75%     1,950.00\n",
      "max     4,800.00\n",
      "Name: amount_user_month, dtype: float64\n"
     ]
    }
   ],
   "source": [
    "print(df.query('tariff == \"smart\"')['amount_user_month'].describe())\n",
    "print(df.query('tariff == \"ultra\"')['amount_user_month'].describe())"
   ]
  },
  {
   "cell_type": "markdown",
   "id": "855f2bda",
   "metadata": {},
   "source": [
    "----------------------------------------------------\n",
    "На t-критерий сильно влияют выбросы. \n",
    "\n",
    "по гистограмме и методу 3 сигм считаем выбросами \n",
    "- для тарифа ultra траты более 4000\n",
    "- для тарифа smart траты более 4000\n",
    "\n",
    "Уберем все строки с такими выручками, считая их аномалиями"
   ]
  },
  {
   "cell_type": "markdown",
   "id": "6d5a9c56",
   "metadata": {},
   "source": [
    "<div class=\"alert alert-success\">\n",
    "<b>Комментарий ревьюера ✔️:</b> Супер, очень подробный анализ!\n",
    "    \n",
    "Могу посоветовать добавить `boxplot`, он особенно удобен для определения выбросов. Еще можно написать функцию, которая бы удаляла выбросы по IQR.\n",
    "\n",
    "</div>"
   ]
  },
  {
   "cell_type": "code",
   "execution_count": 41,
   "id": "b957be26",
   "metadata": {},
   "outputs": [
    {
     "name": "stdout",
     "output_type": "stream",
     "text": [
      "18\n",
      "4\n"
     ]
    }
   ],
   "source": [
    "print(df.query('tariff == \"smart\" and amount_user_month >= 4000')['amount_user_month'].count())\n",
    "print(df.query('tariff == \"ultra\" and amount_user_month >= 4000')['amount_user_month'].count())"
   ]
  },
  {
   "cell_type": "markdown",
   "id": "0830e716",
   "metadata": {},
   "source": [
    "Доля строк для удаления \n",
    "* tariff == \"smart\":  18/2229 = 0.8 %\n",
    "* tariff == \"ultra\":  4/985 = 0.4 %\n",
    "\n",
    "Вполне приемлемо. Убираем выбросы"
   ]
  },
  {
   "cell_type": "markdown",
   "id": "2f0588da",
   "metadata": {},
   "source": [
    "<div class=\"alert alert-success\">\n",
    "<b>Комментарий ревьюера ✔️:</b> 👍\n",
    "\n",
    "</div>"
   ]
  },
  {
   "cell_type": "code",
   "execution_count": 42,
   "id": "050c0568",
   "metadata": {},
   "outputs": [],
   "source": [
    "df_hyp1 = df.query('tariff == \"smart\" and amount_user_month < 4000 or tariff == \"ultra\" and amount_user_month < 4000')"
   ]
  },
  {
   "cell_type": "markdown",
   "id": "2cd83e94",
   "metadata": {},
   "source": [
    "Рассчитаем статистики"
   ]
  },
  {
   "cell_type": "code",
   "execution_count": 43,
   "id": "49f535d5",
   "metadata": {
    "scrolled": true
   },
   "outputs": [
    {
     "data": {
      "text/html": [
       "<div>\n",
       "<style scoped>\n",
       "    .dataframe tbody tr th:only-of-type {\n",
       "        vertical-align: middle;\n",
       "    }\n",
       "\n",
       "    .dataframe tbody tr th {\n",
       "        vertical-align: top;\n",
       "    }\n",
       "\n",
       "    .dataframe thead th {\n",
       "        text-align: right;\n",
       "    }\n",
       "</style>\n",
       "<table border=\"1\" class=\"dataframe\">\n",
       "  <thead>\n",
       "    <tr style=\"text-align: right;\">\n",
       "      <th>tariff_name</th>\n",
       "      <th>smart</th>\n",
       "      <th>ultra</th>\n",
       "    </tr>\n",
       "  </thead>\n",
       "  <tbody>\n",
       "    <tr>\n",
       "      <td>count</td>\n",
       "      <td>2,229.00</td>\n",
       "      <td>985.00</td>\n",
       "    </tr>\n",
       "    <tr>\n",
       "      <td>mean</td>\n",
       "      <td>1,289.97</td>\n",
       "      <td>2,070.15</td>\n",
       "    </tr>\n",
       "    <tr>\n",
       "      <td>std</td>\n",
       "      <td>818.40</td>\n",
       "      <td>376.19</td>\n",
       "    </tr>\n",
       "    <tr>\n",
       "      <td>min</td>\n",
       "      <td>550.00</td>\n",
       "      <td>1,950.00</td>\n",
       "    </tr>\n",
       "    <tr>\n",
       "      <td>50%</td>\n",
       "      <td>1,023.00</td>\n",
       "      <td>1,950.00</td>\n",
       "    </tr>\n",
       "    <tr>\n",
       "      <td>max</td>\n",
       "      <td>6,770.00</td>\n",
       "      <td>4,800.00</td>\n",
       "    </tr>\n",
       "  </tbody>\n",
       "</table>\n",
       "</div>"
      ],
      "text/plain": [
       "tariff_name    smart    ultra\n",
       "count       2,229.00   985.00\n",
       "mean        1,289.97 2,070.15\n",
       "std           818.40   376.19\n",
       "min           550.00 1,950.00\n",
       "50%         1,023.00 1,950.00\n",
       "max         6,770.00 4,800.00"
      ]
     },
     "execution_count": 43,
     "metadata": {},
     "output_type": "execute_result"
    }
   ],
   "source": [
    "df.groupby('tariff_name')['amount_user_month'].describe(percentiles=[]).transpose()"
   ]
  },
  {
   "cell_type": "markdown",
   "id": "60fa8b59",
   "metadata": {},
   "source": [
    "### Тестирование гипотезы"
   ]
  },
  {
   "cell_type": "code",
   "execution_count": 44,
   "id": "f51a642d",
   "metadata": {},
   "outputs": [],
   "source": [
    "results = st.ttest_ind(\n",
    "    df_hyp1.query('tariff == \"ultra\"')['amount_user_month'], \n",
    "    df_hyp1.query('tariff == \"smart\"')['amount_user_month'], \n",
    "    equal_var = False\n",
    ")"
   ]
  },
  {
   "cell_type": "code",
   "execution_count": 45,
   "id": "d1884ce1",
   "metadata": {},
   "outputs": [
    {
     "name": "stdout",
     "output_type": "stream",
     "text": [
      "p-значение:  2.2416737221218517e-297\n",
      "Гипотеза H0 равенства средних отвергается. Принимаем гипотезу H1 о отличии средних\n"
     ]
    }
   ],
   "source": [
    "alpha = 0.01\n",
    "print('p-значение: ', results.pvalue/2)\n",
    "if alpha > results.pvalue/2:\n",
    "    print('Гипотеза H0 равенства средних отвергается. Принимаем гипотезу H1 о отличии средних')\n",
    "else:\n",
    "    print('Гипотеза H0 равенства средних не может быть отвергнута.')"
   ]
  },
  {
   "cell_type": "markdown",
   "id": "8992cc28",
   "metadata": {},
   "source": [
    "**ВЫВОД:** Гипотеза о равенстве средних должна быть отклонена. Принимаем гипотезу, что средняя выручка пользователей тарифа «Ультра» превышает выручку от тарифа «Смарт»"
   ]
  },
  {
   "cell_type": "markdown",
   "id": "27954fe7",
   "metadata": {},
   "source": [
    "<div class=\"alert alert-success\">\n",
    "<b>Комментарий ревьюера ✔️:</b> Все верно\n",
    "\n",
    "</div>"
   ]
  },
  {
   "cell_type": "markdown",
   "id": "27e2def5",
   "metadata": {},
   "source": [
    "## Гипотеза 2. Средняя выручка Москвы и остальных различается\n",
    "\n",
    "Посмотрим на гистограммы сначала. Строим для Москвы и для остальных гистограмму затрат (выручки)<br>\n",
    "Саму гипотезу сформулируем чуть позже, после ознакомления с данными в изучаемом разрезе"
   ]
  },
  {
   "cell_type": "code",
   "execution_count": 46,
   "id": "02fe4c16",
   "metadata": {},
   "outputs": [
    {
     "data": {
      "image/png": "[encoded data removed]",
      "text/plain": [
       "<Figure size 720x504 with 1 Axes>"
      ]
     },
     "metadata": {},
     "output_type": "display_data"
    }
   ],
   "source": [
    "ax = df.query('is_moscow == True').plot(kind='hist', y='amount_user_month', histtype='step',\n",
    "    density=True,\n",
    "    bins=15,\n",
    "    alpha=0.7,\n",
    "    linewidth=3,\n",
    "    label='Москва',\n",
    "    figsize=(10,7)\n",
    "    )\n",
    "df.query('is_moscow == False').plot(kind='hist', y='amount_user_month', histtype='step',\n",
    "    density=True,\n",
    "    bins=15,\n",
    "    alpha=0.7,\n",
    "    linewidth=3,\n",
    "    label='другие',\n",
    "    ax=ax,\n",
    "    figsize=(10,7),\n",
    "    title = \"Гистограмма Москва VS другие регионы\"\n",
    "    )\n",
    "plt.xlabel(\"выручка, руб в мес\")\n",
    "plt.show;"
   ]
  },
  {
   "cell_type": "markdown",
   "id": "1d4d69a5",
   "metadata": {},
   "source": [
    "Посмотрим также описательные статистики"
   ]
  },
  {
   "cell_type": "code",
   "execution_count": 47,
   "id": "d2557700",
   "metadata": {},
   "outputs": [
    {
     "name": "stdout",
     "output_type": "stream",
     "text": [
      "count     611.00\n",
      "mean    1,546.71\n",
      "std       752.09\n",
      "min       550.00\n",
      "25%       780.50\n",
      "50%     1,750.00\n",
      "75%     1,950.00\n",
      "max     5,321.00\n",
      "Name: amount_user_month, dtype: float64\n",
      "count   2,603.00\n",
      "mean    1,524.94\n",
      "std       808.79\n",
      "min       550.00\n",
      "25%       750.00\n",
      "50%     1,583.00\n",
      "75%     1,950.00\n",
      "max     6,770.00\n",
      "Name: amount_user_month, dtype: float64\n"
     ]
    }
   ],
   "source": [
    "print(df.query('city == \"Москва\"')['amount_user_month'].describe())\n",
    "print(df.query('city != \"Москва\"')['amount_user_month'].describe())"
   ]
  },
  {
   "cell_type": "markdown",
   "id": "d0ae29f7",
   "metadata": {},
   "source": [
    "----------------------------------------------------\n",
    "На t-критерий сильно влияют выбросы. \n",
    "\n",
    "по гистограмме и методу 3 сигм считаем выбросами \n",
    "- для Москвы траты более 4000\n",
    "- для неМосквы траты более 4000\n",
    "\n",
    "Уберем все строки с такими выручками, считая их аномалиями"
   ]
  },
  {
   "cell_type": "code",
   "execution_count": 48,
   "id": "7db63691",
   "metadata": {},
   "outputs": [],
   "source": [
    "df_hyp2 = df.query('amount_user_month < 4000')"
   ]
  },
  {
   "cell_type": "markdown",
   "id": "d0e84c2d",
   "metadata": {},
   "source": [
    "Будем использовать  t-критерий Стьюдента, так как сравниваемые выборки независимы между собой. Так как гистограммы слабо отличаются, то считаем дисперсии равными\n",
    "\n",
    "**H<sub>0</sub>**: средняя выручка пользователей из Москвы равна от средней выручке пользователей из других регионов<br>\n",
    "**H<sub>1</sub>**: средняя выручка пользователей из Москвы отличается от выручки пользователей из других регионов\n",
    "\n",
    "Уровень значимости alpha = 0.01\n"
   ]
  },
  {
   "cell_type": "markdown",
   "id": "cf866619",
   "metadata": {},
   "source": [
    "<div class=\"alert alert-success\">\n",
    "<b>Комментарий ревьюера ✔️:</b> Справедливое замечание, что для этой гипотезы стоит считать дисперсии равными.\n",
    "\n",
    "</div>"
   ]
  },
  {
   "cell_type": "code",
   "execution_count": 49,
   "id": "2e5842da",
   "metadata": {},
   "outputs": [],
   "source": [
    "results = st.ttest_ind(\n",
    "    df_hyp2.query('city == \"Москва\"')['amount_user_month'], \n",
    "    df_hyp2.query('city != \"Москва\"')['amount_user_month'], \n",
    "    equal_var = True\n",
    ")"
   ]
  },
  {
   "cell_type": "code",
   "execution_count": 50,
   "id": "0026351d",
   "metadata": {
    "scrolled": true
   },
   "outputs": [
    {
     "name": "stdout",
     "output_type": "stream",
     "text": [
      "p-значение:  0.3542302705877831\n",
      "Гипотеза H0 равенства средних не может быть отвергнута.\n"
     ]
    }
   ],
   "source": [
    "alpha = 0.01\n",
    "print('p-значение: ', results.pvalue)\n",
    "if alpha > results.pvalue:\n",
    "    print('Гипотеза H0 равенства средних отвергается. Принимаем гипотезу H1 о отличии средних')\n",
    "else:\n",
    "    print('Гипотеза H0 равенства средних не может быть отвергнута.')"
   ]
  },
  {
   "cell_type": "markdown",
   "id": "3a33b10a",
   "metadata": {},
   "source": [
    "**ВЫВОД:** Гипотеза о равенстве средних ~должна быть принята~ не может быть отклонена. Средняя выручка пользователей из Москвы равна от средней выручке пользователей из других регионов"
   ]
  },
  {
   "cell_type": "markdown",
   "id": "dd5ac166",
   "metadata": {},
   "source": [
    "<div class=\"alert alert-success\">\n",
    "<b>Комментарий ревьюера ✔️:</b> Здорово, очень подробный и качественный статистический анализ!\n",
    "\n",
    "</div>"
   ]
  },
  {
   "cell_type": "markdown",
   "id": "452b3c39",
   "metadata": {},
   "source": [
    "<div class=\"alert alert-warning\">\n",
    "<b>Комментарий ревьюера ⚠️:</b> Нельзя подтвердить гипотезу данными, её можно только отвергнуть или не отвергнуть. \n",
    "    \n",
    "Поэтому мы не можем сделать **вывод**, что средняя выручка оператора, полученая в Москве, равна выручке, полученной в других регионах. Выборки, которыми мы располагаем, не позволяют нам отвергнуть гипотезу о равенстве выручек.\n",
    "    \n",
    "P.S. Это небольшая тонкость статистики, прошу не путать с занудство : )\n",
    "    \n",
    "</div>"
   ]
  },
  {
   "cell_type": "markdown",
   "id": "22d7a2a3",
   "metadata": {},
   "source": [
    "<div class=\"alert alert-info\">\n",
    "<b>Комментарий студента:</b> Спасибо за указание на неточность. Это была моя ошибка, я действительно в тот момент не до конца понимал этот нюанс. Потом на вебинаре нам уже наставник разжевал.\n",
    "\n",
    "</div>"
   ]
  },
  {
   "cell_type": "markdown",
   "id": "01baf788",
   "metadata": {},
   "source": [
    "<div class=\"alert alert-success\"> \n",
    "<div style=\"border:solid white 3px; padding: 10px\">\n",
    "<b> Комментарий ревьюера v2 ✔️: </b> 👌"
   ]
  },
  {
   "cell_type": "markdown",
   "id": "fb9ae201",
   "metadata": {},
   "source": [
    "## Посмотрим как люди тратят интернет и звонки"
   ]
  },
  {
   "cell_type": "markdown",
   "id": "bfef853f",
   "metadata": {},
   "source": [
    "Для формирования выводов и рекомендаций еще интересно посмотреть как соотносятся потребление минут и гигабайт"
   ]
  },
  {
   "cell_type": "code",
   "execution_count": 51,
   "id": "fc0bf899",
   "metadata": {},
   "outputs": [
    {
     "data": {
      "image/png": "[encoded data removed]",
      "text/plain": [
       "<Figure size 792x792 with 3 Axes>"
      ]
     },
     "metadata": {},
     "output_type": "display_data"
    }
   ],
   "source": [
    "# Строим jointplot seaborn\n",
    "g = sns.jointplot(y='calls_minutes', x='mb_used', data=df_hyp2\n",
    "    , kind='scatter'\n",
    "    , alpha=0.2\n",
    "    , edgecolor = 'none'\n",
    "    , height = 11\n",
    "    #, hue='is_moscow'\n",
    ");\n",
    "g.ax_joint.set_xlabel('MB')\n",
    "g.ax_joint.set_ylabel('минуты')\n",
    "plt.show()"
   ]
  },
  {
   "cell_type": "markdown",
   "id": "3ab08252",
   "metadata": {},
   "source": [
    "<div class=\"alert alert-success\">\n",
    "<b>Комментарий ревьюера ✔️:</b> Супер, красота!\n",
    "    \n",
    "А еще можно на scatter цветом выделить клиентов из Москвы и не из Москвы, любопытно посмотреть какое будет распределение\n",
    "\n",
    "</div>"
   ]
  },
  {
   "cell_type": "markdown",
   "id": "49943b2d",
   "metadata": {},
   "source": [
    "<div class=\"alert alert-info\">\n",
    "<b>Комментарий студента:</b> Выше, в разделе 7 добавил столбец с указанием признака is_moscow.\n",
    "    \n",
    "К сожалению версия сиборна на ЯндексПрактикуме лишь 0.9.0 а свежая 0.11.2. В свежей для выделения цветов на jointplot достаточно добавить параметр hue. В старой версии такого еще не сделали. Поэтому не буду упираться в jointplot и проще взять scatterplot\n",
    "    \n",
    "</div>"
   ]
  },
  {
   "cell_type": "markdown",
   "id": "244f6c88",
   "metadata": {},
   "source": [
    "<div class=\"alert alert-success\"> \n",
    "<div style=\"border:solid white 3px; padding: 10px\">\n",
    "<b> Комментарий ревьюера v2 ✔️: </b> Хорошо\n",
    "    \n"
   ]
  },
  {
   "cell_type": "code",
   "execution_count": 52,
   "id": "536c22d9",
   "metadata": {},
   "outputs": [
    {
     "data": {
      "image/png": "[encoded data removed]",
      "text/plain": [
       "<Figure size 648x432 with 1 Axes>"
      ]
     },
     "metadata": {},
     "output_type": "display_data"
    }
   ],
   "source": [
    "g= sns.scatterplot( x='mb_used', y='calls_minutes', data=df_hyp2, hue='is_moscow'\n",
    "                , alpha=0.3\n",
    "                , edgecolor = 'none'\n",
    "                #, height = 11\n",
    ");\n",
    "g.set_xlabel('MB')\n",
    "g.set_ylabel('минуты')\n",
    "plt.show()"
   ]
  },
  {
   "cell_type": "markdown",
   "id": "c37d6eea",
   "metadata": {},
   "source": [
    "<div class=\"alert alert-success\"> \n",
    "<div style=\"border:solid white 3px; padding: 10px\">\n",
    "<b> Комментарий ревьюера v2 ✔️: </b> Спасибо, что добавил этот график!\n",
    "    \n",
    "Ярких различий нет, но отсутствие различий тоже дает информацию о клиентах\n",
    "    \n"
   ]
  },
  {
   "cell_type": "markdown",
   "id": "e5aef045",
   "metadata": {},
   "source": [
    "<div class=\"alert alert-info\">\n",
    "<b>Комментарий студента:</b> Выше, в разделе 7 добавил столбец с указанеим гендера пользователя. Интересно посомтреть на то, как с учетом гендера идет потребление минут и мегабайт\n",
    "\n",
    "</div>"
   ]
  },
  {
   "cell_type": "code",
   "execution_count": 53,
   "id": "b485005a",
   "metadata": {},
   "outputs": [
    {
     "data": {
      "image/png": "[encoded data removed]",
      "text/plain": [
       "<Figure size 798.975x360 with 2 Axes>"
      ]
     },
     "metadata": {},
     "output_type": "display_data"
    }
   ],
   "source": [
    "sns.relplot(x='mb_used', y='calls_minutes', data=df_hyp2, col='is_moscow'\n",
    "            , hue='gender'\n",
    "            , alpha=0.3\n",
    "            , edgecolor = 'none'\n",
    "            );"
   ]
  },
  {
   "cell_type": "markdown",
   "id": "ae733b2b",
   "metadata": {},
   "source": [
    "<div class=\"alert alert-success\"> \n",
    "<div style=\"border:solid white 3px; padding: 10px\">\n",
    "<b> Комментарий ревьюера v2 ✔️: </b> 👍\n",
    "    \n",
    "Здорово, что еще и разбил на Москва--неМосква\n",
    "    "
   ]
  },
  {
   "cell_type": "code",
   "execution_count": 54,
   "id": "13eff443",
   "metadata": {
    "scrolled": false
   },
   "outputs": [
    {
     "data": {
      "image/png": "[encoded data removed]",
      "text/plain": [
       "<Figure size 648x432 with 1 Axes>"
      ]
     },
     "metadata": {},
     "output_type": "display_data"
    }
   ],
   "source": [
    "g=sns.distplot(a=df_hyp2.query('gender==\"M\"')['calls_minutes']\n",
    "               , kde=False\n",
    "               , hist_kws={\"histtype\": \"step\", \"linewidth\": 2, \"alpha\": 0.6, \"color\": \"b\"}\n",
    "              )\n",
    "sns.distplot(a=df_hyp2.query('gender==\"F\"')['calls_minutes'], ax=g\n",
    "            , kde=False \n",
    "            , hist_kws={\"histtype\": \"step\", \"linewidth\": 2, \"alpha\": 0.6, \"color\": \"r\"}\n",
    "            )\n",
    "g.legend(['Мужчины','Женщины'])\n",
    "g.set_xlabel('минуты за месяц')\n",
    "g.set_title(\"Траты минут на звонки\");\n",
    "plt.show;\n",
    "\n"
   ]
  },
  {
   "cell_type": "markdown",
   "id": "05ea3e8a",
   "metadata": {},
   "source": [
    "По минутам распределения почти идентичные, разниы особой нет\n",
    "\n",
    "Посомтрим по потреблению интернета. Сделаем график kde. он более плавный, разница лучше видна будет (если будет)\n"
   ]
  },
  {
   "cell_type": "code",
   "execution_count": 55,
   "id": "23d5acf7",
   "metadata": {},
   "outputs": [
    {
     "data": {
      "image/png": "[encoded data removed]",
      "text/plain": [
       "<Figure size 648x432 with 1 Axes>"
      ]
     },
     "metadata": {},
     "output_type": "display_data"
    }
   ],
   "source": [
    "g=sns.kdeplot(data=df_hyp2.query('gender==\"M\"')['mb_used'])\n",
    "sns.kdeplot(data=df_hyp2.query('gender==\"F\"')['mb_used'], ax=g)\n",
    "g.legend(['Мужчины','Женщины'])\n",
    "g.set_title(\"Траты MB на интернет\");\n",
    "plt.show;"
   ]
  },
  {
   "cell_type": "markdown",
   "id": "7f9ab23e",
   "metadata": {},
   "source": [
    "Ну особо разницы то и нет, практически идентичные распределения\n",
    "\n",
    "Посмотрим описательные статистики. Наверняка там тоже все очень близко"
   ]
  },
  {
   "cell_type": "code",
   "execution_count": 56,
   "id": "b825817d",
   "metadata": {},
   "outputs": [
    {
     "data": {
      "text/html": [
       "<div>\n",
       "<style scoped>\n",
       "    .dataframe tbody tr th:only-of-type {\n",
       "        vertical-align: middle;\n",
       "    }\n",
       "\n",
       "    .dataframe tbody tr th {\n",
       "        vertical-align: top;\n",
       "    }\n",
       "\n",
       "    .dataframe thead th {\n",
       "        text-align: right;\n",
       "    }\n",
       "</style>\n",
       "<table border=\"1\" class=\"dataframe\">\n",
       "  <thead>\n",
       "    <tr style=\"text-align: right;\">\n",
       "      <th></th>\n",
       "      <th>gender</th>\n",
       "      <th>F</th>\n",
       "      <th>M</th>\n",
       "    </tr>\n",
       "  </thead>\n",
       "  <tbody>\n",
       "    <tr>\n",
       "      <td rowspan=\"8\" valign=\"top\">mb_used</td>\n",
       "      <td>count</td>\n",
       "      <td>1,698.00</td>\n",
       "      <td>1,494.00</td>\n",
       "    </tr>\n",
       "    <tr>\n",
       "      <td>mean</td>\n",
       "      <td>17,242.41</td>\n",
       "      <td>16,914.72</td>\n",
       "    </tr>\n",
       "    <tr>\n",
       "      <td>std</td>\n",
       "      <td>7,319.71</td>\n",
       "      <td>7,563.49</td>\n",
       "    </tr>\n",
       "    <tr>\n",
       "      <td>min</td>\n",
       "      <td>0.00</td>\n",
       "      <td>0.00</td>\n",
       "    </tr>\n",
       "    <tr>\n",
       "      <td>25%</td>\n",
       "      <td>12,616.12</td>\n",
       "      <td>12,262.10</td>\n",
       "    </tr>\n",
       "    <tr>\n",
       "      <td>50%</td>\n",
       "      <td>16,915.77</td>\n",
       "      <td>16,851.25</td>\n",
       "    </tr>\n",
       "    <tr>\n",
       "      <td>75%</td>\n",
       "      <td>21,257.18</td>\n",
       "      <td>21,351.85</td>\n",
       "    </tr>\n",
       "    <tr>\n",
       "      <td>max</td>\n",
       "      <td>43,824.90</td>\n",
       "      <td>43,931.36</td>\n",
       "    </tr>\n",
       "    <tr>\n",
       "      <td rowspan=\"8\" valign=\"top\">calls_minutes</td>\n",
       "      <td>count</td>\n",
       "      <td>1,698.00</td>\n",
       "      <td>1,494.00</td>\n",
       "    </tr>\n",
       "    <tr>\n",
       "      <td>mean</td>\n",
       "      <td>450.79</td>\n",
       "      <td>446.80</td>\n",
       "    </tr>\n",
       "    <tr>\n",
       "      <td>std</td>\n",
       "      <td>221.45</td>\n",
       "      <td>259.83</td>\n",
       "    </tr>\n",
       "    <tr>\n",
       "      <td>min</td>\n",
       "      <td>0.00</td>\n",
       "      <td>0.00</td>\n",
       "    </tr>\n",
       "    <tr>\n",
       "      <td>25%</td>\n",
       "      <td>295.00</td>\n",
       "      <td>268.25</td>\n",
       "    </tr>\n",
       "    <tr>\n",
       "      <td>50%</td>\n",
       "      <td>447.50</td>\n",
       "      <td>436.00</td>\n",
       "    </tr>\n",
       "    <tr>\n",
       "      <td>75%</td>\n",
       "      <td>584.00</td>\n",
       "      <td>589.00</td>\n",
       "    </tr>\n",
       "    <tr>\n",
       "      <td>max</td>\n",
       "      <td>1,334.00</td>\n",
       "      <td>1,673.00</td>\n",
       "    </tr>\n",
       "  </tbody>\n",
       "</table>\n",
       "</div>"
      ],
      "text/plain": [
       "gender                      F         M\n",
       "mb_used       count  1,698.00  1,494.00\n",
       "              mean  17,242.41 16,914.72\n",
       "              std    7,319.71  7,563.49\n",
       "              min        0.00      0.00\n",
       "              25%   12,616.12 12,262.10\n",
       "              50%   16,915.77 16,851.25\n",
       "              75%   21,257.18 21,351.85\n",
       "              max   43,824.90 43,931.36\n",
       "calls_minutes count  1,698.00  1,494.00\n",
       "              mean     450.79    446.80\n",
       "              std      221.45    259.83\n",
       "              min        0.00      0.00\n",
       "              25%      295.00    268.25\n",
       "              50%      447.50    436.00\n",
       "              75%      584.00    589.00\n",
       "              max    1,334.00  1,673.00"
      ]
     },
     "execution_count": 56,
     "metadata": {},
     "output_type": "execute_result"
    }
   ],
   "source": [
    "df_hyp2.groupby(by='gender')['mb_used', 'calls_minutes'].describe().transpose()"
   ]
  },
  {
   "cell_type": "markdown",
   "id": "bd00e6e7",
   "metadata": {},
   "source": [
    "**ВЫВОД** Женщины и мужчины практически не отличаются по потреблению минут и интернета. Это немного неожиданно, но тем лучше. Отделу маркетинга такая информация может быть очень даже ценной при выстранивании рекламных стратегий продвижения"
   ]
  },
  {
   "cell_type": "markdown",
   "id": "3b07b111",
   "metadata": {},
   "source": [
    "<div class=\"alert alert-success\"> \n",
    "<div style=\"border:solid white 3px; padding: 10px\">\n",
    "<b> Комментарий ревьюера v2 ✔️: </b> Да, соглсна с выводом. Правильно, что не забываешь привязываешь анализ данных к бизнес-задаче\n",
    "    "
   ]
  },
  {
   "cell_type": "markdown",
   "id": "d69ee1aa",
   "metadata": {},
   "source": [
    "### Гипотеза. Мужчины и женщины тратят одинаковое количество денег на связь\n",
    "\n",
    "Будем использовать  t-критерий Стьюдента, так как сравниваемые выборки независимы между собой. Так как гистограммы слабо отличаются, то считаем дисперсии равными\n",
    "\n",
    "**H<sub>0</sub>**: средняя выручка пользователей мужского пола равна от средней выручке пользователей женского пола<br>\n",
    "**H<sub>1</sub>**: средняя выручка пользователей мужского пола отличается от выручки пользователей женского пола\n",
    "\n",
    "Уровень значимости alpha = 0.01\n"
   ]
  },
  {
   "cell_type": "code",
   "execution_count": 57,
   "id": "281a5b5f",
   "metadata": {},
   "outputs": [],
   "source": [
    "results = st.ttest_ind(\n",
    "    df_hyp2.query('gender == \"M\"')['amount_user_month'], \n",
    "    df_hyp2.query('city != \"F\"')['amount_user_month'], \n",
    "    equal_var = True\n",
    ")"
   ]
  },
  {
   "cell_type": "code",
   "execution_count": 58,
   "id": "4b82dff3",
   "metadata": {
    "scrolled": true
   },
   "outputs": [
    {
     "name": "stdout",
     "output_type": "stream",
     "text": [
      "p-значение:  0.4585206533085088\n",
      "Гипотеза H0 равенства средних не может быть отвергнута.\n"
     ]
    }
   ],
   "source": [
    "alpha = 0.01\n",
    "print('p-значение: ', results.pvalue)\n",
    "if alpha > results.pvalue:\n",
    "    print('Гипотеза H0 равенства средних отвергается. Принимаем гипотезу H1 о отличии средних')\n",
    "else:\n",
    "    print('Гипотеза H0 равенства средних не может быть отвергнута.')"
   ]
  },
  {
   "cell_type": "markdown",
   "id": "2d82f233",
   "metadata": {},
   "source": [
    "### Гипотеза. Мужчины и женщины тратят одинаковое количество минут\n",
    "\n",
    "Будем использовать  t-критерий Стьюдента, так как сравниваемые выборки независимы между собой. Так как гистограммы слабо отличаются, то считаем дисперсии равными\n",
    "\n",
    "**H<sub>0</sub>**: среднее число минут у пользователей мужского пола равно среднему числу минут у пользователей женского пола<br>\n",
    "**H<sub>1</sub>**: среднее число минут у пользователей мужского пола не равно среднему числу минут у пользователей женского пола\n",
    "\n",
    "Уровень значимости alpha = 0.01"
   ]
  },
  {
   "cell_type": "code",
   "execution_count": 59,
   "id": "afeb789e",
   "metadata": {},
   "outputs": [],
   "source": [
    "results = st.ttest_ind(\n",
    "    df_hyp2.query('gender == \"M\"')['calls_minutes'], \n",
    "    df_hyp2.query('city != \"F\"')['calls_minutes'], \n",
    "    equal_var = True\n",
    ")"
   ]
  },
  {
   "cell_type": "code",
   "execution_count": 60,
   "id": "821845cb",
   "metadata": {
    "scrolled": true
   },
   "outputs": [
    {
     "name": "stdout",
     "output_type": "stream",
     "text": [
      "p-значение:  0.7836205180302149\n",
      "Гипотеза H0 равенства средних не может быть отвергнута.\n"
     ]
    }
   ],
   "source": [
    "alpha = 0.01\n",
    "print('p-значение: ', results.pvalue)\n",
    "if alpha > results.pvalue:\n",
    "    print('Гипотеза H0 равенства средних отвергается. Принимаем гипотезу H1 о отличии средних')\n",
    "else:\n",
    "    print('Гипотеза H0 равенства средних не может быть отвергнута.')"
   ]
  },
  {
   "cell_type": "markdown",
   "id": "32ecc873",
   "metadata": {},
   "source": [
    "### Гипотеза. Мужчины и женщины тратят одинаковое количество мегабайт\n",
    "\n",
    "Будем использовать  t-критерий Стьюдента, так как сравниваемые выборки независимы между собой. Так как гистограммы слабо отличаются, то считаем дисперсии равными\n",
    "\n",
    "**H<sub>0</sub>**: среднее число мегабайт пользователей мужского пола равно среднему числу мегабайт у пользователей женского пола<br>\n",
    "**H<sub>1</sub>**: среднее число мегабайт у пользователей мужского пола не равно среднему числу мегабайт у пользователей женского пола\n",
    "\n",
    "Уровень значимости alpha = 0.01"
   ]
  },
  {
   "cell_type": "code",
   "execution_count": 61,
   "id": "274602ae",
   "metadata": {},
   "outputs": [],
   "source": [
    "results = st.ttest_ind(\n",
    "    df_hyp2.query('gender == \"M\"')['mb_used'], \n",
    "    df_hyp2.query('city != \"F\"')['mb_used'], \n",
    "    equal_var = True\n",
    ")"
   ]
  },
  {
   "cell_type": "code",
   "execution_count": 62,
   "id": "e25fcdf0",
   "metadata": {
    "scrolled": true
   },
   "outputs": [
    {
     "name": "stdout",
     "output_type": "stream",
     "text": [
      "p-значение:  0.45705027124700726\n",
      "Гипотеза H0 равенства средних не может быть отвергнута.\n"
     ]
    }
   ],
   "source": [
    "alpha = 0.01\n",
    "print('p-значение: ', results.pvalue)\n",
    "if alpha > results.pvalue:\n",
    "    print('Гипотеза H0 равенства средних отвергается. Принимаем гипотезу H1 о отличии средних')\n",
    "else:\n",
    "    print('Гипотеза H0 равенства средних не может быть отвергнута.')"
   ]
  },
  {
   "cell_type": "markdown",
   "id": "f1bd3299",
   "metadata": {},
   "source": [
    "<div class=\"alert alert-success\"> \n",
    "<div style=\"border:solid white 3px; padding: 10px\">\n",
    "<b> Комментарий ревьюера v2 ✔️: </b> Да, действительно, несмотря на то, что средние для мужчин и женщин заметно не различаются, это выборочные средние, а не средние для генеральных совокупностей, поэтому правильное решение применить тест Стьюдента.\n",
    "</div>"
   ]
  },
  {
   "cell_type": "markdown",
   "id": "f7c8f748",
   "metadata": {},
   "source": [
    "# Общий вывод"
   ]
  },
  {
   "cell_type": "markdown",
   "id": "fa830549",
   "metadata": {},
   "source": [
    "Изучив данные, оказалось, что данные достаточно качественые\n",
    "* дубликатов нет\n",
    "* явно ошибочных аномальных значений нет\n",
    "\n",
    "При подготовке данных преобразованы были строковые даты в формат datetime\n",
    "\n",
    "Изучив затраты и поведение пользователей выяснили, что\n",
    "* Пользователи тарифа **SMART** часто не укладываются в лимиты пакета и оплачивают дополнительные минуты, гигабайты и смс.\n",
    " * в 66% случаев укладываются в пакет минут\n",
    " * в 41% случаев укладываются в пакет интернета\n",
    " * в 74% случаев им хватает пакета смс.\n",
    " \n",
    "* Пользователи тарифа **ULTRA** обычно укладываются в лимиты и почти всегда оплачивают только абонентскую стоимость.\n",
    " * в 100% случаев укладываются в пакет минут\n",
    " * в 86% случаев им хватает пакета интернета\n",
    " * в 100% случаев им хватает смс в пакете\n",
    "\n",
    "Судя по гистограмме распределения минут потреблению пользователей зависит от уровня минут в пакете. Т.е. пользователи стараются сознательно ограничить общение и уложиться в лимит. При тратах интернет ГБ такой особенности нет. Люди готовы тратить и платить сверх лимита нтернета.\n",
    "\n",
    "Путем тестирования гипотезы, установили, что пользователи тарифа **ULTRA** тратят денег больше, чем на тарифе **SMART**\n",
    "\n",
    "Путем тестирования гипотезы, установили, что пользователи в Москве и регионах тратят денег примерно одинаково\n",
    "\n",
    "<div class=\"alert alert-info\">\n",
    "<b>дополнение</b>\n",
    "    \n",
    "Судя по гистограмме, статистикам и протестированным гипотезам, в потреблении минут и интернета между мужчинами и женщинами разницы не просматривается, гипотезы о равенстве потребления минут, мегабайт, трат денег не могут быть отклонены.\n",
    "</div>"
   ]
  },
  {
   "cell_type": "markdown",
   "id": "5e4774e1",
   "metadata": {},
   "source": [
    "<div class=\"alert alert-success\"> \n",
    "<div style=\"border:solid white 3px; padding: 10px\">\n",
    "<b> Комментарий ревьюера v2 ✔️: </b> 👍\n",
    "    "
   ]
  },
  {
   "cell_type": "markdown",
   "id": "fda49785",
   "metadata": {},
   "source": [
    "<div class=\"alert alert-success\">\n",
    "<b>Комментарий ревьюера ✔️:</b> Отличный анализ поведения клиентов и хорошие выводы\n",
    "</div>"
   ]
  },
  {
   "cell_type": "markdown",
   "id": "e2e33599",
   "metadata": {},
   "source": [
    "## Рекомендации\n",
    "\n",
    "1. Подумать над оптимизацией тарифов или введением промежуточного тарифа 1000 минут и 30 GB.\n",
    "2. Нужен тариф только с интернетом и минимальным пакетом минут.\n",
    "3. Возможно использовать условия минуты за Гигабайты, чтобы пользователи тратили минут больше. А потом недостающие гигабайты покупали. \n"
   ]
  },
  {
   "cell_type": "markdown",
   "id": "78eac92b",
   "metadata": {},
   "source": [
    "<div class=\"alert alert-success\">\n",
    "<b>Комментарий ревьюера ✔️:</b> Очень интересные и толковые рекомендации оператору. \n",
    "\n",
    "1. Согласна, хорошая идея введения промежуточного тарифа. Вероятно, что часть людей из `smart` и `ultra` захотят перейдет на него. При этом, выручка не обязательно увеличится, но лояльность клиентов однозначно должна повыситься\n",
    "2. Да, хорошая идея, не смотря на то, что сообщения и звонки менее популярны, есть вероятность, что иногда людям будут вынуждены покупать минуты и сообщения\n",
    "3. Очень хорошая идея, действительно, это может повысить выручку.\n",
    "</div>"
   ]
  },
  {
   "cell_type": "markdown",
   "id": "328b72e6",
   "metadata": {},
   "source": [
    "<div style=\"border:solid green 2px; padding: 20px\">\n",
    "Юрий, проект выполнен замечательно!\n",
    "    \n",
    "_________________\n",
    "    \n",
    "Ты очень хорошо оформил проект, его максимально приятно читать, и ты здорово оформляешь графики. Все твои рассуждения верные, логичные и осмысленные.\n",
    "    \n",
    "_________________\n",
    "\n",
    "Я возвращаю проект на доработку только для того, чтобы у тебя была возможность что-то изменить в своей работе или ответить на мои комментарии. Ты можешь все оставить как есть, в этом случае напиши, пожалуйста, об этом в начале проекта, и я сразу же его приму.\n",
    "    \n",
    "_________________\n",
    "\n",
    "Прекрасная работа, продолжай в том же духе! 🙂"
   ]
  },
  {
   "cell_type": "code",
   "execution_count": null,
   "id": "fbaaf539",
   "metadata": {},
   "outputs": [],
   "source": []
  }
 ],
 "metadata": {
  "ExecuteTimeLog": [
   {
    "duration": 1085,
    "start_time": "2022-03-03T13:51:31.237Z"
   },
   {
    "duration": 334,
    "start_time": "2022-03-03T13:51:32.324Z"
   },
   {
    "duration": 3,
    "start_time": "2022-03-03T13:51:32.660Z"
   },
   {
    "duration": 8,
    "start_time": "2022-03-03T13:51:32.664Z"
   },
   {
    "duration": 243,
    "start_time": "2022-03-03T13:51:32.673Z"
   },
   {
    "duration": 152,
    "start_time": "2022-03-03T13:51:32.917Z"
   },
   {
    "duration": 124,
    "start_time": "2022-03-03T13:51:33.071Z"
   },
   {
    "duration": 41,
    "start_time": "2022-03-03T13:51:33.198Z"
   },
   {
    "duration": 5,
    "start_time": "2022-03-03T13:51:33.241Z"
   },
   {
    "duration": 12,
    "start_time": "2022-03-03T13:51:33.247Z"
   },
   {
    "duration": 56,
    "start_time": "2022-03-03T13:51:33.261Z"
   },
   {
    "duration": 58,
    "start_time": "2022-03-03T13:51:33.318Z"
   },
   {
    "duration": 6,
    "start_time": "2022-03-03T13:51:33.378Z"
   },
   {
    "duration": 19,
    "start_time": "2022-03-03T13:51:33.386Z"
   },
   {
    "duration": 1782,
    "start_time": "2022-03-03T13:51:33.407Z"
   },
   {
    "duration": 3,
    "start_time": "2022-03-03T13:51:35.190Z"
   },
   {
    "duration": 16,
    "start_time": "2022-03-03T13:51:35.194Z"
   },
   {
    "duration": 192,
    "start_time": "2022-03-03T13:51:35.211Z"
   },
   {
    "duration": 110,
    "start_time": "2022-03-03T13:51:35.404Z"
   },
   {
    "duration": 4,
    "start_time": "2022-03-03T13:51:35.515Z"
   },
   {
    "duration": 18,
    "start_time": "2022-03-03T13:51:35.521Z"
   },
   {
    "duration": 21,
    "start_time": "2022-03-03T13:51:35.540Z"
   },
   {
    "duration": 44,
    "start_time": "2022-03-03T13:51:35.564Z"
   },
   {
    "duration": 25,
    "start_time": "2022-03-03T13:51:35.610Z"
   },
   {
    "duration": 3,
    "start_time": "2022-03-03T13:51:35.637Z"
   },
   {
    "duration": 48,
    "start_time": "2022-03-03T13:51:35.642Z"
   },
   {
    "duration": 306,
    "start_time": "2022-03-03T13:51:35.691Z"
   },
   {
    "duration": 297,
    "start_time": "2022-03-03T13:51:35.999Z"
   },
   {
    "duration": 275,
    "start_time": "2022-03-03T13:51:36.298Z"
   },
   {
    "duration": 288,
    "start_time": "2022-03-03T13:51:36.575Z"
   },
   {
    "duration": 289,
    "start_time": "2022-03-03T13:51:36.864Z"
   },
   {
    "duration": 12,
    "start_time": "2022-03-03T13:51:37.154Z"
   },
   {
    "duration": 9,
    "start_time": "2022-03-03T13:51:37.168Z"
   },
   {
    "duration": 26,
    "start_time": "2022-03-03T13:51:37.179Z"
   },
   {
    "duration": 11,
    "start_time": "2022-03-03T13:51:37.206Z"
   },
   {
    "duration": 7,
    "start_time": "2022-03-03T13:51:37.219Z"
   },
   {
    "duration": 7,
    "start_time": "2022-03-03T13:51:37.228Z"
   },
   {
    "duration": 317,
    "start_time": "2022-03-03T13:51:37.237Z"
   },
   {
    "duration": 11,
    "start_time": "2022-03-03T13:51:37.556Z"
   },
   {
    "duration": 3,
    "start_time": "2022-03-03T13:51:37.569Z"
   },
   {
    "duration": 10,
    "start_time": "2022-03-03T13:51:37.574Z"
   },
   {
    "duration": 20,
    "start_time": "2022-03-03T13:51:37.585Z"
   },
   {
    "duration": 1330,
    "start_time": "2022-03-03T13:51:37.607Z"
   },
   {
    "duration": 1016,
    "start_time": "2022-03-03T13:57:07.813Z"
   },
   {
    "duration": 353,
    "start_time": "2022-03-03T13:57:08.831Z"
   },
   {
    "duration": 3,
    "start_time": "2022-03-03T13:57:09.187Z"
   },
   {
    "duration": 12,
    "start_time": "2022-03-03T13:57:09.192Z"
   },
   {
    "duration": 268,
    "start_time": "2022-03-03T13:57:09.205Z"
   },
   {
    "duration": 156,
    "start_time": "2022-03-03T13:57:09.475Z"
   },
   {
    "duration": 132,
    "start_time": "2022-03-03T13:57:09.633Z"
   },
   {
    "duration": 46,
    "start_time": "2022-03-03T13:57:09.767Z"
   },
   {
    "duration": 5,
    "start_time": "2022-03-03T13:57:09.814Z"
   },
   {
    "duration": 13,
    "start_time": "2022-03-03T13:57:09.820Z"
   },
   {
    "duration": 30,
    "start_time": "2022-03-03T13:57:09.835Z"
   },
   {
    "duration": 81,
    "start_time": "2022-03-03T13:57:09.867Z"
   },
   {
    "duration": 7,
    "start_time": "2022-03-03T13:57:09.949Z"
   },
   {
    "duration": 7,
    "start_time": "2022-03-03T13:57:09.957Z"
   },
   {
    "duration": 1699,
    "start_time": "2022-03-03T13:57:09.966Z"
   },
   {
    "duration": 3,
    "start_time": "2022-03-03T13:57:11.666Z"
   },
   {
    "duration": 12,
    "start_time": "2022-03-03T13:57:11.670Z"
   },
   {
    "duration": 173,
    "start_time": "2022-03-03T13:57:11.683Z"
   },
   {
    "duration": 114,
    "start_time": "2022-03-03T13:57:11.857Z"
   },
   {
    "duration": 5,
    "start_time": "2022-03-03T13:57:11.972Z"
   },
   {
    "duration": 11,
    "start_time": "2022-03-03T13:57:11.978Z"
   },
   {
    "duration": 15,
    "start_time": "2022-03-03T13:57:11.992Z"
   },
   {
    "duration": 25,
    "start_time": "2022-03-03T13:57:12.009Z"
   },
   {
    "duration": 28,
    "start_time": "2022-03-03T13:57:12.035Z"
   },
   {
    "duration": 10,
    "start_time": "2022-03-03T13:57:12.065Z"
   },
   {
    "duration": 56,
    "start_time": "2022-03-03T13:57:12.077Z"
   },
   {
    "duration": 308,
    "start_time": "2022-03-03T13:57:12.135Z"
   },
   {
    "duration": 293,
    "start_time": "2022-03-03T13:57:12.445Z"
   },
   {
    "duration": 288,
    "start_time": "2022-03-03T13:57:12.739Z"
   },
   {
    "duration": 388,
    "start_time": "2022-03-03T13:57:13.029Z"
   },
   {
    "duration": 291,
    "start_time": "2022-03-03T13:57:13.419Z"
   },
   {
    "duration": 12,
    "start_time": "2022-03-03T13:57:13.711Z"
   },
   {
    "duration": 8,
    "start_time": "2022-03-03T13:57:13.724Z"
   },
   {
    "duration": 8,
    "start_time": "2022-03-03T13:57:13.733Z"
   },
   {
    "duration": 12,
    "start_time": "2022-03-03T13:57:13.742Z"
   },
   {
    "duration": 7,
    "start_time": "2022-03-03T13:57:13.756Z"
   },
   {
    "duration": 3,
    "start_time": "2022-03-03T13:57:13.765Z"
   },
   {
    "duration": 298,
    "start_time": "2022-03-03T13:57:13.805Z"
   },
   {
    "duration": 12,
    "start_time": "2022-03-03T13:57:14.105Z"
   },
   {
    "duration": 4,
    "start_time": "2022-03-03T13:57:14.118Z"
   },
   {
    "duration": 9,
    "start_time": "2022-03-03T13:57:14.123Z"
   },
   {
    "duration": 4,
    "start_time": "2022-03-03T13:57:14.133Z"
   },
   {
    "duration": 1187,
    "start_time": "2022-03-03T13:57:14.139Z"
   },
   {
    "duration": 1106,
    "start_time": "2022-03-07T18:29:36.914Z"
   },
   {
    "duration": 336,
    "start_time": "2022-03-07T18:29:38.022Z"
   },
   {
    "duration": 3,
    "start_time": "2022-03-07T18:29:38.360Z"
   },
   {
    "duration": 9,
    "start_time": "2022-03-07T18:29:38.365Z"
   },
   {
    "duration": 366,
    "start_time": "2022-03-07T18:29:38.375Z"
   },
   {
    "duration": 305,
    "start_time": "2022-03-07T18:29:38.743Z"
   },
   {
    "duration": 249,
    "start_time": "2022-03-07T18:29:39.050Z"
   },
   {
    "duration": 63,
    "start_time": "2022-03-07T18:29:39.302Z"
   },
   {
    "duration": 6,
    "start_time": "2022-03-07T18:29:39.368Z"
   },
   {
    "duration": 13,
    "start_time": "2022-03-07T18:29:39.376Z"
   },
   {
    "duration": 44,
    "start_time": "2022-03-07T18:29:39.390Z"
   },
   {
    "duration": 61,
    "start_time": "2022-03-07T18:29:39.436Z"
   },
   {
    "duration": 38,
    "start_time": "2022-03-07T18:29:39.499Z"
   },
   {
    "duration": 7,
    "start_time": "2022-03-07T18:29:39.539Z"
   },
   {
    "duration": 2006,
    "start_time": "2022-03-07T18:29:39.548Z"
   },
   {
    "duration": 4,
    "start_time": "2022-03-07T18:29:41.556Z"
   },
   {
    "duration": 12,
    "start_time": "2022-03-07T18:29:41.562Z"
   },
   {
    "duration": 196,
    "start_time": "2022-03-07T18:29:41.576Z"
   },
   {
    "duration": 127,
    "start_time": "2022-03-07T18:29:41.774Z"
   },
   {
    "duration": 5,
    "start_time": "2022-03-07T18:29:41.903Z"
   },
   {
    "duration": 7,
    "start_time": "2022-03-07T18:29:41.910Z"
   },
   {
    "duration": 8,
    "start_time": "2022-03-07T18:29:41.932Z"
   },
   {
    "duration": 26,
    "start_time": "2022-03-07T18:29:41.944Z"
   },
   {
    "duration": 29,
    "start_time": "2022-03-07T18:29:41.972Z"
   },
   {
    "duration": 30,
    "start_time": "2022-03-07T18:29:42.003Z"
   },
   {
    "duration": 35,
    "start_time": "2022-03-07T18:29:42.035Z"
   },
   {
    "duration": 348,
    "start_time": "2022-03-07T18:29:42.071Z"
   },
   {
    "duration": 325,
    "start_time": "2022-03-07T18:29:42.421Z"
   },
   {
    "duration": 319,
    "start_time": "2022-03-07T18:29:42.748Z"
   },
   {
    "duration": 319,
    "start_time": "2022-03-07T18:29:43.069Z"
   },
   {
    "duration": 337,
    "start_time": "2022-03-07T18:29:43.389Z"
   },
   {
    "duration": 17,
    "start_time": "2022-03-07T18:29:43.727Z"
   },
   {
    "duration": 9,
    "start_time": "2022-03-07T18:29:43.746Z"
   },
   {
    "duration": 8,
    "start_time": "2022-03-07T18:29:43.756Z"
   },
   {
    "duration": 13,
    "start_time": "2022-03-07T18:29:43.765Z"
   },
   {
    "duration": 7,
    "start_time": "2022-03-07T18:29:43.780Z"
   },
   {
    "duration": 5,
    "start_time": "2022-03-07T18:29:43.789Z"
   },
   {
    "duration": 345,
    "start_time": "2022-03-07T18:29:43.796Z"
   },
   {
    "duration": 14,
    "start_time": "2022-03-07T18:29:44.142Z"
   },
   {
    "duration": 5,
    "start_time": "2022-03-07T18:29:44.158Z"
   },
   {
    "duration": 9,
    "start_time": "2022-03-07T18:29:44.164Z"
   },
   {
    "duration": 4,
    "start_time": "2022-03-07T18:29:44.175Z"
   },
   {
    "duration": 1247,
    "start_time": "2022-03-07T18:29:44.181Z"
   },
   {
    "duration": 2090,
    "start_time": "2022-03-07T18:50:44.006Z"
   },
   {
    "duration": 4,
    "start_time": "2022-03-07T18:50:56.245Z"
   },
   {
    "duration": 39,
    "start_time": "2022-03-07T18:55:15.143Z"
   },
   {
    "duration": 54,
    "start_time": "2022-03-07T18:57:06.973Z"
   },
   {
    "duration": 6,
    "start_time": "2022-03-07T18:58:16.101Z"
   },
   {
    "duration": 6,
    "start_time": "2022-03-07T18:58:19.332Z"
   },
   {
    "duration": 53,
    "start_time": "2022-03-07T19:13:19.667Z"
   },
   {
    "duration": 18,
    "start_time": "2022-03-07T19:25:04.921Z"
   },
   {
    "duration": 258,
    "start_time": "2022-03-07T19:25:13.310Z"
   },
   {
    "duration": 26,
    "start_time": "2022-03-07T19:25:21.455Z"
   },
   {
    "duration": 53,
    "start_time": "2022-03-07T19:35:24.273Z"
   },
   {
    "duration": 55,
    "start_time": "2022-03-07T20:07:24.542Z"
   },
   {
    "duration": 3,
    "start_time": "2022-03-07T20:35:57.470Z"
   },
   {
    "duration": 9,
    "start_time": "2022-03-07T20:36:00.406Z"
   },
   {
    "duration": 11,
    "start_time": "2022-03-07T20:36:18.149Z"
   },
   {
    "duration": 9,
    "start_time": "2022-03-07T20:36:29.221Z"
   },
   {
    "duration": 12,
    "start_time": "2022-03-07T20:36:30.079Z"
   },
   {
    "duration": 1424,
    "start_time": "2022-03-08T04:19:18.982Z"
   },
   {
    "duration": 518,
    "start_time": "2022-03-08T04:19:20.408Z"
   },
   {
    "duration": 5,
    "start_time": "2022-03-08T04:19:20.929Z"
   },
   {
    "duration": 12,
    "start_time": "2022-03-08T04:19:20.936Z"
   },
   {
    "duration": 430,
    "start_time": "2022-03-08T04:19:20.950Z"
   },
   {
    "duration": 238,
    "start_time": "2022-03-08T04:19:21.382Z"
   },
   {
    "duration": 202,
    "start_time": "2022-03-08T04:19:21.622Z"
   },
   {
    "duration": 66,
    "start_time": "2022-03-08T04:19:21.831Z"
   },
   {
    "duration": 35,
    "start_time": "2022-03-08T04:19:21.900Z"
   },
   {
    "duration": 21,
    "start_time": "2022-03-08T04:19:21.937Z"
   },
   {
    "duration": 92,
    "start_time": "2022-03-08T04:19:21.961Z"
   },
   {
    "duration": 109,
    "start_time": "2022-03-08T04:19:22.056Z"
   },
   {
    "duration": 11,
    "start_time": "2022-03-08T04:19:22.167Z"
   },
   {
    "duration": 9,
    "start_time": "2022-03-08T04:19:22.181Z"
   },
   {
    "duration": 3050,
    "start_time": "2022-03-08T04:19:22.192Z"
   },
   {
    "duration": 5,
    "start_time": "2022-03-08T04:19:25.244Z"
   },
   {
    "duration": 15,
    "start_time": "2022-03-08T04:19:25.252Z"
   },
   {
    "duration": 310,
    "start_time": "2022-03-08T04:19:25.270Z"
   },
   {
    "duration": 194,
    "start_time": "2022-03-08T04:19:25.583Z"
   },
   {
    "duration": 8,
    "start_time": "2022-03-08T04:19:25.780Z"
   },
   {
    "duration": 10,
    "start_time": "2022-03-08T04:19:25.791Z"
   },
   {
    "duration": 38,
    "start_time": "2022-03-08T04:19:25.803Z"
   },
   {
    "duration": 46,
    "start_time": "2022-03-08T04:19:25.848Z"
   },
   {
    "duration": 77,
    "start_time": "2022-03-08T04:19:25.899Z"
   },
   {
    "duration": 7,
    "start_time": "2022-03-08T04:19:25.979Z"
   },
   {
    "duration": 79,
    "start_time": "2022-03-08T04:19:25.989Z"
   },
   {
    "duration": 561,
    "start_time": "2022-03-08T04:19:26.071Z"
   },
   {
    "duration": 545,
    "start_time": "2022-03-08T04:19:26.635Z"
   },
   {
    "duration": 621,
    "start_time": "2022-03-08T04:19:27.183Z"
   },
   {
    "duration": 539,
    "start_time": "2022-03-08T04:19:27.807Z"
   },
   {
    "duration": 548,
    "start_time": "2022-03-08T04:19:28.349Z"
   },
   {
    "duration": 35,
    "start_time": "2022-03-08T04:19:28.899Z"
   },
   {
    "duration": 15,
    "start_time": "2022-03-08T04:19:28.937Z"
   },
   {
    "duration": 13,
    "start_time": "2022-03-08T04:19:28.955Z"
   },
   {
    "duration": 19,
    "start_time": "2022-03-08T04:19:28.970Z"
   },
   {
    "duration": 13,
    "start_time": "2022-03-08T04:19:29.033Z"
   },
   {
    "duration": 8,
    "start_time": "2022-03-08T04:19:29.048Z"
   },
   {
    "duration": 555,
    "start_time": "2022-03-08T04:19:29.058Z"
   },
   {
    "duration": 28,
    "start_time": "2022-03-08T04:19:29.615Z"
   },
   {
    "duration": 7,
    "start_time": "2022-03-08T04:19:29.645Z"
   },
   {
    "duration": 14,
    "start_time": "2022-03-08T04:19:29.654Z"
   },
   {
    "duration": 7,
    "start_time": "2022-03-08T04:19:29.670Z"
   },
   {
    "duration": 79,
    "start_time": "2022-03-08T04:19:29.679Z"
   },
   {
    "duration": 1998,
    "start_time": "2022-03-08T04:19:29.761Z"
   },
   {
    "duration": 1843,
    "start_time": "2022-03-08T04:20:02.247Z"
   },
   {
    "duration": 1846,
    "start_time": "2022-03-08T04:21:15.138Z"
   },
   {
    "duration": 15,
    "start_time": "2022-03-08T04:23:18.191Z"
   },
   {
    "duration": 16,
    "start_time": "2022-03-08T04:23:26.950Z"
   },
   {
    "duration": 15,
    "start_time": "2022-03-08T04:23:32.268Z"
   },
   {
    "duration": 15,
    "start_time": "2022-03-08T04:23:35.630Z"
   },
   {
    "duration": 14,
    "start_time": "2022-03-08T04:23:40.431Z"
   },
   {
    "duration": 15,
    "start_time": "2022-03-08T04:23:45.253Z"
   },
   {
    "duration": 14,
    "start_time": "2022-03-08T04:24:49.606Z"
   },
   {
    "duration": 533,
    "start_time": "2022-03-08T04:26:27.454Z"
   },
   {
    "duration": 527,
    "start_time": "2022-03-08T04:26:36.639Z"
   },
   {
    "duration": 22,
    "start_time": "2022-03-08T04:26:46.668Z"
   },
   {
    "duration": 8,
    "start_time": "2022-03-08T04:26:48.837Z"
   },
   {
    "duration": 14,
    "start_time": "2022-03-08T04:26:53.925Z"
   },
   {
    "duration": 6,
    "start_time": "2022-03-08T04:26:55.132Z"
   },
   {
    "duration": 1724,
    "start_time": "2022-03-08T04:26:59.982Z"
   },
   {
    "duration": 25,
    "start_time": "2022-03-08T04:27:16.494Z"
   },
   {
    "duration": 1815,
    "start_time": "2022-03-08T04:28:07.479Z"
   },
   {
    "duration": 1598,
    "start_time": "2022-03-08T04:30:21.237Z"
   },
   {
    "duration": 1542,
    "start_time": "2022-03-08T04:30:33.725Z"
   },
   {
    "duration": 1651,
    "start_time": "2022-03-08T04:31:11.976Z"
   },
   {
    "duration": 1625,
    "start_time": "2022-03-08T04:31:27.157Z"
   },
   {
    "duration": 1677,
    "start_time": "2022-03-08T04:31:42.537Z"
   },
   {
    "duration": 1625,
    "start_time": "2022-03-08T04:32:22.856Z"
   },
   {
    "duration": 1625,
    "start_time": "2022-03-08T04:32:33.084Z"
   },
   {
    "duration": 1639,
    "start_time": "2022-03-08T04:32:52.224Z"
   },
   {
    "duration": 1671,
    "start_time": "2022-03-08T04:33:08.421Z"
   },
   {
    "duration": 1885,
    "start_time": "2022-03-08T04:34:28.935Z"
   },
   {
    "duration": 1028,
    "start_time": "2022-03-08T04:40:50.595Z"
   },
   {
    "duration": 813,
    "start_time": "2022-03-08T04:41:23.943Z"
   },
   {
    "duration": 773,
    "start_time": "2022-03-08T04:41:40.507Z"
   },
   {
    "duration": 821,
    "start_time": "2022-03-08T04:41:43.647Z"
   },
   {
    "duration": 749,
    "start_time": "2022-03-08T04:41:50.267Z"
   },
   {
    "duration": 755,
    "start_time": "2022-03-08T04:41:59.963Z"
   },
   {
    "duration": 1026,
    "start_time": "2022-03-08T04:42:38.538Z"
   },
   {
    "duration": 1027,
    "start_time": "2022-03-08T04:42:53.106Z"
   },
   {
    "duration": 735,
    "start_time": "2022-03-08T04:43:02.004Z"
   },
   {
    "duration": 1619,
    "start_time": "2022-03-08T04:44:27.994Z"
   },
   {
    "duration": 1447,
    "start_time": "2022-03-08T04:44:42.661Z"
   },
   {
    "duration": 14,
    "start_time": "2022-03-08T04:50:00.538Z"
   },
   {
    "duration": 116,
    "start_time": "2022-03-08T04:51:46.380Z"
   },
   {
    "duration": 7997,
    "start_time": "2022-03-08T04:53:17.810Z"
   },
   {
    "duration": 8,
    "start_time": "2022-03-08T04:53:28.753Z"
   },
   {
    "duration": 393,
    "start_time": "2022-03-08T04:53:43.534Z"
   },
   {
    "duration": 11,
    "start_time": "2022-03-08T04:53:57.816Z"
   },
   {
    "duration": 11,
    "start_time": "2022-03-08T04:54:24.299Z"
   },
   {
    "duration": 7,
    "start_time": "2022-03-08T04:54:46.584Z"
   },
   {
    "duration": 6,
    "start_time": "2022-03-08T04:54:56.904Z"
   },
   {
    "duration": 7,
    "start_time": "2022-03-08T04:55:15.335Z"
   },
   {
    "duration": 5653,
    "start_time": "2022-03-08T04:57:55.395Z"
   },
   {
    "duration": 5229,
    "start_time": "2022-03-08T04:58:34.029Z"
   },
   {
    "duration": 360,
    "start_time": "2022-03-08T04:58:54.361Z"
   },
   {
    "duration": 7,
    "start_time": "2022-03-08T04:59:19.454Z"
   },
   {
    "duration": 8,
    "start_time": "2022-03-08T04:59:32.722Z"
   },
   {
    "duration": 11,
    "start_time": "2022-03-08T04:59:46.722Z"
   },
   {
    "duration": 370,
    "start_time": "2022-03-08T05:01:14.362Z"
   },
   {
    "duration": 388,
    "start_time": "2022-03-08T05:04:05.311Z"
   },
   {
    "duration": 9,
    "start_time": "2022-03-08T05:05:19.225Z"
   },
   {
    "duration": 9,
    "start_time": "2022-03-08T05:05:29.486Z"
   },
   {
    "duration": 16,
    "start_time": "2022-03-08T05:05:54.876Z"
   },
   {
    "duration": 47,
    "start_time": "2022-03-08T05:06:03.358Z"
   },
   {
    "duration": 11,
    "start_time": "2022-03-08T05:06:20.950Z"
   },
   {
    "duration": 358,
    "start_time": "2022-03-08T05:07:15.896Z"
   },
   {
    "duration": 11,
    "start_time": "2022-03-08T05:08:05.751Z"
   },
   {
    "duration": 12,
    "start_time": "2022-03-08T05:08:21.352Z"
   },
   {
    "duration": 8,
    "start_time": "2022-03-08T05:09:12.118Z"
   },
   {
    "duration": 13,
    "start_time": "2022-03-08T05:10:15.333Z"
   },
   {
    "duration": 19,
    "start_time": "2022-03-08T05:15:08.482Z"
   },
   {
    "duration": 50,
    "start_time": "2022-03-08T05:17:40.577Z"
   },
   {
    "duration": 18,
    "start_time": "2022-03-08T05:18:35.866Z"
   },
   {
    "duration": 18,
    "start_time": "2022-03-08T05:18:55.678Z"
   },
   {
    "duration": 22,
    "start_time": "2022-03-08T05:19:08.398Z"
   },
   {
    "duration": 18,
    "start_time": "2022-03-08T05:19:18.429Z"
   },
   {
    "duration": 17,
    "start_time": "2022-03-08T05:19:27.765Z"
   },
   {
    "duration": 8607,
    "start_time": "2022-03-08T05:20:26.509Z"
   },
   {
    "duration": 16,
    "start_time": "2022-03-08T05:20:45.382Z"
   },
   {
    "duration": 21,
    "start_time": "2022-03-08T05:21:58.819Z"
   },
   {
    "duration": 19,
    "start_time": "2022-03-08T05:23:01.799Z"
   },
   {
    "duration": 31,
    "start_time": "2022-03-08T05:24:27.070Z"
   },
   {
    "duration": 26,
    "start_time": "2022-03-08T05:24:46.824Z"
   },
   {
    "duration": 22,
    "start_time": "2022-03-08T05:25:20.373Z"
   },
   {
    "duration": 9,
    "start_time": "2022-03-08T05:26:12.284Z"
   },
   {
    "duration": 9,
    "start_time": "2022-03-08T05:50:04.615Z"
   },
   {
    "duration": 9,
    "start_time": "2022-03-08T05:50:48.443Z"
   },
   {
    "duration": 9,
    "start_time": "2022-03-08T05:50:55.176Z"
   },
   {
    "duration": 10,
    "start_time": "2022-03-08T05:51:03.350Z"
   },
   {
    "duration": 10,
    "start_time": "2022-03-08T05:51:10.063Z"
   },
   {
    "duration": 9,
    "start_time": "2022-03-08T05:51:23.791Z"
   },
   {
    "duration": 9,
    "start_time": "2022-03-08T05:51:28.879Z"
   },
   {
    "duration": 9,
    "start_time": "2022-03-08T05:51:43.962Z"
   },
   {
    "duration": 9,
    "start_time": "2022-03-08T05:51:50.076Z"
   },
   {
    "duration": 9,
    "start_time": "2022-03-08T05:51:56.455Z"
   },
   {
    "duration": 9,
    "start_time": "2022-03-08T05:52:01.439Z"
   },
   {
    "duration": 9,
    "start_time": "2022-03-08T05:52:07.120Z"
   },
   {
    "duration": 20,
    "start_time": "2022-03-08T05:52:43.760Z"
   },
   {
    "duration": 21,
    "start_time": "2022-03-08T05:53:18.151Z"
   },
   {
    "duration": 9,
    "start_time": "2022-03-08T05:54:00.216Z"
   },
   {
    "duration": 9,
    "start_time": "2022-03-08T05:54:15.674Z"
   },
   {
    "duration": 370,
    "start_time": "2022-03-08T05:54:33.175Z"
   },
   {
    "duration": 33,
    "start_time": "2022-03-08T05:54:54.595Z"
   },
   {
    "duration": 9,
    "start_time": "2022-03-08T05:55:26.511Z"
   },
   {
    "duration": 9,
    "start_time": "2022-03-08T05:55:35.224Z"
   },
   {
    "duration": 41,
    "start_time": "2022-03-08T05:56:21.979Z"
   },
   {
    "duration": 15,
    "start_time": "2022-03-08T05:56:48.050Z"
   },
   {
    "duration": 337,
    "start_time": "2022-03-08T05:56:55.808Z"
   },
   {
    "duration": 15,
    "start_time": "2022-03-08T05:57:07.134Z"
   },
   {
    "duration": 359,
    "start_time": "2022-03-08T05:57:28.320Z"
   },
   {
    "duration": 361,
    "start_time": "2022-03-08T05:57:55.228Z"
   },
   {
    "duration": 16,
    "start_time": "2022-03-08T05:58:02.006Z"
   },
   {
    "duration": 8,
    "start_time": "2022-03-08T05:58:21.290Z"
   },
   {
    "duration": 17,
    "start_time": "2022-03-08T05:58:26.332Z"
   },
   {
    "duration": 19,
    "start_time": "2022-03-08T05:58:37.871Z"
   },
   {
    "duration": 342,
    "start_time": "2022-03-08T05:58:47.472Z"
   },
   {
    "duration": 367,
    "start_time": "2022-03-08T05:59:00.672Z"
   },
   {
    "duration": 22,
    "start_time": "2022-03-08T05:59:09.798Z"
   },
   {
    "duration": 20,
    "start_time": "2022-03-08T06:00:25.441Z"
   },
   {
    "duration": 16,
    "start_time": "2022-03-08T06:00:54.432Z"
   },
   {
    "duration": 1539,
    "start_time": "2022-03-08T06:05:15.131Z"
   },
   {
    "duration": 1602,
    "start_time": "2022-03-08T06:05:42.930Z"
   },
   {
    "duration": 1593,
    "start_time": "2022-03-08T06:07:39.118Z"
   },
   {
    "duration": 33,
    "start_time": "2022-03-08T06:07:58.157Z"
   },
   {
    "duration": 32,
    "start_time": "2022-03-08T06:09:46.394Z"
   },
   {
    "duration": 29,
    "start_time": "2022-03-08T06:10:05.045Z"
   },
   {
    "duration": 37,
    "start_time": "2022-03-08T06:11:24.515Z"
   },
   {
    "duration": 21,
    "start_time": "2022-03-08T06:11:30.237Z"
   },
   {
    "duration": 15,
    "start_time": "2022-03-08T06:11:59.397Z"
   },
   {
    "duration": 18,
    "start_time": "2022-03-08T06:12:09.644Z"
   },
   {
    "duration": 4682,
    "start_time": "2022-03-08T06:13:34.677Z"
   },
   {
    "duration": 120,
    "start_time": "2022-03-08T06:13:59.957Z"
   },
   {
    "duration": 112,
    "start_time": "2022-03-08T06:14:07.771Z"
   },
   {
    "duration": 650,
    "start_time": "2022-03-08T06:16:12.459Z"
   },
   {
    "duration": 408,
    "start_time": "2022-03-08T06:16:50.724Z"
   },
   {
    "duration": 17,
    "start_time": "2022-03-08T06:16:55.340Z"
   },
   {
    "duration": 399,
    "start_time": "2022-03-08T06:18:12.305Z"
   },
   {
    "duration": 17,
    "start_time": "2022-03-08T06:18:25.189Z"
   },
   {
    "duration": 1459,
    "start_time": "2022-03-08T06:19:24.340Z"
   },
   {
    "duration": 564,
    "start_time": "2022-03-08T06:19:25.802Z"
   },
   {
    "duration": 5,
    "start_time": "2022-03-08T06:19:26.372Z"
   },
   {
    "duration": 14,
    "start_time": "2022-03-08T06:19:26.380Z"
   },
   {
    "duration": 461,
    "start_time": "2022-03-08T06:19:26.397Z"
   },
   {
    "duration": 422,
    "start_time": "2022-03-08T06:19:26.861Z"
   },
   {
    "duration": 222,
    "start_time": "2022-03-08T06:19:27.289Z"
   },
   {
    "duration": 73,
    "start_time": "2022-03-08T06:19:27.514Z"
   },
   {
    "duration": 8,
    "start_time": "2022-03-08T06:19:27.589Z"
   },
   {
    "duration": 44,
    "start_time": "2022-03-08T06:19:27.599Z"
   },
   {
    "duration": 91,
    "start_time": "2022-03-08T06:19:27.646Z"
   },
   {
    "duration": 121,
    "start_time": "2022-03-08T06:19:27.740Z"
   },
   {
    "duration": 11,
    "start_time": "2022-03-08T06:19:27.863Z"
   },
   {
    "duration": 7,
    "start_time": "2022-03-08T06:19:27.877Z"
   },
   {
    "duration": 3345,
    "start_time": "2022-03-08T06:19:27.887Z"
   },
   {
    "duration": 4,
    "start_time": "2022-03-08T06:19:31.235Z"
   },
   {
    "duration": 32,
    "start_time": "2022-03-08T06:19:31.241Z"
   },
   {
    "duration": 531,
    "start_time": "2022-03-08T06:19:31.276Z"
   },
   {
    "duration": 277,
    "start_time": "2022-03-08T06:19:31.810Z"
   },
   {
    "duration": 10,
    "start_time": "2022-03-08T06:19:32.090Z"
   },
   {
    "duration": 30,
    "start_time": "2022-03-08T06:19:32.103Z"
   },
   {
    "duration": 13,
    "start_time": "2022-03-08T06:19:32.139Z"
   },
   {
    "duration": 51,
    "start_time": "2022-03-08T06:19:32.155Z"
   },
   {
    "duration": 70,
    "start_time": "2022-03-08T06:19:32.208Z"
   },
   {
    "duration": 7,
    "start_time": "2022-03-08T06:19:32.280Z"
   },
   {
    "duration": 88,
    "start_time": "2022-03-08T06:19:32.290Z"
   },
   {
    "duration": 579,
    "start_time": "2022-03-08T06:19:32.381Z"
   },
   {
    "duration": 542,
    "start_time": "2022-03-08T06:19:32.964Z"
   },
   {
    "duration": 526,
    "start_time": "2022-03-08T06:19:33.509Z"
   },
   {
    "duration": 546,
    "start_time": "2022-03-08T06:19:34.038Z"
   },
   {
    "duration": 14,
    "start_time": "2022-03-08T06:19:34.587Z"
   },
   {
    "duration": 8,
    "start_time": "2022-03-08T06:19:34.603Z"
   },
   {
    "duration": 22,
    "start_time": "2022-03-08T06:19:34.633Z"
   },
   {
    "duration": 19,
    "start_time": "2022-03-08T06:19:34.658Z"
   },
   {
    "duration": 56,
    "start_time": "2022-03-08T06:19:34.679Z"
   },
   {
    "duration": 15,
    "start_time": "2022-03-08T06:19:34.737Z"
   },
   {
    "duration": 436,
    "start_time": "2022-03-08T06:19:34.755Z"
   },
   {
    "duration": 16,
    "start_time": "2022-03-08T06:19:35.193Z"
   },
   {
    "duration": 571,
    "start_time": "2022-03-08T06:19:35.211Z"
   },
   {
    "duration": 21,
    "start_time": "2022-03-08T06:19:35.784Z"
   },
   {
    "duration": 35,
    "start_time": "2022-03-08T06:19:35.808Z"
   },
   {
    "duration": 15,
    "start_time": "2022-03-08T06:19:35.845Z"
   },
   {
    "duration": 20,
    "start_time": "2022-03-08T06:19:35.863Z"
   },
   {
    "duration": 49,
    "start_time": "2022-03-08T06:19:35.886Z"
   },
   {
    "duration": 6,
    "start_time": "2022-03-08T06:19:35.938Z"
   },
   {
    "duration": 695,
    "start_time": "2022-03-08T06:19:35.946Z"
   },
   {
    "duration": 22,
    "start_time": "2022-03-08T06:19:36.643Z"
   },
   {
    "duration": 18,
    "start_time": "2022-03-08T06:19:36.667Z"
   },
   {
    "duration": 22,
    "start_time": "2022-03-08T06:19:36.687Z"
   },
   {
    "duration": 5,
    "start_time": "2022-03-08T06:19:36.732Z"
   },
   {
    "duration": 2077,
    "start_time": "2022-03-08T06:19:36.740Z"
   },
   {
    "duration": 769,
    "start_time": "2022-03-08T06:19:38.819Z"
   },
   {
    "duration": 1636,
    "start_time": "2022-03-08T06:19:39.591Z"
   },
   {
    "duration": 2758,
    "start_time": "2022-03-08T06:20:09.055Z"
   },
   {
    "duration": 532,
    "start_time": "2022-03-08T06:32:53.204Z"
   },
   {
    "duration": 411,
    "start_time": "2022-03-08T06:32:59.567Z"
   },
   {
    "duration": 357,
    "start_time": "2022-03-08T06:33:02.982Z"
   },
   {
    "duration": 373,
    "start_time": "2022-03-08T06:33:08.023Z"
   },
   {
    "duration": 658,
    "start_time": "2022-03-08T06:33:52.487Z"
   },
   {
    "duration": 1046,
    "start_time": "2022-03-08T06:35:41.471Z"
   },
   {
    "duration": 571,
    "start_time": "2022-03-08T06:36:10.950Z"
   },
   {
    "duration": 460,
    "start_time": "2022-03-08T06:36:17.816Z"
   },
   {
    "duration": 513,
    "start_time": "2022-03-08T06:37:02.239Z"
   },
   {
    "duration": 900,
    "start_time": "2022-03-08T06:38:07.575Z"
   },
   {
    "duration": 531,
    "start_time": "2022-03-08T06:38:13.909Z"
   },
   {
    "duration": 507,
    "start_time": "2022-03-08T06:38:17.086Z"
   },
   {
    "duration": 513,
    "start_time": "2022-03-08T06:39:38.673Z"
   },
   {
    "duration": 520,
    "start_time": "2022-03-08T06:40:05.983Z"
   },
   {
    "duration": 542,
    "start_time": "2022-03-08T06:40:36.270Z"
   },
   {
    "duration": 529,
    "start_time": "2022-03-08T06:40:45.271Z"
   },
   {
    "duration": 526,
    "start_time": "2022-03-08T06:40:55.469Z"
   },
   {
    "duration": 634,
    "start_time": "2022-03-08T06:41:00.725Z"
   },
   {
    "duration": 520,
    "start_time": "2022-03-08T06:41:03.934Z"
   },
   {
    "duration": 483,
    "start_time": "2022-03-08T06:41:19.534Z"
   },
   {
    "duration": 134,
    "start_time": "2022-03-08T06:44:27.981Z"
   },
   {
    "duration": 39,
    "start_time": "2022-03-08T06:44:50.610Z"
   },
   {
    "duration": 125,
    "start_time": "2022-03-08T06:50:26.149Z"
   },
   {
    "duration": 7,
    "start_time": "2022-03-08T06:53:16.170Z"
   },
   {
    "duration": 6,
    "start_time": "2022-03-08T06:56:11.091Z"
   },
   {
    "duration": 7,
    "start_time": "2022-03-08T06:56:25.290Z"
   },
   {
    "duration": 6,
    "start_time": "2022-03-08T06:56:37.054Z"
   },
   {
    "duration": 387,
    "start_time": "2022-03-08T07:14:25.479Z"
   },
   {
    "duration": 563,
    "start_time": "2022-03-08T07:14:37.737Z"
   },
   {
    "duration": 684,
    "start_time": "2022-03-08T07:15:10.664Z"
   },
   {
    "duration": 134,
    "start_time": "2022-03-08T07:16:08.620Z"
   },
   {
    "duration": 537,
    "start_time": "2022-03-08T07:16:15.608Z"
   },
   {
    "duration": 518,
    "start_time": "2022-03-08T07:17:20.870Z"
   },
   {
    "duration": 493,
    "start_time": "2022-03-08T07:19:27.102Z"
   },
   {
    "duration": 7,
    "start_time": "2022-03-08T07:30:53.550Z"
   },
   {
    "duration": 13,
    "start_time": "2022-03-08T07:30:56.268Z"
   },
   {
    "duration": 6,
    "start_time": "2022-03-08T07:30:57.201Z"
   },
   {
    "duration": 14,
    "start_time": "2022-03-08T07:31:30.981Z"
   },
   {
    "duration": 5,
    "start_time": "2022-03-08T07:31:31.580Z"
   },
   {
    "duration": 18,
    "start_time": "2022-03-08T07:31:52.960Z"
   },
   {
    "duration": 5,
    "start_time": "2022-03-08T07:31:53.412Z"
   },
   {
    "duration": 5,
    "start_time": "2022-03-08T07:36:34.395Z"
   },
   {
    "duration": 5,
    "start_time": "2022-03-08T07:36:46.592Z"
   },
   {
    "duration": 6,
    "start_time": "2022-03-08T07:36:49.156Z"
   },
   {
    "duration": 5,
    "start_time": "2022-03-08T07:36:53.216Z"
   },
   {
    "duration": 5,
    "start_time": "2022-03-08T07:37:05.222Z"
   },
   {
    "duration": 1486,
    "start_time": "2022-03-08T07:37:31.730Z"
   },
   {
    "duration": 551,
    "start_time": "2022-03-08T07:37:33.219Z"
   },
   {
    "duration": 5,
    "start_time": "2022-03-08T07:37:33.773Z"
   },
   {
    "duration": 12,
    "start_time": "2022-03-08T07:37:33.780Z"
   },
   {
    "duration": 431,
    "start_time": "2022-03-08T07:37:33.794Z"
   },
   {
    "duration": 247,
    "start_time": "2022-03-08T07:37:34.232Z"
   },
   {
    "duration": 212,
    "start_time": "2022-03-08T07:37:34.481Z"
   },
   {
    "duration": 78,
    "start_time": "2022-03-08T07:37:34.698Z"
   },
   {
    "duration": 8,
    "start_time": "2022-03-08T07:37:34.779Z"
   },
   {
    "duration": 42,
    "start_time": "2022-03-08T07:37:34.790Z"
   },
   {
    "duration": 108,
    "start_time": "2022-03-08T07:37:34.835Z"
   },
   {
    "duration": 118,
    "start_time": "2022-03-08T07:37:34.945Z"
   },
   {
    "duration": 11,
    "start_time": "2022-03-08T07:37:35.066Z"
   },
   {
    "duration": 10,
    "start_time": "2022-03-08T07:37:35.079Z"
   },
   {
    "duration": 3921,
    "start_time": "2022-03-08T07:37:35.091Z"
   },
   {
    "duration": 4,
    "start_time": "2022-03-08T07:37:39.015Z"
   },
   {
    "duration": 21,
    "start_time": "2022-03-08T07:37:39.021Z"
   },
   {
    "duration": 305,
    "start_time": "2022-03-08T07:37:39.044Z"
   },
   {
    "duration": 194,
    "start_time": "2022-03-08T07:37:39.352Z"
   },
   {
    "duration": 7,
    "start_time": "2022-03-08T07:37:39.548Z"
   },
   {
    "duration": 11,
    "start_time": "2022-03-08T07:37:39.558Z"
   },
   {
    "duration": 13,
    "start_time": "2022-03-08T07:37:39.571Z"
   },
   {
    "duration": 85,
    "start_time": "2022-03-08T07:37:39.590Z"
   },
   {
    "duration": 62,
    "start_time": "2022-03-08T07:37:39.678Z"
   },
   {
    "duration": 6,
    "start_time": "2022-03-08T07:37:39.743Z"
   },
   {
    "duration": 55,
    "start_time": "2022-03-08T07:37:39.751Z"
   },
   {
    "duration": 603,
    "start_time": "2022-03-08T07:37:39.809Z"
   },
   {
    "duration": 551,
    "start_time": "2022-03-08T07:37:40.415Z"
   },
   {
    "duration": 595,
    "start_time": "2022-03-08T07:37:40.968Z"
   },
   {
    "duration": 789,
    "start_time": "2022-03-08T07:37:41.566Z"
   },
   {
    "duration": 23,
    "start_time": "2022-03-08T07:37:42.359Z"
   },
   {
    "duration": 7,
    "start_time": "2022-03-08T07:37:42.385Z"
   },
   {
    "duration": 56,
    "start_time": "2022-03-08T07:37:42.395Z"
   },
   {
    "duration": 14,
    "start_time": "2022-03-08T07:37:42.453Z"
   },
   {
    "duration": 21,
    "start_time": "2022-03-08T07:37:42.469Z"
   },
   {
    "duration": 51,
    "start_time": "2022-03-08T07:37:42.493Z"
   },
   {
    "duration": 421,
    "start_time": "2022-03-08T07:37:42.546Z"
   },
   {
    "duration": 16,
    "start_time": "2022-03-08T07:37:42.969Z"
   },
   {
    "duration": 562,
    "start_time": "2022-03-08T07:37:42.988Z"
   },
   {
    "duration": 21,
    "start_time": "2022-03-08T07:37:43.553Z"
   },
   {
    "duration": 14,
    "start_time": "2022-03-08T07:37:43.576Z"
   },
   {
    "duration": 42,
    "start_time": "2022-03-08T07:37:43.592Z"
   },
   {
    "duration": 22,
    "start_time": "2022-03-08T07:37:43.636Z"
   },
   {
    "duration": 13,
    "start_time": "2022-03-08T07:37:43.660Z"
   },
   {
    "duration": 5,
    "start_time": "2022-03-08T07:37:43.676Z"
   },
   {
    "duration": 612,
    "start_time": "2022-03-08T07:37:43.684Z"
   },
   {
    "duration": 34,
    "start_time": "2022-03-08T07:37:44.298Z"
   },
   {
    "duration": 9,
    "start_time": "2022-03-08T07:37:44.336Z"
   },
   {
    "duration": 15,
    "start_time": "2022-03-08T07:37:44.348Z"
   },
   {
    "duration": 6,
    "start_time": "2022-03-08T07:37:44.366Z"
   },
   {
    "duration": 2037,
    "start_time": "2022-03-08T07:37:44.375Z"
   },
   {
    "duration": 849,
    "start_time": "2022-03-08T07:37:46.414Z"
   },
   {
    "duration": 1970,
    "start_time": "2022-03-08T07:37:47.265Z"
   },
   {
    "duration": 522,
    "start_time": "2022-03-08T07:37:49.238Z"
   },
   {
    "duration": 513,
    "start_time": "2022-03-08T07:37:49.763Z"
   },
   {
    "duration": 40,
    "start_time": "2022-03-08T07:37:50.279Z"
   },
   {
    "duration": 14,
    "start_time": "2022-03-08T07:37:50.322Z"
   },
   {
    "duration": 5,
    "start_time": "2022-03-08T07:37:50.338Z"
   },
   {
    "duration": 12,
    "start_time": "2022-03-08T07:37:50.345Z"
   },
   {
    "duration": 5,
    "start_time": "2022-03-08T07:37:50.359Z"
   },
   {
    "duration": 15,
    "start_time": "2022-03-08T07:37:50.367Z"
   },
   {
    "duration": 5,
    "start_time": "2022-03-08T07:37:50.384Z"
   }
  ],
  "celltoolbar": "Raw Cell Format",
  "kernelspec": {
   "display_name": "Python 3 (ipykernel)",
   "language": "python",
   "name": "python3"
  },
  "language_info": {
   "codemirror_mode": {
    "name": "ipython",
    "version": 3
   },
   "file_extension": ".py",
   "mimetype": "text/x-python",
   "name": "python",
   "nbconvert_exporter": "python",
   "pygments_lexer": "ipython3",
   "version": "3.9.7"
  },
  "toc": {
   "base_numbering": 1,
   "nav_menu": {
    "height": "468px",
    "width": "418px"
   },
   "number_sections": true,
   "sideBar": true,
   "skip_h1_title": true,
   "title_cell": "Table of Contents",
   "title_sidebar": "Contents",
   "toc_cell": false,
   "toc_position": {},
   "toc_section_display": true,
   "toc_window_display": false
  }
 },
 "nbformat": 4,
 "nbformat_minor": 5
}
