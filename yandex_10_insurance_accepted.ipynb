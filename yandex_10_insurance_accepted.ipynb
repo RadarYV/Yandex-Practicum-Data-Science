{
 "cells": [
  {
   "cell_type": "markdown",
   "metadata": {},
   "source": [
    "# Защита персональных данных клиентов"
   ]
  },
  {
   "cell_type": "markdown",
   "metadata": {},
   "source": [
    "Вам нужно защитить данные клиентов страховой компании «Хоть потоп». Разработайте такой метод преобразования данных, чтобы по ним было сложно восстановить персональную информацию. Обоснуйте корректность его работы.\n",
    "\n",
    "Нужно защитить данные, чтобы при преобразовании качество моделей машинного обучения не ухудшилось. Подбирать наилучшую модель не требуется.\n",
    "\n",
    "**Признаки**: пол, возраст и зарплата застрахованного, количество членов его семьи.<br>\n",
    "**Целевой признак**: количество страховых выплат клиенту за последние 5 лет."
   ]
  },
  {
   "cell_type": "markdown",
   "metadata": {},
   "source": [
    "## Загрузка данных"
   ]
  },
  {
   "cell_type": "code",
   "execution_count": 1,
   "metadata": {},
   "outputs": [],
   "source": [
    "import pandas as pd\n",
    "import matplotlib.pyplot as plt\n",
    "import time\n",
    "import numpy as np\n",
    "import seaborn as sns\n",
    "from numpy.random import RandomState\n",
    "from pylab import rcParams\n",
    "from sklearn.metrics import r2_score\n",
    "from sklearn.preprocessing import normalize\n"
   ]
  },
  {
   "cell_type": "code",
   "execution_count": 2,
   "metadata": {},
   "outputs": [
    {
     "data": {
      "text/plain": [
       "<Figure size 864x576 with 0 Axes>"
      ]
     },
     "metadata": {},
     "output_type": "display_data"
    }
   ],
   "source": [
    "rcParams['figure.figsize'] = (12, 8)\n",
    "\n",
    "pd.options.display.float_format = '{:,.3f}'.format\n",
    "pd.options.display.max_columns = 100\n",
    "pd.set_option('display.max_rows', 100)\n",
    "pd.options.mode.chained_assignment = None\n",
    "\n",
    "plt.rcParams['image.cmap'] = 'Set2'\n",
    "plt.set_cmap(\"Set2\");\n",
    "\n",
    "sns.set_style(\"whitegrid\", {'figure.facecolor': '0.97'});\n",
    "sns.set_palette(\"Set2\");\n",
    "\n",
    "RANDOM_STATE = 12345"
   ]
  },
  {
   "cell_type": "code",
   "execution_count": 3,
   "metadata": {},
   "outputs": [],
   "source": [
    "# сделаем треугольную матрицу heatmap без диагональных элементов\n",
    "def corr_triag_heatmap(corr, title_str):\n",
    "    # mask = np.zeros_like(corr)\n",
    "    # mask[np.triu_indices_from(mask)] = True\n",
    "    mask = np.triu(np.full(corr.shape, True))\n",
    "    corr = corr.iloc[1:, :-1]\n",
    "    mask = pd.DataFrame(mask).iloc[1:, :-1].to_numpy()\n",
    "\n",
    "    # делаем heatmap\n",
    "    plt.figure(figsize=(corr.shape[0] * 1.2, (corr.shape[0] * 0.6)))\n",
    "    ax = sns.heatmap(corr, annot=True, cmap=\"RdBu\", mask=mask, vmin=-1, vmax=1)\n",
    "    ax.set_title(title_str, fontdict={'fontsize':14})\n",
    "    plt.show()\n",
    "\n",
    "# Определим функцию для изучения датасета, ее будем применять к разным датафреймам\n",
    "def evaluate_df(df, show_corr_zero_plots = False, show_corr_null_plots=False, show_scatter_matrix=False):\n",
    "    print('\\n------SAMPLE--------')\n",
    "    display(df.sample(min(5,len(df))))\n",
    "    print('\\n------DTYPES--------')\n",
    "    print(df.dtypes)\n",
    "\n",
    "    # число пропусков\n",
    "    print('\\n\\n------NaN & zero--------')\n",
    "    na = pd.DataFrame(index=df.columns\n",
    "                      , data={\n",
    "                          'NA':df.isna().sum().values\n",
    "                          , 'filled': df.notna().sum().values\n",
    "                          , 'zero':df.isin([0,'0']).sum()\n",
    "                      }\n",
    "                     )\n",
    "    na['%na'] = na['NA']/len(df)*100\n",
    "    print(na.replace(0,'-'))\n",
    "    \n",
    "    if show_corr_zero_plots:\n",
    "        # готовим матрицу корреляций нулей\n",
    "        t = df.isin([0,'0']).sum().sort_values()\n",
    "        indx = t[t > 0].index\n",
    "        if len(indx) > 1:\n",
    "            print()\n",
    "            corr = df[indx].isin([0,'0']).corr()\n",
    "            corr_triag_heatmap(corr, \"Correlation of ZEROs in columns\")\n",
    "            \n",
    "            # Добавим карту синхронных нулей\n",
    "            t = df[indx].isin([0,'0']).sort_values(by=list(indx))\n",
    "            plt.figure(figsize = (20,len(indx)*0.6))\n",
    "            \n",
    "            ax = sns.heatmap(t.transpose(), alpha=0.4,cbar_kws = {\"ticks\":[False, True], \"drawedges\":True}, cmap=sns.color_palette(['#00AA00', '#FF4444']))\n",
    "            ax.set_title(\"Map of ZEROs values\", fontdict={'fontsize':14})\n",
    "            ax.hlines(ax.yaxis.get_ticklocs() + 0.5, 0, t.shape[0], color='w', linewidths=1)\n",
    "            plt.show()\n",
    "    if show_corr_null_plots:\n",
    "        # готовим матрицу корреляций нулей\n",
    "        t = df.isna().sum().sort_values()\n",
    "        indx = t[t > 0].index\n",
    "        if len(indx) > 1:\n",
    "            print()\n",
    "            corr = df[indx].isna().corr()\n",
    "            corr_triag_heatmap(corr, \"Correlation of NULL in columns\")\n",
    "            \n",
    "            # Добавим карту синхронных нулей\n",
    "            t = df[indx].isna().sort_values(by=list(indx))\n",
    "            plt.figure(figsize = (20,len(indx)*0.6))\n",
    "            \n",
    "            ax = sns.heatmap(t.transpose(), alpha=0.4,cbar_kws = {\"ticks\":[False, True], \"drawedges\":True}, cmap=sns.color_palette(['#00AA00', '#FF4444']))\n",
    "            ax.set_title(\"Map of NULL values\", fontdict={'fontsize':14})\n",
    "            ax.hlines(ax.yaxis.get_ticklocs() + 0.5, 0, t.shape[0], color='w', linewidths=1)\n",
    "            plt.show()\n",
    "\n",
    "    # статистики\n",
    "    display(df.describe(include='all').transpose())\n",
    "    \n",
    "    if show_scatter_matrix:\n",
    "        pd.plotting.scatter_matrix(df, figsize=(16,10), alpha=0.1, s=5);\n"
   ]
  },
  {
   "cell_type": "code",
   "execution_count": 138,
   "metadata": {},
   "outputs": [],
   "source": [
    "try:\n",
    "    df = pd.read_csv('/datasets/insurance.csv', sep=',')\n",
    "except:\n",
    "    df = pd.read_csv('datasets\\yandex_10_insurance.csv', sep=',')\n"
   ]
  },
  {
   "cell_type": "code",
   "execution_count": 5,
   "metadata": {},
   "outputs": [
    {
     "name": "stdout",
     "output_type": "stream",
     "text": [
      "\n",
      "------SAMPLE--------\n"
     ]
    },
    {
     "data": {
      "text/html": [
       "<div>\n",
       "<style scoped>\n",
       "    .dataframe tbody tr th:only-of-type {\n",
       "        vertical-align: middle;\n",
       "    }\n",
       "\n",
       "    .dataframe tbody tr th {\n",
       "        vertical-align: top;\n",
       "    }\n",
       "\n",
       "    .dataframe thead th {\n",
       "        text-align: right;\n",
       "    }\n",
       "</style>\n",
       "<table border=\"1\" class=\"dataframe\">\n",
       "  <thead>\n",
       "    <tr style=\"text-align: right;\">\n",
       "      <th></th>\n",
       "      <th>Пол</th>\n",
       "      <th>Возраст</th>\n",
       "      <th>Зарплата</th>\n",
       "      <th>Члены семьи</th>\n",
       "      <th>Страховые выплаты</th>\n",
       "    </tr>\n",
       "  </thead>\n",
       "  <tbody>\n",
       "    <tr>\n",
       "      <th>3598</th>\n",
       "      <td>1</td>\n",
       "      <td>29.000</td>\n",
       "      <td>23,400.000</td>\n",
       "      <td>3</td>\n",
       "      <td>0</td>\n",
       "    </tr>\n",
       "    <tr>\n",
       "      <th>2555</th>\n",
       "      <td>1</td>\n",
       "      <td>21.000</td>\n",
       "      <td>42,200.000</td>\n",
       "      <td>0</td>\n",
       "      <td>0</td>\n",
       "    </tr>\n",
       "    <tr>\n",
       "      <th>4709</th>\n",
       "      <td>0</td>\n",
       "      <td>24.000</td>\n",
       "      <td>34,700.000</td>\n",
       "      <td>0</td>\n",
       "      <td>0</td>\n",
       "    </tr>\n",
       "    <tr>\n",
       "      <th>4942</th>\n",
       "      <td>0</td>\n",
       "      <td>31.000</td>\n",
       "      <td>47,300.000</td>\n",
       "      <td>1</td>\n",
       "      <td>0</td>\n",
       "    </tr>\n",
       "    <tr>\n",
       "      <th>608</th>\n",
       "      <td>0</td>\n",
       "      <td>25.000</td>\n",
       "      <td>47,700.000</td>\n",
       "      <td>3</td>\n",
       "      <td>0</td>\n",
       "    </tr>\n",
       "  </tbody>\n",
       "</table>\n",
       "</div>"
      ],
      "text/plain": [
       "      Пол  Возраст   Зарплата  Члены семьи  Страховые выплаты\n",
       "3598    1   29.000 23,400.000            3                  0\n",
       "2555    1   21.000 42,200.000            0                  0\n",
       "4709    0   24.000 34,700.000            0                  0\n",
       "4942    0   31.000 47,300.000            1                  0\n",
       "608     0   25.000 47,700.000            3                  0"
      ]
     },
     "metadata": {},
     "output_type": "display_data"
    },
    {
     "name": "stdout",
     "output_type": "stream",
     "text": [
      "\n",
      "------DTYPES--------\n",
      "Пол                    int64\n",
      "Возраст              float64\n",
      "Зарплата             float64\n",
      "Члены семьи            int64\n",
      "Страховые выплаты      int64\n",
      "dtype: object\n",
      "\n",
      "\n",
      "------NaN & zero--------\n",
      "                  NA  filled  zero %na\n",
      "Пол                -    5000  2505   -\n",
      "Возраст            -    5000     -   -\n",
      "Зарплата           -    5000     -   -\n",
      "Члены семьи        -    5000  1513   -\n",
      "Страховые выплаты  -    5000  4436   -\n",
      "\n"
     ]
    },
    {
     "data": {
      "image/png": "[encoded data removed]",
      "text/plain": [
       "<Figure size 172.8x86.4 with 2 Axes>"
      ]
     },
     "metadata": {},
     "output_type": "display_data"
    },
    {
     "data": {
      "image/png": "[encoded data removed]",
      "text/plain": [
       "<Figure size 1440x129.6 with 2 Axes>"
      ]
     },
     "metadata": {},
     "output_type": "display_data"
    },
    {
     "data": {
      "text/html": [
       "<div>\n",
       "<style scoped>\n",
       "    .dataframe tbody tr th:only-of-type {\n",
       "        vertical-align: middle;\n",
       "    }\n",
       "\n",
       "    .dataframe tbody tr th {\n",
       "        vertical-align: top;\n",
       "    }\n",
       "\n",
       "    .dataframe thead th {\n",
       "        text-align: right;\n",
       "    }\n",
       "</style>\n",
       "<table border=\"1\" class=\"dataframe\">\n",
       "  <thead>\n",
       "    <tr style=\"text-align: right;\">\n",
       "      <th></th>\n",
       "      <th>count</th>\n",
       "      <th>mean</th>\n",
       "      <th>std</th>\n",
       "      <th>min</th>\n",
       "      <th>25%</th>\n",
       "      <th>50%</th>\n",
       "      <th>75%</th>\n",
       "      <th>max</th>\n",
       "    </tr>\n",
       "  </thead>\n",
       "  <tbody>\n",
       "    <tr>\n",
       "      <th>Пол</th>\n",
       "      <td>5,000.000</td>\n",
       "      <td>0.499</td>\n",
       "      <td>0.500</td>\n",
       "      <td>0.000</td>\n",
       "      <td>0.000</td>\n",
       "      <td>0.000</td>\n",
       "      <td>1.000</td>\n",
       "      <td>1.000</td>\n",
       "    </tr>\n",
       "    <tr>\n",
       "      <th>Возраст</th>\n",
       "      <td>5,000.000</td>\n",
       "      <td>30.953</td>\n",
       "      <td>8.441</td>\n",
       "      <td>18.000</td>\n",
       "      <td>24.000</td>\n",
       "      <td>30.000</td>\n",
       "      <td>37.000</td>\n",
       "      <td>65.000</td>\n",
       "    </tr>\n",
       "    <tr>\n",
       "      <th>Зарплата</th>\n",
       "      <td>5,000.000</td>\n",
       "      <td>39,916.360</td>\n",
       "      <td>9,900.084</td>\n",
       "      <td>5,300.000</td>\n",
       "      <td>33,300.000</td>\n",
       "      <td>40,200.000</td>\n",
       "      <td>46,600.000</td>\n",
       "      <td>79,000.000</td>\n",
       "    </tr>\n",
       "    <tr>\n",
       "      <th>Члены семьи</th>\n",
       "      <td>5,000.000</td>\n",
       "      <td>1.194</td>\n",
       "      <td>1.091</td>\n",
       "      <td>0.000</td>\n",
       "      <td>0.000</td>\n",
       "      <td>1.000</td>\n",
       "      <td>2.000</td>\n",
       "      <td>6.000</td>\n",
       "    </tr>\n",
       "    <tr>\n",
       "      <th>Страховые выплаты</th>\n",
       "      <td>5,000.000</td>\n",
       "      <td>0.148</td>\n",
       "      <td>0.463</td>\n",
       "      <td>0.000</td>\n",
       "      <td>0.000</td>\n",
       "      <td>0.000</td>\n",
       "      <td>0.000</td>\n",
       "      <td>5.000</td>\n",
       "    </tr>\n",
       "  </tbody>\n",
       "</table>\n",
       "</div>"
      ],
      "text/plain": [
       "                      count       mean       std       min        25%  \\\n",
       "Пол               5,000.000      0.499     0.500     0.000      0.000   \n",
       "Возраст           5,000.000     30.953     8.441    18.000     24.000   \n",
       "Зарплата          5,000.000 39,916.360 9,900.084 5,300.000 33,300.000   \n",
       "Члены семьи       5,000.000      1.194     1.091     0.000      0.000   \n",
       "Страховые выплаты 5,000.000      0.148     0.463     0.000      0.000   \n",
       "\n",
       "                         50%        75%        max  \n",
       "Пол                    0.000      1.000      1.000  \n",
       "Возраст               30.000     37.000     65.000  \n",
       "Зарплата          40,200.000 46,600.000 79,000.000  \n",
       "Члены семьи            1.000      2.000      6.000  \n",
       "Страховые выплаты      0.000      0.000      5.000  "
      ]
     },
     "metadata": {},
     "output_type": "display_data"
    }
   ],
   "source": [
    "evaluate_df(df, True, True)"
   ]
  },
  {
   "cell_type": "markdown",
   "metadata": {},
   "source": [
    "**Вывод**\n",
    "\n",
    "- Данные не имеют пропусков, нет аномалий, выбросов. Данные качественные и чистые\n",
    "- Названия столбцов в кириллице, но т.к. мы будем работать с матрицами, то названия нам не понадобятся\n"
   ]
  },
  {
   "cell_type": "markdown",
   "metadata": {},
   "source": [
    "## Умножение матриц"
   ]
  },
  {
   "cell_type": "markdown",
   "metadata": {},
   "source": [
    "Обозначения\n",
    "\n",
    "- m наблюдений\n",
    "\n",
    "- n-1 признаков и 1 единичный столбец\n",
    "\n",
    "- $F$ - матрица признаков m * n-1\n",
    "\n",
    "- $X$ — расширенная матрица признаков m * n. Связана с матрицей $F$ добавлением единичного столбца \n",
    "$\n",
    "X = \\begin{vmatrix}\n",
    "1 & F\n",
    "\\end{vmatrix}\n",
    "$\n",
    "\n",
    "- $y$ — вектор целевого признака m * 1\n",
    "\n",
    "- $R$ — матрица, на которую умножаются признаки n * n\n",
    "\n",
    "- $w$ — вектор весов линейной регрессии (нулевой элемент равен сдвигу) n * 1\n"
   ]
  },
  {
   "cell_type": "markdown",
   "metadata": {},
   "source": [
    "Предсказания:\n",
    "\n",
    "$$\n",
    "\\hat{y} = Xw\n",
    "$$\n",
    "\n",
    "Задача обучения:\n",
    "\n",
    "$$\n",
    "w = \\arg\\min_w MSE(Xw, y)\n",
    "$$\n",
    "\n",
    "Формула обучения:\n",
    "\n",
    "$$\n",
    "w = (X^T X)^{-1} X^T y\n",
    "$$\n",
    "\n",
    "Тогда предсказания\n",
    "$$\\hat{y}=X\\left({X}^TX\\right)^{-1}{X}^T{y}$$"
   ]
  },
  {
   "cell_type": "markdown",
   "metadata": {},
   "source": [
    "**Ответ:** При умножении матрицы признаков $X$ на любую обратимую матрицу $R$ качество линейной регрессии не изменится.\n",
    "\n",
    "Параметры линейной регрессии в исходной задаче $w$ и в преобразованной задаче $w'$ связаны соотношением\n",
    "\n",
    "$$R^{-1}w = w'$$\n",
    "\n",
    "**Обоснование:** \n",
    "\n",
    "Формируем новую матрицу признаков Z (m * n)\n",
    "$$Z=XR$$\n",
    "\n",
    "Посчитаем предсказания для новой матрицы признаков Z\n",
    "$$\\hat{y'}=Z\\left({Z}^TZ\\right)^{-1}{Z}^T{y}$$\n",
    "$$\\hat{y'}=(XR)\\left({\\left(XR\\right)}^T(XR)\\right)^{-1}{\\left(XR\\right)}^T{y}$$\n",
    "\n",
    "\n",
    "Учитывая свойства транспонирования произведения матриц и обратной матрицы к произведению матриц:\n",
    "\n",
    "$$(AB)^T=B^TA^T$$\n",
    "\n",
    "$$(AB)^{-1}=B^{-1}A^{-1}$$\n",
    "\n",
    "$$\\hat{y'}=XR{\\left(R^TX^TXR\\right)}^{-1}R^TX^T{y}$$\n",
    "\n",
    "$$\\hat{y'}=XRR^{-1}\\left({X}^TX\\right)^{-1}{\\left(R^T\\right)}^{-1}R^TX^T{y}$$\n",
    "\n",
    "Учтем, что $E = RR^{-1}$  и $E = {\\left(R^T\\right)}^{-1}R^T$, тогда\n",
    "\n",
    "$$\\hat{y'}=XE\\left({X}^TX\\right)^{-1}EX^T{y}$$\n",
    "\n",
    "$$\\hat{y'}=X\\left({X}^TX\\right)^{-1}X^T{y}$$\n",
    "$$\\hat{y'}=\\hat{y}$$\n",
    "\n",
    "Таким образом, прогноз (predict) не изменился вовсе после умножения матрицы признаков $X$ на произвольную обратимую матрицу $R$. Соответственно и качество регрессии R2 не изменится, т.е. ни вектор целевого признака ни вектор прогнозов не изменится\n",
    "\n",
    "Тогда т.к. $\\hat{y} = Xw$ и $\\hat{y'} = XRw'$ и $\\hat{y'}=\\hat{y}$, то\n",
    "\n",
    "$$Xw= XRw'$$\n",
    "\n",
    "$$X^{-1}Xw= X^{-1}XRw'$$\n",
    "\n",
    "$$Ew= ERw'$$\n",
    "\n",
    "$$R^{-1}w= R^{-1}Rw'$$\n",
    "\n",
    "$$R^{-1}w = Ew'$$\n",
    "\n",
    "$$R^{-1}w = w'$$\n",
    "$$w = Rw'$$\n",
    "\n",
    "таким образом, зная коэффициенты новой модели, можно получить коэффициенты старой модели"
   ]
  },
  {
   "cell_type": "markdown",
   "metadata": {},
   "source": [
    "## Алгоритм преобразования"
   ]
  },
  {
   "cell_type": "markdown",
   "metadata": {},
   "source": [
    "**Алгоритм**\n",
    "\n",
    "1. сгенерировать произвольную матрицу $P$ размером n-1 * n-1. Матрица $P$ создает линейную комбинацию столбцов матрицы $F$, перемешивает их как бы.\n",
    "2. Проверить что она обратима. Иначе вернуться к пункту 1\n",
    "3. Нормировать столбцы матрицы $F_n=F N$ так, чтобы не было признаков с явно большими или низкими значениями. Нормирование производит диагональная матрица у которой на главной диагонали стоят значения, обратные максимальным в столбцах матрицы $F$\n",
    "4. Вычислить итоговую матрицу признаков с учетом нормирования и случайного линейного преобразования $F_2 = F N P$\n",
    "5. Повторно нормировать столбцы матрицы $F_{n2}=F_2 N_2$ так, чтобы после линейного преобразования не было признаков с явно большими или низкими значениями\n",
    "5. Вычислить матрицу преобразования $P\\_ = N P N_2$\n",
    "6. Новую матрицу $F_{n2}$ считать новой матрицей признаков, для расширенной матрицы признаков добавить столбец 1\n",
    "7. Матрицу $P\\_$ считать матрицей преобразования признаков\n"
   ]
  },
  {
   "cell_type": "markdown",
   "metadata": {},
   "source": [
    "**Обоснование**\n",
    "\n",
    "Используем, что матрица R **произвольная** невырожденная\n",
    "\n",
    "Пусть тогда левый верхний элемент 1, а все остальные элементы верхней строки и левого столбца нули. Остальные элементы матрицы образуют подматрицу размера n-1 * n-1. Обозначим эту подматрицу P.\n",
    "\n",
    "Матрицы P и R связаны:\n",
    "$$\n",
    "R = \\begin{vmatrix}\n",
    "1 & 0\\\\\n",
    "0 & P\n",
    "\\end{vmatrix}\n",
    "$$\n",
    "\n",
    "Если $P$ будет невырожденной, то и $R$ будет невырожденной, т.к. $det(R) = 1 * det(P)$\n",
    "\n",
    "Преобразование сконструировано так, чтобы матрица модификации $P$ меняла только матрицу признаков $F$, но не столбец единиц. Это  сделано для того, чтобы мы могли преобразовать и передать защищенные данные с тем же числом признаков, что и исходные данные. При этом не передавая модифицированный столбец единиц (что было бы глупо)\n",
    "\n",
    "Нормирование матрицы позволит скрыть масштаб признаков, чтолы по масштабу нелья было примерно догадаться об истинных значениях признаков\n",
    "\n",
    "При таком преобразовании наилучшая модель линейной регрессии будет иметь то же качество модели и будет выдавать те же самые предсказания, при этом, признаки (новой матрицы) будут являться линейными комбинациями  из старой матрицы признаков со случайными коэффициентами (умножение на матрицу P), что позволит скрыть истинные данные, но не помешает строить линейные модели той же эффективности как и на исхоных данный и получать те же прогнозы.\n",
    "\n",
    "\n",
    "\n"
   ]
  },
  {
   "cell_type": "markdown",
   "metadata": {},
   "source": [
    "## Проверка алгоритма"
   ]
  },
  {
   "cell_type": "markdown",
   "metadata": {},
   "source": [
    "Создадим две функции. Одну для подсчета функции потерь R2, вторую для генерации случайной матрицы n-1*n-1"
   ]
  },
  {
   "cell_type": "code",
   "execution_count": 260,
   "metadata": {},
   "outputs": [],
   "source": [
    "def check_quality_linreg(X, y):\n",
    "    # используем multi_dot чтобы максимально эффективно перемножить несколько матриц\n",
    "    w = np.linalg.multi_dot([np.linalg.inv(X.T @ X), X.T, y])\n",
    "    y_ = X @ w\n",
    "    r2 = r2_score(y,y_)\n",
    "    return r2, w\n",
    "\n",
    "def generate_P(F,n):\n",
    "    ans = False\n",
    "    for i in range(100):\n",
    "        # Делаем случайную квадратную матрицу, чтобы не было сильно мелких значений \n",
    "        # и чтобы определитель матрицы не был сильно маленьким (иначе при вычислении \n",
    "        # обратных матриц получаются погрешности вычислительные)\n",
    "        P = np.random.uniform(low=1, high=10, size=(n-1,n-1)) \n",
    "        \n",
    "        if abs(np.linalg.det(P)) > 0.01:\n",
    "            break;\n",
    "    if i >= 100:\n",
    "        print('ERROR. Fail to generate R after', i, 'trials')\n",
    "        return False\n",
    "    else:        \n",
    "        # нормализация линейная!\n",
    "        # Fn = normalize(F, axis=0, norm='l1')*100 + np.ones((m,n-1))\n",
    "        Pn = np.diag(1/pd.DataFrame(F).max().values)\n",
    "        Pn2 = np.diag(1/pd.DataFrame(F@Pn@P).max().values)\n",
    "        P_ = Pn @ P @ Pn2\n",
    "        \n",
    "#         display('FP',pd.DataFrame(F@P).head(10))\n",
    "#         display('FPn',pd.DataFrame(F@Pn).head(10))\n",
    "#         display('FP_',pd.DataFrame(F@P_).head(10))\n",
    "#         display('P',pd.DataFrame(P))\n",
    "        return P_\n"
   ]
  },
  {
   "cell_type": "markdown",
   "metadata": {},
   "source": [
    "Выделяем признаки и целевой признак, считаем функцию потерь\n",
    "\n",
    "далее модифицируем матрицу признаков и снова считаем функцию потерь"
   ]
  },
  {
   "cell_type": "code",
   "execution_count": 251,
   "metadata": {
    "scrolled": false
   },
   "outputs": [
    {
     "name": "stdout",
     "output_type": "stream",
     "text": [
      "Исходное качество \t   R2 = 0.42494550286668\n",
      "После модификации качество R2 = 0.42494550286668\n",
      "Разница R2 0.0\n"
     ]
    }
   ],
   "source": [
    "feautures = df.drop(['Страховые выплаты'], axis=1).values\n",
    "target = df['Страховые выплаты'].values\n",
    "\n",
    "np.random.seed(1245)\n",
    "\n",
    "m = feautures.shape[0]\n",
    "n = feautures.shape[1]+1\n",
    "X0 = np.ones((m,1))\n",
    "X = np.hstack((X0,feautures))\n",
    "y = target\n",
    "\n",
    "\n",
    "P = generate_P(feautures, n)\n",
    "X_new = np.hstack((X0,feautures @ P))\n",
    "\n",
    "# считаем коэффициент r2 и коэффициенты регрессии\n",
    "r2_orig, w_orig = check_quality_linreg(X, y)\n",
    "r2_new, w_new = check_quality_linreg(X_new, y)\n",
    "\n",
    "print('Исходное качество \\t   R2 =', r2_orig)\n",
    "print('После модификации качество R2 =', r2_new)\n",
    "\n",
    "print('Разница R2', r2_new - r2_orig)\n",
    "\n"
   ]
  },
  {
   "cell_type": "markdown",
   "metadata": {},
   "source": [
    "Посмотрим на преобразованную матрицу. Изучим ее статистики"
   ]
  },
  {
   "cell_type": "code",
   "execution_count": 257,
   "metadata": {},
   "outputs": [
    {
     "data": {
      "text/html": [
       "<div>\n",
       "<style scoped>\n",
       "    .dataframe tbody tr th:only-of-type {\n",
       "        vertical-align: middle;\n",
       "    }\n",
       "\n",
       "    .dataframe tbody tr th {\n",
       "        vertical-align: top;\n",
       "    }\n",
       "\n",
       "    .dataframe thead th {\n",
       "        text-align: right;\n",
       "    }\n",
       "</style>\n",
       "<table border=\"1\" class=\"dataframe\">\n",
       "  <thead>\n",
       "    <tr style=\"text-align: right;\">\n",
       "      <th></th>\n",
       "      <th>0</th>\n",
       "      <th>1</th>\n",
       "      <th>2</th>\n",
       "      <th>3</th>\n",
       "    </tr>\n",
       "  </thead>\n",
       "  <tbody>\n",
       "    <tr>\n",
       "      <th>0</th>\n",
       "      <td>1.000</td>\n",
       "      <td>41.000</td>\n",
       "      <td>49,600.000</td>\n",
       "      <td>1.000</td>\n",
       "    </tr>\n",
       "    <tr>\n",
       "      <th>1</th>\n",
       "      <td>0.000</td>\n",
       "      <td>46.000</td>\n",
       "      <td>38,000.000</td>\n",
       "      <td>1.000</td>\n",
       "    </tr>\n",
       "    <tr>\n",
       "      <th>2</th>\n",
       "      <td>0.000</td>\n",
       "      <td>29.000</td>\n",
       "      <td>21,000.000</td>\n",
       "      <td>0.000</td>\n",
       "    </tr>\n",
       "    <tr>\n",
       "      <th>3</th>\n",
       "      <td>0.000</td>\n",
       "      <td>21.000</td>\n",
       "      <td>41,700.000</td>\n",
       "      <td>2.000</td>\n",
       "    </tr>\n",
       "    <tr>\n",
       "      <th>4</th>\n",
       "      <td>1.000</td>\n",
       "      <td>28.000</td>\n",
       "      <td>26,100.000</td>\n",
       "      <td>0.000</td>\n",
       "    </tr>\n",
       "    <tr>\n",
       "      <th>5</th>\n",
       "      <td>1.000</td>\n",
       "      <td>43.000</td>\n",
       "      <td>41,000.000</td>\n",
       "      <td>2.000</td>\n",
       "    </tr>\n",
       "    <tr>\n",
       "      <th>6</th>\n",
       "      <td>1.000</td>\n",
       "      <td>39.000</td>\n",
       "      <td>39,700.000</td>\n",
       "      <td>2.000</td>\n",
       "    </tr>\n",
       "    <tr>\n",
       "      <th>7</th>\n",
       "      <td>1.000</td>\n",
       "      <td>25.000</td>\n",
       "      <td>38,600.000</td>\n",
       "      <td>4.000</td>\n",
       "    </tr>\n",
       "    <tr>\n",
       "      <th>8</th>\n",
       "      <td>1.000</td>\n",
       "      <td>36.000</td>\n",
       "      <td>49,700.000</td>\n",
       "      <td>1.000</td>\n",
       "    </tr>\n",
       "    <tr>\n",
       "      <th>9</th>\n",
       "      <td>1.000</td>\n",
       "      <td>32.000</td>\n",
       "      <td>51,700.000</td>\n",
       "      <td>1.000</td>\n",
       "    </tr>\n",
       "  </tbody>\n",
       "</table>\n",
       "</div>"
      ],
      "text/plain": [
       "      0      1          2     3\n",
       "0 1.000 41.000 49,600.000 1.000\n",
       "1 0.000 46.000 38,000.000 1.000\n",
       "2 0.000 29.000 21,000.000 0.000\n",
       "3 0.000 21.000 41,700.000 2.000\n",
       "4 1.000 28.000 26,100.000 0.000\n",
       "5 1.000 43.000 41,000.000 2.000\n",
       "6 1.000 39.000 39,700.000 2.000\n",
       "7 1.000 25.000 38,600.000 4.000\n",
       "8 1.000 36.000 49,700.000 1.000\n",
       "9 1.000 32.000 51,700.000 1.000"
      ]
     },
     "execution_count": 257,
     "metadata": {},
     "output_type": "execute_result"
    }
   ],
   "source": [
    "F_orig = pd.DataFrame(feautures)\n",
    "F_orig.head(10)"
   ]
  },
  {
   "cell_type": "code",
   "execution_count": 258,
   "metadata": {},
   "outputs": [
    {
     "data": {
      "text/html": [
       "<div>\n",
       "<style scoped>\n",
       "    .dataframe tbody tr th:only-of-type {\n",
       "        vertical-align: middle;\n",
       "    }\n",
       "\n",
       "    .dataframe tbody tr th {\n",
       "        vertical-align: top;\n",
       "    }\n",
       "\n",
       "    .dataframe thead th {\n",
       "        text-align: right;\n",
       "    }\n",
       "</style>\n",
       "<table border=\"1\" class=\"dataframe\">\n",
       "  <thead>\n",
       "    <tr style=\"text-align: right;\">\n",
       "      <th></th>\n",
       "      <th>0</th>\n",
       "      <th>1</th>\n",
       "      <th>2</th>\n",
       "      <th>3</th>\n",
       "    </tr>\n",
       "  </thead>\n",
       "  <tbody>\n",
       "    <tr>\n",
       "      <th>0</th>\n",
       "      <td>0.815</td>\n",
       "      <td>0.779</td>\n",
       "      <td>0.763</td>\n",
       "      <td>0.789</td>\n",
       "    </tr>\n",
       "    <tr>\n",
       "      <th>1</th>\n",
       "      <td>0.565</td>\n",
       "      <td>0.259</td>\n",
       "      <td>0.576</td>\n",
       "      <td>0.639</td>\n",
       "    </tr>\n",
       "    <tr>\n",
       "      <th>2</th>\n",
       "      <td>0.334</td>\n",
       "      <td>0.122</td>\n",
       "      <td>0.324</td>\n",
       "      <td>0.366</td>\n",
       "    </tr>\n",
       "    <tr>\n",
       "      <th>3</th>\n",
       "      <td>0.376</td>\n",
       "      <td>0.287</td>\n",
       "      <td>0.424</td>\n",
       "      <td>0.465</td>\n",
       "    </tr>\n",
       "    <tr>\n",
       "      <th>4</th>\n",
       "      <td>0.595</td>\n",
       "      <td>0.622</td>\n",
       "      <td>0.520</td>\n",
       "      <td>0.521</td>\n",
       "    </tr>\n",
       "    <tr>\n",
       "      <th>5</th>\n",
       "      <td>0.819</td>\n",
       "      <td>0.795</td>\n",
       "      <td>0.791</td>\n",
       "      <td>0.802</td>\n",
       "    </tr>\n",
       "    <tr>\n",
       "      <th>6</th>\n",
       "      <td>0.779</td>\n",
       "      <td>0.784</td>\n",
       "      <td>0.752</td>\n",
       "      <td>0.760</td>\n",
       "    </tr>\n",
       "    <tr>\n",
       "      <th>7</th>\n",
       "      <td>0.687</td>\n",
       "      <td>0.856</td>\n",
       "      <td>0.718</td>\n",
       "      <td>0.699</td>\n",
       "    </tr>\n",
       "    <tr>\n",
       "      <th>8</th>\n",
       "      <td>0.771</td>\n",
       "      <td>0.773</td>\n",
       "      <td>0.722</td>\n",
       "      <td>0.744</td>\n",
       "    </tr>\n",
       "    <tr>\n",
       "      <th>9</th>\n",
       "      <td>0.743</td>\n",
       "      <td>0.775</td>\n",
       "      <td>0.696</td>\n",
       "      <td>0.717</td>\n",
       "    </tr>\n",
       "  </tbody>\n",
       "</table>\n",
       "</div>"
      ],
      "text/plain": [
       "      0     1     2     3\n",
       "0 0.815 0.779 0.763 0.789\n",
       "1 0.565 0.259 0.576 0.639\n",
       "2 0.334 0.122 0.324 0.366\n",
       "3 0.376 0.287 0.424 0.465\n",
       "4 0.595 0.622 0.520 0.521\n",
       "5 0.819 0.795 0.791 0.802\n",
       "6 0.779 0.784 0.752 0.760\n",
       "7 0.687 0.856 0.718 0.699\n",
       "8 0.771 0.773 0.722 0.744\n",
       "9 0.743 0.775 0.696 0.717"
      ]
     },
     "metadata": {},
     "output_type": "display_data"
    },
    {
     "data": {
      "text/html": [
       "<div>\n",
       "<style scoped>\n",
       "    .dataframe tbody tr th:only-of-type {\n",
       "        vertical-align: middle;\n",
       "    }\n",
       "\n",
       "    .dataframe tbody tr th {\n",
       "        vertical-align: top;\n",
       "    }\n",
       "\n",
       "    .dataframe thead th {\n",
       "        text-align: right;\n",
       "    }\n",
       "</style>\n",
       "<table border=\"1\" class=\"dataframe\">\n",
       "  <thead>\n",
       "    <tr style=\"text-align: right;\">\n",
       "      <th></th>\n",
       "      <th>0</th>\n",
       "      <th>1</th>\n",
       "      <th>2</th>\n",
       "      <th>3</th>\n",
       "    </tr>\n",
       "  </thead>\n",
       "  <tbody>\n",
       "    <tr>\n",
       "      <th>count</th>\n",
       "      <td>5,000.000</td>\n",
       "      <td>5,000.000</td>\n",
       "      <td>5,000.000</td>\n",
       "      <td>5,000.000</td>\n",
       "    </tr>\n",
       "    <tr>\n",
       "      <th>mean</th>\n",
       "      <td>0.568</td>\n",
       "      <td>0.496</td>\n",
       "      <td>0.558</td>\n",
       "      <td>0.588</td>\n",
       "    </tr>\n",
       "    <tr>\n",
       "      <th>std</th>\n",
       "      <td>0.152</td>\n",
       "      <td>0.249</td>\n",
       "      <td>0.131</td>\n",
       "      <td>0.120</td>\n",
       "    </tr>\n",
       "    <tr>\n",
       "      <th>min</th>\n",
       "      <td>0.200</td>\n",
       "      <td>0.068</td>\n",
       "      <td>0.193</td>\n",
       "      <td>0.217</td>\n",
       "    </tr>\n",
       "    <tr>\n",
       "      <th>25%</th>\n",
       "      <td>0.434</td>\n",
       "      <td>0.251</td>\n",
       "      <td>0.459</td>\n",
       "      <td>0.502</td>\n",
       "    </tr>\n",
       "    <tr>\n",
       "      <th>50%</th>\n",
       "      <td>0.578</td>\n",
       "      <td>0.460</td>\n",
       "      <td>0.559</td>\n",
       "      <td>0.584</td>\n",
       "    </tr>\n",
       "    <tr>\n",
       "      <th>75%</th>\n",
       "      <td>0.688</td>\n",
       "      <td>0.732</td>\n",
       "      <td>0.651</td>\n",
       "      <td>0.671</td>\n",
       "    </tr>\n",
       "    <tr>\n",
       "      <th>max</th>\n",
       "      <td>1.000</td>\n",
       "      <td>1.000</td>\n",
       "      <td>1.000</td>\n",
       "      <td>1.000</td>\n",
       "    </tr>\n",
       "  </tbody>\n",
       "</table>\n",
       "</div>"
      ],
      "text/plain": [
       "              0         1         2         3\n",
       "count 5,000.000 5,000.000 5,000.000 5,000.000\n",
       "mean      0.568     0.496     0.558     0.588\n",
       "std       0.152     0.249     0.131     0.120\n",
       "min       0.200     0.068     0.193     0.217\n",
       "25%       0.434     0.251     0.459     0.502\n",
       "50%       0.578     0.460     0.559     0.584\n",
       "75%       0.688     0.732     0.651     0.671\n",
       "max       1.000     1.000     1.000     1.000"
      ]
     },
     "execution_count": 258,
     "metadata": {},
     "output_type": "execute_result"
    }
   ],
   "source": [
    "F_transformed = pd.DataFrame(feautures @ P)\n",
    "display(F_transformed.head(10))\n",
    "F_transformed.describe()"
   ]
  },
  {
   "cell_type": "markdown",
   "metadata": {},
   "source": [
    "Как видим, имеющиеся данные в матрице модифицированых признаков практически не позволяют догадаться об изначальных значениях исходных признаков."
   ]
  },
  {
   "cell_type": "markdown",
   "metadata": {},
   "source": [
    "Посмотрим на корреляции исходных признаков и после трансформации"
   ]
  },
  {
   "cell_type": "code",
   "execution_count": 259,
   "metadata": {},
   "outputs": [
    {
     "data": {
      "text/html": [
       "<div>\n",
       "<style scoped>\n",
       "    .dataframe tbody tr th:only-of-type {\n",
       "        vertical-align: middle;\n",
       "    }\n",
       "\n",
       "    .dataframe tbody tr th {\n",
       "        vertical-align: top;\n",
       "    }\n",
       "\n",
       "    .dataframe thead th {\n",
       "        text-align: right;\n",
       "    }\n",
       "</style>\n",
       "<table border=\"1\" class=\"dataframe\">\n",
       "  <thead>\n",
       "    <tr style=\"text-align: right;\">\n",
       "      <th></th>\n",
       "      <th>0</th>\n",
       "      <th>1</th>\n",
       "      <th>2</th>\n",
       "      <th>3</th>\n",
       "      <th>0</th>\n",
       "      <th>1</th>\n",
       "      <th>2</th>\n",
       "      <th>3</th>\n",
       "    </tr>\n",
       "  </thead>\n",
       "  <tbody>\n",
       "    <tr>\n",
       "      <th>0</th>\n",
       "      <td>1.000</td>\n",
       "      <td>0.002</td>\n",
       "      <td>0.015</td>\n",
       "      <td>-0.009</td>\n",
       "      <td>0.831</td>\n",
       "      <td>0.966</td>\n",
       "      <td>0.708</td>\n",
       "      <td>0.588</td>\n",
       "    </tr>\n",
       "    <tr>\n",
       "      <th>1</th>\n",
       "      <td>0.002</td>\n",
       "      <td>1.000</td>\n",
       "      <td>-0.019</td>\n",
       "      <td>-0.007</td>\n",
       "      <td>0.488</td>\n",
       "      <td>0.043</td>\n",
       "      <td>0.536</td>\n",
       "      <td>0.632</td>\n",
       "    </tr>\n",
       "    <tr>\n",
       "      <th>2</th>\n",
       "      <td>0.015</td>\n",
       "      <td>-0.019</td>\n",
       "      <td>1.000</td>\n",
       "      <td>-0.030</td>\n",
       "      <td>0.240</td>\n",
       "      <td>0.164</td>\n",
       "      <td>0.280</td>\n",
       "      <td>0.382</td>\n",
       "    </tr>\n",
       "    <tr>\n",
       "      <th>3</th>\n",
       "      <td>-0.009</td>\n",
       "      <td>-0.007</td>\n",
       "      <td>-0.030</td>\n",
       "      <td>1.000</td>\n",
       "      <td>0.112</td>\n",
       "      <td>0.193</td>\n",
       "      <td>0.348</td>\n",
       "      <td>0.307</td>\n",
       "    </tr>\n",
       "    <tr>\n",
       "      <th>0</th>\n",
       "      <td>0.831</td>\n",
       "      <td>0.488</td>\n",
       "      <td>0.240</td>\n",
       "      <td>0.112</td>\n",
       "      <td>1.000</td>\n",
       "      <td>0.885</td>\n",
       "      <td>0.962</td>\n",
       "      <td>0.929</td>\n",
       "    </tr>\n",
       "    <tr>\n",
       "      <th>1</th>\n",
       "      <td>0.966</td>\n",
       "      <td>0.043</td>\n",
       "      <td>0.164</td>\n",
       "      <td>0.193</td>\n",
       "      <td>0.885</td>\n",
       "      <td>1.000</td>\n",
       "      <td>0.824</td>\n",
       "      <td>0.719</td>\n",
       "    </tr>\n",
       "    <tr>\n",
       "      <th>2</th>\n",
       "      <td>0.708</td>\n",
       "      <td>0.536</td>\n",
       "      <td>0.280</td>\n",
       "      <td>0.348</td>\n",
       "      <td>0.962</td>\n",
       "      <td>0.824</td>\n",
       "      <td>1.000</td>\n",
       "      <td>0.982</td>\n",
       "    </tr>\n",
       "    <tr>\n",
       "      <th>3</th>\n",
       "      <td>0.588</td>\n",
       "      <td>0.632</td>\n",
       "      <td>0.382</td>\n",
       "      <td>0.307</td>\n",
       "      <td>0.929</td>\n",
       "      <td>0.719</td>\n",
       "      <td>0.982</td>\n",
       "      <td>1.000</td>\n",
       "    </tr>\n",
       "  </tbody>\n",
       "</table>\n",
       "</div>"
      ],
      "text/plain": [
       "       0      1      2      3     0     1     2     3\n",
       "0  1.000  0.002  0.015 -0.009 0.831 0.966 0.708 0.588\n",
       "1  0.002  1.000 -0.019 -0.007 0.488 0.043 0.536 0.632\n",
       "2  0.015 -0.019  1.000 -0.030 0.240 0.164 0.280 0.382\n",
       "3 -0.009 -0.007 -0.030  1.000 0.112 0.193 0.348 0.307\n",
       "0  0.831  0.488  0.240  0.112 1.000 0.885 0.962 0.929\n",
       "1  0.966  0.043  0.164  0.193 0.885 1.000 0.824 0.719\n",
       "2  0.708  0.536  0.280  0.348 0.962 0.824 1.000 0.982\n",
       "3  0.588  0.632  0.382  0.307 0.929 0.719 0.982 1.000"
      ]
     },
     "execution_count": 259,
     "metadata": {},
     "output_type": "execute_result"
    }
   ],
   "source": [
    "pd.concat([F_orig,F_transformed], axis=1).corr()"
   ]
  },
  {
   "cell_type": "markdown",
   "metadata": {},
   "source": [
    "Посмотрим на матрицы рассеяния до и после преобразования"
   ]
  },
  {
   "cell_type": "code",
   "execution_count": 256,
   "metadata": {},
   "outputs": [
    {
     "data": {
      "image/png": "[encoded data removed]",
      "text/plain": [
       "<Figure size 1152x720 with 16 Axes>"
      ]
     },
     "metadata": {},
     "output_type": "display_data"
    }
   ],
   "source": [
    "pd.plotting.scatter_matrix(q, figsize=(16,10), alpha=0.1, s=5);"
   ]
  },
  {
   "cell_type": "code",
   "execution_count": 255,
   "metadata": {},
   "outputs": [
    {
     "data": {
      "image/png": "[encoded data removed]",
      "text/plain": [
       "<Figure size 1152x720 with 16 Axes>"
      ]
     },
     "metadata": {},
     "output_type": "display_data"
    }
   ],
   "source": [
    "pd.plotting.scatter_matrix(t, figsize=(16,10), alpha=0.1, s=5);"
   ]
  },
  {
   "cell_type": "markdown",
   "metadata": {},
   "source": [
    "Линейное преобразование на первый взгляд делает хорошую маскировку исходных данных. Но для дискретных значений (пол/число детей) эту дискретность сложно скрыть и даже после преобразования на матрие рассеяния видны следы от этой дискретности отдельных признаков."
   ]
  },
  {
   "cell_type": "code",
   "execution_count": 220,
   "metadata": {},
   "outputs": [],
   "source": [
    "# считаем коэффициенты регрессии с обратным преобразованием\n",
    "w_new_rev = np.concatenate([w_new[:1], P @ w_new[1:]])"
   ]
  },
  {
   "cell_type": "code",
   "execution_count": 221,
   "metadata": {},
   "outputs": [
    {
     "name": "stdout",
     "output_type": "stream",
     "text": [
      "Исходные коэффициенты w =\n",
      " [-0.9382355041524781, 0.007925805428953658, 0.03570830502107245, -1.7008049156483622e-07, -0.013567662269755157]\n",
      "Новые коэффициенты    w =\n",
      " [-0.9382355041525532, 0.6382315033033237, 0.09320315193855322, 1.9551454778277417, -0.24033130001689607]\n",
      "Новые с обратным преобразованием коэффициенты w =\n",
      " [-0.9382355041525532, 0.007925805428964594, 0.03570830502107221, -1.7008049156314216e-07, -0.01356766226976075]\n",
      "\n",
      "Разница исходных и новых с обратным преобразованием delta =\n",
      " [7.505107646466058e-14, -1.0935696792557792e-14, 2.42861286636753e-16, -1.6940658945086007e-18, 5.592748486549226e-15]\n"
     ]
    }
   ],
   "source": [
    "print('Исходные коэффициенты w =\\n',list(w_orig))\n",
    "print('Новые коэффициенты    w =\\n',list(w_new))\n",
    "print('Новые с обратным преобразованием коэффициенты w =\\n',list(w_new_rev))\n",
    "\n",
    "print('\\nРазница исходных и новых с обратным преобразованием delta =\\n',list(w_orig - w_new_rev))\n"
   ]
  },
  {
   "cell_type": "markdown",
   "metadata": {},
   "source": [
    "**Вывод**\n",
    "\n",
    "* Видим, что после модификации качество модели осталось прежним (с точностью до машинной погрешности при вычислениях)\n",
    "\n",
    "* Преобразование было сделано так, чтобы матрица модификации P меняла только матрицу признаков, но не столбец единиц. Это было сделано для того, чтобы мы могли преобразовать (защитить) и передать защищенные данные с тем же числом признаков, что и исходные данные.\n",
    "* Линейное нормирование матрицы позволило скрыть масштаб признаков, чтолы по масштабу нелья было примерно догадаться об истинных значениях признаков\n",
    "\n",
    "* Коэффициенты новой модели отличаются, но обратимы с помощью линейного обратного преобразования\n"
   ]
  },
  {
   "cell_type": "code",
   "execution_count": null,
   "metadata": {},
   "outputs": [],
   "source": []
  }
 ],
 "metadata": {
  "ExecuteTimeLog": [
   {
    "duration": 1597,
    "start_time": "2022-05-24T21:32:07.502Z"
   },
   {
    "duration": 97,
    "start_time": "2022-05-24T21:32:09.914Z"
   },
   {
    "duration": 11,
    "start_time": "2022-05-24T21:32:11.322Z"
   },
   {
    "duration": 75,
    "start_time": "2022-05-24T21:32:12.685Z"
   },
   {
    "duration": 1935,
    "start_time": "2022-05-24T21:32:14.274Z"
   },
   {
    "duration": 334,
    "start_time": "2022-05-24T21:40:14.021Z"
   },
   {
    "duration": 32,
    "start_time": "2022-05-24T21:56:59.750Z"
   },
   {
    "duration": 4,
    "start_time": "2022-05-24T21:57:12.114Z"
   },
   {
    "duration": 73,
    "start_time": "2022-05-24T21:57:13.954Z"
   },
   {
    "duration": 4,
    "start_time": "2022-05-24T22:00:09.547Z"
   },
   {
    "duration": 16,
    "start_time": "2022-05-24T22:00:12.104Z"
   },
   {
    "duration": 5,
    "start_time": "2022-05-24T22:00:21.339Z"
   },
   {
    "duration": 97,
    "start_time": "2022-05-24T22:00:21.551Z"
   },
   {
    "duration": 4,
    "start_time": "2022-05-24T22:00:35.011Z"
   },
   {
    "duration": 11,
    "start_time": "2022-05-24T22:00:37.649Z"
   },
   {
    "duration": 19,
    "start_time": "2022-05-24T22:01:32.347Z"
   },
   {
    "duration": 11,
    "start_time": "2022-05-24T22:02:03.264Z"
   },
   {
    "duration": 17,
    "start_time": "2022-05-24T22:03:08.336Z"
   },
   {
    "duration": 13,
    "start_time": "2022-05-24T22:03:20.632Z"
   },
   {
    "duration": 12,
    "start_time": "2022-05-24T22:03:47.718Z"
   },
   {
    "duration": 11,
    "start_time": "2022-05-24T22:03:59.415Z"
   },
   {
    "duration": 11,
    "start_time": "2022-05-24T22:04:01.103Z"
   },
   {
    "duration": 20,
    "start_time": "2022-05-24T22:04:02.185Z"
   },
   {
    "duration": 6,
    "start_time": "2022-05-24T22:06:16.475Z"
   },
   {
    "duration": 13,
    "start_time": "2022-05-24T22:06:18.733Z"
   },
   {
    "duration": 12,
    "start_time": "2022-05-24T22:06:19.894Z"
   },
   {
    "duration": 10,
    "start_time": "2022-05-24T22:06:21.046Z"
   },
   {
    "duration": 5,
    "start_time": "2022-05-24T22:06:32.935Z"
   },
   {
    "duration": 12,
    "start_time": "2022-05-24T22:06:34.110Z"
   },
   {
    "duration": 14,
    "start_time": "2022-05-24T22:06:35.582Z"
   },
   {
    "duration": 4,
    "start_time": "2022-05-24T22:06:45.727Z"
   },
   {
    "duration": 14,
    "start_time": "2022-05-24T22:06:46.230Z"
   },
   {
    "duration": 12,
    "start_time": "2022-05-24T22:06:48.175Z"
   },
   {
    "duration": 11,
    "start_time": "2022-05-24T22:08:11.327Z"
   },
   {
    "duration": 15,
    "start_time": "2022-05-24T22:08:16.719Z"
   },
   {
    "duration": 17,
    "start_time": "2022-05-24T22:08:18.582Z"
   },
   {
    "duration": 16,
    "start_time": "2022-05-24T22:08:19.726Z"
   },
   {
    "duration": 9,
    "start_time": "2022-05-24T22:08:21.102Z"
   },
   {
    "duration": 5,
    "start_time": "2022-05-24T22:08:26.319Z"
   },
   {
    "duration": 4,
    "start_time": "2022-05-24T22:09:02.519Z"
   },
   {
    "duration": 11,
    "start_time": "2022-05-24T22:09:03.429Z"
   },
   {
    "duration": 12,
    "start_time": "2022-05-24T22:09:14.111Z"
   },
   {
    "duration": 11,
    "start_time": "2022-05-24T22:09:19.348Z"
   },
   {
    "duration": 11,
    "start_time": "2022-05-24T22:09:20.717Z"
   },
   {
    "duration": 9,
    "start_time": "2022-05-24T22:09:26.798Z"
   },
   {
    "duration": 12,
    "start_time": "2022-05-24T22:09:28.365Z"
   },
   {
    "duration": 12,
    "start_time": "2022-05-24T22:09:31.655Z"
   },
   {
    "duration": 11,
    "start_time": "2022-05-24T22:09:32.902Z"
   },
   {
    "duration": 9,
    "start_time": "2022-05-24T22:09:37.663Z"
   },
   {
    "duration": 13,
    "start_time": "2022-05-24T22:09:38.942Z"
   },
   {
    "duration": 14,
    "start_time": "2022-05-24T22:09:42.791Z"
   },
   {
    "duration": 10,
    "start_time": "2022-05-24T22:09:45.959Z"
   },
   {
    "duration": 4,
    "start_time": "2022-05-24T22:12:29.234Z"
   },
   {
    "duration": 10,
    "start_time": "2022-05-24T22:12:30.196Z"
   },
   {
    "duration": 4,
    "start_time": "2022-05-24T22:12:46.693Z"
   },
   {
    "duration": 10,
    "start_time": "2022-05-24T22:12:47.132Z"
   },
   {
    "duration": 4,
    "start_time": "2022-05-24T22:13:00.287Z"
   },
   {
    "duration": 11,
    "start_time": "2022-05-24T22:13:01.246Z"
   },
   {
    "duration": 12,
    "start_time": "2022-05-24T22:13:07.588Z"
   },
   {
    "duration": 11,
    "start_time": "2022-05-24T22:13:12.942Z"
   },
   {
    "duration": 4,
    "start_time": "2022-05-24T22:13:57.160Z"
   },
   {
    "duration": 12,
    "start_time": "2022-05-24T22:14:23.038Z"
   },
   {
    "duration": 11,
    "start_time": "2022-05-24T22:14:34.574Z"
   },
   {
    "duration": 6,
    "start_time": "2022-05-24T22:14:42.578Z"
   },
   {
    "duration": 11,
    "start_time": "2022-05-24T22:14:43.892Z"
   },
   {
    "duration": 4,
    "start_time": "2022-05-24T22:14:55.805Z"
   },
   {
    "duration": 4,
    "start_time": "2022-05-24T22:17:48.251Z"
   },
   {
    "duration": 10,
    "start_time": "2022-05-24T22:17:58.772Z"
   },
   {
    "duration": 4,
    "start_time": "2022-05-24T22:18:00.202Z"
   },
   {
    "duration": 4,
    "start_time": "2022-05-24T22:18:17.402Z"
   },
   {
    "duration": 12,
    "start_time": "2022-05-24T22:18:18.002Z"
   },
   {
    "duration": 4,
    "start_time": "2022-05-24T22:18:19.890Z"
   },
   {
    "duration": 10,
    "start_time": "2022-05-24T22:18:38.715Z"
   },
   {
    "duration": 4,
    "start_time": "2022-05-24T22:18:39.257Z"
   },
   {
    "duration": 5,
    "start_time": "2022-05-24T22:19:13.243Z"
   },
   {
    "duration": 16,
    "start_time": "2022-05-24T22:19:13.978Z"
   },
   {
    "duration": 10,
    "start_time": "2022-05-24T22:19:17.561Z"
   },
   {
    "duration": 13,
    "start_time": "2022-05-24T22:19:21.596Z"
   },
   {
    "duration": 13,
    "start_time": "2022-05-24T22:19:24.236Z"
   },
   {
    "duration": 11,
    "start_time": "2022-05-24T22:19:29.987Z"
   },
   {
    "duration": 40,
    "start_time": "2022-05-24T22:24:13.804Z"
   },
   {
    "duration": 13,
    "start_time": "2022-05-24T22:24:16.897Z"
   },
   {
    "duration": 19,
    "start_time": "2022-05-24T22:24:27.979Z"
   },
   {
    "duration": 13,
    "start_time": "2022-05-24T22:24:38.940Z"
   },
   {
    "duration": 20,
    "start_time": "2022-05-24T22:24:45.242Z"
   },
   {
    "duration": 12,
    "start_time": "2022-05-24T22:24:47.768Z"
   },
   {
    "duration": 303,
    "start_time": "2022-05-24T22:26:06.608Z"
   },
   {
    "duration": 9,
    "start_time": "2022-05-24T22:26:13.321Z"
   },
   {
    "duration": 20,
    "start_time": "2022-05-24T22:26:15.834Z"
   },
   {
    "duration": 28,
    "start_time": "2022-05-24T22:26:17.609Z"
   },
   {
    "duration": 3865,
    "start_time": "2022-05-24T22:26:18.363Z"
   },
   {
    "duration": 7,
    "start_time": "2022-05-24T22:35:58.850Z"
   },
   {
    "duration": 37,
    "start_time": "2022-05-24T22:36:01.704Z"
   },
   {
    "duration": 5,
    "start_time": "2022-05-24T22:40:17.825Z"
   },
   {
    "duration": 6,
    "start_time": "2022-05-24T22:40:32.192Z"
   },
   {
    "duration": 14,
    "start_time": "2022-05-24T22:40:33.255Z"
   },
   {
    "duration": 4,
    "start_time": "2022-05-24T22:41:06.824Z"
   },
   {
    "duration": 6,
    "start_time": "2022-05-24T22:41:15.063Z"
   },
   {
    "duration": 7,
    "start_time": "2022-05-24T22:41:19.088Z"
   },
   {
    "duration": 6,
    "start_time": "2022-05-24T22:41:26.392Z"
   },
   {
    "duration": 12,
    "start_time": "2022-05-24T22:41:28.015Z"
   },
   {
    "duration": 4,
    "start_time": "2022-05-24T22:55:20.279Z"
   },
   {
    "duration": 95,
    "start_time": "2022-05-24T22:56:15.237Z"
   },
   {
    "duration": 17,
    "start_time": "2022-05-24T22:56:49.925Z"
   },
   {
    "duration": 5,
    "start_time": "2022-05-24T22:58:22.684Z"
   },
   {
    "duration": 6,
    "start_time": "2022-05-24T22:59:03.083Z"
   },
   {
    "duration": 5,
    "start_time": "2022-05-24T22:59:24.452Z"
   },
   {
    "duration": 4,
    "start_time": "2022-05-24T22:59:28.107Z"
   },
   {
    "duration": 4,
    "start_time": "2022-05-24T23:00:42.980Z"
   },
   {
    "duration": 4,
    "start_time": "2022-05-24T23:00:55.748Z"
   },
   {
    "duration": 20,
    "start_time": "2022-05-24T23:01:34.605Z"
   },
   {
    "duration": 37,
    "start_time": "2022-05-24T23:01:39.717Z"
   },
   {
    "duration": 4,
    "start_time": "2022-05-24T23:03:17.876Z"
   },
   {
    "duration": 4,
    "start_time": "2022-05-24T23:03:19.692Z"
   },
   {
    "duration": 32,
    "start_time": "2022-05-24T23:03:47.526Z"
   },
   {
    "duration": 5,
    "start_time": "2022-05-24T23:03:53.854Z"
   },
   {
    "duration": 5,
    "start_time": "2022-05-24T23:04:53.949Z"
   },
   {
    "duration": 6,
    "start_time": "2022-05-24T23:04:59.206Z"
   },
   {
    "duration": 5,
    "start_time": "2022-05-24T23:13:02.263Z"
   },
   {
    "duration": 14,
    "start_time": "2022-05-24T23:13:03.725Z"
   },
   {
    "duration": 4,
    "start_time": "2022-05-24T23:13:08.764Z"
   },
   {
    "duration": 5,
    "start_time": "2022-05-24T23:13:09.213Z"
   },
   {
    "duration": 7,
    "start_time": "2022-05-24T23:14:16.543Z"
   },
   {
    "duration": 5,
    "start_time": "2022-05-24T23:14:21.086Z"
   },
   {
    "duration": 5,
    "start_time": "2022-05-24T23:14:33.941Z"
   },
   {
    "duration": 2,
    "start_time": "2022-05-24T23:20:05.992Z"
   },
   {
    "duration": 5,
    "start_time": "2022-05-24T23:20:07.717Z"
   },
   {
    "duration": 5,
    "start_time": "2022-05-24T23:26:53.542Z"
   },
   {
    "duration": 108,
    "start_time": "2022-05-24T23:26:55.028Z"
   },
   {
    "duration": 14,
    "start_time": "2022-05-24T23:27:01.221Z"
   },
   {
    "duration": 5,
    "start_time": "2022-05-24T23:27:03.171Z"
   },
   {
    "duration": 1267,
    "start_time": "2022-05-24T23:32:05.665Z"
   },
   {
    "duration": 16,
    "start_time": "2022-05-24T23:32:06.935Z"
   },
   {
    "duration": 114,
    "start_time": "2022-05-24T23:32:06.958Z"
   },
   {
    "duration": 56,
    "start_time": "2022-05-24T23:32:07.074Z"
   },
   {
    "duration": 4211,
    "start_time": "2022-05-24T23:32:07.133Z"
   },
   {
    "duration": 13,
    "start_time": "2022-05-24T23:32:11.348Z"
   },
   {
    "duration": 68,
    "start_time": "2022-05-24T23:32:11.364Z"
   },
   {
    "duration": 99,
    "start_time": "2022-05-24T23:32:11.434Z"
   },
   {
    "duration": 110,
    "start_time": "2022-05-24T23:32:11.537Z"
   },
   {
    "duration": 5,
    "start_time": "2022-05-24T23:53:16.589Z"
   },
   {
    "duration": 2,
    "start_time": "2022-05-24T23:53:38.051Z"
   },
   {
    "duration": 5,
    "start_time": "2022-05-24T23:54:05.021Z"
   },
   {
    "duration": 107,
    "start_time": "2022-05-24T23:54:08.453Z"
   },
   {
    "duration": 17,
    "start_time": "2022-05-24T23:54:28.146Z"
   },
   {
    "duration": 5,
    "start_time": "2022-05-24T23:54:40.274Z"
   },
   {
    "duration": 11,
    "start_time": "2022-05-24T23:54:41.865Z"
   },
   {
    "duration": 5,
    "start_time": "2022-05-24T23:54:57.346Z"
   },
   {
    "duration": 9,
    "start_time": "2022-05-24T23:55:09.899Z"
   },
   {
    "duration": 5,
    "start_time": "2022-05-24T23:55:24.770Z"
   },
   {
    "duration": 10,
    "start_time": "2022-05-24T23:55:37.106Z"
   },
   {
    "duration": 9,
    "start_time": "2022-05-24T23:55:40.778Z"
   },
   {
    "duration": 20,
    "start_time": "2022-05-24T23:56:03.516Z"
   },
   {
    "duration": 8,
    "start_time": "2022-05-24T23:57:20.304Z"
   },
   {
    "duration": 11,
    "start_time": "2022-05-24T23:57:56.186Z"
   },
   {
    "duration": 10,
    "start_time": "2022-05-24T23:58:16.145Z"
   },
   {
    "duration": 12,
    "start_time": "2022-05-24T23:58:23.378Z"
   },
   {
    "duration": 8,
    "start_time": "2022-05-24T23:58:28.594Z"
   },
   {
    "duration": 1155,
    "start_time": "2022-05-25T00:04:44.336Z"
   },
   {
    "duration": 10,
    "start_time": "2022-05-25T00:04:45.493Z"
   },
   {
    "duration": 88,
    "start_time": "2022-05-25T00:04:45.505Z"
   },
   {
    "duration": 35,
    "start_time": "2022-05-25T00:04:45.596Z"
   },
   {
    "duration": 3444,
    "start_time": "2022-05-25T00:04:45.633Z"
   },
   {
    "duration": 5,
    "start_time": "2022-05-25T00:04:49.078Z"
   },
   {
    "duration": 46,
    "start_time": "2022-05-25T00:04:49.084Z"
   },
   {
    "duration": 212,
    "start_time": "2022-05-25T00:04:49.131Z"
   },
   {
    "duration": 3,
    "start_time": "2022-05-25T00:04:49.344Z"
   },
   {
    "duration": 16,
    "start_time": "2022-05-25T00:04:49.349Z"
   },
   {
    "duration": 24,
    "start_time": "2022-05-25T00:05:57.080Z"
   },
   {
    "duration": 5,
    "start_time": "2022-05-25T00:14:22.035Z"
   },
   {
    "duration": 15,
    "start_time": "2022-05-25T00:14:23.338Z"
   },
   {
    "duration": 26,
    "start_time": "2022-05-25T00:14:25.242Z"
   },
   {
    "duration": 3,
    "start_time": "2022-05-25T00:14:27.521Z"
   },
   {
    "duration": 5,
    "start_time": "2022-05-25T00:14:28.201Z"
   },
   {
    "duration": 22,
    "start_time": "2022-05-25T00:16:50.493Z"
   },
   {
    "duration": 6,
    "start_time": "2022-05-25T00:17:04.842Z"
   },
   {
    "duration": 12,
    "start_time": "2022-05-25T00:17:07.618Z"
   },
   {
    "duration": 24,
    "start_time": "2022-05-25T00:17:11.426Z"
   },
   {
    "duration": 3,
    "start_time": "2022-05-25T00:17:31.097Z"
   },
   {
    "duration": 4,
    "start_time": "2022-05-25T00:17:31.938Z"
   },
   {
    "duration": 1193,
    "start_time": "2022-05-25T00:17:54.613Z"
   },
   {
    "duration": 9,
    "start_time": "2022-05-25T00:17:55.808Z"
   },
   {
    "duration": 94,
    "start_time": "2022-05-25T00:17:55.818Z"
   },
   {
    "duration": 35,
    "start_time": "2022-05-25T00:17:55.914Z"
   },
   {
    "duration": 4337,
    "start_time": "2022-05-25T00:17:55.950Z"
   },
   {
    "duration": 5,
    "start_time": "2022-05-25T00:18:00.288Z"
   },
   {
    "duration": 35,
    "start_time": "2022-05-25T00:18:00.295Z"
   },
   {
    "duration": 207,
    "start_time": "2022-05-25T00:18:00.333Z"
   },
   {
    "duration": 3,
    "start_time": "2022-05-25T00:18:00.542Z"
   },
   {
    "duration": 22,
    "start_time": "2022-05-25T00:18:00.547Z"
   },
   {
    "duration": 8,
    "start_time": "2022-05-25T00:19:23.954Z"
   },
   {
    "duration": 8,
    "start_time": "2022-05-25T00:19:37.356Z"
   },
   {
    "duration": 8,
    "start_time": "2022-05-25T00:20:24.102Z"
   },
   {
    "duration": 5,
    "start_time": "2022-05-25T00:28:54.011Z"
   },
   {
    "duration": 12,
    "start_time": "2022-05-25T00:28:55.833Z"
   },
   {
    "duration": 26,
    "start_time": "2022-05-25T00:28:59.042Z"
   },
   {
    "duration": 9,
    "start_time": "2022-05-25T00:29:01.129Z"
   },
   {
    "duration": 5,
    "start_time": "2022-05-25T00:29:20.345Z"
   },
   {
    "duration": 27,
    "start_time": "2022-05-25T00:29:21.512Z"
   },
   {
    "duration": 26,
    "start_time": "2022-05-25T00:29:26.601Z"
   },
   {
    "duration": 25,
    "start_time": "2022-05-25T00:29:39.369Z"
   },
   {
    "duration": 8,
    "start_time": "2022-05-25T00:29:42.713Z"
   },
   {
    "duration": 110,
    "start_time": "2022-05-25T00:30:24.714Z"
   },
   {
    "duration": 7,
    "start_time": "2022-05-25T00:30:40.179Z"
   },
   {
    "duration": 8,
    "start_time": "2022-05-25T00:30:50.266Z"
   },
   {
    "duration": 7,
    "start_time": "2022-05-25T00:31:08.458Z"
   },
   {
    "duration": 21,
    "start_time": "2022-05-25T00:31:09.505Z"
   },
   {
    "duration": 9,
    "start_time": "2022-05-25T00:31:14.243Z"
   },
   {
    "duration": 13,
    "start_time": "2022-05-25T00:31:16.113Z"
   },
   {
    "duration": 25,
    "start_time": "2022-05-25T00:31:20.377Z"
   },
   {
    "duration": 2,
    "start_time": "2022-05-25T00:31:24.578Z"
   },
   {
    "duration": 5,
    "start_time": "2022-05-25T00:31:25.505Z"
   },
   {
    "duration": 1036,
    "start_time": "2022-05-25T00:38:32.474Z"
   },
   {
    "duration": 8,
    "start_time": "2022-05-25T00:38:33.512Z"
   },
   {
    "duration": 73,
    "start_time": "2022-05-25T00:38:33.526Z"
   },
   {
    "duration": 33,
    "start_time": "2022-05-25T00:38:33.601Z"
   },
   {
    "duration": 3365,
    "start_time": "2022-05-25T00:38:33.636Z"
   },
   {
    "duration": 5,
    "start_time": "2022-05-25T00:38:37.002Z"
   },
   {
    "duration": 24,
    "start_time": "2022-05-25T00:38:37.009Z"
   },
   {
    "duration": 210,
    "start_time": "2022-05-25T00:38:37.034Z"
   },
   {
    "duration": 3,
    "start_time": "2022-05-25T00:38:37.245Z"
   },
   {
    "duration": 9,
    "start_time": "2022-05-25T00:38:37.251Z"
   },
   {
    "duration": 1795,
    "start_time": "2022-05-25T04:27:29.261Z"
   },
   {
    "duration": 23,
    "start_time": "2022-05-25T04:27:31.065Z"
   },
   {
    "duration": 172,
    "start_time": "2022-05-25T04:27:31.090Z"
   },
   {
    "duration": 239,
    "start_time": "2022-05-25T04:27:31.268Z"
   },
   {
    "duration": 6164,
    "start_time": "2022-05-25T04:27:31.514Z"
   },
   {
    "duration": 11,
    "start_time": "2022-05-25T04:27:37.680Z"
   },
   {
    "duration": 330,
    "start_time": "2022-05-25T04:27:37.693Z"
   },
   {
    "duration": 157,
    "start_time": "2022-05-25T04:27:38.058Z"
   },
   {
    "duration": 31,
    "start_time": "2022-05-25T04:27:38.218Z"
   },
   {
    "duration": 229,
    "start_time": "2022-05-25T04:27:38.252Z"
   },
   {
    "duration": 139,
    "start_time": "2022-05-25T04:38:41.897Z"
   },
   {
    "duration": 4,
    "start_time": "2022-05-25T04:38:51.113Z"
   }
  ],
  "kernelspec": {
   "display_name": "Python 3 (ipykernel)",
   "language": "python",
   "name": "python3"
  },
  "language_info": {
   "codemirror_mode": {
    "name": "ipython",
    "version": 3
   },
   "file_extension": ".py",
   "mimetype": "text/x-python",
   "name": "python",
   "nbconvert_exporter": "python",
   "pygments_lexer": "ipython3",
   "version": "3.9.7"
  },
  "toc": {
   "base_numbering": 1,
   "nav_menu": {},
   "number_sections": true,
   "sideBar": true,
   "skip_h1_title": true,
   "title_cell": "Содержание",
   "title_sidebar": "Contents",
   "toc_cell": true,
   "toc_position": {
    "height": "calc(100% - 180px)",
    "left": "10px",
    "top": "150px",
    "width": "225.087px"
   },
   "toc_section_display": true,
   "toc_window_display": true
  }
 },
 "nbformat": 4,
 "nbformat_minor": 2
}
